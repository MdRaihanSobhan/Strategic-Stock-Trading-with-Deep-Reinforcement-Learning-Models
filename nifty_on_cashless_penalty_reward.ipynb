{
 "cells": [
  {
   "cell_type": "code",
   "execution_count": 1,
   "metadata": {},
   "outputs": [],
   "source": [
    "import pandas as pd\n",
    "import json\n",
    "import os \n",
    "import sys\n",
    "import csv\n",
    "\n",
    "# plot\n",
    "import matplotlib.pyplot as plt\n",
    "import seaborn as sns"
   ]
  },
  {
   "cell_type": "markdown",
   "metadata": {},
   "source": [
    "### global variables for running the code"
   ]
  },
  {
   "cell_type": "code",
   "execution_count": 2,
   "metadata": {},
   "outputs": [],
   "source": [
    "run_timesteps = 1000"
   ]
  },
  {
   "cell_type": "code",
   "execution_count": 3,
   "metadata": {},
   "outputs": [
    {
     "name": "stdout",
     "output_type": "stream",
     "text": [
      "['ADANIPORTS.csv', 'ASIANPAINT.csv', 'AXISBANK.csv', 'BAJAJ-AUTO.csv', 'BAJAJFINSV.csv', 'BAJFINANCE.csv', 'BHARTIARTL.csv', 'BPCL.csv', 'BRITANNIA.csv', 'CIPLA.csv', 'COALINDIA.csv', 'DRREDDY.csv', 'EICHERMOT.csv', 'GAIL.csv', 'GRASIM.csv', 'HCLTECH.csv', 'HDFC.csv', 'HDFCBANK.csv', 'HEROMOTOCO.csv', 'HINDALCO.csv', 'HINDUNILVR.csv', 'ICICIBANK.csv', 'INDUSINDBK.csv', 'INFRATEL.csv', 'INFY.csv', 'IOC.csv', 'ITC.csv', 'JSWSTEEL.csv', 'KOTAKBANK.csv', 'LT.csv', 'MARUTI.csv', 'MM.csv', 'NESTLEIND.csv', 'NIFTY50_all.csv', 'NTPC.csv', 'ONGC.csv', 'POWERGRID.csv', 'RELIANCE.csv', 'SBIN.csv', 'SHREECEM.csv', 'SUNPHARMA.csv', 'TATAMOTORS.csv', 'TATASTEEL.csv', 'TCS.csv', 'TECHM.csv', 'TITAN.csv', 'ULTRACEMCO.csv', 'UPL.csv', 'VEDL.csv', 'WIPRO.csv', 'ZEEL.csv', 'stock_metadata.csv']\n"
     ]
    }
   ],
   "source": [
    "# dir = os.path.join('dataset', 'kaggle-dse')\n",
    "# dir = r\"/Users/md.raihansobhan/Desktop/BUET/4-2 Sessionals/CSE 472 | ML/online_class/Strategic-Stock-Trading-with-Deep-Reinforcement-Learning-Models/datasets/NIFTY\"\n",
    "\n",
    "if os.name == 'nt':  # Windows\n",
    "    dir = r\"D:\\Academics\\4-2\\19 Batch\\Sessionals\\CSE 472\\Project\\1905095_1905115\\Github\\Strategic-Stock-Trading-with-Deep-Reinforcement-Learning-Models\\datasets\\NIFTY\"\n",
    "else:  # macOS/Linux\n",
    "    dir = r\"/Users/md.raihansobhan/Desktop/BUET/4-2 Sessionals/CSE 472 | ML/online_class/Strategic-Stock-Trading-with-Deep-Reinforcement-Learning-Models/datasets/NIFTY\"\n",
    "\n",
    "\n",
    "files = os.listdir(dir)\n",
    "files.sort()\n",
    "files = [f for f in files]\n",
    "print(files)"
   ]
  },
  {
   "cell_type": "code",
   "execution_count": 4,
   "metadata": {},
   "outputs": [
    {
     "data": {
      "text/plain": [
       "52"
      ]
     },
     "execution_count": 4,
     "metadata": {},
     "output_type": "execute_result"
    }
   ],
   "source": [
    "# List to store the data from all CSV files\n",
    "data = []\n",
    "\n",
    "# Loop through the files\n",
    "for f in files:\n",
    "    # Load each CSV file into a DataFrame and append to the list\n",
    "    file_path = os.path.join(dir, f)\n",
    "    data.append(pd.read_csv(file_path))\n",
    "\n",
    "# Check the number of loaded CSV files\n",
    "len(data)"
   ]
  },
  {
   "cell_type": "code",
   "execution_count": 5,
   "metadata": {},
   "outputs": [
    {
     "name": "stderr",
     "output_type": "stream",
     "text": [
      "/var/folders/hw/72ljgfr56y93ypctd2ct3kjm0000gn/T/ipykernel_27697/1561586728.py:5: FutureWarning: The behavior of DataFrame concatenation with empty or all-NA entries is deprecated. In a future version, this will no longer exclude empty or all-NA columns when determining the result dtypes. To retain the old behavior, exclude the relevant entries before the concat operation.\n",
      "  df = pd.concat(dfs)\n"
     ]
    }
   ],
   "source": [
    "# convert to pandas dataframe\n",
    "dfs = []\n",
    "for i in range(1,len(data)):\n",
    "    dfs.append(pd.DataFrame(data[i]))\n",
    "df = pd.concat(dfs)"
   ]
  },
  {
   "cell_type": "code",
   "execution_count": 6,
   "metadata": {},
   "outputs": [
    {
     "data": {
      "text/plain": [
       "(467112, 18)"
      ]
     },
     "execution_count": 6,
     "metadata": {},
     "output_type": "execute_result"
    }
   ],
   "source": [
    "df.shape"
   ]
  },
  {
   "cell_type": "code",
   "execution_count": 7,
   "metadata": {},
   "outputs": [
    {
     "data": {
      "text/html": [
       "<div>\n",
       "<style scoped>\n",
       "    .dataframe tbody tr th:only-of-type {\n",
       "        vertical-align: middle;\n",
       "    }\n",
       "\n",
       "    .dataframe tbody tr th {\n",
       "        vertical-align: top;\n",
       "    }\n",
       "\n",
       "    .dataframe thead th {\n",
       "        text-align: right;\n",
       "    }\n",
       "</style>\n",
       "<table border=\"1\" class=\"dataframe\">\n",
       "  <thead>\n",
       "    <tr style=\"text-align: right;\">\n",
       "      <th></th>\n",
       "      <th>Date</th>\n",
       "      <th>Symbol</th>\n",
       "      <th>Series</th>\n",
       "      <th>Prev Close</th>\n",
       "      <th>Open</th>\n",
       "      <th>High</th>\n",
       "      <th>Low</th>\n",
       "      <th>Last</th>\n",
       "      <th>Close</th>\n",
       "      <th>VWAP</th>\n",
       "      <th>Volume</th>\n",
       "      <th>Turnover</th>\n",
       "      <th>Trades</th>\n",
       "      <th>Deliverable Volume</th>\n",
       "      <th>%Deliverble</th>\n",
       "      <th>Company Name</th>\n",
       "      <th>Industry</th>\n",
       "      <th>ISIN Code</th>\n",
       "    </tr>\n",
       "  </thead>\n",
       "  <tbody>\n",
       "    <tr>\n",
       "      <th>0</th>\n",
       "      <td>2000-01-03</td>\n",
       "      <td>ASIANPAINT</td>\n",
       "      <td>EQ</td>\n",
       "      <td>361.20</td>\n",
       "      <td>370.0</td>\n",
       "      <td>390.0</td>\n",
       "      <td>370.0</td>\n",
       "      <td>385.0</td>\n",
       "      <td>381.65</td>\n",
       "      <td>380.54</td>\n",
       "      <td>3318.0</td>\n",
       "      <td>1.262617e+11</td>\n",
       "      <td>NaN</td>\n",
       "      <td>NaN</td>\n",
       "      <td>NaN</td>\n",
       "      <td>NaN</td>\n",
       "      <td>NaN</td>\n",
       "      <td>NaN</td>\n",
       "    </tr>\n",
       "    <tr>\n",
       "      <th>1</th>\n",
       "      <td>2000-01-04</td>\n",
       "      <td>ASIANPAINT</td>\n",
       "      <td>EQ</td>\n",
       "      <td>381.65</td>\n",
       "      <td>380.0</td>\n",
       "      <td>392.0</td>\n",
       "      <td>375.0</td>\n",
       "      <td>390.0</td>\n",
       "      <td>385.55</td>\n",
       "      <td>383.50</td>\n",
       "      <td>4818.0</td>\n",
       "      <td>1.847699e+11</td>\n",
       "      <td>NaN</td>\n",
       "      <td>NaN</td>\n",
       "      <td>NaN</td>\n",
       "      <td>NaN</td>\n",
       "      <td>NaN</td>\n",
       "      <td>NaN</td>\n",
       "    </tr>\n",
       "    <tr>\n",
       "      <th>2</th>\n",
       "      <td>2000-01-05</td>\n",
       "      <td>ASIANPAINT</td>\n",
       "      <td>EQ</td>\n",
       "      <td>385.55</td>\n",
       "      <td>371.5</td>\n",
       "      <td>390.0</td>\n",
       "      <td>371.5</td>\n",
       "      <td>383.0</td>\n",
       "      <td>383.00</td>\n",
       "      <td>379.81</td>\n",
       "      <td>2628.0</td>\n",
       "      <td>9.981384e+10</td>\n",
       "      <td>NaN</td>\n",
       "      <td>NaN</td>\n",
       "      <td>NaN</td>\n",
       "      <td>NaN</td>\n",
       "      <td>NaN</td>\n",
       "      <td>NaN</td>\n",
       "    </tr>\n",
       "    <tr>\n",
       "      <th>3</th>\n",
       "      <td>2000-01-06</td>\n",
       "      <td>ASIANPAINT</td>\n",
       "      <td>EQ</td>\n",
       "      <td>383.00</td>\n",
       "      <td>384.9</td>\n",
       "      <td>384.9</td>\n",
       "      <td>374.5</td>\n",
       "      <td>375.1</td>\n",
       "      <td>377.50</td>\n",
       "      <td>379.88</td>\n",
       "      <td>3354.0</td>\n",
       "      <td>1.274114e+11</td>\n",
       "      <td>NaN</td>\n",
       "      <td>NaN</td>\n",
       "      <td>NaN</td>\n",
       "      <td>NaN</td>\n",
       "      <td>NaN</td>\n",
       "      <td>NaN</td>\n",
       "    </tr>\n",
       "    <tr>\n",
       "      <th>4</th>\n",
       "      <td>2000-01-07</td>\n",
       "      <td>ASIANPAINT</td>\n",
       "      <td>EQ</td>\n",
       "      <td>377.50</td>\n",
       "      <td>376.0</td>\n",
       "      <td>390.0</td>\n",
       "      <td>370.0</td>\n",
       "      <td>389.0</td>\n",
       "      <td>385.70</td>\n",
       "      <td>383.38</td>\n",
       "      <td>9589.0</td>\n",
       "      <td>3.676275e+11</td>\n",
       "      <td>NaN</td>\n",
       "      <td>NaN</td>\n",
       "      <td>NaN</td>\n",
       "      <td>NaN</td>\n",
       "      <td>NaN</td>\n",
       "      <td>NaN</td>\n",
       "    </tr>\n",
       "    <tr>\n",
       "      <th>...</th>\n",
       "      <td>...</td>\n",
       "      <td>...</td>\n",
       "      <td>...</td>\n",
       "      <td>...</td>\n",
       "      <td>...</td>\n",
       "      <td>...</td>\n",
       "      <td>...</td>\n",
       "      <td>...</td>\n",
       "      <td>...</td>\n",
       "      <td>...</td>\n",
       "      <td>...</td>\n",
       "      <td>...</td>\n",
       "      <td>...</td>\n",
       "      <td>...</td>\n",
       "      <td>...</td>\n",
       "      <td>...</td>\n",
       "      <td>...</td>\n",
       "      <td>...</td>\n",
       "    </tr>\n",
       "    <tr>\n",
       "      <th>45</th>\n",
       "      <td>NaN</td>\n",
       "      <td>ULTRACEMCO</td>\n",
       "      <td>EQ</td>\n",
       "      <td>NaN</td>\n",
       "      <td>NaN</td>\n",
       "      <td>NaN</td>\n",
       "      <td>NaN</td>\n",
       "      <td>NaN</td>\n",
       "      <td>NaN</td>\n",
       "      <td>NaN</td>\n",
       "      <td>NaN</td>\n",
       "      <td>NaN</td>\n",
       "      <td>NaN</td>\n",
       "      <td>NaN</td>\n",
       "      <td>NaN</td>\n",
       "      <td>UltraTech Cement Ltd.</td>\n",
       "      <td>CEMENT &amp; CEMENT PRODUCTS</td>\n",
       "      <td>INE481G01011</td>\n",
       "    </tr>\n",
       "    <tr>\n",
       "      <th>46</th>\n",
       "      <td>NaN</td>\n",
       "      <td>UPL</td>\n",
       "      <td>EQ</td>\n",
       "      <td>NaN</td>\n",
       "      <td>NaN</td>\n",
       "      <td>NaN</td>\n",
       "      <td>NaN</td>\n",
       "      <td>NaN</td>\n",
       "      <td>NaN</td>\n",
       "      <td>NaN</td>\n",
       "      <td>NaN</td>\n",
       "      <td>NaN</td>\n",
       "      <td>NaN</td>\n",
       "      <td>NaN</td>\n",
       "      <td>NaN</td>\n",
       "      <td>UPL Ltd.</td>\n",
       "      <td>FERTILISERS &amp; PESTICIDES</td>\n",
       "      <td>INE628A01036</td>\n",
       "    </tr>\n",
       "    <tr>\n",
       "      <th>47</th>\n",
       "      <td>NaN</td>\n",
       "      <td>VEDL</td>\n",
       "      <td>EQ</td>\n",
       "      <td>NaN</td>\n",
       "      <td>NaN</td>\n",
       "      <td>NaN</td>\n",
       "      <td>NaN</td>\n",
       "      <td>NaN</td>\n",
       "      <td>NaN</td>\n",
       "      <td>NaN</td>\n",
       "      <td>NaN</td>\n",
       "      <td>NaN</td>\n",
       "      <td>NaN</td>\n",
       "      <td>NaN</td>\n",
       "      <td>NaN</td>\n",
       "      <td>Vedanta Ltd.</td>\n",
       "      <td>METALS</td>\n",
       "      <td>INE205A01025</td>\n",
       "    </tr>\n",
       "    <tr>\n",
       "      <th>48</th>\n",
       "      <td>NaN</td>\n",
       "      <td>WIPRO</td>\n",
       "      <td>EQ</td>\n",
       "      <td>NaN</td>\n",
       "      <td>NaN</td>\n",
       "      <td>NaN</td>\n",
       "      <td>NaN</td>\n",
       "      <td>NaN</td>\n",
       "      <td>NaN</td>\n",
       "      <td>NaN</td>\n",
       "      <td>NaN</td>\n",
       "      <td>NaN</td>\n",
       "      <td>NaN</td>\n",
       "      <td>NaN</td>\n",
       "      <td>NaN</td>\n",
       "      <td>Wipro Ltd.</td>\n",
       "      <td>IT</td>\n",
       "      <td>INE075A01022</td>\n",
       "    </tr>\n",
       "    <tr>\n",
       "      <th>49</th>\n",
       "      <td>NaN</td>\n",
       "      <td>ZEEL</td>\n",
       "      <td>EQ</td>\n",
       "      <td>NaN</td>\n",
       "      <td>NaN</td>\n",
       "      <td>NaN</td>\n",
       "      <td>NaN</td>\n",
       "      <td>NaN</td>\n",
       "      <td>NaN</td>\n",
       "      <td>NaN</td>\n",
       "      <td>NaN</td>\n",
       "      <td>NaN</td>\n",
       "      <td>NaN</td>\n",
       "      <td>NaN</td>\n",
       "      <td>NaN</td>\n",
       "      <td>Zee Entertainment Enterprises Ltd.</td>\n",
       "      <td>MEDIA &amp; ENTERTAINMENT</td>\n",
       "      <td>INE256A01028</td>\n",
       "    </tr>\n",
       "  </tbody>\n",
       "</table>\n",
       "<p>467112 rows × 18 columns</p>\n",
       "</div>"
      ],
      "text/plain": [
       "          Date      Symbol Series  Prev Close   Open   High    Low   Last  \\\n",
       "0   2000-01-03  ASIANPAINT     EQ      361.20  370.0  390.0  370.0  385.0   \n",
       "1   2000-01-04  ASIANPAINT     EQ      381.65  380.0  392.0  375.0  390.0   \n",
       "2   2000-01-05  ASIANPAINT     EQ      385.55  371.5  390.0  371.5  383.0   \n",
       "3   2000-01-06  ASIANPAINT     EQ      383.00  384.9  384.9  374.5  375.1   \n",
       "4   2000-01-07  ASIANPAINT     EQ      377.50  376.0  390.0  370.0  389.0   \n",
       "..         ...         ...    ...         ...    ...    ...    ...    ...   \n",
       "45         NaN  ULTRACEMCO     EQ         NaN    NaN    NaN    NaN    NaN   \n",
       "46         NaN         UPL     EQ         NaN    NaN    NaN    NaN    NaN   \n",
       "47         NaN        VEDL     EQ         NaN    NaN    NaN    NaN    NaN   \n",
       "48         NaN       WIPRO     EQ         NaN    NaN    NaN    NaN    NaN   \n",
       "49         NaN        ZEEL     EQ         NaN    NaN    NaN    NaN    NaN   \n",
       "\n",
       "     Close    VWAP  Volume      Turnover  Trades  Deliverable Volume  \\\n",
       "0   381.65  380.54  3318.0  1.262617e+11     NaN                 NaN   \n",
       "1   385.55  383.50  4818.0  1.847699e+11     NaN                 NaN   \n",
       "2   383.00  379.81  2628.0  9.981384e+10     NaN                 NaN   \n",
       "3   377.50  379.88  3354.0  1.274114e+11     NaN                 NaN   \n",
       "4   385.70  383.38  9589.0  3.676275e+11     NaN                 NaN   \n",
       "..     ...     ...     ...           ...     ...                 ...   \n",
       "45     NaN     NaN     NaN           NaN     NaN                 NaN   \n",
       "46     NaN     NaN     NaN           NaN     NaN                 NaN   \n",
       "47     NaN     NaN     NaN           NaN     NaN                 NaN   \n",
       "48     NaN     NaN     NaN           NaN     NaN                 NaN   \n",
       "49     NaN     NaN     NaN           NaN     NaN                 NaN   \n",
       "\n",
       "    %Deliverble                        Company Name                  Industry  \\\n",
       "0           NaN                                 NaN                       NaN   \n",
       "1           NaN                                 NaN                       NaN   \n",
       "2           NaN                                 NaN                       NaN   \n",
       "3           NaN                                 NaN                       NaN   \n",
       "4           NaN                                 NaN                       NaN   \n",
       "..          ...                                 ...                       ...   \n",
       "45          NaN               UltraTech Cement Ltd.  CEMENT & CEMENT PRODUCTS   \n",
       "46          NaN                            UPL Ltd.  FERTILISERS & PESTICIDES   \n",
       "47          NaN                        Vedanta Ltd.                    METALS   \n",
       "48          NaN                          Wipro Ltd.                        IT   \n",
       "49          NaN  Zee Entertainment Enterprises Ltd.     MEDIA & ENTERTAINMENT   \n",
       "\n",
       "       ISIN Code  \n",
       "0            NaN  \n",
       "1            NaN  \n",
       "2            NaN  \n",
       "3            NaN  \n",
       "4            NaN  \n",
       "..           ...  \n",
       "45  INE481G01011  \n",
       "46  INE628A01036  \n",
       "47  INE205A01025  \n",
       "48  INE075A01022  \n",
       "49  INE256A01028  \n",
       "\n",
       "[467112 rows x 18 columns]"
      ]
     },
     "execution_count": 7,
     "metadata": {},
     "output_type": "execute_result"
    }
   ],
   "source": [
    "df"
   ]
  },
  {
   "cell_type": "code",
   "execution_count": 8,
   "metadata": {},
   "outputs": [],
   "source": [
    "df.drop(['Series', 'Prev Close', 'Last', 'VWAP','Turnover','Trades','Deliverable Volume','%Deliverble','Company Name','Industry','ISIN Code'], axis=1, inplace=True)\n"
   ]
  },
  {
   "cell_type": "code",
   "execution_count": 9,
   "metadata": {},
   "outputs": [
    {
     "data": {
      "text/html": [
       "<div>\n",
       "<style scoped>\n",
       "    .dataframe tbody tr th:only-of-type {\n",
       "        vertical-align: middle;\n",
       "    }\n",
       "\n",
       "    .dataframe tbody tr th {\n",
       "        vertical-align: top;\n",
       "    }\n",
       "\n",
       "    .dataframe thead th {\n",
       "        text-align: right;\n",
       "    }\n",
       "</style>\n",
       "<table border=\"1\" class=\"dataframe\">\n",
       "  <thead>\n",
       "    <tr style=\"text-align: right;\">\n",
       "      <th></th>\n",
       "      <th>Date</th>\n",
       "      <th>Symbol</th>\n",
       "      <th>Open</th>\n",
       "      <th>High</th>\n",
       "      <th>Low</th>\n",
       "      <th>Close</th>\n",
       "      <th>Volume</th>\n",
       "    </tr>\n",
       "  </thead>\n",
       "  <tbody>\n",
       "    <tr>\n",
       "      <th>0</th>\n",
       "      <td>2000-01-03</td>\n",
       "      <td>ASIANPAINT</td>\n",
       "      <td>370.0</td>\n",
       "      <td>390.0</td>\n",
       "      <td>370.0</td>\n",
       "      <td>381.65</td>\n",
       "      <td>3318.0</td>\n",
       "    </tr>\n",
       "    <tr>\n",
       "      <th>1</th>\n",
       "      <td>2000-01-04</td>\n",
       "      <td>ASIANPAINT</td>\n",
       "      <td>380.0</td>\n",
       "      <td>392.0</td>\n",
       "      <td>375.0</td>\n",
       "      <td>385.55</td>\n",
       "      <td>4818.0</td>\n",
       "    </tr>\n",
       "    <tr>\n",
       "      <th>2</th>\n",
       "      <td>2000-01-05</td>\n",
       "      <td>ASIANPAINT</td>\n",
       "      <td>371.5</td>\n",
       "      <td>390.0</td>\n",
       "      <td>371.5</td>\n",
       "      <td>383.00</td>\n",
       "      <td>2628.0</td>\n",
       "    </tr>\n",
       "    <tr>\n",
       "      <th>3</th>\n",
       "      <td>2000-01-06</td>\n",
       "      <td>ASIANPAINT</td>\n",
       "      <td>384.9</td>\n",
       "      <td>384.9</td>\n",
       "      <td>374.5</td>\n",
       "      <td>377.50</td>\n",
       "      <td>3354.0</td>\n",
       "    </tr>\n",
       "    <tr>\n",
       "      <th>4</th>\n",
       "      <td>2000-01-07</td>\n",
       "      <td>ASIANPAINT</td>\n",
       "      <td>376.0</td>\n",
       "      <td>390.0</td>\n",
       "      <td>370.0</td>\n",
       "      <td>385.70</td>\n",
       "      <td>9589.0</td>\n",
       "    </tr>\n",
       "    <tr>\n",
       "      <th>...</th>\n",
       "      <td>...</td>\n",
       "      <td>...</td>\n",
       "      <td>...</td>\n",
       "      <td>...</td>\n",
       "      <td>...</td>\n",
       "      <td>...</td>\n",
       "      <td>...</td>\n",
       "    </tr>\n",
       "    <tr>\n",
       "      <th>45</th>\n",
       "      <td>NaN</td>\n",
       "      <td>ULTRACEMCO</td>\n",
       "      <td>NaN</td>\n",
       "      <td>NaN</td>\n",
       "      <td>NaN</td>\n",
       "      <td>NaN</td>\n",
       "      <td>NaN</td>\n",
       "    </tr>\n",
       "    <tr>\n",
       "      <th>46</th>\n",
       "      <td>NaN</td>\n",
       "      <td>UPL</td>\n",
       "      <td>NaN</td>\n",
       "      <td>NaN</td>\n",
       "      <td>NaN</td>\n",
       "      <td>NaN</td>\n",
       "      <td>NaN</td>\n",
       "    </tr>\n",
       "    <tr>\n",
       "      <th>47</th>\n",
       "      <td>NaN</td>\n",
       "      <td>VEDL</td>\n",
       "      <td>NaN</td>\n",
       "      <td>NaN</td>\n",
       "      <td>NaN</td>\n",
       "      <td>NaN</td>\n",
       "      <td>NaN</td>\n",
       "    </tr>\n",
       "    <tr>\n",
       "      <th>48</th>\n",
       "      <td>NaN</td>\n",
       "      <td>WIPRO</td>\n",
       "      <td>NaN</td>\n",
       "      <td>NaN</td>\n",
       "      <td>NaN</td>\n",
       "      <td>NaN</td>\n",
       "      <td>NaN</td>\n",
       "    </tr>\n",
       "    <tr>\n",
       "      <th>49</th>\n",
       "      <td>NaN</td>\n",
       "      <td>ZEEL</td>\n",
       "      <td>NaN</td>\n",
       "      <td>NaN</td>\n",
       "      <td>NaN</td>\n",
       "      <td>NaN</td>\n",
       "      <td>NaN</td>\n",
       "    </tr>\n",
       "  </tbody>\n",
       "</table>\n",
       "<p>467112 rows × 7 columns</p>\n",
       "</div>"
      ],
      "text/plain": [
       "          Date      Symbol   Open   High    Low   Close  Volume\n",
       "0   2000-01-03  ASIANPAINT  370.0  390.0  370.0  381.65  3318.0\n",
       "1   2000-01-04  ASIANPAINT  380.0  392.0  375.0  385.55  4818.0\n",
       "2   2000-01-05  ASIANPAINT  371.5  390.0  371.5  383.00  2628.0\n",
       "3   2000-01-06  ASIANPAINT  384.9  384.9  374.5  377.50  3354.0\n",
       "4   2000-01-07  ASIANPAINT  376.0  390.0  370.0  385.70  9589.0\n",
       "..         ...         ...    ...    ...    ...     ...     ...\n",
       "45         NaN  ULTRACEMCO    NaN    NaN    NaN     NaN     NaN\n",
       "46         NaN         UPL    NaN    NaN    NaN     NaN     NaN\n",
       "47         NaN        VEDL    NaN    NaN    NaN     NaN     NaN\n",
       "48         NaN       WIPRO    NaN    NaN    NaN     NaN     NaN\n",
       "49         NaN        ZEEL    NaN    NaN    NaN     NaN     NaN\n",
       "\n",
       "[467112 rows x 7 columns]"
      ]
     },
     "execution_count": 9,
     "metadata": {},
     "output_type": "execute_result"
    }
   ],
   "source": [
    "df"
   ]
  },
  {
   "cell_type": "code",
   "execution_count": 10,
   "metadata": {},
   "outputs": [],
   "source": [
    "df.rename(columns={'Date':'date', 'Symbol': 'tic', 'Open': 'open', 'High':'high', 'Low':'low', 'Close': 'close', 'Volume':'volume'}, inplace=True)\n"
   ]
  },
  {
   "cell_type": "code",
   "execution_count": 11,
   "metadata": {},
   "outputs": [
    {
     "data": {
      "text/html": [
       "<div>\n",
       "<style scoped>\n",
       "    .dataframe tbody tr th:only-of-type {\n",
       "        vertical-align: middle;\n",
       "    }\n",
       "\n",
       "    .dataframe tbody tr th {\n",
       "        vertical-align: top;\n",
       "    }\n",
       "\n",
       "    .dataframe thead th {\n",
       "        text-align: right;\n",
       "    }\n",
       "</style>\n",
       "<table border=\"1\" class=\"dataframe\">\n",
       "  <thead>\n",
       "    <tr style=\"text-align: right;\">\n",
       "      <th></th>\n",
       "      <th>date</th>\n",
       "      <th>tic</th>\n",
       "      <th>open</th>\n",
       "      <th>high</th>\n",
       "      <th>low</th>\n",
       "      <th>close</th>\n",
       "      <th>volume</th>\n",
       "    </tr>\n",
       "  </thead>\n",
       "  <tbody>\n",
       "    <tr>\n",
       "      <th>0</th>\n",
       "      <td>2000-01-03</td>\n",
       "      <td>ASIANPAINT</td>\n",
       "      <td>370.0</td>\n",
       "      <td>390.0</td>\n",
       "      <td>370.0</td>\n",
       "      <td>381.65</td>\n",
       "      <td>3318.0</td>\n",
       "    </tr>\n",
       "    <tr>\n",
       "      <th>1</th>\n",
       "      <td>2000-01-04</td>\n",
       "      <td>ASIANPAINT</td>\n",
       "      <td>380.0</td>\n",
       "      <td>392.0</td>\n",
       "      <td>375.0</td>\n",
       "      <td>385.55</td>\n",
       "      <td>4818.0</td>\n",
       "    </tr>\n",
       "    <tr>\n",
       "      <th>2</th>\n",
       "      <td>2000-01-05</td>\n",
       "      <td>ASIANPAINT</td>\n",
       "      <td>371.5</td>\n",
       "      <td>390.0</td>\n",
       "      <td>371.5</td>\n",
       "      <td>383.00</td>\n",
       "      <td>2628.0</td>\n",
       "    </tr>\n",
       "    <tr>\n",
       "      <th>3</th>\n",
       "      <td>2000-01-06</td>\n",
       "      <td>ASIANPAINT</td>\n",
       "      <td>384.9</td>\n",
       "      <td>384.9</td>\n",
       "      <td>374.5</td>\n",
       "      <td>377.50</td>\n",
       "      <td>3354.0</td>\n",
       "    </tr>\n",
       "    <tr>\n",
       "      <th>4</th>\n",
       "      <td>2000-01-07</td>\n",
       "      <td>ASIANPAINT</td>\n",
       "      <td>376.0</td>\n",
       "      <td>390.0</td>\n",
       "      <td>370.0</td>\n",
       "      <td>385.70</td>\n",
       "      <td>9589.0</td>\n",
       "    </tr>\n",
       "    <tr>\n",
       "      <th>...</th>\n",
       "      <td>...</td>\n",
       "      <td>...</td>\n",
       "      <td>...</td>\n",
       "      <td>...</td>\n",
       "      <td>...</td>\n",
       "      <td>...</td>\n",
       "      <td>...</td>\n",
       "    </tr>\n",
       "    <tr>\n",
       "      <th>45</th>\n",
       "      <td>NaN</td>\n",
       "      <td>ULTRACEMCO</td>\n",
       "      <td>NaN</td>\n",
       "      <td>NaN</td>\n",
       "      <td>NaN</td>\n",
       "      <td>NaN</td>\n",
       "      <td>NaN</td>\n",
       "    </tr>\n",
       "    <tr>\n",
       "      <th>46</th>\n",
       "      <td>NaN</td>\n",
       "      <td>UPL</td>\n",
       "      <td>NaN</td>\n",
       "      <td>NaN</td>\n",
       "      <td>NaN</td>\n",
       "      <td>NaN</td>\n",
       "      <td>NaN</td>\n",
       "    </tr>\n",
       "    <tr>\n",
       "      <th>47</th>\n",
       "      <td>NaN</td>\n",
       "      <td>VEDL</td>\n",
       "      <td>NaN</td>\n",
       "      <td>NaN</td>\n",
       "      <td>NaN</td>\n",
       "      <td>NaN</td>\n",
       "      <td>NaN</td>\n",
       "    </tr>\n",
       "    <tr>\n",
       "      <th>48</th>\n",
       "      <td>NaN</td>\n",
       "      <td>WIPRO</td>\n",
       "      <td>NaN</td>\n",
       "      <td>NaN</td>\n",
       "      <td>NaN</td>\n",
       "      <td>NaN</td>\n",
       "      <td>NaN</td>\n",
       "    </tr>\n",
       "    <tr>\n",
       "      <th>49</th>\n",
       "      <td>NaN</td>\n",
       "      <td>ZEEL</td>\n",
       "      <td>NaN</td>\n",
       "      <td>NaN</td>\n",
       "      <td>NaN</td>\n",
       "      <td>NaN</td>\n",
       "      <td>NaN</td>\n",
       "    </tr>\n",
       "  </tbody>\n",
       "</table>\n",
       "<p>467112 rows × 7 columns</p>\n",
       "</div>"
      ],
      "text/plain": [
       "          date         tic   open   high    low   close  volume\n",
       "0   2000-01-03  ASIANPAINT  370.0  390.0  370.0  381.65  3318.0\n",
       "1   2000-01-04  ASIANPAINT  380.0  392.0  375.0  385.55  4818.0\n",
       "2   2000-01-05  ASIANPAINT  371.5  390.0  371.5  383.00  2628.0\n",
       "3   2000-01-06  ASIANPAINT  384.9  384.9  374.5  377.50  3354.0\n",
       "4   2000-01-07  ASIANPAINT  376.0  390.0  370.0  385.70  9589.0\n",
       "..         ...         ...    ...    ...    ...     ...     ...\n",
       "45         NaN  ULTRACEMCO    NaN    NaN    NaN     NaN     NaN\n",
       "46         NaN         UPL    NaN    NaN    NaN     NaN     NaN\n",
       "47         NaN        VEDL    NaN    NaN    NaN     NaN     NaN\n",
       "48         NaN       WIPRO    NaN    NaN    NaN     NaN     NaN\n",
       "49         NaN        ZEEL    NaN    NaN    NaN     NaN     NaN\n",
       "\n",
       "[467112 rows x 7 columns]"
      ]
     },
     "execution_count": 11,
     "metadata": {},
     "output_type": "execute_result"
    }
   ],
   "source": [
    "df"
   ]
  },
  {
   "cell_type": "code",
   "execution_count": 12,
   "metadata": {},
   "outputs": [
    {
     "data": {
      "text/plain": [
       "(467112, 7)"
      ]
     },
     "execution_count": 12,
     "metadata": {},
     "output_type": "execute_result"
    }
   ],
   "source": [
    "df.shape"
   ]
  },
  {
   "cell_type": "code",
   "execution_count": 13,
   "metadata": {},
   "outputs": [
    {
     "data": {
      "text/plain": [
       "(235242, 7)"
      ]
     },
     "execution_count": 13,
     "metadata": {},
     "output_type": "execute_result"
    }
   ],
   "source": [
    "# count the unique values in the column\n",
    "df = df.drop_duplicates(subset=['date', 'tic'])\n",
    "df.shape"
   ]
  },
  {
   "cell_type": "code",
   "execution_count": 14,
   "metadata": {},
   "outputs": [
    {
     "data": {
      "text/plain": [
       "(235192, 7)"
      ]
     },
     "execution_count": 14,
     "metadata": {},
     "output_type": "execute_result"
    }
   ],
   "source": [
    "df = df.dropna(subset=['date', 'tic'])\n",
    "df.shape"
   ]
  },
  {
   "cell_type": "code",
   "execution_count": 15,
   "metadata": {},
   "outputs": [
    {
     "data": {
      "text/html": [
       "<div>\n",
       "<style scoped>\n",
       "    .dataframe tbody tr th:only-of-type {\n",
       "        vertical-align: middle;\n",
       "    }\n",
       "\n",
       "    .dataframe tbody tr th {\n",
       "        vertical-align: top;\n",
       "    }\n",
       "\n",
       "    .dataframe thead th {\n",
       "        text-align: right;\n",
       "    }\n",
       "</style>\n",
       "<table border=\"1\" class=\"dataframe\">\n",
       "  <thead>\n",
       "    <tr style=\"text-align: right;\">\n",
       "      <th></th>\n",
       "      <th>date</th>\n",
       "      <th>tic</th>\n",
       "      <th>open</th>\n",
       "      <th>high</th>\n",
       "      <th>low</th>\n",
       "      <th>close</th>\n",
       "      <th>volume</th>\n",
       "    </tr>\n",
       "  </thead>\n",
       "  <tbody>\n",
       "    <tr>\n",
       "      <th>0</th>\n",
       "      <td>2000-01-03</td>\n",
       "      <td>ASIANPAINT</td>\n",
       "      <td>370.0</td>\n",
       "      <td>390.00</td>\n",
       "      <td>370.00</td>\n",
       "      <td>381.65</td>\n",
       "      <td>3318.0</td>\n",
       "    </tr>\n",
       "    <tr>\n",
       "      <th>1</th>\n",
       "      <td>2000-01-04</td>\n",
       "      <td>ASIANPAINT</td>\n",
       "      <td>380.0</td>\n",
       "      <td>392.00</td>\n",
       "      <td>375.00</td>\n",
       "      <td>385.55</td>\n",
       "      <td>4818.0</td>\n",
       "    </tr>\n",
       "    <tr>\n",
       "      <th>2</th>\n",
       "      <td>2000-01-05</td>\n",
       "      <td>ASIANPAINT</td>\n",
       "      <td>371.5</td>\n",
       "      <td>390.00</td>\n",
       "      <td>371.50</td>\n",
       "      <td>383.00</td>\n",
       "      <td>2628.0</td>\n",
       "    </tr>\n",
       "    <tr>\n",
       "      <th>3</th>\n",
       "      <td>2000-01-06</td>\n",
       "      <td>ASIANPAINT</td>\n",
       "      <td>384.9</td>\n",
       "      <td>384.90</td>\n",
       "      <td>374.50</td>\n",
       "      <td>377.50</td>\n",
       "      <td>3354.0</td>\n",
       "    </tr>\n",
       "    <tr>\n",
       "      <th>4</th>\n",
       "      <td>2000-01-07</td>\n",
       "      <td>ASIANPAINT</td>\n",
       "      <td>376.0</td>\n",
       "      <td>390.00</td>\n",
       "      <td>370.00</td>\n",
       "      <td>385.70</td>\n",
       "      <td>9589.0</td>\n",
       "    </tr>\n",
       "    <tr>\n",
       "      <th>...</th>\n",
       "      <td>...</td>\n",
       "      <td>...</td>\n",
       "      <td>...</td>\n",
       "      <td>...</td>\n",
       "      <td>...</td>\n",
       "      <td>...</td>\n",
       "      <td>...</td>\n",
       "    </tr>\n",
       "    <tr>\n",
       "      <th>235187</th>\n",
       "      <td>2021-04-26</td>\n",
       "      <td>ZEEL</td>\n",
       "      <td>190.6</td>\n",
       "      <td>191.10</td>\n",
       "      <td>185.10</td>\n",
       "      <td>186.40</td>\n",
       "      <td>8542755.0</td>\n",
       "    </tr>\n",
       "    <tr>\n",
       "      <th>235188</th>\n",
       "      <td>2021-04-27</td>\n",
       "      <td>ZEEL</td>\n",
       "      <td>188.0</td>\n",
       "      <td>192.95</td>\n",
       "      <td>186.80</td>\n",
       "      <td>188.15</td>\n",
       "      <td>14247767.0</td>\n",
       "    </tr>\n",
       "    <tr>\n",
       "      <th>235189</th>\n",
       "      <td>2021-04-28</td>\n",
       "      <td>ZEEL</td>\n",
       "      <td>188.8</td>\n",
       "      <td>190.60</td>\n",
       "      <td>187.10</td>\n",
       "      <td>189.10</td>\n",
       "      <td>8429439.0</td>\n",
       "    </tr>\n",
       "    <tr>\n",
       "      <th>235190</th>\n",
       "      <td>2021-04-29</td>\n",
       "      <td>ZEEL</td>\n",
       "      <td>190.8</td>\n",
       "      <td>191.65</td>\n",
       "      <td>186.00</td>\n",
       "      <td>186.55</td>\n",
       "      <td>9483009.0</td>\n",
       "    </tr>\n",
       "    <tr>\n",
       "      <th>235191</th>\n",
       "      <td>2021-04-30</td>\n",
       "      <td>ZEEL</td>\n",
       "      <td>185.3</td>\n",
       "      <td>190.95</td>\n",
       "      <td>183.65</td>\n",
       "      <td>185.60</td>\n",
       "      <td>11435285.0</td>\n",
       "    </tr>\n",
       "  </tbody>\n",
       "</table>\n",
       "<p>235192 rows × 7 columns</p>\n",
       "</div>"
      ],
      "text/plain": [
       "              date         tic   open    high     low   close      volume\n",
       "0       2000-01-03  ASIANPAINT  370.0  390.00  370.00  381.65      3318.0\n",
       "1       2000-01-04  ASIANPAINT  380.0  392.00  375.00  385.55      4818.0\n",
       "2       2000-01-05  ASIANPAINT  371.5  390.00  371.50  383.00      2628.0\n",
       "3       2000-01-06  ASIANPAINT  384.9  384.90  374.50  377.50      3354.0\n",
       "4       2000-01-07  ASIANPAINT  376.0  390.00  370.00  385.70      9589.0\n",
       "...            ...         ...    ...     ...     ...     ...         ...\n",
       "235187  2021-04-26        ZEEL  190.6  191.10  185.10  186.40   8542755.0\n",
       "235188  2021-04-27        ZEEL  188.0  192.95  186.80  188.15  14247767.0\n",
       "235189  2021-04-28        ZEEL  188.8  190.60  187.10  189.10   8429439.0\n",
       "235190  2021-04-29        ZEEL  190.8  191.65  186.00  186.55   9483009.0\n",
       "235191  2021-04-30        ZEEL  185.3  190.95  183.65  185.60  11435285.0\n",
       "\n",
       "[235192 rows x 7 columns]"
      ]
     },
     "execution_count": 15,
     "metadata": {},
     "output_type": "execute_result"
    }
   ],
   "source": [
    "df"
   ]
  },
  {
   "cell_type": "code",
   "execution_count": 16,
   "metadata": {},
   "outputs": [
    {
     "name": "stdout",
     "output_type": "stream",
     "text": [
      "date      0\n",
      "tic       0\n",
      "open      0\n",
      "high      0\n",
      "low       0\n",
      "close     0\n",
      "volume    0\n",
      "dtype: int64\n"
     ]
    }
   ],
   "source": [
    "nan_counts = df.isna().sum()\n",
    "print(nan_counts)\n"
   ]
  },
  {
   "cell_type": "code",
   "execution_count": 17,
   "metadata": {},
   "outputs": [
    {
     "name": "stdout",
     "output_type": "stream",
     "text": [
      "date      0\n",
      "tic       0\n",
      "open      0\n",
      "high      0\n",
      "low       0\n",
      "close     0\n",
      "volume    0\n",
      "dtype: int64\n"
     ]
    }
   ],
   "source": [
    "# print the zero count of each column\n",
    "zero_counts = df.apply(lambda x: (x==0).sum())\n",
    "print(zero_counts)"
   ]
  },
  {
   "cell_type": "code",
   "execution_count": 18,
   "metadata": {},
   "outputs": [
    {
     "data": {
      "text/plain": [
       "tic\n",
       "ASIANPAINT    5306\n",
       "HDFCBANK      5306\n",
       "SUNPHARMA     5306\n",
       "GRASIM        5306\n",
       "SBIN          5306\n",
       "              ... \n",
       "MUNDRAPORT    1023\n",
       "TELCO          999\n",
       "KOTAKMAH       502\n",
       "SSLT           388\n",
       "JSWSTL         123\n",
       "Name: count, Length: 65, dtype: int64"
      ]
     },
     "execution_count": 18,
     "metadata": {},
     "output_type": "execute_result"
    }
   ],
   "source": [
    "df['tic'].value_counts()"
   ]
  },
  {
   "cell_type": "code",
   "execution_count": 19,
   "metadata": {},
   "outputs": [
    {
     "name": "stdout",
     "output_type": "stream",
     "text": [
      "tic\n",
      "ASIANPAINT    5306\n",
      "HDFCBANK      5306\n",
      "SUNPHARMA     5306\n",
      "GRASIM        5306\n",
      "SBIN          5306\n",
      "              ... \n",
      "MUNDRAPORT    1023\n",
      "TELCO          999\n",
      "KOTAKMAH       502\n",
      "SSLT           388\n",
      "JSWSTL         123\n",
      "Name: count, Length: 65, dtype: int64\n"
     ]
    }
   ],
   "source": [
    "import pandas as pd\n",
    "\n",
    "# Get the value counts of the 'tic' column\n",
    "tic_counts = df['tic'].value_counts(dropna=False)\n",
    "\n",
    "# Convert the counts to a DataFrame\n",
    "tic_counts_df = tic_counts.reset_index()\n",
    "tic_counts_df.columns = ['Tic', 'Count']\n",
    "\n",
    "# Save the DataFrame to a CSV file\n",
    "tic_counts_df.to_csv('tic_value_counts.csv', index=False)\n",
    "\n",
    "print(tic_counts)\n"
   ]
  },
  {
   "cell_type": "code",
   "execution_count": 20,
   "metadata": {},
   "outputs": [
    {
     "name": "stdout",
     "output_type": "stream",
     "text": [
      "              date         tic    open    high     low   close      volume\n",
      "0       2000-01-03  ASIANPAINT  370.00  390.00  370.00  381.65      3318.0\n",
      "1       2000-01-04  ASIANPAINT  380.00  392.00  375.00  385.55      4818.0\n",
      "2       2000-01-05  ASIANPAINT  371.50  390.00  371.50  383.00      2628.0\n",
      "3       2000-01-06  ASIANPAINT  384.90  384.90  374.50  377.50      3354.0\n",
      "4       2000-01-07  ASIANPAINT  376.00  390.00  370.00  385.70      9589.0\n",
      "...            ...         ...     ...     ...     ...     ...         ...\n",
      "150826  2021-04-26       WIPRO  479.40  483.85  477.00  480.30   9314644.0\n",
      "150827  2021-04-27       WIPRO  481.40  487.00  481.00  485.05   7209467.0\n",
      "150828  2021-04-28       WIPRO  485.85  493.20  481.25  489.30   9615534.0\n",
      "150829  2021-04-29       WIPRO  492.70  492.80  485.70  489.85   7641133.0\n",
      "150830  2021-04-30       WIPRO  491.50  511.80  489.30  492.75  29115571.0\n",
      "\n",
      "[150831 rows x 7 columns]\n"
     ]
    }
   ],
   "source": [
    "# Get the top 30 most frequent 'tic' values\n",
    "top_30_tics = tic_counts.nlargest(30).index\n",
    "\n",
    "# Filter the DataFrame to keep only these top 30 'tic' values\n",
    "df_filtered = df[df['tic'].isin(top_30_tics)]\n",
    "\n",
    "df = df_filtered.reset_index(drop=True)\n",
    "# Display the filtered DataFrame\n",
    "print(df)\n"
   ]
  },
  {
   "cell_type": "code",
   "execution_count": 21,
   "metadata": {},
   "outputs": [
    {
     "data": {
      "image/png": "[encoded data removed]",
      "text/plain": [
       "<Figure size 2500x500 with 1 Axes>"
      ]
     },
     "metadata": {},
     "output_type": "display_data"
    }
   ],
   "source": [
    "# per year minimum number of trading days\n",
    "df['date'] = pd.to_datetime(df['date'])\n",
    "df['year'] = df['date'].dt.year\n",
    "df['month'] = df['date'].dt.month\n",
    "\n",
    "# Create a new column 'year_month' for plotting\n",
    "df['year_month'] = df['year'].astype(str) + '-' + df['month'].astype(str)\n",
    "\n",
    "plt.figure(figsize=(25, 5))\n",
    "sns.countplot(x='year_month', data=df, order=sorted(df['year_month'].unique()))\n",
    "plt.xticks(rotation=90)  # Rotate x-axis labels for better visibility\n",
    "plt.show()"
   ]
  },
  {
   "cell_type": "code",
   "execution_count": 22,
   "metadata": {},
   "outputs": [
    {
     "data": {
      "text/plain": [
       "year\n",
       "2010    7560\n",
       "2020    7560\n",
       "2005    7530\n",
       "2012    7530\n",
       "2006    7500\n",
       "2013    7500\n",
       "2007    7470\n",
       "2017    7440\n",
       "2015    7440\n",
       "2016    7410\n",
       "2011    7410\n",
       "2008    7380\n",
       "2018    7380\n",
       "2019    7350\n",
       "2014    7320\n",
       "2009    7289\n",
       "2004    6959\n",
       "2003    6150\n",
       "2002    5773\n",
       "2001    5324\n",
       "2000    5156\n",
       "2021    2400\n",
       "Name: count, dtype: int64"
      ]
     },
     "execution_count": 22,
     "metadata": {},
     "output_type": "execute_result"
    }
   ],
   "source": [
    "df['year'].value_counts()"
   ]
  },
  {
   "cell_type": "code",
   "execution_count": 23,
   "metadata": {},
   "outputs": [
    {
     "name": "stdout",
     "output_type": "stream",
     "text": [
      "ud 2000 250\n",
      "ss 2000 208\n",
      "ud 2001 248\n",
      "ss 2001 208\n",
      "ud 2002 251\n",
      "ss 2002 208\n",
      "ud 2003 254\n",
      "ss 2003 208\n",
      "ud 2004 254\n",
      "ss 2004 208\n",
      "ud 2005 251\n",
      "ss 2005 208\n",
      "ud 2006 250\n",
      "ss 2006 208\n",
      "ud 2007 249\n",
      "ss 2007 208\n",
      "ud 2008 246\n",
      "ss 2008 208\n",
      "ud 2009 243\n",
      "ss 2009 208\n",
      "ud 2010 252\n",
      "ss 2010 208\n",
      "ud 2011 247\n",
      "ss 2011 208\n",
      "ud 2012 251\n",
      "ss 2012 208\n",
      "ud 2013 250\n",
      "ss 2013 208\n",
      "ud 2014 244\n",
      "ss 2014 208\n",
      "ud 2015 248\n",
      "ss 2015 208\n",
      "ud 2016 247\n",
      "ss 2016 208\n",
      "ud 2017 248\n",
      "ss 2017 208\n",
      "ud 2018 246\n",
      "ss 2018 208\n",
      "ud 2019 245\n",
      "ss 2019 208\n",
      "ud 2020 252\n",
      "ss 2020 208\n",
      "ud 2021 80\n",
      "ss 2021 80\n",
      "69960\n"
     ]
    }
   ],
   "source": [
    "import pandas as pd\n",
    "\n",
    "# Ensure 'date' is properly converted to datetime\n",
    "df['date'] = pd.to_datetime(df['date'])\n",
    "\n",
    "# Create an empty DataFrame to store the sampled data\n",
    "sampled_data = pd.DataFrame()\n",
    "\n",
    "# Group the data by year\n",
    "grouped_data = df.groupby('year')\n",
    "\n",
    "# Sample days dynamically based on the number of unique days available in each year\n",
    "for year, group in grouped_data:\n",
    "    # Get the unique dates available for sampling\n",
    "    unique_days = group['date'].nunique()\n",
    "    print('ud '+ str(year)+ ' ' + str(unique_days))\n",
    "    \n",
    "    # Adjust the sample size based on the number of unique days\n",
    "    sample_size = min(208, unique_days)  # Use smaller of 208 or the number of unique days\n",
    "    \n",
    "    # Sample unique days\n",
    "    sampled_days = group['date'].sample(sample_size, replace=False)\n",
    "    \n",
    "\n",
    "    print('ss '+ str(year)+ ' ' + str(sample_size))\n",
    "\n",
    "    # Filter the data for the sampled days\n",
    "    sampled_year_data = group[group['date'].isin(sampled_days)]\n",
    "    \n",
    "    # Ensure each sampled day includes all 30 trading codes\n",
    "    sampled_year_data = sampled_year_data.groupby('date').filter(lambda x: len(x) == 30)\n",
    "    \n",
    "    # Append the sampled data to the final DataFrame\n",
    "    sampled_data = pd.concat([sampled_data, sampled_year_data])\n",
    "\n",
    "# Reset index of the final sampled data\n",
    "sampled_data.reset_index(drop=True, inplace=True)\n",
    "\n",
    "print(len(sampled_data))\n"
   ]
  },
  {
   "cell_type": "code",
   "execution_count": 24,
   "metadata": {},
   "outputs": [
    {
     "name": "stdout",
     "output_type": "stream",
     "text": [
      "Number of zeros in 'Volume' column: 0\n"
     ]
    }
   ],
   "source": [
    "# Count zeros in the 'Volume' column\n",
    "zero_count_volume = (df['volume'] == 0).sum()\n",
    "\n",
    "print(\"Number of zeros in 'Volume' column:\", zero_count_volume)\n"
   ]
  },
  {
   "cell_type": "code",
   "execution_count": 25,
   "metadata": {},
   "outputs": [
    {
     "name": "stdout",
     "output_type": "stream",
     "text": [
      "date          0\n",
      "tic           0\n",
      "open          0\n",
      "high          0\n",
      "low           0\n",
      "close         0\n",
      "volume        0\n",
      "year          0\n",
      "month         0\n",
      "year_month    0\n",
      "dtype: int64\n"
     ]
    }
   ],
   "source": [
    "# print the zero count of each column\n",
    "zero_counts = df.apply(lambda x: (x==0).sum())\n",
    "print(zero_counts)"
   ]
  },
  {
   "cell_type": "code",
   "execution_count": 26,
   "metadata": {},
   "outputs": [
    {
     "name": "stderr",
     "output_type": "stream",
     "text": [
      "/Users/md.raihansobhan/Desktop/BUET/4-2 Sessionals/CSE 472 | ML/online_class/ml/lib/python3.10/site-packages/pyfolio/pos.py:26: UserWarning: Module \"zipline.assets\" not found; mutltipliers will not be applied to position notionals.\n",
      "  warnings.warn(\n"
     ]
    }
   ],
   "source": [
    "import pandas as pd\n",
    "import numpy as np\n",
    "import matplotlib\n",
    "import matplotlib.pyplot as plt\n",
    "# matplotlib.use('Agg')\n",
    "import datetime\n",
    "\n",
    "%matplotlib inline\n",
    "from finrl.meta.preprocessor.yahoodownloader import YahooDownloader\n",
    "from finrl.meta.preprocessor.preprocessors import FeatureEngineer, data_split\n",
    "from finrl.meta.env_stock_trading.env_stocktrading import StockTradingEnv\n",
    "from finrl.agents.stablebaselines3.models import DRLAgent\n",
    "from stable_baselines3.common.logger import configure\n",
    "from finrl.meta.data_processor import DataProcessor\n",
    "\n",
    "from finrl.plot import backtest_stats, backtest_plot, get_daily_return, get_baseline\n",
    "from pprint import pprint\n",
    "\n",
    "import sys\n",
    "sys.path.append(\"../FinRL\")\n",
    "\n",
    "import itertools\n",
    "\n",
    "from finrl import config\n",
    "from finrl import config_tickers\n",
    "import os\n",
    "from finrl.main import check_and_make_directories\n",
    "from finrl.config import (\n",
    "    DATA_SAVE_DIR,\n",
    "    TRAINED_MODEL_DIR,\n",
    "    TENSORBOARD_LOG_DIR,\n",
    "    RESULTS_DIR,\n",
    "    INDICATORS,\n",
    "    TRAIN_START_DATE,\n",
    "    TRAIN_END_DATE,\n",
    "    TEST_START_DATE,\n",
    "    TEST_END_DATE,\n",
    "    TRADE_START_DATE,\n",
    "    TRADE_END_DATE,\n",
    ")\n",
    "check_and_make_directories([DATA_SAVE_DIR, TRAINED_MODEL_DIR, TENSORBOARD_LOG_DIR, RESULTS_DIR])"
   ]
  },
  {
   "cell_type": "code",
   "execution_count": 27,
   "metadata": {},
   "outputs": [
    {
     "data": {
      "text/html": [
       "<div>\n",
       "<style scoped>\n",
       "    .dataframe tbody tr th:only-of-type {\n",
       "        vertical-align: middle;\n",
       "    }\n",
       "\n",
       "    .dataframe tbody tr th {\n",
       "        vertical-align: top;\n",
       "    }\n",
       "\n",
       "    .dataframe thead th {\n",
       "        text-align: right;\n",
       "    }\n",
       "</style>\n",
       "<table border=\"1\" class=\"dataframe\">\n",
       "  <thead>\n",
       "    <tr style=\"text-align: right;\">\n",
       "      <th></th>\n",
       "      <th>date</th>\n",
       "      <th>tic</th>\n",
       "      <th>open</th>\n",
       "      <th>high</th>\n",
       "      <th>low</th>\n",
       "      <th>close</th>\n",
       "      <th>volume</th>\n",
       "      <th>year</th>\n",
       "      <th>month</th>\n",
       "      <th>year_month</th>\n",
       "    </tr>\n",
       "  </thead>\n",
       "  <tbody>\n",
       "    <tr>\n",
       "      <th>0</th>\n",
       "      <td>2000-01-03</td>\n",
       "      <td>ASIANPAINT</td>\n",
       "      <td>370.0</td>\n",
       "      <td>390.0</td>\n",
       "      <td>370.0</td>\n",
       "      <td>381.65</td>\n",
       "      <td>3318.0</td>\n",
       "      <td>2000</td>\n",
       "      <td>1</td>\n",
       "      <td>2000-1</td>\n",
       "    </tr>\n",
       "    <tr>\n",
       "      <th>1</th>\n",
       "      <td>2000-01-04</td>\n",
       "      <td>ASIANPAINT</td>\n",
       "      <td>380.0</td>\n",
       "      <td>392.0</td>\n",
       "      <td>375.0</td>\n",
       "      <td>385.55</td>\n",
       "      <td>4818.0</td>\n",
       "      <td>2000</td>\n",
       "      <td>1</td>\n",
       "      <td>2000-1</td>\n",
       "    </tr>\n",
       "    <tr>\n",
       "      <th>2</th>\n",
       "      <td>2000-01-05</td>\n",
       "      <td>ASIANPAINT</td>\n",
       "      <td>371.5</td>\n",
       "      <td>390.0</td>\n",
       "      <td>371.5</td>\n",
       "      <td>383.00</td>\n",
       "      <td>2628.0</td>\n",
       "      <td>2000</td>\n",
       "      <td>1</td>\n",
       "      <td>2000-1</td>\n",
       "    </tr>\n",
       "    <tr>\n",
       "      <th>3</th>\n",
       "      <td>2000-01-06</td>\n",
       "      <td>ASIANPAINT</td>\n",
       "      <td>384.9</td>\n",
       "      <td>384.9</td>\n",
       "      <td>374.5</td>\n",
       "      <td>377.50</td>\n",
       "      <td>3354.0</td>\n",
       "      <td>2000</td>\n",
       "      <td>1</td>\n",
       "      <td>2000-1</td>\n",
       "    </tr>\n",
       "    <tr>\n",
       "      <th>4</th>\n",
       "      <td>2000-01-07</td>\n",
       "      <td>ASIANPAINT</td>\n",
       "      <td>376.0</td>\n",
       "      <td>390.0</td>\n",
       "      <td>370.0</td>\n",
       "      <td>385.70</td>\n",
       "      <td>9589.0</td>\n",
       "      <td>2000</td>\n",
       "      <td>1</td>\n",
       "      <td>2000-1</td>\n",
       "    </tr>\n",
       "  </tbody>\n",
       "</table>\n",
       "</div>"
      ],
      "text/plain": [
       "        date         tic   open   high    low   close  volume  year  month  \\\n",
       "0 2000-01-03  ASIANPAINT  370.0  390.0  370.0  381.65  3318.0  2000      1   \n",
       "1 2000-01-04  ASIANPAINT  380.0  392.0  375.0  385.55  4818.0  2000      1   \n",
       "2 2000-01-05  ASIANPAINT  371.5  390.0  371.5  383.00  2628.0  2000      1   \n",
       "3 2000-01-06  ASIANPAINT  384.9  384.9  374.5  377.50  3354.0  2000      1   \n",
       "4 2000-01-07  ASIANPAINT  376.0  390.0  370.0  385.70  9589.0  2000      1   \n",
       "\n",
       "  year_month  \n",
       "0     2000-1  \n",
       "1     2000-1  \n",
       "2     2000-1  \n",
       "3     2000-1  \n",
       "4     2000-1  "
      ]
     },
     "execution_count": 27,
     "metadata": {},
     "output_type": "execute_result"
    }
   ],
   "source": [
    "df.head()"
   ]
  },
  {
   "cell_type": "code",
   "execution_count": 28,
   "metadata": {},
   "outputs": [],
   "source": [
    "df.drop(['year_month','month','year'], axis=1, inplace=True)\n"
   ]
  },
  {
   "cell_type": "code",
   "execution_count": 29,
   "metadata": {},
   "outputs": [
    {
     "data": {
      "text/html": [
       "<div>\n",
       "<style scoped>\n",
       "    .dataframe tbody tr th:only-of-type {\n",
       "        vertical-align: middle;\n",
       "    }\n",
       "\n",
       "    .dataframe tbody tr th {\n",
       "        vertical-align: top;\n",
       "    }\n",
       "\n",
       "    .dataframe thead th {\n",
       "        text-align: right;\n",
       "    }\n",
       "</style>\n",
       "<table border=\"1\" class=\"dataframe\">\n",
       "  <thead>\n",
       "    <tr style=\"text-align: right;\">\n",
       "      <th></th>\n",
       "      <th>date</th>\n",
       "      <th>tic</th>\n",
       "      <th>open</th>\n",
       "      <th>high</th>\n",
       "      <th>low</th>\n",
       "      <th>close</th>\n",
       "      <th>volume</th>\n",
       "    </tr>\n",
       "  </thead>\n",
       "  <tbody>\n",
       "    <tr>\n",
       "      <th>0</th>\n",
       "      <td>2000-01-03</td>\n",
       "      <td>ASIANPAINT</td>\n",
       "      <td>370.00</td>\n",
       "      <td>390.00</td>\n",
       "      <td>370.00</td>\n",
       "      <td>381.65</td>\n",
       "      <td>3318.0</td>\n",
       "    </tr>\n",
       "    <tr>\n",
       "      <th>1</th>\n",
       "      <td>2000-01-04</td>\n",
       "      <td>ASIANPAINT</td>\n",
       "      <td>380.00</td>\n",
       "      <td>392.00</td>\n",
       "      <td>375.00</td>\n",
       "      <td>385.55</td>\n",
       "      <td>4818.0</td>\n",
       "    </tr>\n",
       "    <tr>\n",
       "      <th>2</th>\n",
       "      <td>2000-01-05</td>\n",
       "      <td>ASIANPAINT</td>\n",
       "      <td>371.50</td>\n",
       "      <td>390.00</td>\n",
       "      <td>371.50</td>\n",
       "      <td>383.00</td>\n",
       "      <td>2628.0</td>\n",
       "    </tr>\n",
       "    <tr>\n",
       "      <th>3</th>\n",
       "      <td>2000-01-06</td>\n",
       "      <td>ASIANPAINT</td>\n",
       "      <td>384.90</td>\n",
       "      <td>384.90</td>\n",
       "      <td>374.50</td>\n",
       "      <td>377.50</td>\n",
       "      <td>3354.0</td>\n",
       "    </tr>\n",
       "    <tr>\n",
       "      <th>4</th>\n",
       "      <td>2000-01-07</td>\n",
       "      <td>ASIANPAINT</td>\n",
       "      <td>376.00</td>\n",
       "      <td>390.00</td>\n",
       "      <td>370.00</td>\n",
       "      <td>385.70</td>\n",
       "      <td>9589.0</td>\n",
       "    </tr>\n",
       "    <tr>\n",
       "      <th>...</th>\n",
       "      <td>...</td>\n",
       "      <td>...</td>\n",
       "      <td>...</td>\n",
       "      <td>...</td>\n",
       "      <td>...</td>\n",
       "      <td>...</td>\n",
       "      <td>...</td>\n",
       "    </tr>\n",
       "    <tr>\n",
       "      <th>150826</th>\n",
       "      <td>2021-04-26</td>\n",
       "      <td>WIPRO</td>\n",
       "      <td>479.40</td>\n",
       "      <td>483.85</td>\n",
       "      <td>477.00</td>\n",
       "      <td>480.30</td>\n",
       "      <td>9314644.0</td>\n",
       "    </tr>\n",
       "    <tr>\n",
       "      <th>150827</th>\n",
       "      <td>2021-04-27</td>\n",
       "      <td>WIPRO</td>\n",
       "      <td>481.40</td>\n",
       "      <td>487.00</td>\n",
       "      <td>481.00</td>\n",
       "      <td>485.05</td>\n",
       "      <td>7209467.0</td>\n",
       "    </tr>\n",
       "    <tr>\n",
       "      <th>150828</th>\n",
       "      <td>2021-04-28</td>\n",
       "      <td>WIPRO</td>\n",
       "      <td>485.85</td>\n",
       "      <td>493.20</td>\n",
       "      <td>481.25</td>\n",
       "      <td>489.30</td>\n",
       "      <td>9615534.0</td>\n",
       "    </tr>\n",
       "    <tr>\n",
       "      <th>150829</th>\n",
       "      <td>2021-04-29</td>\n",
       "      <td>WIPRO</td>\n",
       "      <td>492.70</td>\n",
       "      <td>492.80</td>\n",
       "      <td>485.70</td>\n",
       "      <td>489.85</td>\n",
       "      <td>7641133.0</td>\n",
       "    </tr>\n",
       "    <tr>\n",
       "      <th>150830</th>\n",
       "      <td>2021-04-30</td>\n",
       "      <td>WIPRO</td>\n",
       "      <td>491.50</td>\n",
       "      <td>511.80</td>\n",
       "      <td>489.30</td>\n",
       "      <td>492.75</td>\n",
       "      <td>29115571.0</td>\n",
       "    </tr>\n",
       "  </tbody>\n",
       "</table>\n",
       "<p>150831 rows × 7 columns</p>\n",
       "</div>"
      ],
      "text/plain": [
       "             date         tic    open    high     low   close      volume\n",
       "0      2000-01-03  ASIANPAINT  370.00  390.00  370.00  381.65      3318.0\n",
       "1      2000-01-04  ASIANPAINT  380.00  392.00  375.00  385.55      4818.0\n",
       "2      2000-01-05  ASIANPAINT  371.50  390.00  371.50  383.00      2628.0\n",
       "3      2000-01-06  ASIANPAINT  384.90  384.90  374.50  377.50      3354.0\n",
       "4      2000-01-07  ASIANPAINT  376.00  390.00  370.00  385.70      9589.0\n",
       "...           ...         ...     ...     ...     ...     ...         ...\n",
       "150826 2021-04-26       WIPRO  479.40  483.85  477.00  480.30   9314644.0\n",
       "150827 2021-04-27       WIPRO  481.40  487.00  481.00  485.05   7209467.0\n",
       "150828 2021-04-28       WIPRO  485.85  493.20  481.25  489.30   9615534.0\n",
       "150829 2021-04-29       WIPRO  492.70  492.80  485.70  489.85   7641133.0\n",
       "150830 2021-04-30       WIPRO  491.50  511.80  489.30  492.75  29115571.0\n",
       "\n",
       "[150831 rows x 7 columns]"
      ]
     },
     "execution_count": 29,
     "metadata": {},
     "output_type": "execute_result"
    }
   ],
   "source": [
    "df"
   ]
  },
  {
   "cell_type": "code",
   "execution_count": 30,
   "metadata": {},
   "outputs": [
    {
     "name": "stderr",
     "output_type": "stream",
     "text": [
      "/var/folders/hw/72ljgfr56y93ypctd2ct3kjm0000gn/T/ipykernel_27697/2605565239.py:10: UserWarning: FigureCanvasAgg is non-interactive, and thus cannot be shown\n",
      "  plt.show()\n"
     ]
    }
   ],
   "source": [
    "# Assuming 'df' is your DataFrame and 'close' is the column with closing prices\n",
    "std_dev = df.groupby('tic')['close'].std()\n",
    "\n",
    "plt.figure(figsize=(10,6))\n",
    "sns.histplot(std_dev, bins=50, kde=True)\n",
    "plt.title('Distribution of std of the stocks')\n",
    "plt.xlabel('Standard Deviation')\n",
    "plt.ylabel('Frequency')\n",
    "plt.savefig('output.png')\n",
    "plt.show()"
   ]
  },
  {
   "cell_type": "code",
   "execution_count": 31,
   "metadata": {},
   "outputs": [],
   "source": [
    "df['day'] = pd.to_datetime(df['date']).dt.dayofweek\n",
    "df['short_resistance']= df['high'].rolling(window=10,min_periods=0).max()\n",
    "df['short_support']= df['low'].rolling(window=10,min_periods=0).min()\n",
    "df['long_resistance']= df['high'].rolling(window=50,min_periods=0).max()\n",
    "df['long_support']= df['low'].rolling(window=50,min_periods=0).min()\n",
    "df = df.reset_index(drop=True)\n",
    "df = df.sort_values(by=['date','tic']).reset_index(drop=True)"
   ]
  },
  {
   "cell_type": "code",
   "execution_count": 32,
   "metadata": {},
   "outputs": [
    {
     "data": {
      "text/plain": [
       "date                datetime64[ns]\n",
       "tic                         object\n",
       "open                       float64\n",
       "high                       float64\n",
       "low                        float64\n",
       "close                      float64\n",
       "volume                     float64\n",
       "day                          int32\n",
       "short_resistance           float64\n",
       "short_support              float64\n",
       "long_resistance            float64\n",
       "long_support               float64\n",
       "dtype: object"
      ]
     },
     "execution_count": 32,
     "metadata": {},
     "output_type": "execute_result"
    }
   ],
   "source": [
    "df.dtypes"
   ]
  },
  {
   "cell_type": "code",
   "execution_count": 33,
   "metadata": {},
   "outputs": [],
   "source": [
    "# convert datetime to string\n",
    "df['date'] = df['date'].dt.strftime('%Y-%m-%d')"
   ]
  },
  {
   "cell_type": "code",
   "execution_count": 34,
   "metadata": {},
   "outputs": [
    {
     "name": "stdout",
     "output_type": "stream",
     "text": [
      "(150831, 12)\n"
     ]
    },
    {
     "data": {
      "text/html": [
       "<div>\n",
       "<style scoped>\n",
       "    .dataframe tbody tr th:only-of-type {\n",
       "        vertical-align: middle;\n",
       "    }\n",
       "\n",
       "    .dataframe tbody tr th {\n",
       "        vertical-align: top;\n",
       "    }\n",
       "\n",
       "    .dataframe thead th {\n",
       "        text-align: right;\n",
       "    }\n",
       "</style>\n",
       "<table border=\"1\" class=\"dataframe\">\n",
       "  <thead>\n",
       "    <tr style=\"text-align: right;\">\n",
       "      <th></th>\n",
       "      <th>date</th>\n",
       "      <th>tic</th>\n",
       "      <th>open</th>\n",
       "      <th>high</th>\n",
       "      <th>low</th>\n",
       "      <th>close</th>\n",
       "      <th>volume</th>\n",
       "      <th>day</th>\n",
       "      <th>short_resistance</th>\n",
       "      <th>short_support</th>\n",
       "      <th>long_resistance</th>\n",
       "      <th>long_support</th>\n",
       "    </tr>\n",
       "  </thead>\n",
       "  <tbody>\n",
       "    <tr>\n",
       "      <th>150826</th>\n",
       "      <td>2021-04-30</td>\n",
       "      <td>TATAMOTORS</td>\n",
       "      <td>298.2</td>\n",
       "      <td>301.30</td>\n",
       "      <td>292.55</td>\n",
       "      <td>293.85</td>\n",
       "      <td>36121668.0</td>\n",
       "      <td>4</td>\n",
       "      <td>315.00</td>\n",
       "      <td>290.5</td>\n",
       "      <td>357.00</td>\n",
       "      <td>280.55</td>\n",
       "    </tr>\n",
       "    <tr>\n",
       "      <th>150827</th>\n",
       "      <td>2021-04-30</td>\n",
       "      <td>TCS</td>\n",
       "      <td>3099.0</td>\n",
       "      <td>3132.05</td>\n",
       "      <td>3020.00</td>\n",
       "      <td>3035.65</td>\n",
       "      <td>3072305.0</td>\n",
       "      <td>4</td>\n",
       "      <td>3247.00</td>\n",
       "      <td>3020.0</td>\n",
       "      <td>3354.35</td>\n",
       "      <td>2880.00</td>\n",
       "    </tr>\n",
       "    <tr>\n",
       "      <th>150828</th>\n",
       "      <td>2021-04-30</td>\n",
       "      <td>TITAN</td>\n",
       "      <td>1500.0</td>\n",
       "      <td>1516.55</td>\n",
       "      <td>1471.00</td>\n",
       "      <td>1491.65</td>\n",
       "      <td>3691399.0</td>\n",
       "      <td>4</td>\n",
       "      <td>1560.00</td>\n",
       "      <td>1451.6</td>\n",
       "      <td>1618.00</td>\n",
       "      <td>1396.00</td>\n",
       "    </tr>\n",
       "    <tr>\n",
       "      <th>150829</th>\n",
       "      <td>2021-04-30</td>\n",
       "      <td>ULTRACEMCO</td>\n",
       "      <td>6380.0</td>\n",
       "      <td>6424.00</td>\n",
       "      <td>6233.55</td>\n",
       "      <td>6278.95</td>\n",
       "      <td>475175.0</td>\n",
       "      <td>4</td>\n",
       "      <td>6786.45</td>\n",
       "      <td>5970.2</td>\n",
       "      <td>7055.95</td>\n",
       "      <td>5970.20</td>\n",
       "    </tr>\n",
       "    <tr>\n",
       "      <th>150830</th>\n",
       "      <td>2021-04-30</td>\n",
       "      <td>WIPRO</td>\n",
       "      <td>491.5</td>\n",
       "      <td>511.80</td>\n",
       "      <td>489.30</td>\n",
       "      <td>492.75</td>\n",
       "      <td>29115571.0</td>\n",
       "      <td>4</td>\n",
       "      <td>511.80</td>\n",
       "      <td>436.0</td>\n",
       "      <td>511.80</td>\n",
       "      <td>397.75</td>\n",
       "    </tr>\n",
       "  </tbody>\n",
       "</table>\n",
       "</div>"
      ],
      "text/plain": [
       "              date         tic    open     high      low    close      volume  \\\n",
       "150826  2021-04-30  TATAMOTORS   298.2   301.30   292.55   293.85  36121668.0   \n",
       "150827  2021-04-30         TCS  3099.0  3132.05  3020.00  3035.65   3072305.0   \n",
       "150828  2021-04-30       TITAN  1500.0  1516.55  1471.00  1491.65   3691399.0   \n",
       "150829  2021-04-30  ULTRACEMCO  6380.0  6424.00  6233.55  6278.95    475175.0   \n",
       "150830  2021-04-30       WIPRO   491.5   511.80   489.30   492.75  29115571.0   \n",
       "\n",
       "        day  short_resistance  short_support  long_resistance  long_support  \n",
       "150826    4            315.00          290.5           357.00        280.55  \n",
       "150827    4           3247.00         3020.0          3354.35       2880.00  \n",
       "150828    4           1560.00         1451.6          1618.00       1396.00  \n",
       "150829    4           6786.45         5970.2          7055.95       5970.20  \n",
       "150830    4            511.80          436.0           511.80        397.75  "
      ]
     },
     "execution_count": 34,
     "metadata": {},
     "output_type": "execute_result"
    }
   ],
   "source": [
    "print(df.shape)\n",
    "df.tail()"
   ]
  },
  {
   "cell_type": "code",
   "execution_count": 35,
   "metadata": {},
   "outputs": [
    {
     "name": "stderr",
     "output_type": "stream",
     "text": [
      "/var/folders/hw/72ljgfr56y93ypctd2ct3kjm0000gn/T/ipykernel_27697/1344718701.py:3: FutureWarning: The default fill_method='pad' in DataFrame.pct_change is deprecated and will be removed in a future version. Either fill in any non-leading NA values prior to calling pct_change or specify 'fill_method=None' to not fill NA values.\n",
      "  df_price_pivot = df_price_pivot.pct_change()\n"
     ]
    },
    {
     "name": "stdout",
     "output_type": "stream",
     "text": [
      "5306\n"
     ]
    }
   ],
   "source": [
    "data = df.copy()\n",
    "df_price_pivot = data.pivot(index=\"date\", columns=\"tic\", values=\"close\")\n",
    "df_price_pivot = df_price_pivot.pct_change()\n",
    "unique_date = data.date.unique()\n",
    "# start after a year\n",
    "start = 208\n",
    "turbulence_index = [0] * start\n",
    "# turbulence_index = [0]\n",
    "count = 0\n",
    "for i in range(start, len(unique_date)):\n",
    "  current_price = df_price_pivot[df_price_pivot.index == unique_date[i]]\n",
    "  # use one year rolling window to calcualte covariance\n",
    "  hist_price = df_price_pivot[\n",
    "      (df_price_pivot.index < unique_date[i])\n",
    "      & (df_price_pivot.index >= unique_date[i - 208])\n",
    "  ]\n",
    "  # Drop tickers which has number missing values more than the \"oldest\" ticker\n",
    "  filtered_hist_price = hist_price.iloc[\n",
    "      hist_price.isna().sum().min() :\n",
    "  ].dropna(axis=1)\n",
    "\n",
    "  cov_temp = filtered_hist_price.cov()\n",
    "  current_temp = current_price[[x for x in filtered_hist_price]] - np.mean(\n",
    "      filtered_hist_price, axis=0\n",
    "  )\n",
    "  # cov_temp = hist_price.cov()\n",
    "  # current_temp=(current_price - np.mean(hist_price,axis=0))\n",
    "\n",
    "  temp = current_temp.values.dot(np.linalg.pinv(cov_temp)).dot(\n",
    "      current_temp.values.T\n",
    "  )\n",
    "  if temp > 0:\n",
    "      count += 1\n",
    "      if count > 2:\n",
    "          turbulence_temp = temp[0][0]\n",
    "      else:\n",
    "          # avoid large outlier because of the calculation just begins\n",
    "          turbulence_temp = 0\n",
    "  else:\n",
    "      turbulence_temp = 0\n",
    "  turbulence_index.append(turbulence_temp)\n",
    "print(len(turbulence_index))\n",
    "try:\n",
    "  turbulence_index = pd.DataFrame(\n",
    "      {\"date\": df_price_pivot.index, \"turbulence\": turbulence_index}\n",
    "  )\n",
    "except ValueError:\n",
    "  raise Exception(\"Turbulence information could not be added.\")"
   ]
  },
  {
   "cell_type": "code",
   "execution_count": 36,
   "metadata": {},
   "outputs": [
    {
     "data": {
      "text/plain": [
       "7928.906405510853"
      ]
     },
     "execution_count": 36,
     "metadata": {},
     "output_type": "execute_result"
    }
   ],
   "source": [
    "turbulence_index['turbulence'].max()"
   ]
  },
  {
   "cell_type": "code",
   "execution_count": 37,
   "metadata": {},
   "outputs": [
    {
     "data": {
      "text/plain": [
       "tic\n",
       "ASIANPAINT    5306\n",
       "IOC           5306\n",
       "WIPRO         5306\n",
       "TITAN         5306\n",
       "SUNPHARMA     5306\n",
       "SBIN          5306\n",
       "RELIANCE      5306\n",
       "BPCL          5306\n",
       "M&M           5306\n",
       "ITC           5306\n",
       "ONGC          5306\n",
       "CIPLA         5306\n",
       "ICICIBANK     5306\n",
       "HDFCBANK      5306\n",
       "HDFC          5306\n",
       "GRASIM        5306\n",
       "DRREDDY       5306\n",
       "BRITANNIA     5305\n",
       "EICHERMOT     5301\n",
       "HCLTECH       5300\n",
       "INDUSINDBK    4985\n",
       "SHREECEM      4985\n",
       "GAIL          4985\n",
       "KOTAKBANK     4483\n",
       "MARUTI        4427\n",
       "TATAMOTORS    4307\n",
       "LT            4184\n",
       "ULTRACEMCO    4140\n",
       "TCS           4139\n",
       "NTPC          4088\n",
       "Name: count, dtype: int64"
      ]
     },
     "execution_count": 37,
     "metadata": {},
     "output_type": "execute_result"
    }
   ],
   "source": [
    "df = df.merge(turbulence_index, on=\"date\")\n",
    "df['tic'].value_counts()"
   ]
  },
  {
   "cell_type": "code",
   "execution_count": 38,
   "metadata": {},
   "outputs": [
    {
     "name": "stdout",
     "output_type": "stream",
     "text": [
      "date                0\n",
      "tic                 0\n",
      "open                0\n",
      "high                0\n",
      "low                 0\n",
      "close               0\n",
      "volume              0\n",
      "day                 0\n",
      "short_resistance    0\n",
      "short_support       0\n",
      "long_resistance     0\n",
      "long_support        0\n",
      "turbulence          0\n",
      "dtype: int64\n"
     ]
    }
   ],
   "source": [
    "df.to_csv('df.csv', index=False)  # 'index=False' prevents pandas from writing row numbers as the first column\n",
    "\n",
    "# df.shape\n",
    "nan_counts = df.isna().sum()\n",
    "print(nan_counts)\n"
   ]
  },
  {
   "cell_type": "code",
   "execution_count": 39,
   "metadata": {},
   "outputs": [],
   "source": [
    "df = df[df['date'] <= '2020-12-31']\n",
    "# df"
   ]
  },
  {
   "cell_type": "code",
   "execution_count": 40,
   "metadata": {},
   "outputs": [
    {
     "name": "stdout",
     "output_type": "stream",
     "text": [
      "Successfully added technical indicators\n"
     ]
    }
   ],
   "source": [
    "fe = FeatureEngineer(\n",
    "                    use_technical_indicator=True,\n",
    "                    tech_indicator_list = INDICATORS,\n",
    "                    use_vix=False,\n",
    "                    use_turbulence=False,\n",
    "                    user_defined_feature = False)\n",
    "# turbulance is giving error\n",
    "df = df.fillna(value = 0)\n",
    "processed = fe.preprocess_data(df)\n",
    "\n"
   ]
  },
  {
   "cell_type": "code",
   "execution_count": 41,
   "metadata": {},
   "outputs": [
    {
     "name": "stdout",
     "output_type": "stream",
     "text": [
      "date                0\n",
      "tic                 0\n",
      "open                0\n",
      "high                0\n",
      "low                 0\n",
      "close               0\n",
      "volume              0\n",
      "day                 0\n",
      "short_resistance    0\n",
      "short_support       0\n",
      "long_resistance     0\n",
      "long_support        0\n",
      "turbulence          0\n",
      "dtype: int64\n"
     ]
    }
   ],
   "source": [
    "# df.shape\n",
    "nan_counts = df.isna().sum()\n",
    "print(nan_counts)\n"
   ]
  },
  {
   "cell_type": "code",
   "execution_count": 42,
   "metadata": {},
   "outputs": [
    {
     "name": "stdout",
     "output_type": "stream",
     "text": [
      "17\n",
      "(88842, 21)\n"
     ]
    }
   ],
   "source": [
    "print(processed['tic'].nunique())\n",
    "print(processed.shape)"
   ]
  },
  {
   "cell_type": "code",
   "execution_count": 43,
   "metadata": {},
   "outputs": [],
   "source": [
    "list_ticker = processed[\"tic\"].unique().tolist()\n",
    "list_date = list(pd.date_range(processed['date'].min(),processed['date'].max()).astype(str))\n",
    "combination = list(itertools.product(list_date,list_ticker))\n",
    "\n",
    "processed_full = pd.DataFrame(combination,columns=[\"date\",\"tic\"]).merge(processed,on=[\"date\",\"tic\"],how=\"left\")\n",
    "processed_full = processed_full[processed_full['date'].isin(processed['date'])]\n",
    "processed_full = processed_full.sort_values(['date','tic'])\n",
    "\n",
    "processed_full = processed_full.fillna(0)\n",
    "\n"
   ]
  },
  {
   "cell_type": "code",
   "execution_count": 44,
   "metadata": {},
   "outputs": [],
   "source": [
    "tic_count = processed_full['tic'].nunique()"
   ]
  },
  {
   "cell_type": "code",
   "execution_count": 45,
   "metadata": {},
   "outputs": [
    {
     "name": "stdout",
     "output_type": "stream",
     "text": [
      "(88842, 21)\n"
     ]
    },
    {
     "data": {
      "text/html": [
       "<div>\n",
       "<style scoped>\n",
       "    .dataframe tbody tr th:only-of-type {\n",
       "        vertical-align: middle;\n",
       "    }\n",
       "\n",
       "    .dataframe tbody tr th {\n",
       "        vertical-align: top;\n",
       "    }\n",
       "\n",
       "    .dataframe thead th {\n",
       "        text-align: right;\n",
       "    }\n",
       "</style>\n",
       "<table border=\"1\" class=\"dataframe\">\n",
       "  <thead>\n",
       "    <tr style=\"text-align: right;\">\n",
       "      <th></th>\n",
       "      <th>date</th>\n",
       "      <th>tic</th>\n",
       "      <th>open</th>\n",
       "      <th>high</th>\n",
       "      <th>low</th>\n",
       "      <th>close</th>\n",
       "      <th>volume</th>\n",
       "      <th>day</th>\n",
       "      <th>short_resistance</th>\n",
       "      <th>short_support</th>\n",
       "      <th>...</th>\n",
       "      <th>long_support</th>\n",
       "      <th>turbulence</th>\n",
       "      <th>macd</th>\n",
       "      <th>boll_ub</th>\n",
       "      <th>boll_lb</th>\n",
       "      <th>rsi_30</th>\n",
       "      <th>cci_30</th>\n",
       "      <th>dx_30</th>\n",
       "      <th>close_30_sma</th>\n",
       "      <th>close_60_sma</th>\n",
       "    </tr>\n",
       "  </thead>\n",
       "  <tbody>\n",
       "    <tr>\n",
       "      <th>0</th>\n",
       "      <td>2000-01-03</td>\n",
       "      <td>ASIANPAINT</td>\n",
       "      <td>370.00</td>\n",
       "      <td>390.00</td>\n",
       "      <td>370.00</td>\n",
       "      <td>381.65</td>\n",
       "      <td>3318.0</td>\n",
       "      <td>0.0</td>\n",
       "      <td>390.00</td>\n",
       "      <td>370.00</td>\n",
       "      <td>...</td>\n",
       "      <td>370.00</td>\n",
       "      <td>0.0</td>\n",
       "      <td>0.0</td>\n",
       "      <td>389.115433</td>\n",
       "      <td>378.084567</td>\n",
       "      <td>100.0</td>\n",
       "      <td>66.666667</td>\n",
       "      <td>100.0</td>\n",
       "      <td>381.65</td>\n",
       "      <td>381.65</td>\n",
       "    </tr>\n",
       "    <tr>\n",
       "      <th>1</th>\n",
       "      <td>2000-01-03</td>\n",
       "      <td>BPCL</td>\n",
       "      <td>405.00</td>\n",
       "      <td>407.00</td>\n",
       "      <td>393.05</td>\n",
       "      <td>399.25</td>\n",
       "      <td>8720.0</td>\n",
       "      <td>0.0</td>\n",
       "      <td>2650.00</td>\n",
       "      <td>393.05</td>\n",
       "      <td>...</td>\n",
       "      <td>393.05</td>\n",
       "      <td>0.0</td>\n",
       "      <td>0.0</td>\n",
       "      <td>389.115433</td>\n",
       "      <td>378.084567</td>\n",
       "      <td>100.0</td>\n",
       "      <td>66.666667</td>\n",
       "      <td>100.0</td>\n",
       "      <td>399.25</td>\n",
       "      <td>399.25</td>\n",
       "    </tr>\n",
       "    <tr>\n",
       "      <th>2</th>\n",
       "      <td>2000-01-03</td>\n",
       "      <td>CIPLA</td>\n",
       "      <td>1410.00</td>\n",
       "      <td>1457.35</td>\n",
       "      <td>1380.05</td>\n",
       "      <td>1457.35</td>\n",
       "      <td>21060.0</td>\n",
       "      <td>0.0</td>\n",
       "      <td>3766.00</td>\n",
       "      <td>1380.05</td>\n",
       "      <td>...</td>\n",
       "      <td>1380.05</td>\n",
       "      <td>0.0</td>\n",
       "      <td>0.0</td>\n",
       "      <td>389.115433</td>\n",
       "      <td>378.084567</td>\n",
       "      <td>100.0</td>\n",
       "      <td>66.666667</td>\n",
       "      <td>100.0</td>\n",
       "      <td>1457.35</td>\n",
       "      <td>1457.35</td>\n",
       "    </tr>\n",
       "    <tr>\n",
       "      <th>3</th>\n",
       "      <td>2000-01-03</td>\n",
       "      <td>DRREDDY</td>\n",
       "      <td>1505.00</td>\n",
       "      <td>1508.25</td>\n",
       "      <td>1505.00</td>\n",
       "      <td>1508.25</td>\n",
       "      <td>13280.0</td>\n",
       "      <td>0.0</td>\n",
       "      <td>1508.25</td>\n",
       "      <td>900.75</td>\n",
       "      <td>...</td>\n",
       "      <td>738.10</td>\n",
       "      <td>0.0</td>\n",
       "      <td>0.0</td>\n",
       "      <td>389.115433</td>\n",
       "      <td>378.084567</td>\n",
       "      <td>100.0</td>\n",
       "      <td>66.666667</td>\n",
       "      <td>100.0</td>\n",
       "      <td>1508.25</td>\n",
       "      <td>1508.25</td>\n",
       "    </tr>\n",
       "    <tr>\n",
       "      <th>4</th>\n",
       "      <td>2000-01-03</td>\n",
       "      <td>GRASIM</td>\n",
       "      <td>429.90</td>\n",
       "      <td>438.30</td>\n",
       "      <td>425.00</td>\n",
       "      <td>438.30</td>\n",
       "      <td>101578.0</td>\n",
       "      <td>0.0</td>\n",
       "      <td>438.30</td>\n",
       "      <td>128.50</td>\n",
       "      <td>...</td>\n",
       "      <td>127.45</td>\n",
       "      <td>0.0</td>\n",
       "      <td>0.0</td>\n",
       "      <td>389.115433</td>\n",
       "      <td>378.084567</td>\n",
       "      <td>100.0</td>\n",
       "      <td>66.666667</td>\n",
       "      <td>100.0</td>\n",
       "      <td>438.30</td>\n",
       "      <td>438.30</td>\n",
       "    </tr>\n",
       "    <tr>\n",
       "      <th>5</th>\n",
       "      <td>2000-01-03</td>\n",
       "      <td>HDFC</td>\n",
       "      <td>293.50</td>\n",
       "      <td>293.50</td>\n",
       "      <td>293.50</td>\n",
       "      <td>293.50</td>\n",
       "      <td>22744.0</td>\n",
       "      <td>0.0</td>\n",
       "      <td>1028.45</td>\n",
       "      <td>293.50</td>\n",
       "      <td>...</td>\n",
       "      <td>293.50</td>\n",
       "      <td>0.0</td>\n",
       "      <td>0.0</td>\n",
       "      <td>389.115433</td>\n",
       "      <td>378.084567</td>\n",
       "      <td>100.0</td>\n",
       "      <td>66.666667</td>\n",
       "      <td>100.0</td>\n",
       "      <td>293.50</td>\n",
       "      <td>293.50</td>\n",
       "    </tr>\n",
       "    <tr>\n",
       "      <th>6</th>\n",
       "      <td>2000-01-03</td>\n",
       "      <td>HDFCBANK</td>\n",
       "      <td>166.00</td>\n",
       "      <td>170.00</td>\n",
       "      <td>166.00</td>\n",
       "      <td>170.00</td>\n",
       "      <td>33259.0</td>\n",
       "      <td>0.0</td>\n",
       "      <td>2628.00</td>\n",
       "      <td>166.00</td>\n",
       "      <td>...</td>\n",
       "      <td>166.00</td>\n",
       "      <td>0.0</td>\n",
       "      <td>0.0</td>\n",
       "      <td>389.115433</td>\n",
       "      <td>378.084567</td>\n",
       "      <td>100.0</td>\n",
       "      <td>66.666667</td>\n",
       "      <td>100.0</td>\n",
       "      <td>170.00</td>\n",
       "      <td>170.00</td>\n",
       "    </tr>\n",
       "    <tr>\n",
       "      <th>7</th>\n",
       "      <td>2000-01-03</td>\n",
       "      <td>ICICIBANK</td>\n",
       "      <td>74.35</td>\n",
       "      <td>74.75</td>\n",
       "      <td>71.40</td>\n",
       "      <td>74.75</td>\n",
       "      <td>286260.0</td>\n",
       "      <td>0.0</td>\n",
       "      <td>1503.65</td>\n",
       "      <td>71.40</td>\n",
       "      <td>...</td>\n",
       "      <td>71.40</td>\n",
       "      <td>0.0</td>\n",
       "      <td>0.0</td>\n",
       "      <td>389.115433</td>\n",
       "      <td>378.084567</td>\n",
       "      <td>100.0</td>\n",
       "      <td>66.666667</td>\n",
       "      <td>100.0</td>\n",
       "      <td>74.75</td>\n",
       "      <td>74.75</td>\n",
       "    </tr>\n",
       "    <tr>\n",
       "      <th>8</th>\n",
       "      <td>2000-01-03</td>\n",
       "      <td>IOC</td>\n",
       "      <td>260.00</td>\n",
       "      <td>273.25</td>\n",
       "      <td>250.00</td>\n",
       "      <td>270.85</td>\n",
       "      <td>23700.0</td>\n",
       "      <td>0.0</td>\n",
       "      <td>958.85</td>\n",
       "      <td>250.00</td>\n",
       "      <td>...</td>\n",
       "      <td>250.00</td>\n",
       "      <td>0.0</td>\n",
       "      <td>0.0</td>\n",
       "      <td>389.115433</td>\n",
       "      <td>378.084567</td>\n",
       "      <td>100.0</td>\n",
       "      <td>66.666667</td>\n",
       "      <td>100.0</td>\n",
       "      <td>270.85</td>\n",
       "      <td>270.85</td>\n",
       "    </tr>\n",
       "    <tr>\n",
       "      <th>9</th>\n",
       "      <td>2000-01-03</td>\n",
       "      <td>ITC</td>\n",
       "      <td>694.00</td>\n",
       "      <td>708.50</td>\n",
       "      <td>675.00</td>\n",
       "      <td>708.50</td>\n",
       "      <td>562715.0</td>\n",
       "      <td>0.0</td>\n",
       "      <td>708.50</td>\n",
       "      <td>86.85</td>\n",
       "      <td>...</td>\n",
       "      <td>86.75</td>\n",
       "      <td>0.0</td>\n",
       "      <td>0.0</td>\n",
       "      <td>389.115433</td>\n",
       "      <td>378.084567</td>\n",
       "      <td>100.0</td>\n",
       "      <td>66.666667</td>\n",
       "      <td>100.0</td>\n",
       "      <td>708.50</td>\n",
       "      <td>708.50</td>\n",
       "    </tr>\n",
       "  </tbody>\n",
       "</table>\n",
       "<p>10 rows × 21 columns</p>\n",
       "</div>"
      ],
      "text/plain": [
       "         date         tic     open     high      low    close    volume  day  \\\n",
       "0  2000-01-03  ASIANPAINT   370.00   390.00   370.00   381.65    3318.0  0.0   \n",
       "1  2000-01-03        BPCL   405.00   407.00   393.05   399.25    8720.0  0.0   \n",
       "2  2000-01-03       CIPLA  1410.00  1457.35  1380.05  1457.35   21060.0  0.0   \n",
       "3  2000-01-03     DRREDDY  1505.00  1508.25  1505.00  1508.25   13280.0  0.0   \n",
       "4  2000-01-03      GRASIM   429.90   438.30   425.00   438.30  101578.0  0.0   \n",
       "5  2000-01-03        HDFC   293.50   293.50   293.50   293.50   22744.0  0.0   \n",
       "6  2000-01-03    HDFCBANK   166.00   170.00   166.00   170.00   33259.0  0.0   \n",
       "7  2000-01-03   ICICIBANK    74.35    74.75    71.40    74.75  286260.0  0.0   \n",
       "8  2000-01-03         IOC   260.00   273.25   250.00   270.85   23700.0  0.0   \n",
       "9  2000-01-03         ITC   694.00   708.50   675.00   708.50  562715.0  0.0   \n",
       "\n",
       "   short_resistance  short_support  ...  long_support  turbulence  macd  \\\n",
       "0            390.00         370.00  ...        370.00         0.0   0.0   \n",
       "1           2650.00         393.05  ...        393.05         0.0   0.0   \n",
       "2           3766.00        1380.05  ...       1380.05         0.0   0.0   \n",
       "3           1508.25         900.75  ...        738.10         0.0   0.0   \n",
       "4            438.30         128.50  ...        127.45         0.0   0.0   \n",
       "5           1028.45         293.50  ...        293.50         0.0   0.0   \n",
       "6           2628.00         166.00  ...        166.00         0.0   0.0   \n",
       "7           1503.65          71.40  ...         71.40         0.0   0.0   \n",
       "8            958.85         250.00  ...        250.00         0.0   0.0   \n",
       "9            708.50          86.85  ...         86.75         0.0   0.0   \n",
       "\n",
       "      boll_ub     boll_lb  rsi_30     cci_30  dx_30  close_30_sma  \\\n",
       "0  389.115433  378.084567   100.0  66.666667  100.0        381.65   \n",
       "1  389.115433  378.084567   100.0  66.666667  100.0        399.25   \n",
       "2  389.115433  378.084567   100.0  66.666667  100.0       1457.35   \n",
       "3  389.115433  378.084567   100.0  66.666667  100.0       1508.25   \n",
       "4  389.115433  378.084567   100.0  66.666667  100.0        438.30   \n",
       "5  389.115433  378.084567   100.0  66.666667  100.0        293.50   \n",
       "6  389.115433  378.084567   100.0  66.666667  100.0        170.00   \n",
       "7  389.115433  378.084567   100.0  66.666667  100.0         74.75   \n",
       "8  389.115433  378.084567   100.0  66.666667  100.0        270.85   \n",
       "9  389.115433  378.084567   100.0  66.666667  100.0        708.50   \n",
       "\n",
       "   close_60_sma  \n",
       "0        381.65  \n",
       "1        399.25  \n",
       "2       1457.35  \n",
       "3       1508.25  \n",
       "4        438.30  \n",
       "5        293.50  \n",
       "6        170.00  \n",
       "7         74.75  \n",
       "8        270.85  \n",
       "9        708.50  \n",
       "\n",
       "[10 rows x 21 columns]"
      ]
     },
     "execution_count": 45,
     "metadata": {},
     "output_type": "execute_result"
    }
   ],
   "source": [
    "print(processed_full.shape)\n",
    "processed_full.sort_values(['date','tic'],ignore_index=True).head(10)"
   ]
  },
  {
   "cell_type": "code",
   "execution_count": 46,
   "metadata": {},
   "outputs": [],
   "source": [
    "mvo_df = processed_full.sort_values(['date','tic'],ignore_index=True)[['date','tic','close']]"
   ]
  },
  {
   "cell_type": "code",
   "execution_count": 47,
   "metadata": {},
   "outputs": [
    {
     "name": "stdout",
     "output_type": "stream",
     "text": [
      "Minimum Date: 2000-01-03\n",
      "Maximum Date: 2020-12-31\n"
     ]
    }
   ],
   "source": [
    "# Get the minimum date value from the 'date' column\n",
    "min_date = processed_full['date'].min()\n",
    "print(f\"Minimum Date: {min_date}\")\n",
    "\n",
    "# Get the maximum date value from the 'date' column\n",
    "max_date = processed_full['date'].max()\n",
    "print(f\"Maximum Date: {max_date}\")\n",
    "\n"
   ]
  },
  {
   "cell_type": "code",
   "execution_count": 48,
   "metadata": {},
   "outputs": [
    {
     "name": "stdout",
     "output_type": "stream",
     "text": [
      "71995\n",
      "16847\n"
     ]
    }
   ],
   "source": [
    "TRAIN_START_DATE = '2000-01-03'\n",
    "TRAIN_END_DATE = '2016-12-31'\n",
    "TRADE_START_DATE = '2017-01-01'\n",
    "TRADE_END_DATE = '2021-04-30'\n",
    "train = data_split(processed_full, TRAIN_START_DATE,TRAIN_END_DATE)\n",
    "trade = data_split(processed_full, TRADE_START_DATE,TRADE_END_DATE)\n",
    "print(len(train))\n",
    "print(len(trade))"
   ]
  },
  {
   "cell_type": "code",
   "execution_count": 49,
   "metadata": {},
   "outputs": [
    {
     "name": "stdout",
     "output_type": "stream",
     "text": [
      "Stock Dimension: 17, State Space: 171\n"
     ]
    }
   ],
   "source": [
    "stock_dimension = len(train.tic.unique())\n",
    "# print(stock_dimension)\n",
    "\n",
    "state_space = 1 + 2*stock_dimension + len(INDICATORS)*stock_dimension\n",
    "print(f\"Stock Dimension: {stock_dimension}, State Space: {state_space}\")"
   ]
  },
  {
   "cell_type": "code",
   "execution_count": 50,
   "metadata": {},
   "outputs": [],
   "source": [
    "buy_cost_list = sell_cost_list = [0.0005] * stock_dimension\n",
    "num_stock_shares = [0] * stock_dimension\n",
    "\n",
    "env_kwargs = {\n",
    "    \"hmax\": 100,\n",
    "    \"initial_amount\": 2000000,\n",
    "    \"num_stock_shares\": num_stock_shares,\n",
    "    \"buy_cost_pct\": buy_cost_list,\n",
    "    \"sell_cost_pct\": sell_cost_list,\n",
    "    \"state_space\": state_space,\n",
    "    \"stock_dim\": stock_dimension,\n",
    "    \"tech_indicator_list\": INDICATORS,\n",
    "    \"action_space\": stock_dimension,\n",
    "    \"reward_scaling\": 1e-4\n",
    "    # \"cash_penalty_percentage\": 0.1,\n",
    "    # \"exponential_cash_average\": 0.04\n",
    "}\n",
    "\n",
    "\n",
    "e_train_gym = StockTradingEnv(df = train, **env_kwargs)"
   ]
  },
  {
   "cell_type": "code",
   "execution_count": 51,
   "metadata": {},
   "outputs": [
    {
     "name": "stdout",
     "output_type": "stream",
     "text": [
      "<class 'stable_baselines3.common.vec_env.dummy_vec_env.DummyVecEnv'>\n"
     ]
    }
   ],
   "source": [
    "env_train, _ = e_train_gym.get_sb_env()\n",
    "print(type(env_train))"
   ]
  },
  {
   "cell_type": "code",
   "execution_count": 52,
   "metadata": {},
   "outputs": [],
   "source": [
    "agent = DRLAgent(env = env_train)\n",
    "\n",
    "if_using_a2c = True\n",
    "if_using_ddpg = True\n",
    "if_using_ppo = True\n",
    "if_using_td3 = True\n",
    "if_using_sac = True"
   ]
  },
  {
   "cell_type": "code",
   "execution_count": 53,
   "metadata": {},
   "outputs": [
    {
     "name": "stdout",
     "output_type": "stream",
     "text": [
      "{'n_steps': 5, 'ent_coef': 0.01, 'learning_rate': 0.0007}\n",
      "Using cpu device\n",
      "Logging to results/NIFTY/a2c\n"
     ]
    }
   ],
   "source": [
    "agent = DRLAgent(env = env_train)\n",
    "model_a2c = agent.get_model(\"a2c\")\n",
    "\n",
    "if if_using_a2c:\n",
    "  # set up logger\n",
    "  tmp_path = RESULTS_DIR + '/NIFTY/a2c'\n",
    "  new_logger_a2c = configure(tmp_path, [\"stdout\", \"csv\", \"tensorboard\"])\n",
    "  # Set new logger\n",
    "  model_a2c.set_logger(new_logger_a2c)\n"
   ]
  },
  {
   "cell_type": "code",
   "execution_count": 54,
   "metadata": {},
   "outputs": [
    {
     "name": "stdout",
     "output_type": "stream",
     "text": [
      "--------------------------------------\n",
      "| time/                 |            |\n",
      "|    fps                | 173        |\n",
      "|    iterations         | 100        |\n",
      "|    time_elapsed       | 2          |\n",
      "|    total_timesteps    | 500        |\n",
      "| train/                |            |\n",
      "|    entropy_loss       | -24.2      |\n",
      "|    explained_variance | -1.62      |\n",
      "|    learning_rate      | 0.0007     |\n",
      "|    n_updates          | 99         |\n",
      "|    policy_loss        | -113       |\n",
      "|    reward             | -0.6464954 |\n",
      "|    std                | 1          |\n",
      "|    value_loss         | 22         |\n",
      "--------------------------------------\n",
      "--------------------------------------\n",
      "| time/                 |            |\n",
      "|    fps                | 181        |\n",
      "|    iterations         | 200        |\n",
      "|    time_elapsed       | 5          |\n",
      "|    total_timesteps    | 1000       |\n",
      "| train/                |            |\n",
      "|    entropy_loss       | -24.2      |\n",
      "|    explained_variance | 2.98e-07   |\n",
      "|    learning_rate      | 0.0007     |\n",
      "|    n_updates          | 199        |\n",
      "|    policy_loss        | 411        |\n",
      "|    reward             | 0.42663702 |\n",
      "|    std                | 1          |\n",
      "|    value_loss         | 344        |\n",
      "--------------------------------------\n"
     ]
    }
   ],
   "source": [
    "trained_a2c = agent.train_model(model=model_a2c, \n",
    "                             tb_log_name='a2c',\n",
    "                             total_timesteps=run_timesteps) if if_using_a2c else None"
   ]
  },
  {
   "cell_type": "code",
   "execution_count": 55,
   "metadata": {},
   "outputs": [
    {
     "name": "stdout",
     "output_type": "stream",
     "text": [
      "{'batch_size': 128, 'buffer_size': 50000, 'learning_rate': 0.001}\n",
      "Using cpu device\n",
      "Logging to results/NIFTY/ddpg\n"
     ]
    }
   ],
   "source": [
    "agent = DRLAgent(env = env_train)\n",
    "model_ddpg = agent.get_model(\"ddpg\")\n",
    "\n",
    "if if_using_ddpg:\n",
    "  # set up logger\n",
    "  tmp_path = RESULTS_DIR + '/NIFTY/ddpg'\n",
    "  new_logger_ddpg = configure(tmp_path, [\"stdout\", \"csv\", \"tensorboard\"])\n",
    "  # Set new logger\n",
    "  model_ddpg.set_logger(new_logger_ddpg)"
   ]
  },
  {
   "cell_type": "code",
   "execution_count": 56,
   "metadata": {},
   "outputs": [],
   "source": [
    "trained_ddpg = agent.train_model(model=model_ddpg,\n",
    "                             tb_log_name='ddpg',\n",
    "                             total_timesteps=run_timesteps) if if_using_ddpg else None"
   ]
  },
  {
   "cell_type": "code",
   "execution_count": 57,
   "metadata": {},
   "outputs": [
    {
     "name": "stdout",
     "output_type": "stream",
     "text": [
      "{'n_steps': 2048, 'ent_coef': 0.01, 'learning_rate': 0.00025, 'batch_size': 128}\n",
      "Using cpu device\n",
      "Logging to results/NIFTY/ppo\n"
     ]
    }
   ],
   "source": [
    "agent = DRLAgent(env = env_train)\n",
    "PPO_PARAMS = {\n",
    "    \"n_steps\": 2048,\n",
    "    \"ent_coef\": 0.01,\n",
    "    \"learning_rate\": 0.00025,\n",
    "    \"batch_size\": 128,\n",
    "}\n",
    "model_ppo = agent.get_model(\"ppo\",model_kwargs = PPO_PARAMS)\n",
    "\n",
    "if if_using_ppo:\n",
    "  # set up logger\n",
    "  tmp_path = RESULTS_DIR + '/NIFTY/ppo'\n",
    "  new_logger_ppo = configure(tmp_path, [\"stdout\", \"csv\", \"tensorboard\"])\n",
    "  # Set new logger\n",
    "  model_ppo.set_logger(new_logger_ppo)"
   ]
  },
  {
   "cell_type": "code",
   "execution_count": 58,
   "metadata": {},
   "outputs": [
    {
     "name": "stdout",
     "output_type": "stream",
     "text": [
      "----------------------------------\n",
      "| time/              |           |\n",
      "|    fps             | 224       |\n",
      "|    iterations      | 1         |\n",
      "|    time_elapsed    | 9         |\n",
      "|    total_timesteps | 2048      |\n",
      "| train/             |           |\n",
      "|    reward          | 0.3575209 |\n",
      "----------------------------------\n"
     ]
    }
   ],
   "source": [
    "trained_ppo = agent.train_model(model=model_ppo, \n",
    "                             tb_log_name='ppo',\n",
    "                             total_timesteps=run_timesteps) if if_using_ppo else None"
   ]
  },
  {
   "cell_type": "code",
   "execution_count": 59,
   "metadata": {},
   "outputs": [
    {
     "name": "stdout",
     "output_type": "stream",
     "text": [
      "{'batch_size': 100, 'buffer_size': 100000, 'learning_rate': 0.001}\n",
      "Using cpu device\n",
      "Logging to results/NIFTY/td3\n"
     ]
    }
   ],
   "source": [
    "agent = DRLAgent(env = env_train)\n",
    "TD3_PARAMS = {\"batch_size\": 100, \n",
    "              \"buffer_size\": 100000, \n",
    "              \"learning_rate\": 0.001}\n",
    "\n",
    "model_td3 = agent.get_model(\"td3\",model_kwargs = TD3_PARAMS)\n",
    "\n",
    "if if_using_td3:\n",
    "  # set up logger\n",
    "  tmp_path = RESULTS_DIR + '/NIFTY/td3'\n",
    "  new_logger_td3 = configure(tmp_path, [\"stdout\", \"csv\", \"tensorboard\"])\n",
    "  # Set new logger\n",
    "  model_td3.set_logger(new_logger_td3)"
   ]
  },
  {
   "cell_type": "code",
   "execution_count": 60,
   "metadata": {},
   "outputs": [],
   "source": [
    "trained_td3 = agent.train_model(model=model_td3, \n",
    "                             tb_log_name='td3',\n",
    "                             total_timesteps=run_timesteps) if if_using_td3 else None"
   ]
  },
  {
   "cell_type": "code",
   "execution_count": 61,
   "metadata": {},
   "outputs": [
    {
     "name": "stdout",
     "output_type": "stream",
     "text": [
      "{'batch_size': 128, 'buffer_size': 100000, 'learning_rate': 0.0001, 'learning_starts': 100, 'ent_coef': 'auto_0.1'}\n",
      "Using cpu device\n",
      "Logging to results/NIFTY/sac\n"
     ]
    }
   ],
   "source": [
    "agent = DRLAgent(env = env_train)\n",
    "SAC_PARAMS = {\n",
    "    \"batch_size\": 128,\n",
    "    \"buffer_size\": 100000,\n",
    "    \"learning_rate\": 0.0001,\n",
    "    \"learning_starts\": 100,\n",
    "    \"ent_coef\": \"auto_0.1\",\n",
    "}\n",
    "\n",
    "model_sac = agent.get_model(\"sac\",model_kwargs = SAC_PARAMS)\n",
    "\n",
    "if if_using_sac:\n",
    "  # set up logger\n",
    "  tmp_path = RESULTS_DIR + '/NIFTY/sac'\n",
    "  new_logger_sac = configure(tmp_path, [\"stdout\", \"csv\", \"tensorboard\"])\n",
    "  # Set new logger\n",
    "  model_sac.set_logger(new_logger_sac)"
   ]
  },
  {
   "cell_type": "code",
   "execution_count": 62,
   "metadata": {},
   "outputs": [],
   "source": [
    "trained_sac = agent.train_model(model=model_sac, \n",
    "                             tb_log_name='sac',\n",
    "                             total_timesteps=run_timesteps) if if_using_sac else None"
   ]
  },
  {
   "cell_type": "code",
   "execution_count": 63,
   "metadata": {},
   "outputs": [],
   "source": [
    "data_risk_indicator = processed_full[(processed_full.date<TRAIN_END_DATE) & (processed_full.date>=TRAIN_START_DATE)]\n",
    "insample_risk_indicator = data_risk_indicator.drop_duplicates(subset=['date'])"
   ]
  },
  {
   "cell_type": "code",
   "execution_count": 64,
   "metadata": {},
   "outputs": [
    {
     "data": {
      "text/plain": [
       "count    4235.000000\n",
       "mean       53.346704\n",
       "std       291.503570\n",
       "min         0.000000\n",
       "25%        16.337824\n",
       "50%        25.161542\n",
       "75%        38.963174\n",
       "max      7928.906406\n",
       "Name: turbulence, dtype: float64"
      ]
     },
     "execution_count": 64,
     "metadata": {},
     "output_type": "execute_result"
    }
   ],
   "source": [
    "insample_risk_indicator.turbulence.describe()"
   ]
  },
  {
   "cell_type": "code",
   "execution_count": 65,
   "metadata": {},
   "outputs": [
    {
     "name": "stderr",
     "output_type": "stream",
     "text": [
      "/var/folders/hw/72ljgfr56y93ypctd2ct3kjm0000gn/T/ipykernel_27697/455132124.py:8: UserWarning: FigureCanvasAgg is non-interactive, and thus cannot be shown\n",
      "  plt.show()\n"
     ]
    }
   ],
   "source": [
    "plt.figure(figsize=(10,6))\n",
    "filtered_turbulence = insample_risk_indicator.turbulence[insample_risk_indicator.turbulence < 600]\n",
    "sns.histplot(filtered_turbulence, bins=50, kde=True)\n",
    "plt.title('Distribution of turbulence of DJI top 30 stocks')\n",
    "plt.xlabel('Turbulence')\n",
    "plt.ylabel('Frequency')\n",
    "plt.savefig('turbulenceOFdse.png')\n",
    "plt.show()"
   ]
  },
  {
   "cell_type": "code",
   "execution_count": 66,
   "metadata": {},
   "outputs": [
    {
     "data": {
      "text/plain": [
       "1534.4867138173543"
      ]
     },
     "execution_count": 66,
     "metadata": {},
     "output_type": "execute_result"
    }
   ],
   "source": [
    "insample_risk_indicator.turbulence.quantile(0.996)"
   ]
  },
  {
   "cell_type": "code",
   "execution_count": 67,
   "metadata": {},
   "outputs": [],
   "source": [
    "e_trade_gym = StockTradingEnv(df = trade,  **env_kwargs)\n",
    "# env_trade, obs_trade = e_trade_gym.get_sb_env()"
   ]
  },
  {
   "cell_type": "code",
   "execution_count": 68,
   "metadata": {},
   "outputs": [
    {
     "data": {
      "text/html": [
       "<div>\n",
       "<style scoped>\n",
       "    .dataframe tbody tr th:only-of-type {\n",
       "        vertical-align: middle;\n",
       "    }\n",
       "\n",
       "    .dataframe tbody tr th {\n",
       "        vertical-align: top;\n",
       "    }\n",
       "\n",
       "    .dataframe thead th {\n",
       "        text-align: right;\n",
       "    }\n",
       "</style>\n",
       "<table border=\"1\" class=\"dataframe\">\n",
       "  <thead>\n",
       "    <tr style=\"text-align: right;\">\n",
       "      <th></th>\n",
       "      <th>date</th>\n",
       "      <th>tic</th>\n",
       "      <th>open</th>\n",
       "      <th>high</th>\n",
       "      <th>low</th>\n",
       "      <th>close</th>\n",
       "      <th>volume</th>\n",
       "      <th>day</th>\n",
       "      <th>short_resistance</th>\n",
       "      <th>short_support</th>\n",
       "      <th>...</th>\n",
       "      <th>long_support</th>\n",
       "      <th>turbulence</th>\n",
       "      <th>macd</th>\n",
       "      <th>boll_ub</th>\n",
       "      <th>boll_lb</th>\n",
       "      <th>rsi_30</th>\n",
       "      <th>cci_30</th>\n",
       "      <th>dx_30</th>\n",
       "      <th>close_30_sma</th>\n",
       "      <th>close_60_sma</th>\n",
       "    </tr>\n",
       "  </thead>\n",
       "  <tbody>\n",
       "    <tr>\n",
       "      <th>0</th>\n",
       "      <td>2017-01-02</td>\n",
       "      <td>ASIANPAINT</td>\n",
       "      <td>893.00</td>\n",
       "      <td>907.50</td>\n",
       "      <td>882.25</td>\n",
       "      <td>904.65</td>\n",
       "      <td>1031421.0</td>\n",
       "      <td>0.0</td>\n",
       "      <td>907.50</td>\n",
       "      <td>851.10</td>\n",
       "      <td>...</td>\n",
       "      <td>851.10</td>\n",
       "      <td>55.719672</td>\n",
       "      <td>-21.216385</td>\n",
       "      <td>947.577394</td>\n",
       "      <td>845.192606</td>\n",
       "      <td>41.790350</td>\n",
       "      <td>-33.058875</td>\n",
       "      <td>33.538192</td>\n",
       "      <td>910.175000</td>\n",
       "      <td>994.880833</td>\n",
       "    </tr>\n",
       "    <tr>\n",
       "      <th>0</th>\n",
       "      <td>2017-01-02</td>\n",
       "      <td>BPCL</td>\n",
       "      <td>640.00</td>\n",
       "      <td>644.75</td>\n",
       "      <td>637.40</td>\n",
       "      <td>640.50</td>\n",
       "      <td>1126768.0</td>\n",
       "      <td>0.0</td>\n",
       "      <td>645.00</td>\n",
       "      <td>600.40</td>\n",
       "      <td>...</td>\n",
       "      <td>598.15</td>\n",
       "      <td>55.719672</td>\n",
       "      <td>-1.220185</td>\n",
       "      <td>644.564313</td>\n",
       "      <td>596.795687</td>\n",
       "      <td>51.132587</td>\n",
       "      <td>88.862807</td>\n",
       "      <td>4.904332</td>\n",
       "      <td>624.873333</td>\n",
       "      <td>642.331667</td>\n",
       "    </tr>\n",
       "    <tr>\n",
       "      <th>0</th>\n",
       "      <td>2017-01-02</td>\n",
       "      <td>CIPLA</td>\n",
       "      <td>569.75</td>\n",
       "      <td>572.45</td>\n",
       "      <td>563.25</td>\n",
       "      <td>566.00</td>\n",
       "      <td>520139.0</td>\n",
       "      <td>0.0</td>\n",
       "      <td>589.15</td>\n",
       "      <td>548.10</td>\n",
       "      <td>...</td>\n",
       "      <td>486.55</td>\n",
       "      <td>55.719672</td>\n",
       "      <td>-0.275021</td>\n",
       "      <td>584.118765</td>\n",
       "      <td>553.656235</td>\n",
       "      <td>50.010061</td>\n",
       "      <td>-6.201449</td>\n",
       "      <td>7.190044</td>\n",
       "      <td>567.281667</td>\n",
       "      <td>567.437500</td>\n",
       "    </tr>\n",
       "    <tr>\n",
       "      <th>0</th>\n",
       "      <td>2017-01-02</td>\n",
       "      <td>DRREDDY</td>\n",
       "      <td>3066.00</td>\n",
       "      <td>3117.00</td>\n",
       "      <td>3066.00</td>\n",
       "      <td>3083.40</td>\n",
       "      <td>95526.0</td>\n",
       "      <td>0.0</td>\n",
       "      <td>3117.00</td>\n",
       "      <td>2979.10</td>\n",
       "      <td>...</td>\n",
       "      <td>2960.05</td>\n",
       "      <td>55.719672</td>\n",
       "      <td>-31.931930</td>\n",
       "      <td>3235.072214</td>\n",
       "      <td>2956.847786</td>\n",
       "      <td>47.162338</td>\n",
       "      <td>-37.938071</td>\n",
       "      <td>0.750150</td>\n",
       "      <td>3119.835000</td>\n",
       "      <td>3146.902500</td>\n",
       "    </tr>\n",
       "    <tr>\n",
       "      <th>0</th>\n",
       "      <td>2017-01-02</td>\n",
       "      <td>GRASIM</td>\n",
       "      <td>868.00</td>\n",
       "      <td>876.00</td>\n",
       "      <td>859.95</td>\n",
       "      <td>873.30</td>\n",
       "      <td>322725.0</td>\n",
       "      <td>0.0</td>\n",
       "      <td>876.00</td>\n",
       "      <td>800.05</td>\n",
       "      <td>...</td>\n",
       "      <td>781.90</td>\n",
       "      <td>55.719672</td>\n",
       "      <td>-44.306572</td>\n",
       "      <td>896.144256</td>\n",
       "      <td>791.980744</td>\n",
       "      <td>26.000346</td>\n",
       "      <td>78.027855</td>\n",
       "      <td>55.695085</td>\n",
       "      <td>843.658333</td>\n",
       "      <td>889.361667</td>\n",
       "    </tr>\n",
       "  </tbody>\n",
       "</table>\n",
       "<p>5 rows × 21 columns</p>\n",
       "</div>"
      ],
      "text/plain": [
       "         date         tic     open     high      low    close     volume  day  \\\n",
       "0  2017-01-02  ASIANPAINT   893.00   907.50   882.25   904.65  1031421.0  0.0   \n",
       "0  2017-01-02        BPCL   640.00   644.75   637.40   640.50  1126768.0  0.0   \n",
       "0  2017-01-02       CIPLA   569.75   572.45   563.25   566.00   520139.0  0.0   \n",
       "0  2017-01-02     DRREDDY  3066.00  3117.00  3066.00  3083.40    95526.0  0.0   \n",
       "0  2017-01-02      GRASIM   868.00   876.00   859.95   873.30   322725.0  0.0   \n",
       "\n",
       "   short_resistance  short_support  ...  long_support  turbulence       macd  \\\n",
       "0            907.50         851.10  ...        851.10   55.719672 -21.216385   \n",
       "0            645.00         600.40  ...        598.15   55.719672  -1.220185   \n",
       "0            589.15         548.10  ...        486.55   55.719672  -0.275021   \n",
       "0           3117.00        2979.10  ...       2960.05   55.719672 -31.931930   \n",
       "0            876.00         800.05  ...        781.90   55.719672 -44.306572   \n",
       "\n",
       "       boll_ub      boll_lb     rsi_30     cci_30      dx_30  close_30_sma  \\\n",
       "0   947.577394   845.192606  41.790350 -33.058875  33.538192    910.175000   \n",
       "0   644.564313   596.795687  51.132587  88.862807   4.904332    624.873333   \n",
       "0   584.118765   553.656235  50.010061  -6.201449   7.190044    567.281667   \n",
       "0  3235.072214  2956.847786  47.162338 -37.938071   0.750150   3119.835000   \n",
       "0   896.144256   791.980744  26.000346  78.027855  55.695085    843.658333   \n",
       "\n",
       "   close_60_sma  \n",
       "0    994.880833  \n",
       "0    642.331667  \n",
       "0    567.437500  \n",
       "0   3146.902500  \n",
       "0    889.361667  \n",
       "\n",
       "[5 rows x 21 columns]"
      ]
     },
     "execution_count": 68,
     "metadata": {},
     "output_type": "execute_result"
    }
   ],
   "source": [
    "trade.head()"
   ]
  },
  {
   "cell_type": "code",
   "execution_count": 69,
   "metadata": {},
   "outputs": [
    {
     "name": "stdout",
     "output_type": "stream",
     "text": [
      "hit end!\n"
     ]
    }
   ],
   "source": [
    "trained_moedl = trained_a2c\n",
    "df_account_value_a2c, df_actions_a2c = DRLAgent.DRL_prediction(\n",
    "    model=trained_moedl,\n",
    "    environment = e_trade_gym)\n",
    "\n",
    "# Save the actions DataFrame to a CSV file\n",
    "df_actions_a2c.to_csv(\"actions_a2c.csv\", index=True)  # Include index for date information\n"
   ]
  },
  {
   "cell_type": "code",
   "execution_count": 70,
   "metadata": {},
   "outputs": [
    {
     "name": "stdout",
     "output_type": "stream",
     "text": [
      "hit end!\n"
     ]
    }
   ],
   "source": [
    "trained_moedl = trained_ddpg\n",
    "df_account_value_ddpg, df_actions_ddpg = DRLAgent.DRL_prediction(\n",
    "    model=trained_moedl,\n",
    "    environment = e_trade_gym)\n",
    "df_actions_ddpg.to_csv(\"actions_ddpg.csv\", index=True)  # Include index for date information\n",
    "\n"
   ]
  },
  {
   "cell_type": "code",
   "execution_count": 71,
   "metadata": {},
   "outputs": [
    {
     "name": "stdout",
     "output_type": "stream",
     "text": [
      "hit end!\n"
     ]
    }
   ],
   "source": [
    "trained_moedl = trained_ppo\n",
    "df_account_value_ppo, df_actions_ppo = DRLAgent.DRL_prediction(\n",
    "    model=trained_moedl,\n",
    "    environment = e_trade_gym)\n",
    "df_actions_ppo.to_csv(\"actions_ppo.csv\", index=True)  # Include index for date information\n"
   ]
  },
  {
   "cell_type": "code",
   "execution_count": 72,
   "metadata": {},
   "outputs": [
    {
     "name": "stdout",
     "output_type": "stream",
     "text": [
      "hit end!\n"
     ]
    }
   ],
   "source": [
    "trained_moedl = trained_td3\n",
    "df_account_value_td3, df_actions_td3 = DRLAgent.DRL_prediction(\n",
    "    model=trained_moedl,\n",
    "    environment = e_trade_gym)\n",
    "df_actions_td3.to_csv(\"actions_td3.csv\", index=True)  # Include index for date information\n"
   ]
  },
  {
   "cell_type": "code",
   "execution_count": 73,
   "metadata": {},
   "outputs": [
    {
     "name": "stdout",
     "output_type": "stream",
     "text": [
      "hit end!\n"
     ]
    }
   ],
   "source": [
    "trained_moedl = trained_sac\n",
    "df_account_value_sac, df_actions_sac = DRLAgent.DRL_prediction(\n",
    "    model=trained_moedl,\n",
    "    environment = e_trade_gym)\n",
    "df_actions_sac.to_csv(\"actions_sac.csv\", index=True)  # Include index for date information\n"
   ]
  },
  {
   "cell_type": "code",
   "execution_count": 74,
   "metadata": {},
   "outputs": [
    {
     "name": "stdout",
     "output_type": "stream",
     "text": [
      "A2C: 3277536.2684250018\n",
      "DDPG: 2393659.1549\n",
      "PPO: 2325606.92915\n",
      "TD3: 2572717.454675\n",
      "SAC: 2312632.7798250006\n"
     ]
    }
   ],
   "source": [
    "# print max of each model\n",
    "print('A2C:', df_account_value_a2c['account_value'].max())\n",
    "print('DDPG:', df_account_value_ddpg['account_value'].max())\n",
    "print('PPO:', df_account_value_ppo['account_value'].max())\n",
    "print('TD3:', df_account_value_td3['account_value'].max())\n",
    "print('SAC:', df_account_value_sac['account_value'].max())"
   ]
  },
  {
   "cell_type": "code",
   "execution_count": 75,
   "metadata": {},
   "outputs": [],
   "source": [
    "import pickle\n",
    "# save account value and action\n",
    "\n",
    "# A2C\n",
    "root_dir = 'account_values_actions_cashloss'\n",
    "sub_dir = 'orginal'\n",
    "if not os.path.exists(root_dir):\n",
    "    os.mkdir(root_dir)\n",
    "if not os.path.exists(os.path.join(root_dir, sub_dir)):\n",
    "    os.mkdir(os.path.join(root_dir, sub_dir))\n",
    "\n",
    "root_dir = os.path.join(root_dir, sub_dir)\n",
    "file_path = os.path.join(root_dir, 'df_account_value_a2c.pkl')\n",
    "with open(file_path, 'wb') as f:\n",
    "    pickle.dump(df_account_value_a2c, f)\n",
    "file_path = os.path.join(root_dir, 'df_actions_a2c.pkl')\n",
    "with open(file_path, 'wb') as f:\n",
    "    pickle.dump(df_actions_a2c, f)\n",
    "\n",
    "# DDPG\n",
    "file_path = os.path.join(root_dir, 'df_account_value_ddpg.pkl')\n",
    "with open(file_path, 'wb') as f:\n",
    "    pickle.dump(df_account_value_ddpg, f)\n",
    "\n",
    "file_path = os.path.join(root_dir, 'df_actions_ddpg.pkl')\n",
    "with open(file_path, 'wb') as f:\n",
    "    pickle.dump(df_actions_ddpg, f)\n",
    "\n",
    "# PPO\n",
    "file_path = os.path.join(root_dir, 'df_account_value_ppo.pkl')\n",
    "with open(file_path, 'wb') as f:\n",
    "    pickle.dump(df_account_value_ppo, f)\n",
    "\n",
    "file_path = os.path.join(root_dir, 'df_actions_ppo.pkl')\n",
    "with open(file_path, 'wb') as f:\n",
    "    pickle.dump(df_actions_ppo, f)\n",
    "\n",
    "# TD3\n",
    "file_path = os.path.join(root_dir, 'df_account_value_td3.pkl')\n",
    "with open(file_path, 'wb') as f:\n",
    "    pickle.dump(df_account_value_td3, f)\n",
    "\n",
    "file_path = os.path.join(root_dir, 'df_actions_td3.pkl')\n",
    "with open(file_path, 'wb') as f:\n",
    "    pickle.dump(df_actions_td3, f)\n",
    "\n",
    "# SAC\n",
    "file_path = os.path.join(root_dir, 'df_account_value_sac.pkl')\n",
    "with open(file_path, 'wb') as f:\n",
    "    pickle.dump(df_account_value_sac, f)\n",
    "\n",
    "file_path = os.path.join(root_dir, 'df_actions_sac.pkl')\n",
    "with open(file_path, 'wb') as f:\n",
    "    pickle.dump(df_actions_sac, f)\n",
    "\n"
   ]
  },
  {
   "cell_type": "code",
   "execution_count": 76,
   "metadata": {},
   "outputs": [],
   "source": [
    "fst = mvo_df\n",
    "fst = fst.iloc[0*stock_dimension:0*stock_dimension+stock_dimension, :]\n",
    "tic = fst['tic'].tolist()\n",
    "\n",
    "mvo = pd.DataFrame()\n",
    "\n",
    "for k in range(len(tic)):\n",
    "  mvo[tic[k]] = 0\n",
    "\n",
    "for i in range(mvo_df.shape[0]//stock_dimension):\n",
    "  n = mvo_df\n",
    "  n = n.iloc[i*stock_dimension:i*stock_dimension+stock_dimension, :]\n",
    "  date = n['date'][i*stock_dimension]\n",
    "  mvo.loc[date] = n['close'].tolist()"
   ]
  },
  {
   "cell_type": "code",
   "execution_count": 77,
   "metadata": {},
   "outputs": [
    {
     "data": {
      "text/plain": [
       "5226"
      ]
     },
     "execution_count": 77,
     "metadata": {},
     "output_type": "execute_result"
    }
   ],
   "source": [
    "mvo.shape[0]"
   ]
  },
  {
   "cell_type": "code",
   "execution_count": 78,
   "metadata": {},
   "outputs": [],
   "source": [
    "from scipy import optimize \n",
    "from scipy.optimize import linprog\n",
    "\n",
    "#function obtains maximal return portfolio using linear programming\n",
    "\n",
    "def MaximizeReturns(MeanReturns, PortfolioSize):\n",
    "    \n",
    "  #dependencies\n",
    "  \n",
    "    \n",
    "  c = (np.multiply(-1, MeanReturns))\n",
    "  A = np.ones([PortfolioSize,1]).T\n",
    "  b=[1]\n",
    "  res = linprog(c, A_ub = A, b_ub = b, bounds = (0,1), method = 'simplex') \n",
    "    \n",
    "  return res\n",
    "\n",
    "def MinimizeRisk(CovarReturns, PortfolioSize):\n",
    "    \n",
    "  def f(x, CovarReturns):\n",
    "    func = np.matmul(np.matmul(x, CovarReturns), x.T) \n",
    "    return func\n",
    "\n",
    "  def constraintEq(x):\n",
    "    A=np.ones(x.shape)\n",
    "    b=1\n",
    "    constraintVal = np.matmul(A,x.T)-b \n",
    "    return constraintVal\n",
    "    \n",
    "  xinit=np.repeat(0.1, PortfolioSize)\n",
    "  cons = ({'type': 'eq', 'fun':constraintEq})\n",
    "  lb = 0\n",
    "  ub = 1\n",
    "  bnds = tuple([(lb,ub) for x in xinit])\n",
    "\n",
    "  opt = optimize.minimize (f, x0 = xinit, args = (CovarReturns),  bounds = bnds, \\\n",
    "                             constraints = cons, tol = 10**-3)\n",
    "    \n",
    "  return opt\n",
    "\n",
    "def MinimizeRiskConstr(MeanReturns, CovarReturns, PortfolioSize, R):\n",
    "    \n",
    "  def  f(x,CovarReturns):\n",
    "         \n",
    "    func = np.matmul(np.matmul(x,CovarReturns ), x.T)\n",
    "    return func\n",
    "\n",
    "  def constraintEq(x):\n",
    "    AEq=np.ones(x.shape)\n",
    "    bEq=1\n",
    "    EqconstraintVal = np.matmul(AEq,x.T)-bEq \n",
    "    return EqconstraintVal\n",
    "    \n",
    "  def constraintIneq(x, MeanReturns, R):\n",
    "    AIneq = np.array(MeanReturns)\n",
    "    bIneq = R\n",
    "    IneqconstraintVal = np.matmul(AIneq,x.T) - bIneq\n",
    "    return IneqconstraintVal\n",
    "    \n",
    "\n",
    "  xinit=np.repeat(0.1, PortfolioSize)\n",
    "  cons = ({'type': 'eq', 'fun':constraintEq},\n",
    "          {'type':'ineq', 'fun':constraintIneq, 'args':(MeanReturns,R) })\n",
    "  lb = 0\n",
    "  ub = 1\n",
    "  bnds = tuple([(lb,ub) for x in xinit])\n",
    "\n",
    "  opt = optimize.minimize (f, args = (CovarReturns), method ='trust-constr',  \\\n",
    "                x0 = xinit,   bounds = bnds, constraints = cons, tol = 10**-3)\n",
    "    \n",
    "  return opt"
   ]
  },
  {
   "cell_type": "code",
   "execution_count": 79,
   "metadata": {},
   "outputs": [],
   "source": [
    "def StockReturnsComputing(StockPrice, Rows, Columns): \n",
    "  import numpy as np \n",
    "  StockReturn = np.zeros([Rows-1, Columns]) \n",
    "  for j in range(Columns):        # j: Assets \n",
    "    for i in range(Rows-1):     # i: Daily Prices \n",
    "      StockReturn[i,j]=((StockPrice[i+1, j]-StockPrice[i,j])/StockPrice[i,j])* 100 \n",
    "      \n",
    "  return StockReturn"
   ]
  },
  {
   "cell_type": "code",
   "execution_count": 80,
   "metadata": {},
   "outputs": [
    {
     "data": {
      "text/plain": [
       "array([[ 904.65,  640.5 ,  566.  , ...,  634.05,  333.95,  471.55],\n",
       "       [ 896.6 ,  650.55,  573.65, ...,  636.1 ,  348.15,  467.  ],\n",
       "       [ 906.6 ,  655.45,  568.25, ...,  637.35,  359.65,  475.6 ],\n",
       "       ...,\n",
       "       [2696.8 ,  381.5 ,  827.95, ...,  590.6 , 1540.1 ,  385.  ],\n",
       "       [2734.4 ,  382.85,  823.8 , ...,  584.  , 1552.6 ,  384.4 ],\n",
       "       [2764.5 ,  381.1 ,  819.95, ...,  592.35, 1567.15,  386.25]])"
      ]
     },
     "execution_count": 80,
     "metadata": {},
     "output_type": "execute_result"
    }
   ],
   "source": [
    "# Obtain optimal portfolio sets that maximize return and minimize risk\n",
    "\n",
    "#Dependencies\n",
    "import numpy as np\n",
    "import pandas as pd\n",
    "\n",
    "\n",
    "#input k-portfolio 1 dataset comprising 15 stocks\n",
    "# StockFileName = './DJIA_Apr112014_Apr112019_kpf1.csv'\n",
    "\n",
    "Rows = mvo.shape[0] #number of rows\n",
    "Columns = stock_dimension  #excluding date\n",
    "portfolioSize = stock_dimension #set portfolio size\n",
    "\n",
    "#read stock prices in a dataframe\n",
    "# df = pd.read_csv(StockFileName,  nrows= Rows)\n",
    "\n",
    "#extract asset labels\n",
    "# assetLabels = df.columns[1:Columns+1].tolist()\n",
    "# print(assetLabels)\n",
    "\n",
    "#extract asset prices\n",
    "# StockData = df.iloc[0:, 1:]\n",
    "StockData = mvo[mvo.index <= TRAIN_END_DATE]\n",
    "TradeData = mvo[mvo.index > TRADE_START_DATE]\n",
    "# df.head()\n",
    "TradeData.to_numpy()\n"
   ]
  },
  {
   "cell_type": "code",
   "execution_count": 81,
   "metadata": {},
   "outputs": [
    {
     "name": "stdout",
     "output_type": "stream",
     "text": [
      "Mean returns of assets in k-portfolio 1\n",
      " [0.073 0.061 0.025 0.049 0.06  0.085 0.087 0.09  0.043 0.041 0.065 0.043\n",
      " 0.064 0.061 0.043 0.109 0.017]\n",
      "Variance-Covariance matrix of returns\n",
      " [[ 5.577  0.883  0.49   0.42   0.733  0.762  0.821  0.986  0.841  0.594\n",
      "   0.77   0.839  0.817  0.84   0.469  0.966  0.73 ]\n",
      " [ 0.883  9.012  1.175  0.803  1.586  1.087  1.135  1.867  3.642  1.065\n",
      "   1.739  2.057  1.724  2.233  1.257  1.666  1.1  ]\n",
      " [ 0.49   1.175  6.614  1.548  1.25   1.145  1.194  1.596  1.239  1.149\n",
      "   1.543  1.178  1.441  1.338  1.739  1.386  1.614]\n",
      " [ 0.42   0.803  1.548  5.888  0.872  0.937  1.103  1.395  0.909  1.005\n",
      "   1.433  1.012  1.194  1.2    1.58   1.367  1.583]\n",
      " [ 0.733  1.586  1.25   0.872  6.465  1.546  1.523  2.176  1.312  1.322\n",
      "   2.034  1.71   1.87   2.143  1.072  1.733  1.749]\n",
      " [ 0.762  1.087  1.145  0.937  1.546  7.538  2.197  2.786  1.104  1.219\n",
      "   1.956  1.63   2.067  2.2    0.876  1.771  1.603]\n",
      " [ 0.821  1.135  1.194  1.103  1.523  2.197  5.948  3.142  1.213  1.272\n",
      "   1.88   1.749  1.912  2.187  1.027  1.621  1.984]\n",
      " [ 0.986  1.867  1.596  1.395  2.176  2.786  3.142  9.854  1.805  1.445\n",
      "   2.782  2.569  2.883  3.627  1.427  2.57   2.818]\n",
      " [ 0.841  3.642  1.239  0.909  1.312  1.104  1.213  1.805  7.068  0.965\n",
      "   1.521  2.335  1.727  2.053  1.092  1.688  1.295]\n",
      " [ 0.594  1.065  1.149  1.005  1.322  1.219  1.272  1.445  0.965  6.846\n",
      "   1.466  1.186  1.528  1.417  0.953  1.456  1.625]\n",
      " [ 0.77   1.739  1.543  1.433  2.034  1.956  1.88   2.782  1.521  1.466\n",
      "   7.915  2.049  2.382  2.695  1.579  2.411  2.558]\n",
      " [ 0.839  2.057  1.178  1.012  1.71   1.63   1.749  2.569  2.335  1.186\n",
      "   2.049  7.273  2.167  2.324  1.271  2.118  1.708]\n",
      " [ 0.817  1.724  1.441  1.194  1.87   2.067  1.912  2.883  1.727  1.528\n",
      "   2.382  2.167  5.588  2.706  1.285  2.09   2.386]\n",
      " [ 0.84   2.233  1.338  1.2    2.143  2.2    2.187  3.627  2.053  1.417\n",
      "   2.695  2.324  2.706  7.518  1.36   2.455  2.156]\n",
      " [ 0.469  1.257  1.739  1.58   1.072  0.876  1.027  1.427  1.092  0.953\n",
      "   1.579  1.271  1.285  1.36   9.484  1.389  1.612]\n",
      " [ 0.966  1.666  1.386  1.367  1.733  1.771  1.621  2.57   1.688  1.456\n",
      "   2.411  2.118  2.09   2.455  1.389 11.233  1.859]\n",
      " [ 0.73   1.1    1.614  1.583  1.749  1.603  1.984  2.818  1.295  1.625\n",
      "   2.558  1.708  2.386  2.156  1.612  1.859 10.232]]\n"
     ]
    }
   ],
   "source": [
    "#compute asset returns\n",
    "arStockPrices = np.asarray(StockData)\n",
    "[Rows, Cols]=arStockPrices.shape\n",
    "arReturns = StockReturnsComputing(arStockPrices, Rows, Cols)\n",
    "\n",
    "\n",
    "#compute mean returns and variance covariance matrix of returns\n",
    "meanReturns = np.mean(arReturns, axis = 0)\n",
    "covReturns = np.cov(arReturns, rowvar=False)\n",
    " \n",
    "#set precision for printing results\n",
    "np.set_printoptions(precision=3, suppress = True)\n",
    "\n",
    "#display mean returns and variance-covariance matrix of returns\n",
    "print('Mean returns of assets in k-portfolio 1\\n', meanReturns)\n",
    "print('Variance-Covariance matrix of returns\\n', covReturns)\n"
   ]
  },
  {
   "cell_type": "code",
   "execution_count": 82,
   "metadata": {},
   "outputs": [
    {
     "data": {
      "text/plain": [
       "array([400000., 125540.,      0., 173740., 117380., 274340., 400000.,\n",
       "        72300.,      0.,   8840.,  22960.,      0.,  56900.,      0.,\n",
       "        44540., 303480.,      0.])"
      ]
     },
     "execution_count": 82,
     "metadata": {},
     "output_type": "execute_result"
    }
   ],
   "source": [
    "from pypfopt.efficient_frontier import EfficientFrontier\n",
    "\n",
    "ef_mean = EfficientFrontier(meanReturns, covReturns, weight_bounds=(0, 0.2))\n",
    "raw_weights_mean = ef_mean.max_sharpe()\n",
    "cleaned_weights_mean = ef_mean.clean_weights()\n",
    "mvo_weights = np.array([2000000 * cleaned_weights_mean[i] for i in range(stock_dimension)])\n",
    "mvo_weights"
   ]
  },
  {
   "cell_type": "code",
   "execution_count": 83,
   "metadata": {},
   "outputs": [
    {
     "data": {
      "text/html": [
       "<div>\n",
       "<style scoped>\n",
       "    .dataframe tbody tr th:only-of-type {\n",
       "        vertical-align: middle;\n",
       "    }\n",
       "\n",
       "    .dataframe tbody tr th {\n",
       "        vertical-align: top;\n",
       "    }\n",
       "\n",
       "    .dataframe thead th {\n",
       "        text-align: right;\n",
       "    }\n",
       "</style>\n",
       "<table border=\"1\" class=\"dataframe\">\n",
       "  <thead>\n",
       "    <tr style=\"text-align: right;\">\n",
       "      <th></th>\n",
       "      <th>ASIANPAINT</th>\n",
       "      <th>BPCL</th>\n",
       "      <th>CIPLA</th>\n",
       "      <th>DRREDDY</th>\n",
       "      <th>GRASIM</th>\n",
       "      <th>HDFC</th>\n",
       "      <th>HDFCBANK</th>\n",
       "      <th>ICICIBANK</th>\n",
       "      <th>IOC</th>\n",
       "      <th>ITC</th>\n",
       "      <th>M&amp;M</th>\n",
       "      <th>ONGC</th>\n",
       "      <th>RELIANCE</th>\n",
       "      <th>SBIN</th>\n",
       "      <th>SUNPHARMA</th>\n",
       "      <th>TITAN</th>\n",
       "      <th>WIPRO</th>\n",
       "    </tr>\n",
       "  </thead>\n",
       "  <tbody>\n",
       "    <tr>\n",
       "      <th>2016-12-30</th>\n",
       "      <td>891.05</td>\n",
       "      <td>635.5</td>\n",
       "      <td>568.8</td>\n",
       "      <td>3060.4</td>\n",
       "      <td>862.75</td>\n",
       "      <td>1262.6</td>\n",
       "      <td>1206.2</td>\n",
       "      <td>255.3</td>\n",
       "      <td>325.05</td>\n",
       "      <td>241.65</td>\n",
       "      <td>1184.7</td>\n",
       "      <td>191.35</td>\n",
       "      <td>1082.4</td>\n",
       "      <td>250.2</td>\n",
       "      <td>630.0</td>\n",
       "      <td>326.8</td>\n",
       "      <td>474.45</td>\n",
       "    </tr>\n",
       "  </tbody>\n",
       "</table>\n",
       "</div>"
      ],
      "text/plain": [
       "            ASIANPAINT   BPCL  CIPLA  DRREDDY  GRASIM    HDFC  HDFCBANK  \\\n",
       "2016-12-30      891.05  635.5  568.8   3060.4  862.75  1262.6    1206.2   \n",
       "\n",
       "            ICICIBANK     IOC     ITC     M&M    ONGC  RELIANCE   SBIN  \\\n",
       "2016-12-30      255.3  325.05  241.65  1184.7  191.35    1082.4  250.2   \n",
       "\n",
       "            SUNPHARMA  TITAN   WIPRO  \n",
       "2016-12-30      630.0  326.8  474.45  "
      ]
     },
     "execution_count": 83,
     "metadata": {},
     "output_type": "execute_result"
    }
   ],
   "source": [
    "StockData.tail(1)"
   ]
  },
  {
   "cell_type": "code",
   "execution_count": 84,
   "metadata": {},
   "outputs": [
    {
     "data": {
      "text/plain": [
       "array([448.909, 197.545,   0.   ,  56.77 , 136.053, 217.282, 331.62 ,\n",
       "       283.196,   0.   ,  36.582,  19.38 ,   0.   ,  52.568,   0.   ,\n",
       "        70.698, 928.641,   0.   ])"
      ]
     },
     "execution_count": 84,
     "metadata": {},
     "output_type": "execute_result"
    }
   ],
   "source": [
    "LastPrice = np.array([1/p for p in StockData.tail(1).to_numpy()[0]])\n",
    "Initial_Portfolio = np.multiply(mvo_weights, LastPrice)\n",
    "Initial_Portfolio"
   ]
  },
  {
   "cell_type": "code",
   "execution_count": 85,
   "metadata": {},
   "outputs": [
    {
     "data": {
      "text/html": [
       "<div>\n",
       "<style scoped>\n",
       "    .dataframe tbody tr th:only-of-type {\n",
       "        vertical-align: middle;\n",
       "    }\n",
       "\n",
       "    .dataframe tbody tr th {\n",
       "        vertical-align: top;\n",
       "    }\n",
       "\n",
       "    .dataframe thead th {\n",
       "        text-align: right;\n",
       "    }\n",
       "</style>\n",
       "<table border=\"1\" class=\"dataframe\">\n",
       "  <thead>\n",
       "    <tr style=\"text-align: right;\">\n",
       "      <th></th>\n",
       "      <th>Mean Var</th>\n",
       "    </tr>\n",
       "  </thead>\n",
       "  <tbody>\n",
       "    <tr>\n",
       "      <th>2017-01-02</th>\n",
       "      <td>2.003918e+06</td>\n",
       "    </tr>\n",
       "    <tr>\n",
       "      <th>2017-01-03</th>\n",
       "      <td>2.012231e+06</td>\n",
       "    </tr>\n",
       "    <tr>\n",
       "      <th>2017-01-04</th>\n",
       "      <td>2.025332e+06</td>\n",
       "    </tr>\n",
       "    <tr>\n",
       "      <th>2017-01-05</th>\n",
       "      <td>2.038291e+06</td>\n",
       "    </tr>\n",
       "    <tr>\n",
       "      <th>2017-01-06</th>\n",
       "      <td>2.043037e+06</td>\n",
       "    </tr>\n",
       "    <tr>\n",
       "      <th>...</th>\n",
       "      <td>...</td>\n",
       "    </tr>\n",
       "    <tr>\n",
       "      <th>2020-12-24</th>\n",
       "      <td>4.380111e+06</td>\n",
       "    </tr>\n",
       "    <tr>\n",
       "      <th>2020-12-28</th>\n",
       "      <td>4.454658e+06</td>\n",
       "    </tr>\n",
       "    <tr>\n",
       "      <th>2020-12-29</th>\n",
       "      <td>4.471348e+06</td>\n",
       "    </tr>\n",
       "    <tr>\n",
       "      <th>2020-12-30</th>\n",
       "      <td>4.505411e+06</td>\n",
       "    </tr>\n",
       "    <tr>\n",
       "      <th>2020-12-31</th>\n",
       "      <td>4.544976e+06</td>\n",
       "    </tr>\n",
       "  </tbody>\n",
       "</table>\n",
       "<p>991 rows × 1 columns</p>\n",
       "</div>"
      ],
      "text/plain": [
       "                Mean Var\n",
       "2017-01-02  2.003918e+06\n",
       "2017-01-03  2.012231e+06\n",
       "2017-01-04  2.025332e+06\n",
       "2017-01-05  2.038291e+06\n",
       "2017-01-06  2.043037e+06\n",
       "...                  ...\n",
       "2020-12-24  4.380111e+06\n",
       "2020-12-28  4.454658e+06\n",
       "2020-12-29  4.471348e+06\n",
       "2020-12-30  4.505411e+06\n",
       "2020-12-31  4.544976e+06\n",
       "\n",
       "[991 rows x 1 columns]"
      ]
     },
     "execution_count": 85,
     "metadata": {},
     "output_type": "execute_result"
    }
   ],
   "source": [
    "Portfolio_Assets = TradeData @ Initial_Portfolio\n",
    "MVO_result = pd.DataFrame(Portfolio_Assets, columns=[\"Mean Var\"])\n",
    "MVO_result"
   ]
  },
  {
   "cell_type": "code",
   "execution_count": 86,
   "metadata": {},
   "outputs": [
    {
     "name": "stdout",
     "output_type": "stream",
     "text": [
      "result:                       a2c          ddpg           td3           ppo  \\\n",
      "date                                                                 \n",
      "2017-01-02  2.000000e+06  2.000000e+06  2.000000e+06  2.000000e+06   \n",
      "2017-01-03  2.000948e+06  2.000135e+06  2.005032e+06  1.999954e+06   \n",
      "2017-01-04  1.999114e+06  2.001311e+06  2.008326e+06  1.999866e+06   \n",
      "2017-01-05  2.014911e+06  2.010920e+06  2.024709e+06  2.000267e+06   \n",
      "2017-01-06  2.019509e+06  2.002724e+06  2.012449e+06  2.000217e+06   \n",
      "...                  ...           ...           ...           ...   \n",
      "2020-12-24  3.170591e+06  1.635027e+06  2.523833e+06  2.147635e+06   \n",
      "2020-12-28  3.176263e+06  1.643232e+06  2.554292e+06  2.170269e+06   \n",
      "2020-12-29  3.160486e+06  1.651649e+06  2.559674e+06  2.196808e+06   \n",
      "2020-12-30  3.164802e+06  1.657273e+06  2.560551e+06  2.196038e+06   \n",
      "2020-12-31  3.169526e+06  1.662237e+06  2.572717e+06  2.209713e+06   \n",
      "\n",
      "                     sac           mvo  \n",
      "date                                    \n",
      "2017-01-02  2.000000e+06  2.003918e+06  \n",
      "2017-01-03  1.999101e+06  2.012231e+06  \n",
      "2017-01-04  2.003733e+06  2.025332e+06  \n",
      "2017-01-05  2.024749e+06  2.038291e+06  \n",
      "2017-01-06  2.024296e+06  2.043037e+06  \n",
      "...                  ...           ...  \n",
      "2020-12-24  2.157259e+06  4.380111e+06  \n",
      "2020-12-28  2.180262e+06  4.454658e+06  \n",
      "2020-12-29  2.212627e+06  4.471348e+06  \n",
      "2020-12-30  2.210869e+06  4.505411e+06  \n",
      "2020-12-31  2.240571e+06  4.544976e+06  \n",
      "\n",
      "[991 rows x 6 columns]\n"
     ]
    }
   ],
   "source": [
    "df_result_a2c = df_account_value_a2c.set_index(df_account_value_a2c.columns[0])\n",
    "df_result_ddpg = df_account_value_ddpg.set_index(df_account_value_ddpg.columns[0])\n",
    "df_result_td3 = df_account_value_td3.set_index(df_account_value_td3.columns[0])\n",
    "df_result_ppo = df_account_value_ppo.set_index(df_account_value_ppo.columns[0])\n",
    "df_result_sac = df_account_value_sac.set_index(df_account_value_sac.columns[0])\n",
    "df_account_value_a2c.to_csv(\"df_account_value_a2c.csv\")\n",
    "\n",
    "result = pd.merge(df_result_a2c, df_result_ddpg, left_index=True, right_index=True, suffixes=('_a2c', '_ddpg'))\n",
    "result = pd.merge(result, df_result_td3, left_index=True, right_index=True, suffixes=('', '_td3'))\n",
    "result = pd.merge(result, df_result_ppo, left_index=True, right_index=True, suffixes=('', '_ppo'))\n",
    "result = pd.merge(result, df_result_sac, left_index=True, right_index=True, suffixes=('', '_sac'))\n",
    "result = pd.merge(result, MVO_result, left_index=True, right_index=True, suffixes=('', '_mvo'))\n",
    "result.columns = ['a2c', 'ddpg', 'td3', 'ppo', 'sac', 'mvo']\n",
    "\n",
    "print(\"result: \", result)\n",
    "result.to_csv(\"result.csv\")"
   ]
  },
  {
   "cell_type": "code",
   "execution_count": 87,
   "metadata": {},
   "outputs": [
    {
     "data": {
      "image/png": "[encoded data removed]",
      "text/plain": [
       "<Figure size 1000x600 with 1 Axes>"
      ]
     },
     "metadata": {},
     "output_type": "display_data"
    },
    {
     "data": {
      "image/png": "[encoded data removed]",
      "text/plain": [
       "<Figure size 1000x600 with 1 Axes>"
      ]
     },
     "metadata": {},
     "output_type": "display_data"
    },
    {
     "data": {
      "text/plain": [
       "<Figure size 1500x500 with 0 Axes>"
      ]
     },
     "metadata": {},
     "output_type": "display_data"
    },
    {
     "data": {
      "image/png": "[encoded data removed]",
      "text/plain": [
       "<Figure size 1500x500 with 1 Axes>"
      ]
     },
     "metadata": {},
     "output_type": "display_data"
    }
   ],
   "source": [
    "%matplotlib inline\n",
    "plt.rcParams[\"figure.figsize\"] = (15,5)\n",
    "plt.figure();\n",
    "result.plot();"
   ]
  },
  {
   "cell_type": "code",
   "execution_count": 88,
   "metadata": {},
   "outputs": [],
   "source": [
    "# make a table of initial and final value, annual return, sharpe ratio, max drawdown\n",
    "# initial value\n",
    "initial_value = result.iloc[0]\n",
    "# final value\n",
    "final_value = result.iloc[-1]\n",
    "# annual return\n",
    "annual_return = (final_value/initial_value)**(1/3) - 1\n",
    "annual_return = annual_return * 100\n",
    "# sharpe ratio\n",
    "sharpe_ratio = annual_return / result.std()\n",
    "# max drawdown\n",
    "max_drawdown = (result - result.expanding().max()).min()\n",
    "# combine all the metrics\n"
   ]
  },
  {
   "cell_type": "code",
   "execution_count": 89,
   "metadata": {},
   "outputs": [],
   "source": [
    "# Calculate daily returns from the portfolio values\n",
    "daily_returns = result.pct_change().dropna()\n",
    "\n",
    "# Set target return (e.g., 0 for simplicity, or replace with a risk-free rate if needed)\n",
    "target_return = 0\n",
    "\n",
    "# Calculate downside deviation\n",
    "downside_returns = daily_returns[daily_returns < target_return]  # Only returns below target\n",
    "downside_deviation = np.sqrt((downside_returns**2).mean())  # Root mean square of negative returns\n",
    "\n",
    "# Annual return (already calculated)\n",
    "annual_return = (result.iloc[-1] / result.iloc[0])**(1/3) - 1\n",
    "annual_return = annual_return * 100  # Convert to percentage\n",
    "\n",
    "# Sortino Ratio\n",
    "sortino_ratio = (annual_return - target_return) / downside_deviation\n",
    "\n",
    "# # Create a DataFrame for Sortino Ratio\n",
    "# sortino_ratio_df = pd.DataFrame(sortino_ratio, columns=['Sortino Ratio'])\n",
    "# print(sortino_ratio_df)\n"
   ]
  },
  {
   "cell_type": "code",
   "execution_count": 90,
   "metadata": {},
   "outputs": [
    {
     "name": "stdout",
     "output_type": "stream",
     "text": [
      "      initial_value   final_value  annual_return  sharpe_ratio  sortino_ratio  \\\n",
      "a2c    2.000000e+06  3.169526e+06      16.588242      0.000042    1111.409913   \n",
      "ddpg   2.000000e+06  1.662237e+06      -5.979838     -0.000015    -299.149451   \n",
      "td3    2.000000e+06  2.572717e+06       8.756202      0.000059     634.268868   \n",
      "ppo    2.000000e+06  2.209713e+06       3.379713      0.000018     207.385033   \n",
      "sac    2.000000e+06  2.240571e+06       3.858702      0.000018     202.277564   \n",
      "mvo    2.003918e+06  4.544976e+06      31.386452      0.000070    2167.596721   \n",
      "\n",
      "      max_drawdown  \n",
      "a2c  -6.285417e+05  \n",
      "ddpg -1.527594e+06  \n",
      "td3  -8.692502e+05  \n",
      "ppo  -9.423287e+05  \n",
      "sac  -9.572916e+05  \n",
      "mvo  -1.318668e+06  \n"
     ]
    }
   ],
   "source": [
    "metrics = pd.DataFrame([initial_value, final_value, annual_return, sharpe_ratio,sortino_ratio, max_drawdown], index=['initial_value', 'final_value', 'annual_return', 'sharpe_ratio','sortino_ratio', 'max_drawdown']).T\n",
    "metrics.to_csv(\"metrics_cashless_nifty.csv\")\n",
    "print(metrics)"
   ]
  }
 ],
 "metadata": {
  "kernelspec": {
   "display_name": "ml",
   "language": "python",
   "name": "python3"
  },
  "language_info": {
   "codemirror_mode": {
    "name": "ipython",
    "version": 3
   },
   "file_extension": ".py",
   "mimetype": "text/x-python",
   "name": "python",
   "nbconvert_exporter": "python",
   "pygments_lexer": "ipython3",
   "version": "3.10.9"
  }
 },
 "nbformat": 4,
 "nbformat_minor": 2
}

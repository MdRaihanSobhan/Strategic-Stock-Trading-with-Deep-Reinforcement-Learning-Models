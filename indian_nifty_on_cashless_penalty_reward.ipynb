{
 "cells": [
  {
   "cell_type": "code",
   "execution_count": 38,
   "metadata": {},
   "outputs": [],
   "source": [
    "import pandas as pd\n",
    "import json\n",
    "import os \n",
    "import sys\n",
    "import csv\n",
    "\n",
    "# plot\n",
    "import matplotlib.pyplot as plt\n",
    "import seaborn as sns"
   ]
  },
  {
   "cell_type": "code",
   "execution_count": null,
   "metadata": {},
   "outputs": [
    {
     "name": "stdout",
     "output_type": "stream",
     "text": [
      "['NIFTY_2008.csv', 'NIFTY_2008_2020.csv', 'NIFTY_2009.csv', 'NIFTY_2010.csv', 'NIFTY_2011.csv', 'NIFTY_2012.csv', 'NIFTY_2013.csv', 'NIFTY_2014.csv', 'NIFTY_2015.csv', 'NIFTY_2016.csv', 'NIFTY_2017.csv', 'NIFTY_2018.csv', 'NIFTY_2019.csv', 'NIFTY_2020.csv']\n"
     ]
    }
   ],
   "source": [
    "# dir = os.path.join('dataset', 'kaggle-dse')\n",
    "dir = r\"/Users/md.raihansobhan/Desktop/BUET/4-2 Sessionals/CSE 472 | ML/online_class/Strategic-Stock-Trading-with-Deep-Reinforcement-Learning-Models/datasets/Indian/NIFTY_data\"\n",
    "\n",
    "files = os.listdir(dir)\n",
    "files.sort()\n",
    "files = [f for f in files]\n",
    "print(files)"
   ]
  },
  {
   "cell_type": "code",
   "execution_count": 40,
   "metadata": {},
   "outputs": [
    {
     "data": {
      "text/plain": [
       "14"
      ]
     },
     "execution_count": 40,
     "metadata": {},
     "output_type": "execute_result"
    }
   ],
   "source": [
    "# List to store the data from all CSV files\n",
    "data = []\n",
    "\n",
    "# Loop through the files\n",
    "for f in files:\n",
    "    # Load each CSV file into a DataFrame and append to the list\n",
    "    file_path = os.path.join(dir, f)\n",
    "    data.append(pd.read_csv(file_path))\n",
    "\n",
    "# Check the number of loaded CSV files\n",
    "len(data)"
   ]
  },
  {
   "cell_type": "code",
   "execution_count": 41,
   "metadata": {},
   "outputs": [],
   "source": [
    "# convert to pandas dataframe\n",
    "dfs = []\n",
    "for i in range(1,len(data)):\n",
    "    dfs.append(pd.DataFrame(data[i]))\n",
    "df = pd.concat(dfs)"
   ]
  },
  {
   "cell_type": "code",
   "execution_count": 42,
   "metadata": {},
   "outputs": [
    {
     "data": {
      "text/plain": [
       "(2286554, 7)"
      ]
     },
     "execution_count": 42,
     "metadata": {},
     "output_type": "execute_result"
    }
   ],
   "source": [
    "df.shape"
   ]
  },
  {
   "cell_type": "code",
   "execution_count": 43,
   "metadata": {},
   "outputs": [
    {
     "data": {
      "text/html": [
       "<div>\n",
       "<style scoped>\n",
       "    .dataframe tbody tr th:only-of-type {\n",
       "        vertical-align: middle;\n",
       "    }\n",
       "\n",
       "    .dataframe tbody tr th {\n",
       "        vertical-align: top;\n",
       "    }\n",
       "\n",
       "    .dataframe thead th {\n",
       "        text-align: right;\n",
       "    }\n",
       "</style>\n",
       "<table border=\"1\" class=\"dataframe\">\n",
       "  <thead>\n",
       "    <tr style=\"text-align: right;\">\n",
       "      <th></th>\n",
       "      <th>Instrument</th>\n",
       "      <th>Date</th>\n",
       "      <th>Time</th>\n",
       "      <th>Open</th>\n",
       "      <th>High</th>\n",
       "      <th>Low</th>\n",
       "      <th>Close</th>\n",
       "    </tr>\n",
       "  </thead>\n",
       "  <tbody>\n",
       "    <tr>\n",
       "      <th>0</th>\n",
       "      <td>NIFTY</td>\n",
       "      <td>20080101</td>\n",
       "      <td>09:55</td>\n",
       "      <td>6138.60</td>\n",
       "      <td>6154.60</td>\n",
       "      <td>6138.60</td>\n",
       "      <td>6148.90</td>\n",
       "    </tr>\n",
       "    <tr>\n",
       "      <th>1</th>\n",
       "      <td>NIFTY</td>\n",
       "      <td>20080101</td>\n",
       "      <td>09:56</td>\n",
       "      <td>6149.75</td>\n",
       "      <td>6149.75</td>\n",
       "      <td>6132.80</td>\n",
       "      <td>6132.80</td>\n",
       "    </tr>\n",
       "    <tr>\n",
       "      <th>2</th>\n",
       "      <td>NIFTY</td>\n",
       "      <td>20080101</td>\n",
       "      <td>09:57</td>\n",
       "      <td>6138.25</td>\n",
       "      <td>6138.25</td>\n",
       "      <td>6127.95</td>\n",
       "      <td>6127.95</td>\n",
       "    </tr>\n",
       "    <tr>\n",
       "      <th>3</th>\n",
       "      <td>NIFTY</td>\n",
       "      <td>20080101</td>\n",
       "      <td>09:58</td>\n",
       "      <td>6127.15</td>\n",
       "      <td>6127.15</td>\n",
       "      <td>6120.90</td>\n",
       "      <td>6120.90</td>\n",
       "    </tr>\n",
       "    <tr>\n",
       "      <th>4</th>\n",
       "      <td>NIFTY</td>\n",
       "      <td>20080101</td>\n",
       "      <td>09:59</td>\n",
       "      <td>6118.05</td>\n",
       "      <td>6118.05</td>\n",
       "      <td>6113.55</td>\n",
       "      <td>6113.90</td>\n",
       "    </tr>\n",
       "    <tr>\n",
       "      <th>...</th>\n",
       "      <td>...</td>\n",
       "      <td>...</td>\n",
       "      <td>...</td>\n",
       "      <td>...</td>\n",
       "      <td>...</td>\n",
       "      <td>...</td>\n",
       "      <td>...</td>\n",
       "    </tr>\n",
       "    <tr>\n",
       "      <th>94879</th>\n",
       "      <td>NIFTY</td>\n",
       "      <td>20201231</td>\n",
       "      <td>15:28</td>\n",
       "      <td>13977.90</td>\n",
       "      <td>13981.55</td>\n",
       "      <td>13977.90</td>\n",
       "      <td>13978.45</td>\n",
       "    </tr>\n",
       "    <tr>\n",
       "      <th>94880</th>\n",
       "      <td>NIFTY</td>\n",
       "      <td>20201231</td>\n",
       "      <td>15:29</td>\n",
       "      <td>13980.20</td>\n",
       "      <td>13980.45</td>\n",
       "      <td>13966.20</td>\n",
       "      <td>13967.40</td>\n",
       "    </tr>\n",
       "    <tr>\n",
       "      <th>94881</th>\n",
       "      <td>NIFTY</td>\n",
       "      <td>20201231</td>\n",
       "      <td>15:30</td>\n",
       "      <td>13968.65</td>\n",
       "      <td>13971.10</td>\n",
       "      <td>13965.20</td>\n",
       "      <td>13967.00</td>\n",
       "    </tr>\n",
       "    <tr>\n",
       "      <th>94882</th>\n",
       "      <td>NIFTY</td>\n",
       "      <td>20201231</td>\n",
       "      <td>15:31</td>\n",
       "      <td>13967.20</td>\n",
       "      <td>13967.20</td>\n",
       "      <td>13967.20</td>\n",
       "      <td>13967.20</td>\n",
       "    </tr>\n",
       "    <tr>\n",
       "      <th>94883</th>\n",
       "      <td>NIFTY</td>\n",
       "      <td>20201231</td>\n",
       "      <td>15:32</td>\n",
       "      <td>13981.75</td>\n",
       "      <td>13981.75</td>\n",
       "      <td>13981.75</td>\n",
       "      <td>13981.75</td>\n",
       "    </tr>\n",
       "  </tbody>\n",
       "</table>\n",
       "<p>2286554 rows × 7 columns</p>\n",
       "</div>"
      ],
      "text/plain": [
       "      Instrument      Date   Time      Open      High       Low     Close\n",
       "0          NIFTY  20080101  09:55   6138.60   6154.60   6138.60   6148.90\n",
       "1          NIFTY  20080101  09:56   6149.75   6149.75   6132.80   6132.80\n",
       "2          NIFTY  20080101  09:57   6138.25   6138.25   6127.95   6127.95\n",
       "3          NIFTY  20080101  09:58   6127.15   6127.15   6120.90   6120.90\n",
       "4          NIFTY  20080101  09:59   6118.05   6118.05   6113.55   6113.90\n",
       "...          ...       ...    ...       ...       ...       ...       ...\n",
       "94879      NIFTY  20201231  15:28  13977.90  13981.55  13977.90  13978.45\n",
       "94880      NIFTY  20201231  15:29  13980.20  13980.45  13966.20  13967.40\n",
       "94881      NIFTY  20201231  15:30  13968.65  13971.10  13965.20  13967.00\n",
       "94882      NIFTY  20201231  15:31  13967.20  13967.20  13967.20  13967.20\n",
       "94883      NIFTY  20201231  15:32  13981.75  13981.75  13981.75  13981.75\n",
       "\n",
       "[2286554 rows x 7 columns]"
      ]
     },
     "execution_count": 43,
     "metadata": {},
     "output_type": "execute_result"
    }
   ],
   "source": [
    "df"
   ]
  },
  {
   "cell_type": "code",
   "execution_count": 44,
   "metadata": {},
   "outputs": [
    {
     "name": "stdout",
     "output_type": "stream",
     "text": [
      "Instrument\n",
      "NIFTY    1180080\n",
      "Name: count, dtype: int64\n"
     ]
    }
   ],
   "source": [
    "# count the unique values in the column\n",
    "df = df.drop_duplicates(subset=['Date', 'Instrument', 'Time'])\n",
    "print(df['Instrument'].value_counts())"
   ]
  },
  {
   "cell_type": "code",
   "execution_count": 45,
   "metadata": {},
   "outputs": [
    {
     "name": "stderr",
     "output_type": "stream",
     "text": [
      "/var/folders/hw/72ljgfr56y93ypctd2ct3kjm0000gn/T/ipykernel_35866/1578876842.py:6: SettingWithCopyWarning: \n",
      "A value is trying to be set on a copy of a slice from a DataFrame.\n",
      "Try using .loc[row_indexer,col_indexer] = value instead\n",
      "\n",
      "See the caveats in the documentation: https://pandas.pydata.org/pandas-docs/stable/user_guide/indexing.html#returning-a-view-versus-a-copy\n",
      "  df['Date'] = pd.to_datetime(df['Date'], format='%Y%m%d')\n",
      "/var/folders/hw/72ljgfr56y93ypctd2ct3kjm0000gn/T/ipykernel_35866/1578876842.py:9: SettingWithCopyWarning: \n",
      "A value is trying to be set on a copy of a slice from a DataFrame.\n",
      "Try using .loc[row_indexer,col_indexer] = value instead\n",
      "\n",
      "See the caveats in the documentation: https://pandas.pydata.org/pandas-docs/stable/user_guide/indexing.html#returning-a-view-versus-a-copy\n",
      "  df['Time'] = pd.to_datetime(df['Time'], format='%H:%M').dt.time\n",
      "/var/folders/hw/72ljgfr56y93ypctd2ct3kjm0000gn/T/ipykernel_35866/1578876842.py:12: SettingWithCopyWarning: \n",
      "A value is trying to be set on a copy of a slice from a DataFrame.\n",
      "Try using .loc[row_indexer,col_indexer] = value instead\n",
      "\n",
      "See the caveats in the documentation: https://pandas.pydata.org/pandas-docs/stable/user_guide/indexing.html#returning-a-view-versus-a-copy\n",
      "  df['DateTime'] = pd.to_datetime(df['Date'].astype(str) + ' ' + df['Time'].astype(str))\n",
      "/var/folders/hw/72ljgfr56y93ypctd2ct3kjm0000gn/T/ipykernel_35866/1578876842.py:15: SettingWithCopyWarning: \n",
      "A value is trying to be set on a copy of a slice from a DataFrame.\n",
      "Try using .loc[row_indexer,col_indexer] = value instead\n",
      "\n",
      "See the caveats in the documentation: https://pandas.pydata.org/pandas-docs/stable/user_guide/indexing.html#returning-a-view-versus-a-copy\n",
      "  df['year'] = df['DateTime'].dt.year\n",
      "/var/folders/hw/72ljgfr56y93ypctd2ct3kjm0000gn/T/ipykernel_35866/1578876842.py:16: SettingWithCopyWarning: \n",
      "A value is trying to be set on a copy of a slice from a DataFrame.\n",
      "Try using .loc[row_indexer,col_indexer] = value instead\n",
      "\n",
      "See the caveats in the documentation: https://pandas.pydata.org/pandas-docs/stable/user_guide/indexing.html#returning-a-view-versus-a-copy\n",
      "  df['month'] = df['DateTime'].dt.month\n",
      "/var/folders/hw/72ljgfr56y93ypctd2ct3kjm0000gn/T/ipykernel_35866/1578876842.py:19: SettingWithCopyWarning: \n",
      "A value is trying to be set on a copy of a slice from a DataFrame.\n",
      "Try using .loc[row_indexer,col_indexer] = value instead\n",
      "\n",
      "See the caveats in the documentation: https://pandas.pydata.org/pandas-docs/stable/user_guide/indexing.html#returning-a-view-versus-a-copy\n",
      "  df['year_month'] = df['year'].astype(str) + '-' + df['month'].astype(str)\n"
     ]
    },
    {
     "data": {
      "image/png": "[encoded data removed]",
      "text/plain": [
       "<Figure size 2500x500 with 1 Axes>"
      ]
     },
     "metadata": {},
     "output_type": "display_data"
    }
   ],
   "source": [
    "import pandas as pd\n",
    "import matplotlib.pyplot as plt\n",
    "import seaborn as sns\n",
    "\n",
    "# Convert the 'Date' column from YYYYMMDD format to datetime\n",
    "df['Date'] = pd.to_datetime(df['Date'], format='%Y%m%d')\n",
    "\n",
    "# Convert 'Time' column from HH:MM format to a time object\n",
    "df['Time'] = pd.to_datetime(df['Time'], format='%H:%M').dt.time\n",
    "\n",
    "# Combine 'Date' and 'Time' into a single datetime column\n",
    "df['DateTime'] = pd.to_datetime(df['Date'].astype(str) + ' ' + df['Time'].astype(str))\n",
    "\n",
    "# Extract 'year' and 'month' from the 'DateTime' column\n",
    "df['year'] = df['DateTime'].dt.year\n",
    "df['month'] = df['DateTime'].dt.month\n",
    "\n",
    "# Create a new column 'year_month' for plotting\n",
    "df['year_month'] = df['year'].astype(str) + '-' + df['month'].astype(str)\n",
    "\n",
    "# Plot the count of entries per year-month\n",
    "plt.figure(figsize=(25, 5))\n",
    "sns.countplot(x='year_month', data=df, order=sorted(df['year_month'].unique()))\n",
    "plt.xticks(rotation=90)  # Rotate x-axis labels for better visibility\n",
    "plt.show()\n"
   ]
  },
  {
   "cell_type": "code",
   "execution_count": 46,
   "metadata": {},
   "outputs": [
    {
     "name": "stdout",
     "output_type": "stream",
     "text": [
      "Instrument    0\n",
      "Date          0\n",
      "Time          0\n",
      "Open          0\n",
      "High          0\n",
      "Low           0\n",
      "Close         0\n",
      "DateTime      0\n",
      "year          0\n",
      "month         0\n",
      "year_month    0\n",
      "dtype: int64\n"
     ]
    }
   ],
   "source": [
    "# print the zero count of each column\n",
    "zero_counts = df.apply(lambda x: (x==0).sum())\n",
    "print(zero_counts)"
   ]
  },
  {
   "cell_type": "code",
   "execution_count": 47,
   "metadata": {},
   "outputs": [
    {
     "data": {
      "text/plain": [
       "year\n",
       "2010    96683\n",
       "2020    94884\n",
       "2017    93186\n",
       "2013    93003\n",
       "2012    92763\n",
       "2015    92624\n",
       "2018    92517\n",
       "2019    92415\n",
       "2011    92387\n",
       "2016    92355\n",
       "2014    90824\n",
       "2008    79542\n",
       "2009    76897\n",
       "Name: count, dtype: int64"
      ]
     },
     "execution_count": 47,
     "metadata": {},
     "output_type": "execute_result"
    }
   ],
   "source": [
    "df['year'].value_counts()"
   ]
  },
  {
   "cell_type": "code",
   "execution_count": 48,
   "metadata": {},
   "outputs": [
    {
     "data": {
      "text/plain": [
       "Instrument\n",
       "NIFTY    1180080\n",
       "Name: count, dtype: int64"
      ]
     },
     "execution_count": 48,
     "metadata": {},
     "output_type": "execute_result"
    }
   ],
   "source": [
    "df['Instrument'].value_counts()"
   ]
  }
 ],
 "metadata": {
  "kernelspec": {
   "display_name": "ml",
   "language": "python",
   "name": "python3"
  },
  "language_info": {
   "codemirror_mode": {
    "name": "ipython",
    "version": 3
   },
   "file_extension": ".py",
   "mimetype": "text/x-python",
   "name": "python",
   "nbconvert_exporter": "python",
   "pygments_lexer": "ipython3",
   "version": "3.10.9"
  }
 },
 "nbformat": 4,
 "nbformat_minor": 2
}

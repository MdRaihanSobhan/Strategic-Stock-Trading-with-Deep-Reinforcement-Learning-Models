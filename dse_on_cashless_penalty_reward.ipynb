{
 "cells": [
  {
   "cell_type": "code",
   "execution_count": 1,
   "metadata": {},
   "outputs": [],
   "source": [
    "# ## install required packages\n",
    "# !pip install swig\n",
    "# !pip install wrds\n",
    "# !pip install pyportfolioopt\n",
    "# ## install finrl library\n",
    "# !pip install -q condacolab\n",
    "# import condacolab\n",
    "# condacolab.install()\n",
    "# !apt-get update -y -qq && apt-get install -y -qq cmake libopenmpi-dev python3-dev zlib1g-dev libgl1-mesa-glx swig\n",
    "# !pip install git+https://github.com/skazgor/FinRL.git"
   ]
  },
  {
   "cell_type": "code",
   "execution_count": 2,
   "metadata": {},
   "outputs": [],
   "source": [
    "import pandas as pd\n",
    "import json\n",
    "import os \n",
    "import sys\n",
    "\n",
    "# plot\n",
    "import matplotlib.pyplot as plt\n",
    "import seaborn as sns"
   ]
  },
  {
   "cell_type": "markdown",
   "metadata": {},
   "source": [
    "### global variables for running the code"
   ]
  },
  {
   "cell_type": "code",
   "execution_count": 3,
   "metadata": {},
   "outputs": [],
   "source": [
    "run_timesteps = 1000"
   ]
  },
  {
   "cell_type": "code",
   "execution_count": 4,
   "metadata": {},
   "outputs": [
    {
     "name": "stdout",
     "output_type": "stream",
     "text": [
      "['prices_2009.json', 'prices_2010.json', 'prices_2011.json', 'prices_2012.json', 'prices_2013.json', 'prices_2014.json', 'prices_2015.json', 'prices_2016.json', 'prices_2017.json', 'prices_2018.json', 'prices_2019.json', 'prices_2020.json', 'prices_2021.json', 'prices_2022.json']\n"
     ]
    }
   ],
   "source": [
    "if os.name == 'nt':  # Windows\n",
    "    dir = r\"D:\\Academics\\4-2\\19 Batch\\Sessionals\\CSE 472\\Project\\1905095_1905115\\Github\\Strategic-Stock-Trading-with-Deep-Reinforcement-Learning-Models\\datasets\\kaggle-dse\"\n",
    "else:  # macOS/Linux\n",
    "    dir = r\"/Users/md.raihansobhan/Desktop/BUET/4-2 Sessionals/CSE 472 | ML/online_class/Strategic-Stock-Trading-with-Deep-Reinforcement-Learning-Models/datasets/kaggle-dse\"\n",
    "\n",
    "files = os.listdir(dir)\n",
    "files.sort()\n",
    "files = [f for f in files if f not in ['securities.json', 'prices_2008.json']]\n",
    "print(files)\n"
   ]
  },
  {
   "cell_type": "code",
   "execution_count": 5,
   "metadata": {},
   "outputs": [
    {
     "data": {
      "text/plain": [
       "14"
      ]
     },
     "execution_count": 5,
     "metadata": {},
     "output_type": "execute_result"
    }
   ],
   "source": [
    "# load all the json files\n",
    "data = []\n",
    "for f in files:\n",
    "    with open(os.path.join(dir, f)) as file:\n",
    "        data.append(json.load(file))\n",
    "len(data)"
   ]
  },
  {
   "cell_type": "code",
   "execution_count": 6,
   "metadata": {},
   "outputs": [],
   "source": [
    "# convert to pandas dataframe\n",
    "dfs = []\n",
    "for i in range(1,len(data)):\n",
    "    dfs.append(pd.DataFrame(data[i]))\n",
    "df = pd.concat(dfs)"
   ]
  },
  {
   "cell_type": "code",
   "execution_count": 7,
   "metadata": {},
   "outputs": [
    {
     "data": {
      "text/plain": [
       "(1612197, 11)"
      ]
     },
     "execution_count": 7,
     "metadata": {},
     "output_type": "execute_result"
    }
   ],
   "source": [
    "df.shape"
   ]
  },
  {
   "cell_type": "code",
   "execution_count": 8,
   "metadata": {},
   "outputs": [
    {
     "data": {
      "text/html": [
       "<div>\n",
       "<style scoped>\n",
       "    .dataframe tbody tr th:only-of-type {\n",
       "        vertical-align: middle;\n",
       "    }\n",
       "\n",
       "    .dataframe tbody tr th {\n",
       "        vertical-align: top;\n",
       "    }\n",
       "\n",
       "    .dataframe thead th {\n",
       "        text-align: right;\n",
       "    }\n",
       "</style>\n",
       "<table border=\"1\" class=\"dataframe\">\n",
       "  <thead>\n",
       "    <tr style=\"text-align: right;\">\n",
       "      <th></th>\n",
       "      <th>date</th>\n",
       "      <th>trading_code</th>\n",
       "      <th>last_traded_price</th>\n",
       "      <th>high</th>\n",
       "      <th>low</th>\n",
       "      <th>opening_price</th>\n",
       "      <th>closing_price</th>\n",
       "      <th>yesterdays_closing_price</th>\n",
       "      <th>trade</th>\n",
       "      <th>value_mn</th>\n",
       "      <th>volume</th>\n",
       "    </tr>\n",
       "  </thead>\n",
       "  <tbody>\n",
       "    <tr>\n",
       "      <th>0</th>\n",
       "      <td>2010-12-30 00:00:00</td>\n",
       "      <td>1JANATAMF</td>\n",
       "      <td>12.9</td>\n",
       "      <td>13.9</td>\n",
       "      <td>12.3</td>\n",
       "      <td>12.3</td>\n",
       "      <td>13.0</td>\n",
       "      <td>12.0</td>\n",
       "      <td>4708</td>\n",
       "      <td>124.8680</td>\n",
       "      <td>9623500</td>\n",
       "    </tr>\n",
       "    <tr>\n",
       "      <th>1</th>\n",
       "      <td>2010-12-29 00:00:00</td>\n",
       "      <td>1JANATAMF</td>\n",
       "      <td>11.8</td>\n",
       "      <td>12.3</td>\n",
       "      <td>11.2</td>\n",
       "      <td>11.7</td>\n",
       "      <td>12.0</td>\n",
       "      <td>11.3</td>\n",
       "      <td>1680</td>\n",
       "      <td>46.8126</td>\n",
       "      <td>3987000</td>\n",
       "    </tr>\n",
       "    <tr>\n",
       "      <th>2</th>\n",
       "      <td>2010-12-28 00:00:00</td>\n",
       "      <td>1JANATAMF</td>\n",
       "      <td>11.3</td>\n",
       "      <td>11.7</td>\n",
       "      <td>11.0</td>\n",
       "      <td>11.0</td>\n",
       "      <td>11.3</td>\n",
       "      <td>11.2</td>\n",
       "      <td>1077</td>\n",
       "      <td>19.3689</td>\n",
       "      <td>1698500</td>\n",
       "    </tr>\n",
       "    <tr>\n",
       "      <th>3</th>\n",
       "      <td>2010-12-27 00:00:00</td>\n",
       "      <td>1JANATAMF</td>\n",
       "      <td>11.3</td>\n",
       "      <td>11.5</td>\n",
       "      <td>11.0</td>\n",
       "      <td>11.5</td>\n",
       "      <td>11.2</td>\n",
       "      <td>11.4</td>\n",
       "      <td>932</td>\n",
       "      <td>13.9884</td>\n",
       "      <td>1249000</td>\n",
       "    </tr>\n",
       "    <tr>\n",
       "      <th>4</th>\n",
       "      <td>2010-12-26 00:00:00</td>\n",
       "      <td>1JANATAMF</td>\n",
       "      <td>11.6</td>\n",
       "      <td>11.8</td>\n",
       "      <td>11.2</td>\n",
       "      <td>11.6</td>\n",
       "      <td>11.4</td>\n",
       "      <td>11.5</td>\n",
       "      <td>1671</td>\n",
       "      <td>31.8171</td>\n",
       "      <td>2746500</td>\n",
       "    </tr>\n",
       "  </tbody>\n",
       "</table>\n",
       "</div>"
      ],
      "text/plain": [
       "                  date trading_code  last_traded_price  high   low  \\\n",
       "0  2010-12-30 00:00:00    1JANATAMF               12.9  13.9  12.3   \n",
       "1  2010-12-29 00:00:00    1JANATAMF               11.8  12.3  11.2   \n",
       "2  2010-12-28 00:00:00    1JANATAMF               11.3  11.7  11.0   \n",
       "3  2010-12-27 00:00:00    1JANATAMF               11.3  11.5  11.0   \n",
       "4  2010-12-26 00:00:00    1JANATAMF               11.6  11.8  11.2   \n",
       "\n",
       "   opening_price  closing_price  yesterdays_closing_price  trade  value_mn  \\\n",
       "0           12.3           13.0                      12.0   4708  124.8680   \n",
       "1           11.7           12.0                      11.3   1680   46.8126   \n",
       "2           11.0           11.3                      11.2   1077   19.3689   \n",
       "3           11.5           11.2                      11.4    932   13.9884   \n",
       "4           11.6           11.4                      11.5   1671   31.8171   \n",
       "\n",
       "    volume  \n",
       "0  9623500  \n",
       "1  3987000  \n",
       "2  1698500  \n",
       "3  1249000  \n",
       "4  2746500  "
      ]
     },
     "execution_count": 8,
     "metadata": {},
     "output_type": "execute_result"
    }
   ],
   "source": [
    "df.head()"
   ]
  },
  {
   "cell_type": "code",
   "execution_count": 9,
   "metadata": {},
   "outputs": [
    {
     "name": "stdout",
     "output_type": "stream",
     "text": [
      "trading_code\n",
      "GP            3090\n",
      "SANDHANINS    3090\n",
      "ICBIBANK      3090\n",
      "SAMORITA      3090\n",
      "IDLC          3090\n",
      "              ... \n",
      "TB2Y1024        40\n",
      "GIB             31\n",
      "TB5Y1127        11\n",
      "IICICL          11\n",
      "ICICL            9\n",
      "Name: count, Length: 954, dtype: int64\n"
     ]
    }
   ],
   "source": [
    "# count the unique values in the column\n",
    "df = df.drop_duplicates(subset=['date', 'trading_code'])\n",
    "print(df['trading_code'].value_counts())"
   ]
  },
  {
   "cell_type": "code",
   "execution_count": 10,
   "metadata": {},
   "outputs": [
    {
     "data": {
      "text/plain": [
       "39"
      ]
     },
     "execution_count": 10,
     "metadata": {},
     "output_type": "execute_result"
    }
   ],
   "source": [
    "top_companies = [\n",
    "    \"GP\",\n",
    "    \"BATBC\",\n",
    "    \"SQURPHARMA\",\n",
    "    \"BEXIMCO\",\n",
    "    \"BERGERPBL\",\n",
    "    \"MARICO\",\n",
    "    \"BRACBANK\",\n",
    "    \"BXPHARMA\",\n",
    "    \"ISLAMIBANK\",\n",
    "    \"DUTCHBANGL\",\n",
    "    \"EBL\",\n",
    "    \"POWERGRID\",\n",
    "    \"SUMITPOWER\",\n",
    "    \"OLYMPIC\",\n",
    "    \"PUBALIBANK\",\n",
    "    \"CITYBANK\",\n",
    "    \"ALARABANK\",\n",
    "    \"PRIMEBANK\",\n",
    "    \"IFIC\",\n",
    "    \"RECKITTBEN\",\n",
    "    \"NBL\",\n",
    "    \"BSRMSTEEL\",\n",
    "    \"BANKASIA\",\n",
    "    \"SHAHJABANK\",\n",
    "    \"MPETROLEUM\",\n",
    "    \"LINDEBD\",\n",
    "    \"BSC\",\n",
    "    \"JAMUNAOIL\",\n",
    "    \"PADMAOIL\",\n",
    "    \"SINGERBD\",\n",
    "    \"ACI\",\n",
    "    \"IBNSINA\",\n",
    "    \"HRTEX\",\n",
    "    \"SOUTHEASTB\",\n",
    "    \"APEXFOODS\",\n",
    "    \"SALAMCRST\",\n",
    "    \"FEDERALINS\",\n",
    "    \"DESCO\",\n",
    "    \"BATASHOE\",\n",
    "]\n",
    "\n",
    "len(top_companies)"
   ]
  },
  {
   "cell_type": "code",
   "execution_count": 11,
   "metadata": {},
   "outputs": [
    {
     "data": {
      "text/plain": [
       "date\n",
       "2010-12-30 00:00:00    39\n",
       "2018-07-17 00:00:00    39\n",
       "2018-06-05 00:00:00    39\n",
       "2018-06-04 00:00:00    39\n",
       "2018-06-03 00:00:00    39\n",
       "                       ..\n",
       "2014-08-24 00:00:00    39\n",
       "2014-08-21 00:00:00    39\n",
       "2014-08-20 00:00:00    39\n",
       "2014-08-19 00:00:00    39\n",
       "2022-01-02 00:00:00    39\n",
       "Name: count, Length: 3090, dtype: int64"
      ]
     },
     "execution_count": 11,
     "metadata": {},
     "output_type": "execute_result"
    }
   ],
   "source": [
    "new_df = df[df['trading_code'].isin(top_companies)]\n",
    "\n",
    "new_df['date'].value_counts()"
   ]
  },
  {
   "cell_type": "code",
   "execution_count": 12,
   "metadata": {},
   "outputs": [
    {
     "data": {
      "text/plain": [
       "trading_code\n",
       "ACI           3090\n",
       "POWERGRID     3090\n",
       "JAMUNAOIL     3090\n",
       "LINDEBD       3090\n",
       "MARICO        3090\n",
       "MPETROLEUM    3090\n",
       "NBL           3090\n",
       "OLYMPIC       3090\n",
       "PADMAOIL      3090\n",
       "PRIMEBANK     3090\n",
       "IFIC          3090\n",
       "PUBALIBANK    3090\n",
       "RECKITTBEN    3090\n",
       "SALAMCRST     3090\n",
       "SHAHJABANK    3090\n",
       "SINGERBD      3090\n",
       "SOUTHEASTB    3090\n",
       "SQURPHARMA    3090\n",
       "ISLAMIBANK    3090\n",
       "IBNSINA       3090\n",
       "ALARABANK     3090\n",
       "BSC           3090\n",
       "APEXFOODS     3090\n",
       "BANKASIA      3090\n",
       "BATASHOE      3090\n",
       "BATBC         3090\n",
       "BERGERPBL     3090\n",
       "BEXIMCO       3090\n",
       "BRACBANK      3090\n",
       "BSRMSTEEL     3090\n",
       "HRTEX         3090\n",
       "BXPHARMA      3090\n",
       "CITYBANK      3090\n",
       "DESCO         3090\n",
       "DUTCHBANGL    3090\n",
       "EBL           3090\n",
       "FEDERALINS    3090\n",
       "GP            3090\n",
       "SUMITPOWER    3090\n",
       "Name: count, dtype: int64"
      ]
     },
     "execution_count": 12,
     "metadata": {},
     "output_type": "execute_result"
    }
   ],
   "source": [
    "new_df['trading_code'].value_counts()"
   ]
  },
  {
   "cell_type": "code",
   "execution_count": 13,
   "metadata": {},
   "outputs": [],
   "source": [
    "df = new_df"
   ]
  },
  {
   "cell_type": "code",
   "execution_count": 14,
   "metadata": {},
   "outputs": [
    {
     "data": {
      "image/png": "[encoded data removed]",
      "text/plain": [
       "<Figure size 2500x500 with 1 Axes>"
      ]
     },
     "metadata": {},
     "output_type": "display_data"
    }
   ],
   "source": [
    "# per year minimum number of trading days\n",
    "df['date'] = pd.to_datetime(df['date'])\n",
    "df['year'] = df['date'].dt.year\n",
    "df['month'] = df['date'].dt.month\n",
    "\n",
    "# Create a new column 'year_month' for plotting\n",
    "df['year_month'] = df['year'].astype(str) + '-' + df['month'].astype(str)\n",
    "\n",
    "plt.figure(figsize=(25, 5))\n",
    "sns.countplot(x='year_month', data=df, order=sorted(df['year_month'].unique()))\n",
    "plt.xticks(rotation=90)  # Rotate x-axis labels for better visibility\n",
    "plt.show()"
   ]
  },
  {
   "cell_type": "code",
   "execution_count": 15,
   "metadata": {},
   "outputs": [
    {
     "name": "stdout",
     "output_type": "stream",
     "text": [
      "date                           0\n",
      "trading_code                   0\n",
      "last_traded_price           1762\n",
      "high                        1762\n",
      "low                         1762\n",
      "opening_price                717\n",
      "closing_price                 36\n",
      "yesterdays_closing_price       0\n",
      "trade                       1765\n",
      "value_mn                    1813\n",
      "volume                      1765\n",
      "year                           0\n",
      "month                          0\n",
      "year_month                     0\n",
      "dtype: int64\n"
     ]
    }
   ],
   "source": [
    "# print the zero count of each column\n",
    "zero_counts = df.apply(lambda x: (x==0).sum())\n",
    "print(zero_counts)"
   ]
  },
  {
   "cell_type": "code",
   "execution_count": 16,
   "metadata": {},
   "outputs": [
    {
     "name": "stdout",
     "output_type": "stream",
     "text": [
      "date                           0\n",
      "trading_code                   0\n",
      "last_traded_price           1762\n",
      "high                         312\n",
      "low                          312\n",
      "opening_price                 17\n",
      "closing_price                  0\n",
      "yesterdays_closing_price       0\n",
      "trade                       1765\n",
      "value_mn                    1813\n",
      "volume                      1765\n",
      "year                           0\n",
      "month                          0\n",
      "year_month                     0\n",
      "dtype: int64\n"
     ]
    }
   ],
   "source": [
    "# Calculate the mean values of each month for the columns high, low, opening, and closing\n",
    "# mean_values = df.groupby(['year', 'month', 'trading_code'])[['high', 'low', 'opening', 'closing']].mean()\n",
    "# Replace the zero values with the mean values\n",
    "new_df = df.copy()\n",
    "new_df[['high', 'low', 'opening_price', 'closing_price']] = \\\n",
    "        new_df.groupby(['year', 'month', 'trading_code'])[['high', 'low', 'opening_price', 'closing_price']].transform(lambda x: x.replace(0, x.mean()))\n",
    "\n",
    "# Verify the changes\n",
    "# print the zero count of each column\n",
    "zero_counts = new_df.apply(lambda x: (x==0).sum())\n",
    "print(zero_counts)"
   ]
  },
  {
   "cell_type": "code",
   "execution_count": 17,
   "metadata": {},
   "outputs": [
    {
     "name": "stdout",
     "output_type": "stream",
     "text": [
      "date                           0\n",
      "trading_code                   0\n",
      "last_traded_price           1762\n",
      "high                           0\n",
      "low                            0\n",
      "opening_price                  0\n",
      "closing_price                  0\n",
      "yesterdays_closing_price       0\n",
      "trade                       1765\n",
      "value_mn                    1813\n",
      "volume                      1765\n",
      "year                           0\n",
      "month                          0\n",
      "year_month                     0\n",
      "dtype: int64\n"
     ]
    }
   ],
   "source": [
    "new_df[['high', 'low', 'opening_price', 'closing_price']] = \\\n",
    "        new_df.groupby(['year', 'trading_code'])[['high', 'low', 'opening_price', 'closing_price']].transform(lambda x: x.replace(0, x.mean()))\n",
    "\n",
    "# Verify the changes\n",
    "# print the zero count of each column\n",
    "zero_counts = new_df.apply(lambda x: (x==0).sum())\n",
    "print(zero_counts)"
   ]
  },
  {
   "cell_type": "code",
   "execution_count": 18,
   "metadata": {},
   "outputs": [],
   "source": [
    "df = new_df.copy()"
   ]
  },
  {
   "cell_type": "code",
   "execution_count": 19,
   "metadata": {},
   "outputs": [
    {
     "data": {
      "text/plain": [
       "year\n",
       "2017    9672\n",
       "2010    9516\n",
       "2015    9516\n",
       "2022    9516\n",
       "2018    9438\n",
       "2016    9399\n",
       "2021    9360\n",
       "2013    9282\n",
       "2014    9282\n",
       "2012    9243\n",
       "2019    9243\n",
       "2011    8931\n",
       "2020    8112\n",
       "Name: count, dtype: int64"
      ]
     },
     "execution_count": 19,
     "metadata": {},
     "output_type": "execute_result"
    }
   ],
   "source": [
    "df['year'].value_counts()"
   ]
  },
  {
   "cell_type": "code",
   "execution_count": 20,
   "metadata": {},
   "outputs": [
    {
     "data": {
      "text/plain": [
       "trading_code\n",
       "ACI           3090\n",
       "POWERGRID     3090\n",
       "JAMUNAOIL     3090\n",
       "LINDEBD       3090\n",
       "MARICO        3090\n",
       "MPETROLEUM    3090\n",
       "NBL           3090\n",
       "OLYMPIC       3090\n",
       "PADMAOIL      3090\n",
       "PRIMEBANK     3090\n",
       "IFIC          3090\n",
       "PUBALIBANK    3090\n",
       "RECKITTBEN    3090\n",
       "SALAMCRST     3090\n",
       "SHAHJABANK    3090\n",
       "SINGERBD      3090\n",
       "SOUTHEASTB    3090\n",
       "SQURPHARMA    3090\n",
       "ISLAMIBANK    3090\n",
       "IBNSINA       3090\n",
       "ALARABANK     3090\n",
       "BSC           3090\n",
       "APEXFOODS     3090\n",
       "BANKASIA      3090\n",
       "BATASHOE      3090\n",
       "BATBC         3090\n",
       "BERGERPBL     3090\n",
       "BEXIMCO       3090\n",
       "BRACBANK      3090\n",
       "BSRMSTEEL     3090\n",
       "HRTEX         3090\n",
       "BXPHARMA      3090\n",
       "CITYBANK      3090\n",
       "DESCO         3090\n",
       "DUTCHBANGL    3090\n",
       "EBL           3090\n",
       "FEDERALINS    3090\n",
       "GP            3090\n",
       "SUMITPOWER    3090\n",
       "Name: count, dtype: int64"
      ]
     },
     "execution_count": 20,
     "metadata": {},
     "output_type": "execute_result"
    }
   ],
   "source": [
    "df['trading_code'].value_counts()"
   ]
  },
  {
   "cell_type": "markdown",
   "metadata": {},
   "source": [
    "The goal is to:\n",
    "Sample 208 unique days for each year in the dataset.\n",
    "Ensure that for each sampled day, data is available for all 30 trading codes (stocks or financial instruments).\n",
    "Combine the sampled data into a final dataset."
   ]
  },
  {
   "cell_type": "code",
   "execution_count": 21,
   "metadata": {},
   "outputs": [
    {
     "name": "stdout",
     "output_type": "stream",
     "text": [
      "208\n",
      "208\n",
      "208\n",
      "208\n",
      "208\n",
      "208\n",
      "208\n",
      "208\n",
      "208\n",
      "208\n",
      "208\n",
      "208\n",
      "208\n"
     ]
    }
   ],
   "source": [
    "# df['date'] = pd.to_datetime(df['date'])\n",
    "\n",
    "# Create an empty DataFrame to store the sampled data\n",
    "sampled_data = pd.DataFrame()\n",
    "\n",
    "# Group the data by year\n",
    "grouped_data = df.groupby('year')\n",
    "\n",
    "# Sample 200 days for each year\n",
    "for year, group in grouped_data:\n",
    "    # Sample 200 unique days\n",
    "    for t, g in group.groupby('trading_code'):\n",
    "        sampled_days = g['date'].sample(208, replace=False)\n",
    "        break\n",
    "    # check the number of unique days\n",
    "    print(len(sampled_days.unique()))\n",
    "    \n",
    "    # Filter the data for the sampled days\n",
    "    sampled_year_data = group[group['date'].isin(sampled_days)]\n",
    "    # print(len(sampled_year_data))\n",
    "    \n",
    "    # Ensure each sampled day includes all 30 trading codes\n",
    "    sampled_year_data = sampled_year_data.groupby('date').filter(lambda x: len(x) == 30)\n",
    "    \n",
    "    # Append the sampled data to the final DataFrame\n",
    "    sampled_data = pd.concat([sampled_data, sampled_year_data])\n",
    "\n",
    "# Reset index of the final sampled data\n",
    "sampled_data.reset_index(drop=True, inplace=True)"
   ]
  },
  {
   "cell_type": "code",
   "execution_count": 22,
   "metadata": {},
   "outputs": [
    {
     "data": {
      "text/plain": [
       "Series([], Name: count, dtype: int64)"
      ]
     },
     "execution_count": 22,
     "metadata": {},
     "output_type": "execute_result"
    }
   ],
   "source": [
    "sampled_data['year'].value_counts()"
   ]
  },
  {
   "cell_type": "code",
   "execution_count": 23,
   "metadata": {},
   "outputs": [],
   "source": [
    "\n",
    "# change the zero values of the columns volume to hundred\n",
    "df['volume'] = df['volume'].replace(0, 100)"
   ]
  },
  {
   "cell_type": "code",
   "execution_count": 24,
   "metadata": {},
   "outputs": [
    {
     "name": "stdout",
     "output_type": "stream",
     "text": [
      "date                           0\n",
      "trading_code                   0\n",
      "last_traded_price           1762\n",
      "high                           0\n",
      "low                            0\n",
      "opening_price                  0\n",
      "closing_price                  0\n",
      "yesterdays_closing_price       0\n",
      "trade                       1765\n",
      "value_mn                    1813\n",
      "volume                         0\n",
      "year                           0\n",
      "month                          0\n",
      "year_month                     0\n",
      "dtype: int64\n"
     ]
    }
   ],
   "source": [
    "# print the zero count of each column\n",
    "zero_counts = df.apply(lambda x: (x==0).sum())\n",
    "print(zero_counts)"
   ]
  },
  {
   "cell_type": "code",
   "execution_count": 25,
   "metadata": {},
   "outputs": [
    {
     "name": "stderr",
     "output_type": "stream",
     "text": [
      "/Users/md.raihansobhan/Desktop/BUET/4-2 Sessionals/CSE 472 | ML/online_class/ml/lib/python3.10/site-packages/pyfolio/pos.py:26: UserWarning: Module \"zipline.assets\" not found; mutltipliers will not be applied to position notionals.\n",
      "  warnings.warn(\n"
     ]
    }
   ],
   "source": [
    "import pandas as pd\n",
    "import numpy as np\n",
    "import matplotlib\n",
    "import matplotlib.pyplot as plt\n",
    "# matplotlib.use('Agg')\n",
    "import datetime\n",
    "\n",
    "%matplotlib inline\n",
    "from finrl.meta.preprocessor.yahoodownloader import YahooDownloader\n",
    "from finrl.meta.preprocessor.preprocessors import FeatureEngineer, data_split\n",
    "from finrl.meta.env_stock_trading.env_stocktrading import StockTradingEnv\n",
    "from finrl.agents.stablebaselines3.models import DRLAgent\n",
    "from stable_baselines3.common.logger import configure\n",
    "from finrl.meta.data_processor import DataProcessor\n",
    "\n",
    "from finrl.plot import backtest_stats, backtest_plot, get_daily_return, get_baseline\n",
    "from pprint import pprint\n",
    "\n",
    "import sys\n",
    "sys.path.append(\"../FinRL\")\n",
    "\n",
    "import itertools"
   ]
  },
  {
   "cell_type": "code",
   "execution_count": 26,
   "metadata": {},
   "outputs": [],
   "source": [
    "from finrl import config\n",
    "from finrl import config_tickers\n",
    "import os\n",
    "from finrl.main import check_and_make_directories\n",
    "from finrl.config import (\n",
    "    DATA_SAVE_DIR,\n",
    "    TRAINED_MODEL_DIR,\n",
    "    TENSORBOARD_LOG_DIR,\n",
    "    RESULTS_DIR,\n",
    "    INDICATORS,\n",
    "    TRAIN_START_DATE,\n",
    "    TRAIN_END_DATE,\n",
    "    TEST_START_DATE,\n",
    "    TEST_END_DATE,\n",
    "    TRADE_START_DATE,\n",
    "    TRADE_END_DATE,\n",
    ")\n",
    "check_and_make_directories([DATA_SAVE_DIR, TRAINED_MODEL_DIR, TENSORBOARD_LOG_DIR, RESULTS_DIR])"
   ]
  },
  {
   "cell_type": "code",
   "execution_count": 27,
   "metadata": {},
   "outputs": [
    {
     "data": {
      "text/html": [
       "<div>\n",
       "<style scoped>\n",
       "    .dataframe tbody tr th:only-of-type {\n",
       "        vertical-align: middle;\n",
       "    }\n",
       "\n",
       "    .dataframe tbody tr th {\n",
       "        vertical-align: top;\n",
       "    }\n",
       "\n",
       "    .dataframe thead th {\n",
       "        text-align: right;\n",
       "    }\n",
       "</style>\n",
       "<table border=\"1\" class=\"dataframe\">\n",
       "  <thead>\n",
       "    <tr style=\"text-align: right;\">\n",
       "      <th></th>\n",
       "      <th>date</th>\n",
       "      <th>trading_code</th>\n",
       "      <th>last_traded_price</th>\n",
       "      <th>high</th>\n",
       "      <th>low</th>\n",
       "      <th>opening_price</th>\n",
       "      <th>closing_price</th>\n",
       "      <th>yesterdays_closing_price</th>\n",
       "      <th>trade</th>\n",
       "      <th>value_mn</th>\n",
       "      <th>volume</th>\n",
       "      <th>year</th>\n",
       "      <th>month</th>\n",
       "      <th>year_month</th>\n",
       "    </tr>\n",
       "  </thead>\n",
       "  <tbody>\n",
       "    <tr>\n",
       "      <th>2777</th>\n",
       "      <td>2010-12-30</td>\n",
       "      <td>ACI</td>\n",
       "      <td>373.5</td>\n",
       "      <td>374.0</td>\n",
       "      <td>368.0</td>\n",
       "      <td>368.0</td>\n",
       "      <td>372.6</td>\n",
       "      <td>372.5</td>\n",
       "      <td>135</td>\n",
       "      <td>6.5451</td>\n",
       "      <td>17600</td>\n",
       "      <td>2010</td>\n",
       "      <td>12</td>\n",
       "      <td>2010-12</td>\n",
       "    </tr>\n",
       "    <tr>\n",
       "      <th>2778</th>\n",
       "      <td>2010-12-29</td>\n",
       "      <td>ACI</td>\n",
       "      <td>373.0</td>\n",
       "      <td>377.8</td>\n",
       "      <td>369.0</td>\n",
       "      <td>377.8</td>\n",
       "      <td>372.5</td>\n",
       "      <td>373.2</td>\n",
       "      <td>87</td>\n",
       "      <td>2.8799</td>\n",
       "      <td>7750</td>\n",
       "      <td>2010</td>\n",
       "      <td>12</td>\n",
       "      <td>2010-12</td>\n",
       "    </tr>\n",
       "    <tr>\n",
       "      <th>2779</th>\n",
       "      <td>2010-12-28</td>\n",
       "      <td>ACI</td>\n",
       "      <td>373.2</td>\n",
       "      <td>375.0</td>\n",
       "      <td>367.3</td>\n",
       "      <td>374.9</td>\n",
       "      <td>373.2</td>\n",
       "      <td>366.7</td>\n",
       "      <td>167</td>\n",
       "      <td>6.9818</td>\n",
       "      <td>18750</td>\n",
       "      <td>2010</td>\n",
       "      <td>12</td>\n",
       "      <td>2010-12</td>\n",
       "    </tr>\n",
       "    <tr>\n",
       "      <th>2780</th>\n",
       "      <td>2010-12-27</td>\n",
       "      <td>ACI</td>\n",
       "      <td>367.0</td>\n",
       "      <td>370.0</td>\n",
       "      <td>365.7</td>\n",
       "      <td>369.9</td>\n",
       "      <td>366.7</td>\n",
       "      <td>367.6</td>\n",
       "      <td>130</td>\n",
       "      <td>4.7619</td>\n",
       "      <td>12950</td>\n",
       "      <td>2010</td>\n",
       "      <td>12</td>\n",
       "      <td>2010-12</td>\n",
       "    </tr>\n",
       "    <tr>\n",
       "      <th>2781</th>\n",
       "      <td>2010-12-26</td>\n",
       "      <td>ACI</td>\n",
       "      <td>369.9</td>\n",
       "      <td>371.0</td>\n",
       "      <td>365.0</td>\n",
       "      <td>365.3</td>\n",
       "      <td>367.6</td>\n",
       "      <td>367.9</td>\n",
       "      <td>117</td>\n",
       "      <td>3.9473</td>\n",
       "      <td>10700</td>\n",
       "      <td>2010</td>\n",
       "      <td>12</td>\n",
       "      <td>2010-12</td>\n",
       "    </tr>\n",
       "  </tbody>\n",
       "</table>\n",
       "</div>"
      ],
      "text/plain": [
       "           date trading_code  last_traded_price   high    low  opening_price  \\\n",
       "2777 2010-12-30          ACI              373.5  374.0  368.0          368.0   \n",
       "2778 2010-12-29          ACI              373.0  377.8  369.0          377.8   \n",
       "2779 2010-12-28          ACI              373.2  375.0  367.3          374.9   \n",
       "2780 2010-12-27          ACI              367.0  370.0  365.7          369.9   \n",
       "2781 2010-12-26          ACI              369.9  371.0  365.0          365.3   \n",
       "\n",
       "      closing_price  yesterdays_closing_price  trade  value_mn  volume  year  \\\n",
       "2777          372.6                     372.5    135    6.5451   17600  2010   \n",
       "2778          372.5                     373.2     87    2.8799    7750  2010   \n",
       "2779          373.2                     366.7    167    6.9818   18750  2010   \n",
       "2780          366.7                     367.6    130    4.7619   12950  2010   \n",
       "2781          367.6                     367.9    117    3.9473   10700  2010   \n",
       "\n",
       "      month year_month  \n",
       "2777     12    2010-12  \n",
       "2778     12    2010-12  \n",
       "2779     12    2010-12  \n",
       "2780     12    2010-12  \n",
       "2781     12    2010-12  "
      ]
     },
     "execution_count": 27,
     "metadata": {},
     "output_type": "execute_result"
    }
   ],
   "source": [
    "df.head()"
   ]
  },
  {
   "cell_type": "code",
   "execution_count": 28,
   "metadata": {},
   "outputs": [
    {
     "data": {
      "text/html": [
       "<div>\n",
       "<style scoped>\n",
       "    .dataframe tbody tr th:only-of-type {\n",
       "        vertical-align: middle;\n",
       "    }\n",
       "\n",
       "    .dataframe tbody tr th {\n",
       "        vertical-align: top;\n",
       "    }\n",
       "\n",
       "    .dataframe thead th {\n",
       "        text-align: right;\n",
       "    }\n",
       "</style>\n",
       "<table border=\"1\" class=\"dataframe\">\n",
       "  <thead>\n",
       "    <tr style=\"text-align: right;\">\n",
       "      <th></th>\n",
       "      <th>date</th>\n",
       "      <th>tic</th>\n",
       "      <th>high</th>\n",
       "      <th>low</th>\n",
       "      <th>open</th>\n",
       "      <th>close</th>\n",
       "      <th>volume</th>\n",
       "    </tr>\n",
       "  </thead>\n",
       "  <tbody>\n",
       "    <tr>\n",
       "      <th>2777</th>\n",
       "      <td>2010-12-30</td>\n",
       "      <td>ACI</td>\n",
       "      <td>374.0</td>\n",
       "      <td>368.0</td>\n",
       "      <td>368.0</td>\n",
       "      <td>372.6</td>\n",
       "      <td>17600</td>\n",
       "    </tr>\n",
       "    <tr>\n",
       "      <th>2778</th>\n",
       "      <td>2010-12-29</td>\n",
       "      <td>ACI</td>\n",
       "      <td>377.8</td>\n",
       "      <td>369.0</td>\n",
       "      <td>377.8</td>\n",
       "      <td>372.5</td>\n",
       "      <td>7750</td>\n",
       "    </tr>\n",
       "    <tr>\n",
       "      <th>2779</th>\n",
       "      <td>2010-12-28</td>\n",
       "      <td>ACI</td>\n",
       "      <td>375.0</td>\n",
       "      <td>367.3</td>\n",
       "      <td>374.9</td>\n",
       "      <td>373.2</td>\n",
       "      <td>18750</td>\n",
       "    </tr>\n",
       "    <tr>\n",
       "      <th>2780</th>\n",
       "      <td>2010-12-27</td>\n",
       "      <td>ACI</td>\n",
       "      <td>370.0</td>\n",
       "      <td>365.7</td>\n",
       "      <td>369.9</td>\n",
       "      <td>366.7</td>\n",
       "      <td>12950</td>\n",
       "    </tr>\n",
       "    <tr>\n",
       "      <th>2781</th>\n",
       "      <td>2010-12-26</td>\n",
       "      <td>ACI</td>\n",
       "      <td>371.0</td>\n",
       "      <td>365.0</td>\n",
       "      <td>365.3</td>\n",
       "      <td>367.6</td>\n",
       "      <td>10700</td>\n",
       "    </tr>\n",
       "  </tbody>\n",
       "</table>\n",
       "</div>"
      ],
      "text/plain": [
       "           date  tic   high    low   open  close  volume\n",
       "2777 2010-12-30  ACI  374.0  368.0  368.0  372.6   17600\n",
       "2778 2010-12-29  ACI  377.8  369.0  377.8  372.5    7750\n",
       "2779 2010-12-28  ACI  375.0  367.3  374.9  373.2   18750\n",
       "2780 2010-12-27  ACI  370.0  365.7  369.9  366.7   12950\n",
       "2781 2010-12-26  ACI  371.0  365.0  365.3  367.6   10700"
      ]
     },
     "execution_count": 28,
     "metadata": {},
     "output_type": "execute_result"
    }
   ],
   "source": [
    "df.drop(['year_month', 'last_traded_price', 'trade', 'value_mn','yesterdays_closing_price','month','year'], axis=1, inplace=True)\n",
    "df.rename(columns={'trading_code': 'tic', 'opening_price': 'open', 'closing_price': 'close'}, inplace=True)\n",
    "df.head()"
   ]
  },
  {
   "cell_type": "code",
   "execution_count": 29,
   "metadata": {},
   "outputs": [
    {
     "name": "stderr",
     "output_type": "stream",
     "text": [
      "/var/folders/hw/72ljgfr56y93ypctd2ct3kjm0000gn/T/ipykernel_29739/2605565239.py:10: UserWarning: FigureCanvasAgg is non-interactive, and thus cannot be shown\n",
      "  plt.show()\n"
     ]
    }
   ],
   "source": [
    "# Assuming 'df' is your DataFrame and 'close' is the column with closing prices\n",
    "std_dev = df.groupby('tic')['close'].std()\n",
    "\n",
    "plt.figure(figsize=(10,6))\n",
    "sns.histplot(std_dev, bins=50, kde=True)\n",
    "plt.title('Distribution of std of the stocks')\n",
    "plt.xlabel('Standard Deviation')\n",
    "plt.ylabel('Frequency')\n",
    "plt.savefig('output.png')\n",
    "plt.show()"
   ]
  },
  {
   "cell_type": "code",
   "execution_count": 30,
   "metadata": {},
   "outputs": [],
   "source": [
    "df['day'] = pd.to_datetime(df['date']).dt.dayofweek\n",
    "df['short_resistance']= df['high'].rolling(window=10,min_periods=0).max()\n",
    "df['short_support']= df['low'].rolling(window=10,min_periods=0).min()\n",
    "df['long_resistance']= df['high'].rolling(window=50,min_periods=0).max()\n",
    "df['long_support']= df['low'].rolling(window=50,min_periods=0).min()\n",
    "df = df.reset_index(drop=True)\n",
    "df = df.sort_values(by=['date','tic']).reset_index(drop=True)"
   ]
  },
  {
   "cell_type": "code",
   "execution_count": 31,
   "metadata": {},
   "outputs": [
    {
     "data": {
      "text/plain": [
       "date                datetime64[ns]\n",
       "tic                         object\n",
       "high                       float64\n",
       "low                        float64\n",
       "open                       float64\n",
       "close                      float64\n",
       "volume                       int64\n",
       "day                          int32\n",
       "short_resistance           float64\n",
       "short_support              float64\n",
       "long_resistance            float64\n",
       "long_support               float64\n",
       "dtype: object"
      ]
     },
     "execution_count": 31,
     "metadata": {},
     "output_type": "execute_result"
    }
   ],
   "source": [
    "df.dtypes"
   ]
  },
  {
   "cell_type": "code",
   "execution_count": 32,
   "metadata": {},
   "outputs": [],
   "source": [
    "# convert datetime to string\n",
    "df['date'] = df['date'].dt.strftime('%Y-%m-%d')"
   ]
  },
  {
   "cell_type": "code",
   "execution_count": 33,
   "metadata": {},
   "outputs": [
    {
     "name": "stdout",
     "output_type": "stream",
     "text": [
      "(120510, 12)\n"
     ]
    },
    {
     "data": {
      "text/html": [
       "<div>\n",
       "<style scoped>\n",
       "    .dataframe tbody tr th:only-of-type {\n",
       "        vertical-align: middle;\n",
       "    }\n",
       "\n",
       "    .dataframe tbody tr th {\n",
       "        vertical-align: top;\n",
       "    }\n",
       "\n",
       "    .dataframe thead th {\n",
       "        text-align: right;\n",
       "    }\n",
       "</style>\n",
       "<table border=\"1\" class=\"dataframe\">\n",
       "  <thead>\n",
       "    <tr style=\"text-align: right;\">\n",
       "      <th></th>\n",
       "      <th>date</th>\n",
       "      <th>tic</th>\n",
       "      <th>high</th>\n",
       "      <th>low</th>\n",
       "      <th>open</th>\n",
       "      <th>close</th>\n",
       "      <th>volume</th>\n",
       "      <th>day</th>\n",
       "      <th>short_resistance</th>\n",
       "      <th>short_support</th>\n",
       "      <th>long_resistance</th>\n",
       "      <th>long_support</th>\n",
       "    </tr>\n",
       "  </thead>\n",
       "  <tbody>\n",
       "    <tr>\n",
       "      <th>0</th>\n",
       "      <td>2010-01-03</td>\n",
       "      <td>ACI</td>\n",
       "      <td>449.90</td>\n",
       "      <td>444.00</td>\n",
       "      <td>449.9</td>\n",
       "      <td>446.50</td>\n",
       "      <td>91550</td>\n",
       "      <td>6</td>\n",
       "      <td>528.0</td>\n",
       "      <td>444.0</td>\n",
       "      <td>544.0</td>\n",
       "      <td>444.000000</td>\n",
       "    </tr>\n",
       "    <tr>\n",
       "      <th>1</th>\n",
       "      <td>2010-01-03</td>\n",
       "      <td>ALARABANK</td>\n",
       "      <td>530.00</td>\n",
       "      <td>516.00</td>\n",
       "      <td>530.0</td>\n",
       "      <td>522.25</td>\n",
       "      <td>128350</td>\n",
       "      <td>6</td>\n",
       "      <td>532.0</td>\n",
       "      <td>502.0</td>\n",
       "      <td>614.0</td>\n",
       "      <td>493.534091</td>\n",
       "    </tr>\n",
       "    <tr>\n",
       "      <th>2</th>\n",
       "      <td>2010-01-03</td>\n",
       "      <td>APEXFOODS</td>\n",
       "      <td>1239.00</td>\n",
       "      <td>1170.25</td>\n",
       "      <td>1239.0</td>\n",
       "      <td>1189.75</td>\n",
       "      <td>225</td>\n",
       "      <td>6</td>\n",
       "      <td>1355.0</td>\n",
       "      <td>1170.0</td>\n",
       "      <td>1355.0</td>\n",
       "      <td>1002.000000</td>\n",
       "    </tr>\n",
       "    <tr>\n",
       "      <th>3</th>\n",
       "      <td>2010-01-03</td>\n",
       "      <td>BANKASIA</td>\n",
       "      <td>459.75</td>\n",
       "      <td>437.00</td>\n",
       "      <td>437.0</td>\n",
       "      <td>452.00</td>\n",
       "      <td>298550</td>\n",
       "      <td>6</td>\n",
       "      <td>495.0</td>\n",
       "      <td>431.0</td>\n",
       "      <td>590.0</td>\n",
       "      <td>431.000000</td>\n",
       "    </tr>\n",
       "    <tr>\n",
       "      <th>4</th>\n",
       "      <td>2010-01-03</td>\n",
       "      <td>BATASHOE</td>\n",
       "      <td>534.90</td>\n",
       "      <td>518.00</td>\n",
       "      <td>527.0</td>\n",
       "      <td>524.40</td>\n",
       "      <td>39500</td>\n",
       "      <td>6</td>\n",
       "      <td>624.0</td>\n",
       "      <td>510.0</td>\n",
       "      <td>659.9</td>\n",
       "      <td>510.000000</td>\n",
       "    </tr>\n",
       "  </tbody>\n",
       "</table>\n",
       "</div>"
      ],
      "text/plain": [
       "         date        tic     high      low    open    close  volume  day  \\\n",
       "0  2010-01-03        ACI   449.90   444.00   449.9   446.50   91550    6   \n",
       "1  2010-01-03  ALARABANK   530.00   516.00   530.0   522.25  128350    6   \n",
       "2  2010-01-03  APEXFOODS  1239.00  1170.25  1239.0  1189.75     225    6   \n",
       "3  2010-01-03   BANKASIA   459.75   437.00   437.0   452.00  298550    6   \n",
       "4  2010-01-03   BATASHOE   534.90   518.00   527.0   524.40   39500    6   \n",
       "\n",
       "   short_resistance  short_support  long_resistance  long_support  \n",
       "0             528.0          444.0            544.0    444.000000  \n",
       "1             532.0          502.0            614.0    493.534091  \n",
       "2            1355.0         1170.0           1355.0   1002.000000  \n",
       "3             495.0          431.0            590.0    431.000000  \n",
       "4             624.0          510.0            659.9    510.000000  "
      ]
     },
     "execution_count": 33,
     "metadata": {},
     "output_type": "execute_result"
    }
   ],
   "source": [
    "print(df.shape)\n",
    "df.head()"
   ]
  },
  {
   "cell_type": "code",
   "execution_count": 34,
   "metadata": {},
   "outputs": [
    {
     "name": "stdout",
     "output_type": "stream",
     "text": [
      "3090\n"
     ]
    }
   ],
   "source": [
    "data = df.copy()\n",
    "df_price_pivot = data.pivot(index=\"date\", columns=\"tic\", values=\"close\")\n",
    "df_price_pivot = df_price_pivot.pct_change()\n",
    "unique_date = data.date.unique()\n",
    "# start after a year\n",
    "start = 208\n",
    "turbulence_index = [0] * start\n",
    "# turbulence_index = [0]\n",
    "count = 0\n",
    "for i in range(start, len(unique_date)):\n",
    "  current_price = df_price_pivot[df_price_pivot.index == unique_date[i]]\n",
    "  # use one year rolling window to calcualte covariance\n",
    "  hist_price = df_price_pivot[\n",
    "      (df_price_pivot.index < unique_date[i])\n",
    "      & (df_price_pivot.index >= unique_date[i - 208])\n",
    "  ]\n",
    "  # Drop tickers which has number missing values more than the \"oldest\" ticker\n",
    "  filtered_hist_price = hist_price.iloc[\n",
    "      hist_price.isna().sum().min() :\n",
    "  ].dropna(axis=1)\n",
    "\n",
    "  cov_temp = filtered_hist_price.cov()\n",
    "  current_temp = current_price[[x for x in filtered_hist_price]] - np.mean(\n",
    "      filtered_hist_price, axis=0\n",
    "  )\n",
    "  # cov_temp = hist_price.cov()\n",
    "  # current_temp=(current_price - np.mean(hist_price,axis=0))\n",
    "\n",
    "  temp = current_temp.values.dot(np.linalg.pinv(cov_temp)).dot(\n",
    "      current_temp.values.T\n",
    "  )\n",
    "  if temp > 0:\n",
    "      count += 1\n",
    "      if count > 2:\n",
    "          turbulence_temp = temp[0][0]\n",
    "      else:\n",
    "          # avoid large outlier because of the calculation just begins\n",
    "          turbulence_temp = 0\n",
    "  else:\n",
    "      turbulence_temp = 0\n",
    "  turbulence_index.append(turbulence_temp)\n",
    "print(len(turbulence_index))\n",
    "try:\n",
    "  turbulence_index = pd.DataFrame(\n",
    "      {\"date\": df_price_pivot.index, \"turbulence\": turbulence_index}\n",
    "  )\n",
    "except ValueError:\n",
    "  raise Exception(\"Turbulence information could not be added.\")"
   ]
  },
  {
   "cell_type": "code",
   "execution_count": 35,
   "metadata": {},
   "outputs": [
    {
     "data": {
      "text/plain": [
       "12007.362114149953"
      ]
     },
     "execution_count": 35,
     "metadata": {},
     "output_type": "execute_result"
    }
   ],
   "source": [
    "turbulence_index['turbulence'].max()"
   ]
  },
  {
   "cell_type": "code",
   "execution_count": 36,
   "metadata": {},
   "outputs": [
    {
     "data": {
      "text/plain": [
       "39"
      ]
     },
     "execution_count": 36,
     "metadata": {},
     "output_type": "execute_result"
    }
   ],
   "source": [
    "df = df.merge(turbulence_index, on=\"date\")\n",
    "df['tic'].value_counts()\n",
    "\n",
    "df['tic'].nunique()"
   ]
  },
  {
   "cell_type": "code",
   "execution_count": 37,
   "metadata": {},
   "outputs": [
    {
     "data": {
      "text/plain": [
       "(120510, 13)"
      ]
     },
     "execution_count": 37,
     "metadata": {},
     "output_type": "execute_result"
    }
   ],
   "source": [
    "df['tic'].nunique()\n",
    "df.shape"
   ]
  },
  {
   "cell_type": "code",
   "execution_count": 38,
   "metadata": {},
   "outputs": [
    {
     "name": "stdout",
     "output_type": "stream",
     "text": [
      "Successfully added technical indicators\n"
     ]
    }
   ],
   "source": [
    "fe = FeatureEngineer(\n",
    "                    use_technical_indicator=True,\n",
    "                    tech_indicator_list = INDICATORS,\n",
    "                    use_vix=False,\n",
    "                    use_turbulence=False,\n",
    "                    user_defined_feature = False)\n",
    "# turbulance is giving error\n",
    "df = df.fillna(value = 0)\n",
    "processed = fe.preprocess_data(df)"
   ]
  },
  {
   "cell_type": "code",
   "execution_count": 39,
   "metadata": {},
   "outputs": [
    {
     "data": {
      "text/plain": [
       "39"
      ]
     },
     "execution_count": 39,
     "metadata": {},
     "output_type": "execute_result"
    }
   ],
   "source": [
    "processed['tic'].nunique()\n"
   ]
  },
  {
   "cell_type": "code",
   "execution_count": 40,
   "metadata": {},
   "outputs": [],
   "source": [
    "list_ticker = processed[\"tic\"].unique().tolist()\n",
    "list_date = list(pd.date_range(processed['date'].min(),processed['date'].max()).astype(str))\n",
    "combination = list(itertools.product(list_date,list_ticker))\n",
    "\n",
    "processed_full = pd.DataFrame(combination,columns=[\"date\",\"tic\"]).merge(processed,on=[\"date\",\"tic\"],how=\"left\")\n",
    "processed_full = processed_full[processed_full['date'].isin(processed['date'])]\n",
    "processed_full = processed_full.sort_values(['date','tic'])\n",
    "\n",
    "processed_full = processed_full.fillna(0)"
   ]
  },
  {
   "cell_type": "code",
   "execution_count": 41,
   "metadata": {},
   "outputs": [
    {
     "name": "stdout",
     "output_type": "stream",
     "text": [
      "(120510, 21)\n"
     ]
    },
    {
     "data": {
      "text/html": [
       "<div>\n",
       "<style scoped>\n",
       "    .dataframe tbody tr th:only-of-type {\n",
       "        vertical-align: middle;\n",
       "    }\n",
       "\n",
       "    .dataframe tbody tr th {\n",
       "        vertical-align: top;\n",
       "    }\n",
       "\n",
       "    .dataframe thead th {\n",
       "        text-align: right;\n",
       "    }\n",
       "</style>\n",
       "<table border=\"1\" class=\"dataframe\">\n",
       "  <thead>\n",
       "    <tr style=\"text-align: right;\">\n",
       "      <th></th>\n",
       "      <th>date</th>\n",
       "      <th>tic</th>\n",
       "      <th>high</th>\n",
       "      <th>low</th>\n",
       "      <th>open</th>\n",
       "      <th>close</th>\n",
       "      <th>volume</th>\n",
       "      <th>day</th>\n",
       "      <th>short_resistance</th>\n",
       "      <th>short_support</th>\n",
       "      <th>...</th>\n",
       "      <th>long_support</th>\n",
       "      <th>turbulence</th>\n",
       "      <th>macd</th>\n",
       "      <th>boll_ub</th>\n",
       "      <th>boll_lb</th>\n",
       "      <th>rsi_30</th>\n",
       "      <th>cci_30</th>\n",
       "      <th>dx_30</th>\n",
       "      <th>close_30_sma</th>\n",
       "      <th>close_60_sma</th>\n",
       "    </tr>\n",
       "  </thead>\n",
       "  <tbody>\n",
       "    <tr>\n",
       "      <th>0</th>\n",
       "      <td>2010-01-03</td>\n",
       "      <td>ACI</td>\n",
       "      <td>449.90000</td>\n",
       "      <td>444.000000</td>\n",
       "      <td>449.9</td>\n",
       "      <td>446.50</td>\n",
       "      <td>91550.0</td>\n",
       "      <td>6.0</td>\n",
       "      <td>528.0</td>\n",
       "      <td>444.000000</td>\n",
       "      <td>...</td>\n",
       "      <td>444.000000</td>\n",
       "      <td>0.0</td>\n",
       "      <td>0.0</td>\n",
       "      <td>481.530108</td>\n",
       "      <td>429.769892</td>\n",
       "      <td>100.0</td>\n",
       "      <td>66.666667</td>\n",
       "      <td>100.0</td>\n",
       "      <td>446.50</td>\n",
       "      <td>446.50</td>\n",
       "    </tr>\n",
       "    <tr>\n",
       "      <th>1</th>\n",
       "      <td>2010-01-03</td>\n",
       "      <td>ALARABANK</td>\n",
       "      <td>530.00000</td>\n",
       "      <td>516.000000</td>\n",
       "      <td>530.0</td>\n",
       "      <td>522.25</td>\n",
       "      <td>128350.0</td>\n",
       "      <td>6.0</td>\n",
       "      <td>532.0</td>\n",
       "      <td>502.000000</td>\n",
       "      <td>...</td>\n",
       "      <td>493.534091</td>\n",
       "      <td>0.0</td>\n",
       "      <td>0.0</td>\n",
       "      <td>481.530108</td>\n",
       "      <td>429.769892</td>\n",
       "      <td>100.0</td>\n",
       "      <td>66.666667</td>\n",
       "      <td>100.0</td>\n",
       "      <td>522.25</td>\n",
       "      <td>522.25</td>\n",
       "    </tr>\n",
       "    <tr>\n",
       "      <th>2</th>\n",
       "      <td>2010-01-03</td>\n",
       "      <td>APEXFOODS</td>\n",
       "      <td>1239.00000</td>\n",
       "      <td>1170.250000</td>\n",
       "      <td>1239.0</td>\n",
       "      <td>1189.75</td>\n",
       "      <td>225.0</td>\n",
       "      <td>6.0</td>\n",
       "      <td>1355.0</td>\n",
       "      <td>1170.000000</td>\n",
       "      <td>...</td>\n",
       "      <td>1002.000000</td>\n",
       "      <td>0.0</td>\n",
       "      <td>0.0</td>\n",
       "      <td>481.530108</td>\n",
       "      <td>429.769892</td>\n",
       "      <td>100.0</td>\n",
       "      <td>66.666667</td>\n",
       "      <td>100.0</td>\n",
       "      <td>1189.75</td>\n",
       "      <td>1189.75</td>\n",
       "    </tr>\n",
       "    <tr>\n",
       "      <th>3</th>\n",
       "      <td>2010-01-03</td>\n",
       "      <td>BANKASIA</td>\n",
       "      <td>459.75000</td>\n",
       "      <td>437.000000</td>\n",
       "      <td>437.0</td>\n",
       "      <td>452.00</td>\n",
       "      <td>298550.0</td>\n",
       "      <td>6.0</td>\n",
       "      <td>495.0</td>\n",
       "      <td>431.000000</td>\n",
       "      <td>...</td>\n",
       "      <td>431.000000</td>\n",
       "      <td>0.0</td>\n",
       "      <td>0.0</td>\n",
       "      <td>481.530108</td>\n",
       "      <td>429.769892</td>\n",
       "      <td>100.0</td>\n",
       "      <td>66.666667</td>\n",
       "      <td>100.0</td>\n",
       "      <td>452.00</td>\n",
       "      <td>452.00</td>\n",
       "    </tr>\n",
       "    <tr>\n",
       "      <th>4</th>\n",
       "      <td>2010-01-03</td>\n",
       "      <td>BATASHOE</td>\n",
       "      <td>534.90000</td>\n",
       "      <td>518.000000</td>\n",
       "      <td>527.0</td>\n",
       "      <td>524.40</td>\n",
       "      <td>39500.0</td>\n",
       "      <td>6.0</td>\n",
       "      <td>624.0</td>\n",
       "      <td>510.000000</td>\n",
       "      <td>...</td>\n",
       "      <td>510.000000</td>\n",
       "      <td>0.0</td>\n",
       "      <td>0.0</td>\n",
       "      <td>481.530108</td>\n",
       "      <td>429.769892</td>\n",
       "      <td>100.0</td>\n",
       "      <td>66.666667</td>\n",
       "      <td>100.0</td>\n",
       "      <td>524.40</td>\n",
       "      <td>524.40</td>\n",
       "    </tr>\n",
       "    <tr>\n",
       "      <th>5</th>\n",
       "      <td>2010-01-03</td>\n",
       "      <td>BATBC</td>\n",
       "      <td>436.00000</td>\n",
       "      <td>407.600000</td>\n",
       "      <td>414.9</td>\n",
       "      <td>432.10</td>\n",
       "      <td>467500.0</td>\n",
       "      <td>6.0</td>\n",
       "      <td>464.9</td>\n",
       "      <td>407.600000</td>\n",
       "      <td>...</td>\n",
       "      <td>407.600000</td>\n",
       "      <td>0.0</td>\n",
       "      <td>0.0</td>\n",
       "      <td>481.530108</td>\n",
       "      <td>429.769892</td>\n",
       "      <td>100.0</td>\n",
       "      <td>66.666667</td>\n",
       "      <td>100.0</td>\n",
       "      <td>432.10</td>\n",
       "      <td>432.10</td>\n",
       "    </tr>\n",
       "    <tr>\n",
       "      <th>6</th>\n",
       "      <td>2010-01-03</td>\n",
       "      <td>BERGERPBL</td>\n",
       "      <td>679.90000</td>\n",
       "      <td>626.000000</td>\n",
       "      <td>639.0</td>\n",
       "      <td>666.80</td>\n",
       "      <td>123850.0</td>\n",
       "      <td>6.0</td>\n",
       "      <td>722.0</td>\n",
       "      <td>626.000000</td>\n",
       "      <td>...</td>\n",
       "      <td>555.000000</td>\n",
       "      <td>0.0</td>\n",
       "      <td>0.0</td>\n",
       "      <td>481.530108</td>\n",
       "      <td>429.769892</td>\n",
       "      <td>100.0</td>\n",
       "      <td>66.666667</td>\n",
       "      <td>100.0</td>\n",
       "      <td>666.80</td>\n",
       "      <td>666.80</td>\n",
       "    </tr>\n",
       "    <tr>\n",
       "      <th>7</th>\n",
       "      <td>2010-01-03</td>\n",
       "      <td>BEXIMCO</td>\n",
       "      <td>321.00000</td>\n",
       "      <td>310.100000</td>\n",
       "      <td>310.1</td>\n",
       "      <td>319.90</td>\n",
       "      <td>2230100.0</td>\n",
       "      <td>6.0</td>\n",
       "      <td>328.7</td>\n",
       "      <td>310.100000</td>\n",
       "      <td>...</td>\n",
       "      <td>310.100000</td>\n",
       "      <td>0.0</td>\n",
       "      <td>0.0</td>\n",
       "      <td>481.530108</td>\n",
       "      <td>429.769892</td>\n",
       "      <td>100.0</td>\n",
       "      <td>66.666667</td>\n",
       "      <td>100.0</td>\n",
       "      <td>319.90</td>\n",
       "      <td>319.90</td>\n",
       "    </tr>\n",
       "    <tr>\n",
       "      <th>8</th>\n",
       "      <td>2010-01-03</td>\n",
       "      <td>BRACBANK</td>\n",
       "      <td>705.00000</td>\n",
       "      <td>680.250000</td>\n",
       "      <td>705.0</td>\n",
       "      <td>687.25</td>\n",
       "      <td>199600.0</td>\n",
       "      <td>6.0</td>\n",
       "      <td>773.0</td>\n",
       "      <td>680.250000</td>\n",
       "      <td>...</td>\n",
       "      <td>542.000000</td>\n",
       "      <td>0.0</td>\n",
       "      <td>0.0</td>\n",
       "      <td>481.530108</td>\n",
       "      <td>429.769892</td>\n",
       "      <td>100.0</td>\n",
       "      <td>66.666667</td>\n",
       "      <td>100.0</td>\n",
       "      <td>687.25</td>\n",
       "      <td>687.25</td>\n",
       "    </tr>\n",
       "    <tr>\n",
       "      <th>9</th>\n",
       "      <td>2010-01-03</td>\n",
       "      <td>BSC</td>\n",
       "      <td>1814.22619</td>\n",
       "      <td>1740.761905</td>\n",
       "      <td>5490.0</td>\n",
       "      <td>5490.00</td>\n",
       "      <td>100.0</td>\n",
       "      <td>6.0</td>\n",
       "      <td>5221.0</td>\n",
       "      <td>1740.761905</td>\n",
       "      <td>...</td>\n",
       "      <td>172.727273</td>\n",
       "      <td>0.0</td>\n",
       "      <td>0.0</td>\n",
       "      <td>481.530108</td>\n",
       "      <td>429.769892</td>\n",
       "      <td>100.0</td>\n",
       "      <td>66.666667</td>\n",
       "      <td>100.0</td>\n",
       "      <td>5490.00</td>\n",
       "      <td>5490.00</td>\n",
       "    </tr>\n",
       "  </tbody>\n",
       "</table>\n",
       "<p>10 rows × 21 columns</p>\n",
       "</div>"
      ],
      "text/plain": [
       "         date        tic        high          low    open    close     volume  \\\n",
       "0  2010-01-03        ACI   449.90000   444.000000   449.9   446.50    91550.0   \n",
       "1  2010-01-03  ALARABANK   530.00000   516.000000   530.0   522.25   128350.0   \n",
       "2  2010-01-03  APEXFOODS  1239.00000  1170.250000  1239.0  1189.75      225.0   \n",
       "3  2010-01-03   BANKASIA   459.75000   437.000000   437.0   452.00   298550.0   \n",
       "4  2010-01-03   BATASHOE   534.90000   518.000000   527.0   524.40    39500.0   \n",
       "5  2010-01-03      BATBC   436.00000   407.600000   414.9   432.10   467500.0   \n",
       "6  2010-01-03  BERGERPBL   679.90000   626.000000   639.0   666.80   123850.0   \n",
       "7  2010-01-03    BEXIMCO   321.00000   310.100000   310.1   319.90  2230100.0   \n",
       "8  2010-01-03   BRACBANK   705.00000   680.250000   705.0   687.25   199600.0   \n",
       "9  2010-01-03        BSC  1814.22619  1740.761905  5490.0  5490.00      100.0   \n",
       "\n",
       "   day  short_resistance  short_support  ...  long_support  turbulence  macd  \\\n",
       "0  6.0             528.0     444.000000  ...    444.000000         0.0   0.0   \n",
       "1  6.0             532.0     502.000000  ...    493.534091         0.0   0.0   \n",
       "2  6.0            1355.0    1170.000000  ...   1002.000000         0.0   0.0   \n",
       "3  6.0             495.0     431.000000  ...    431.000000         0.0   0.0   \n",
       "4  6.0             624.0     510.000000  ...    510.000000         0.0   0.0   \n",
       "5  6.0             464.9     407.600000  ...    407.600000         0.0   0.0   \n",
       "6  6.0             722.0     626.000000  ...    555.000000         0.0   0.0   \n",
       "7  6.0             328.7     310.100000  ...    310.100000         0.0   0.0   \n",
       "8  6.0             773.0     680.250000  ...    542.000000         0.0   0.0   \n",
       "9  6.0            5221.0    1740.761905  ...    172.727273         0.0   0.0   \n",
       "\n",
       "      boll_ub     boll_lb  rsi_30     cci_30  dx_30  close_30_sma  \\\n",
       "0  481.530108  429.769892   100.0  66.666667  100.0        446.50   \n",
       "1  481.530108  429.769892   100.0  66.666667  100.0        522.25   \n",
       "2  481.530108  429.769892   100.0  66.666667  100.0       1189.75   \n",
       "3  481.530108  429.769892   100.0  66.666667  100.0        452.00   \n",
       "4  481.530108  429.769892   100.0  66.666667  100.0        524.40   \n",
       "5  481.530108  429.769892   100.0  66.666667  100.0        432.10   \n",
       "6  481.530108  429.769892   100.0  66.666667  100.0        666.80   \n",
       "7  481.530108  429.769892   100.0  66.666667  100.0        319.90   \n",
       "8  481.530108  429.769892   100.0  66.666667  100.0        687.25   \n",
       "9  481.530108  429.769892   100.0  66.666667  100.0       5490.00   \n",
       "\n",
       "   close_60_sma  \n",
       "0        446.50  \n",
       "1        522.25  \n",
       "2       1189.75  \n",
       "3        452.00  \n",
       "4        524.40  \n",
       "5        432.10  \n",
       "6        666.80  \n",
       "7        319.90  \n",
       "8        687.25  \n",
       "9       5490.00  \n",
       "\n",
       "[10 rows x 21 columns]"
      ]
     },
     "execution_count": 41,
     "metadata": {},
     "output_type": "execute_result"
    }
   ],
   "source": [
    "print(processed_full.shape)\n",
    "processed_full.sort_values(['date','tic'],ignore_index=True).head(10)"
   ]
  },
  {
   "cell_type": "code",
   "execution_count": 42,
   "metadata": {},
   "outputs": [],
   "source": [
    "mvo_df = processed_full.sort_values(['date','tic'],ignore_index=True)[['date','tic','close']]"
   ]
  },
  {
   "cell_type": "code",
   "execution_count": 43,
   "metadata": {},
   "outputs": [
    {
     "name": "stdout",
     "output_type": "stream",
     "text": [
      "101634\n",
      "18876\n"
     ]
    }
   ],
   "source": [
    "TRAIN_START_DATE = '2010-01-01'\n",
    "TRAIN_END_DATE = '2020-12-31'\n",
    "TRADE_START_DATE = '2021-01-01'\n",
    "TRADE_END_DATE = '2022-12-31'\n",
    "train = data_split(processed_full, TRAIN_START_DATE,TRAIN_END_DATE)\n",
    "trade = data_split(processed_full, TRADE_START_DATE,TRADE_END_DATE)\n",
    "print(len(train))\n",
    "print(len(trade))"
   ]
  },
  {
   "cell_type": "code",
   "execution_count": 44,
   "metadata": {},
   "outputs": [
    {
     "name": "stdout",
     "output_type": "stream",
     "text": [
      "Stock Dimension: 39, State Space: 391\n"
     ]
    }
   ],
   "source": [
    "stock_dimension = len(train.tic.unique())\n",
    "state_space = 1 + 2*stock_dimension + len(INDICATORS)*stock_dimension\n",
    "print(f\"Stock Dimension: {stock_dimension}, State Space: {state_space}\")"
   ]
  },
  {
   "cell_type": "code",
   "execution_count": 45,
   "metadata": {},
   "outputs": [],
   "source": [
    "buy_cost_list = sell_cost_list = [0.0005] * stock_dimension\n",
    "num_stock_shares = [0] * stock_dimension\n",
    "\n",
    "env_kwargs = {\n",
    "    \"hmax\": 100,\n",
    "    \"initial_amount\": 2000000,\n",
    "    \"num_stock_shares\": num_stock_shares,\n",
    "    \"buy_cost_pct\": buy_cost_list,\n",
    "    \"sell_cost_pct\": sell_cost_list,\n",
    "    \"state_space\": state_space,\n",
    "    \"stock_dim\": stock_dimension,\n",
    "    \"tech_indicator_list\": INDICATORS,\n",
    "    \"action_space\": stock_dimension,\n",
    "    \"reward_scaling\": 1e-4\n",
    "    # \"cash_penalty_percentage\": 0.1,\n",
    "    # \"exponential_cash_average\": 0.04\n",
    "}\n",
    "\n",
    "\n",
    "e_train_gym = StockTradingEnv(df = train, **env_kwargs)"
   ]
  },
  {
   "cell_type": "code",
   "execution_count": 46,
   "metadata": {},
   "outputs": [
    {
     "name": "stdout",
     "output_type": "stream",
     "text": [
      "<class 'stable_baselines3.common.vec_env.dummy_vec_env.DummyVecEnv'>\n"
     ]
    }
   ],
   "source": [
    "env_train, _ = e_train_gym.get_sb_env()\n",
    "print(type(env_train))"
   ]
  },
  {
   "cell_type": "code",
   "execution_count": 47,
   "metadata": {},
   "outputs": [],
   "source": [
    "agent = DRLAgent(env = env_train)\n",
    "\n",
    "if_using_a2c = True\n",
    "if_using_ddpg = True\n",
    "if_using_ppo = True\n",
    "if_using_td3 = True\n",
    "if_using_sac = True"
   ]
  },
  {
   "cell_type": "code",
   "execution_count": 48,
   "metadata": {},
   "outputs": [
    {
     "name": "stdout",
     "output_type": "stream",
     "text": [
      "{'n_steps': 5, 'ent_coef': 0.01, 'learning_rate': 0.0007}\n",
      "Using cpu device\n",
      "Logging to results/DSE/a2c\n"
     ]
    }
   ],
   "source": [
    "agent = DRLAgent(env = env_train)\n",
    "model_a2c = agent.get_model(\"a2c\")\n",
    "\n",
    "if if_using_a2c:\n",
    "  # set up logger\n",
    "  tmp_path = RESULTS_DIR + '/DSE/a2c'\n",
    "  new_logger_a2c = configure(tmp_path, [\"stdout\", \"csv\", \"tensorboard\"])\n",
    "  # Set new logger\n",
    "  model_a2c.set_logger(new_logger_a2c)\n"
   ]
  },
  {
   "cell_type": "code",
   "execution_count": 49,
   "metadata": {},
   "outputs": [
    {
     "name": "stdout",
     "output_type": "stream",
     "text": [
      "-------------------------------------\n",
      "| time/                 |           |\n",
      "|    fps                | 133       |\n",
      "|    iterations         | 100       |\n",
      "|    time_elapsed       | 3         |\n",
      "|    total_timesteps    | 500       |\n",
      "| train/                |           |\n",
      "|    entropy_loss       | -55.3     |\n",
      "|    explained_variance | -0.0232   |\n",
      "|    learning_rate      | 0.0007    |\n",
      "|    n_updates          | 99        |\n",
      "|    policy_loss        | -105      |\n",
      "|    reward             | 0.8608875 |\n",
      "|    std                | 1         |\n",
      "|    value_loss         | 5.47      |\n",
      "-------------------------------------\n",
      "---------------------------------------\n",
      "| time/                 |             |\n",
      "|    fps                | 132         |\n",
      "|    iterations         | 200         |\n",
      "|    time_elapsed       | 7           |\n",
      "|    total_timesteps    | 1000        |\n",
      "| train/                |             |\n",
      "|    entropy_loss       | -55.6       |\n",
      "|    explained_variance | 0           |\n",
      "|    learning_rate      | 0.0007      |\n",
      "|    n_updates          | 199         |\n",
      "|    policy_loss        | 2.27        |\n",
      "|    reward             | -0.18096758 |\n",
      "|    std                | 1.01        |\n",
      "|    value_loss         | 0.0067      |\n",
      "---------------------------------------\n"
     ]
    }
   ],
   "source": [
    "trained_a2c = agent.train_model(model=model_a2c, \n",
    "                             tb_log_name='a2c',\n",
    "                             total_timesteps=run_timesteps) if if_using_a2c else None"
   ]
  },
  {
   "cell_type": "code",
   "execution_count": 50,
   "metadata": {},
   "outputs": [
    {
     "name": "stdout",
     "output_type": "stream",
     "text": [
      "{'batch_size': 128, 'buffer_size': 50000, 'learning_rate': 0.001}\n",
      "Using cpu device\n",
      "Logging to results/DSE/ddpg\n"
     ]
    }
   ],
   "source": [
    "agent = DRLAgent(env = env_train)\n",
    "model_ddpg = agent.get_model(\"ddpg\")\n",
    "\n",
    "if if_using_ddpg:\n",
    "  # set up logger\n",
    "  tmp_path = RESULTS_DIR + '/DSE/ddpg'\n",
    "  new_logger_ddpg = configure(tmp_path, [\"stdout\", \"csv\", \"tensorboard\"])\n",
    "  # Set new logger\n",
    "  model_ddpg.set_logger(new_logger_ddpg)"
   ]
  },
  {
   "cell_type": "code",
   "execution_count": 51,
   "metadata": {},
   "outputs": [],
   "source": [
    "trained_ddpg = agent.train_model(model=model_ddpg,\n",
    "                             tb_log_name='ddpg',\n",
    "                             total_timesteps=run_timesteps) if if_using_ddpg else None"
   ]
  },
  {
   "cell_type": "code",
   "execution_count": 52,
   "metadata": {},
   "outputs": [
    {
     "name": "stdout",
     "output_type": "stream",
     "text": [
      "{'n_steps': 2048, 'ent_coef': 0.01, 'learning_rate': 0.00025, 'batch_size': 128}\n",
      "Using cpu device\n",
      "Logging to results/DSE/ppo\n"
     ]
    }
   ],
   "source": [
    "agent = DRLAgent(env = env_train)\n",
    "PPO_PARAMS = {\n",
    "    \"n_steps\": 2048,\n",
    "    \"ent_coef\": 0.01,\n",
    "    \"learning_rate\": 0.00025,\n",
    "    \"batch_size\": 128,\n",
    "}\n",
    "model_ppo = agent.get_model(\"ppo\",model_kwargs = PPO_PARAMS)\n",
    "\n",
    "if if_using_ppo:\n",
    "  # set up logger\n",
    "  tmp_path = RESULTS_DIR + '/DSE/ppo'\n",
    "  new_logger_ppo = configure(tmp_path, [\"stdout\", \"csv\", \"tensorboard\"])\n",
    "  # Set new logger\n",
    "  model_ppo.set_logger(new_logger_ppo)"
   ]
  },
  {
   "cell_type": "code",
   "execution_count": 53,
   "metadata": {},
   "outputs": [
    {
     "name": "stdout",
     "output_type": "stream",
     "text": [
      "-----------------------------------\n",
      "| time/              |            |\n",
      "|    fps             | 160        |\n",
      "|    iterations      | 1          |\n",
      "|    time_elapsed    | 12         |\n",
      "|    total_timesteps | 2048       |\n",
      "| train/             |            |\n",
      "|    reward          | 0.31918633 |\n",
      "-----------------------------------\n"
     ]
    }
   ],
   "source": [
    "trained_ppo = agent.train_model(model=model_ppo, \n",
    "                             tb_log_name='ppo',\n",
    "                             total_timesteps=run_timesteps) if if_using_ppo else None"
   ]
  },
  {
   "cell_type": "markdown",
   "metadata": {},
   "source": [
    "### Agent 4: TD3"
   ]
  },
  {
   "cell_type": "code",
   "execution_count": 54,
   "metadata": {},
   "outputs": [
    {
     "name": "stdout",
     "output_type": "stream",
     "text": [
      "{'batch_size': 100, 'buffer_size': 100000, 'learning_rate': 0.001}\n",
      "Using cpu device\n",
      "Logging to results/DSE/td3\n"
     ]
    }
   ],
   "source": [
    "agent = DRLAgent(env = env_train)\n",
    "TD3_PARAMS = {\"batch_size\": 100, \n",
    "              \"buffer_size\": 100000, \n",
    "              \"learning_rate\": 0.001}\n",
    "\n",
    "model_td3 = agent.get_model(\"td3\",model_kwargs = TD3_PARAMS)\n",
    "\n",
    "if if_using_td3:\n",
    "  # set up logger\n",
    "  tmp_path = RESULTS_DIR + '/DSE/td3'\n",
    "  new_logger_td3 = configure(tmp_path, [\"stdout\", \"csv\", \"tensorboard\"])\n",
    "  # Set new logger\n",
    "  model_td3.set_logger(new_logger_td3)"
   ]
  },
  {
   "cell_type": "code",
   "execution_count": 55,
   "metadata": {},
   "outputs": [],
   "source": [
    "trained_td3 = agent.train_model(model=model_td3, \n",
    "                             tb_log_name='td3',\n",
    "                             total_timesteps=run_timesteps) if if_using_td3 else None"
   ]
  },
  {
   "cell_type": "markdown",
   "metadata": {},
   "source": [
    "### Agent 5: SAC"
   ]
  },
  {
   "cell_type": "code",
   "execution_count": 56,
   "metadata": {},
   "outputs": [
    {
     "name": "stdout",
     "output_type": "stream",
     "text": [
      "{'batch_size': 128, 'buffer_size': 100000, 'learning_rate': 0.0001, 'learning_starts': 100, 'ent_coef': 'auto_0.1'}\n",
      "Using cpu device\n",
      "Logging to results/DSE/sac\n"
     ]
    }
   ],
   "source": [
    "agent = DRLAgent(env = env_train)\n",
    "SAC_PARAMS = {\n",
    "    \"batch_size\": 128,\n",
    "    \"buffer_size\": 100000,\n",
    "    \"learning_rate\": 0.0001,\n",
    "    \"learning_starts\": 100,\n",
    "    \"ent_coef\": \"auto_0.1\",\n",
    "}\n",
    "\n",
    "model_sac = agent.get_model(\"sac\",model_kwargs = SAC_PARAMS)\n",
    "\n",
    "if if_using_sac:\n",
    "  # set up logger\n",
    "  tmp_path = RESULTS_DIR + '/DSE/sac'\n",
    "  new_logger_sac = configure(tmp_path, [\"stdout\", \"csv\", \"tensorboard\"])\n",
    "  # Set new logger\n",
    "  model_sac.set_logger(new_logger_sac)"
   ]
  },
  {
   "cell_type": "code",
   "execution_count": 57,
   "metadata": {},
   "outputs": [],
   "source": [
    "trained_sac = agent.train_model(model=model_sac, \n",
    "                             tb_log_name='sac',\n",
    "                             total_timesteps=run_timesteps) if if_using_sac else None"
   ]
  },
  {
   "cell_type": "code",
   "execution_count": 58,
   "metadata": {},
   "outputs": [],
   "source": [
    "data_risk_indicator = processed_full[(processed_full.date<TRAIN_END_DATE) & (processed_full.date>=TRAIN_START_DATE)]\n",
    "insample_risk_indicator = data_risk_indicator.drop_duplicates(subset=['date'])"
   ]
  },
  {
   "cell_type": "code",
   "execution_count": 59,
   "metadata": {},
   "outputs": [
    {
     "data": {
      "text/plain": [
       "count     2606.000000\n",
       "mean        61.873697\n",
       "std        262.107566\n",
       "min          0.000000\n",
       "25%         22.412021\n",
       "50%         37.679913\n",
       "75%         60.258365\n",
       "max      12007.362114\n",
       "Name: turbulence, dtype: float64"
      ]
     },
     "execution_count": 59,
     "metadata": {},
     "output_type": "execute_result"
    }
   ],
   "source": [
    "insample_risk_indicator.turbulence.describe()"
   ]
  },
  {
   "cell_type": "code",
   "execution_count": 60,
   "metadata": {},
   "outputs": [
    {
     "name": "stderr",
     "output_type": "stream",
     "text": [
      "/var/folders/hw/72ljgfr56y93ypctd2ct3kjm0000gn/T/ipykernel_29739/455132124.py:8: UserWarning: FigureCanvasAgg is non-interactive, and thus cannot be shown\n",
      "  plt.show()\n"
     ]
    }
   ],
   "source": [
    "plt.figure(figsize=(10,6))\n",
    "filtered_turbulence = insample_risk_indicator.turbulence[insample_risk_indicator.turbulence < 600]\n",
    "sns.histplot(filtered_turbulence, bins=50, kde=True)\n",
    "plt.title('Distribution of turbulence of DJI top 30 stocks')\n",
    "plt.xlabel('Turbulence')\n",
    "plt.ylabel('Frequency')\n",
    "plt.savefig('turbulenceOFdse.png')\n",
    "plt.show()"
   ]
  },
  {
   "cell_type": "code",
   "execution_count": 61,
   "metadata": {},
   "outputs": [
    {
     "data": {
      "text/plain": [
       "703.372286612938"
      ]
     },
     "execution_count": 61,
     "metadata": {},
     "output_type": "execute_result"
    }
   ],
   "source": [
    "insample_risk_indicator.turbulence.quantile(0.996)"
   ]
  },
  {
   "cell_type": "code",
   "execution_count": 62,
   "metadata": {},
   "outputs": [],
   "source": [
    "e_trade_gym = StockTradingEnv(df = trade,  **env_kwargs)\n",
    "# env_trade, obs_trade = e_trade_gym.get_sb_env()"
   ]
  },
  {
   "cell_type": "code",
   "execution_count": 63,
   "metadata": {},
   "outputs": [
    {
     "data": {
      "text/html": [
       "<div>\n",
       "<style scoped>\n",
       "    .dataframe tbody tr th:only-of-type {\n",
       "        vertical-align: middle;\n",
       "    }\n",
       "\n",
       "    .dataframe tbody tr th {\n",
       "        vertical-align: top;\n",
       "    }\n",
       "\n",
       "    .dataframe thead th {\n",
       "        text-align: right;\n",
       "    }\n",
       "</style>\n",
       "<table border=\"1\" class=\"dataframe\">\n",
       "  <thead>\n",
       "    <tr style=\"text-align: right;\">\n",
       "      <th></th>\n",
       "      <th>date</th>\n",
       "      <th>tic</th>\n",
       "      <th>high</th>\n",
       "      <th>low</th>\n",
       "      <th>open</th>\n",
       "      <th>close</th>\n",
       "      <th>volume</th>\n",
       "      <th>day</th>\n",
       "      <th>short_resistance</th>\n",
       "      <th>short_support</th>\n",
       "      <th>...</th>\n",
       "      <th>long_support</th>\n",
       "      <th>turbulence</th>\n",
       "      <th>macd</th>\n",
       "      <th>boll_ub</th>\n",
       "      <th>boll_lb</th>\n",
       "      <th>rsi_30</th>\n",
       "      <th>cci_30</th>\n",
       "      <th>dx_30</th>\n",
       "      <th>close_30_sma</th>\n",
       "      <th>close_60_sma</th>\n",
       "    </tr>\n",
       "  </thead>\n",
       "  <tbody>\n",
       "    <tr>\n",
       "      <th>0</th>\n",
       "      <td>2021-01-03</td>\n",
       "      <td>ACI</td>\n",
       "      <td>253.8</td>\n",
       "      <td>244.0</td>\n",
       "      <td>246.0</td>\n",
       "      <td>248.7</td>\n",
       "      <td>156284.0</td>\n",
       "      <td>6.0</td>\n",
       "      <td>263.9</td>\n",
       "      <td>244.0</td>\n",
       "      <td>...</td>\n",
       "      <td>236.500000</td>\n",
       "      <td>132.829411</td>\n",
       "      <td>-2.008025</td>\n",
       "      <td>250.869980</td>\n",
       "      <td>237.200020</td>\n",
       "      <td>49.762364</td>\n",
       "      <td>-2.085968</td>\n",
       "      <td>7.186881</td>\n",
       "      <td>249.870000</td>\n",
       "      <td>250.885000</td>\n",
       "    </tr>\n",
       "    <tr>\n",
       "      <th>0</th>\n",
       "      <td>2021-01-03</td>\n",
       "      <td>ALARABANK</td>\n",
       "      <td>22.1</td>\n",
       "      <td>21.5</td>\n",
       "      <td>22.1</td>\n",
       "      <td>21.9</td>\n",
       "      <td>1117376.0</td>\n",
       "      <td>6.0</td>\n",
       "      <td>23.6</td>\n",
       "      <td>21.5</td>\n",
       "      <td>...</td>\n",
       "      <td>20.100000</td>\n",
       "      <td>132.829411</td>\n",
       "      <td>0.274896</td>\n",
       "      <td>23.318506</td>\n",
       "      <td>21.361494</td>\n",
       "      <td>57.821012</td>\n",
       "      <td>-33.282905</td>\n",
       "      <td>25.257180</td>\n",
       "      <td>22.146667</td>\n",
       "      <td>20.186667</td>\n",
       "    </tr>\n",
       "    <tr>\n",
       "      <th>0</th>\n",
       "      <td>2021-01-03</td>\n",
       "      <td>APEXFOODS</td>\n",
       "      <td>128.9</td>\n",
       "      <td>125.0</td>\n",
       "      <td>125.4</td>\n",
       "      <td>127.2</td>\n",
       "      <td>56507.0</td>\n",
       "      <td>6.0</td>\n",
       "      <td>128.9</td>\n",
       "      <td>120.5</td>\n",
       "      <td>...</td>\n",
       "      <td>113.778947</td>\n",
       "      <td>132.829411</td>\n",
       "      <td>-0.665745</td>\n",
       "      <td>137.981256</td>\n",
       "      <td>121.538744</td>\n",
       "      <td>49.947281</td>\n",
       "      <td>-86.601641</td>\n",
       "      <td>8.777443</td>\n",
       "      <td>131.116667</td>\n",
       "      <td>125.998333</td>\n",
       "    </tr>\n",
       "    <tr>\n",
       "      <th>0</th>\n",
       "      <td>2021-01-03</td>\n",
       "      <td>BANKASIA</td>\n",
       "      <td>18.1</td>\n",
       "      <td>17.8</td>\n",
       "      <td>18.0</td>\n",
       "      <td>18.0</td>\n",
       "      <td>286531.0</td>\n",
       "      <td>6.0</td>\n",
       "      <td>19.6</td>\n",
       "      <td>17.8</td>\n",
       "      <td>...</td>\n",
       "      <td>16.200000</td>\n",
       "      <td>132.829411</td>\n",
       "      <td>-0.062325</td>\n",
       "      <td>18.695997</td>\n",
       "      <td>17.844003</td>\n",
       "      <td>47.255202</td>\n",
       "      <td>-117.224880</td>\n",
       "      <td>10.209359</td>\n",
       "      <td>18.246667</td>\n",
       "      <td>18.368333</td>\n",
       "    </tr>\n",
       "    <tr>\n",
       "      <th>0</th>\n",
       "      <td>2021-01-03</td>\n",
       "      <td>BATASHOE</td>\n",
       "      <td>715.0</td>\n",
       "      <td>700.0</td>\n",
       "      <td>700.0</td>\n",
       "      <td>707.9</td>\n",
       "      <td>7739.0</td>\n",
       "      <td>6.0</td>\n",
       "      <td>715.0</td>\n",
       "      <td>693.2</td>\n",
       "      <td>...</td>\n",
       "      <td>693.200000</td>\n",
       "      <td>132.829411</td>\n",
       "      <td>2.231834</td>\n",
       "      <td>705.137887</td>\n",
       "      <td>687.082113</td>\n",
       "      <td>61.135809</td>\n",
       "      <td>248.355263</td>\n",
       "      <td>61.238219</td>\n",
       "      <td>695.140000</td>\n",
       "      <td>694.865000</td>\n",
       "    </tr>\n",
       "  </tbody>\n",
       "</table>\n",
       "<p>5 rows × 21 columns</p>\n",
       "</div>"
      ],
      "text/plain": [
       "         date        tic   high    low   open  close     volume  day  \\\n",
       "0  2021-01-03        ACI  253.8  244.0  246.0  248.7   156284.0  6.0   \n",
       "0  2021-01-03  ALARABANK   22.1   21.5   22.1   21.9  1117376.0  6.0   \n",
       "0  2021-01-03  APEXFOODS  128.9  125.0  125.4  127.2    56507.0  6.0   \n",
       "0  2021-01-03   BANKASIA   18.1   17.8   18.0   18.0   286531.0  6.0   \n",
       "0  2021-01-03   BATASHOE  715.0  700.0  700.0  707.9     7739.0  6.0   \n",
       "\n",
       "   short_resistance  short_support  ...  long_support  turbulence      macd  \\\n",
       "0             263.9          244.0  ...    236.500000  132.829411 -2.008025   \n",
       "0              23.6           21.5  ...     20.100000  132.829411  0.274896   \n",
       "0             128.9          120.5  ...    113.778947  132.829411 -0.665745   \n",
       "0              19.6           17.8  ...     16.200000  132.829411 -0.062325   \n",
       "0             715.0          693.2  ...    693.200000  132.829411  2.231834   \n",
       "\n",
       "      boll_ub     boll_lb     rsi_30      cci_30      dx_30  close_30_sma  \\\n",
       "0  250.869980  237.200020  49.762364   -2.085968   7.186881    249.870000   \n",
       "0   23.318506   21.361494  57.821012  -33.282905  25.257180     22.146667   \n",
       "0  137.981256  121.538744  49.947281  -86.601641   8.777443    131.116667   \n",
       "0   18.695997   17.844003  47.255202 -117.224880  10.209359     18.246667   \n",
       "0  705.137887  687.082113  61.135809  248.355263  61.238219    695.140000   \n",
       "\n",
       "   close_60_sma  \n",
       "0    250.885000  \n",
       "0     20.186667  \n",
       "0    125.998333  \n",
       "0     18.368333  \n",
       "0    694.865000  \n",
       "\n",
       "[5 rows x 21 columns]"
      ]
     },
     "execution_count": 63,
     "metadata": {},
     "output_type": "execute_result"
    }
   ],
   "source": [
    "trade.head()"
   ]
  },
  {
   "cell_type": "code",
   "execution_count": 64,
   "metadata": {},
   "outputs": [
    {
     "name": "stdout",
     "output_type": "stream",
     "text": [
      "hit end!\n"
     ]
    }
   ],
   "source": [
    "trained_moedl = trained_a2c\n",
    "df_account_value_a2c, df_actions_a2c = DRLAgent.DRL_prediction(\n",
    "    model=trained_moedl,\n",
    "    environment = e_trade_gym)\n",
    "\n",
    "# Save the actions DataFrame to a CSV file\n",
    "df_actions_a2c.to_csv(\"actions_a2c.csv\", index=True)  # Include index for date information\n"
   ]
  },
  {
   "cell_type": "code",
   "execution_count": 65,
   "metadata": {},
   "outputs": [
    {
     "name": "stdout",
     "output_type": "stream",
     "text": [
      "hit end!\n"
     ]
    }
   ],
   "source": [
    "trained_moedl = trained_ddpg\n",
    "df_account_value_ddpg, df_actions_ddpg = DRLAgent.DRL_prediction(\n",
    "    model=trained_moedl,\n",
    "    environment = e_trade_gym)\n",
    "df_actions_ddpg.to_csv(\"actions_ddpg.csv\", index=True)  # Include index for date information\n",
    "\n"
   ]
  },
  {
   "cell_type": "code",
   "execution_count": 66,
   "metadata": {},
   "outputs": [
    {
     "name": "stdout",
     "output_type": "stream",
     "text": [
      "hit end!\n"
     ]
    }
   ],
   "source": [
    "trained_moedl = trained_ppo\n",
    "df_account_value_ppo, df_actions_ppo = DRLAgent.DRL_prediction(\n",
    "    model=trained_moedl,\n",
    "    environment = e_trade_gym)"
   ]
  },
  {
   "cell_type": "code",
   "execution_count": 67,
   "metadata": {},
   "outputs": [
    {
     "name": "stdout",
     "output_type": "stream",
     "text": [
      "hit end!\n"
     ]
    }
   ],
   "source": [
    "trained_moedl = trained_td3\n",
    "df_account_value_td3, df_actions_td3 = DRLAgent.DRL_prediction(\n",
    "    model=trained_moedl,\n",
    "    environment = e_trade_gym)"
   ]
  },
  {
   "cell_type": "code",
   "execution_count": 68,
   "metadata": {},
   "outputs": [
    {
     "name": "stdout",
     "output_type": "stream",
     "text": [
      "hit end!\n"
     ]
    }
   ],
   "source": [
    "trained_moedl = trained_sac\n",
    "df_account_value_sac, df_actions_sac = DRLAgent.DRL_prediction(\n",
    "    model=trained_moedl,\n",
    "    environment = e_trade_gym)"
   ]
  },
  {
   "cell_type": "code",
   "execution_count": 69,
   "metadata": {},
   "outputs": [
    {
     "name": "stdout",
     "output_type": "stream",
     "text": [
      "A2C: 2222169.8299000002\n",
      "DDPG: 2409234.0000500004\n",
      "PPO: 2414873.104850001\n",
      "TD3: 2544730.2746\n",
      "SAC: 2315435.609600001\n"
     ]
    }
   ],
   "source": [
    "# print max of each model\n",
    "print('A2C:', df_account_value_a2c['account_value'].max())\n",
    "print('DDPG:', df_account_value_ddpg['account_value'].max())\n",
    "print('PPO:', df_account_value_ppo['account_value'].max())\n",
    "print('TD3:', df_account_value_td3['account_value'].max())\n",
    "print('SAC:', df_account_value_sac['account_value'].max())"
   ]
  },
  {
   "cell_type": "code",
   "execution_count": 70,
   "metadata": {},
   "outputs": [],
   "source": [
    "import pickle\n",
    "# save account value and action\n",
    "\n",
    "# A2C\n",
    "root_dir = 'account_values_actions_cashloss'\n",
    "sub_dir = 'orginal'\n",
    "if not os.path.exists(root_dir):\n",
    "    os.mkdir(root_dir)\n",
    "if not os.path.exists(os.path.join(root_dir, sub_dir)):\n",
    "    os.mkdir(os.path.join(root_dir, sub_dir))\n",
    "\n",
    "root_dir = os.path.join(root_dir, sub_dir)\n",
    "file_path = os.path.join(root_dir, 'df_account_value_a2c.pkl')\n",
    "with open(file_path, 'wb') as f:\n",
    "    pickle.dump(df_account_value_a2c, f)\n",
    "file_path = os.path.join(root_dir, 'df_actions_a2c.pkl')\n",
    "with open(file_path, 'wb') as f:\n",
    "    pickle.dump(df_actions_a2c, f)\n",
    "\n",
    "# DDPG\n",
    "file_path = os.path.join(root_dir, 'df_account_value_ddpg.pkl')\n",
    "with open(file_path, 'wb') as f:\n",
    "    pickle.dump(df_account_value_ddpg, f)\n",
    "\n",
    "file_path = os.path.join(root_dir, 'df_actions_ddpg.pkl')\n",
    "with open(file_path, 'wb') as f:\n",
    "    pickle.dump(df_actions_ddpg, f)\n",
    "\n",
    "# PPO\n",
    "file_path = os.path.join(root_dir, 'df_account_value_ppo.pkl')\n",
    "with open(file_path, 'wb') as f:\n",
    "    pickle.dump(df_account_value_ppo, f)\n",
    "\n",
    "file_path = os.path.join(root_dir, 'df_actions_ppo.pkl')\n",
    "with open(file_path, 'wb') as f:\n",
    "    pickle.dump(df_actions_ppo, f)\n",
    "\n",
    "# TD3\n",
    "file_path = os.path.join(root_dir, 'df_account_value_td3.pkl')\n",
    "with open(file_path, 'wb') as f:\n",
    "    pickle.dump(df_account_value_td3, f)\n",
    "\n",
    "file_path = os.path.join(root_dir, 'df_actions_td3.pkl')\n",
    "with open(file_path, 'wb') as f:\n",
    "    pickle.dump(df_actions_td3, f)\n",
    "\n",
    "# SAC\n",
    "file_path = os.path.join(root_dir, 'df_account_value_sac.pkl')\n",
    "with open(file_path, 'wb') as f:\n",
    "    pickle.dump(df_account_value_sac, f)\n",
    "\n",
    "file_path = os.path.join(root_dir, 'df_actions_sac.pkl')\n",
    "with open(file_path, 'wb') as f:\n",
    "    pickle.dump(df_actions_sac, f)\n",
    "\n"
   ]
  },
  {
   "cell_type": "code",
   "execution_count": 71,
   "metadata": {},
   "outputs": [
    {
     "data": {
      "text/html": [
       "<div>\n",
       "<style scoped>\n",
       "    .dataframe tbody tr th:only-of-type {\n",
       "        vertical-align: middle;\n",
       "    }\n",
       "\n",
       "    .dataframe tbody tr th {\n",
       "        vertical-align: top;\n",
       "    }\n",
       "\n",
       "    .dataframe thead th {\n",
       "        text-align: right;\n",
       "    }\n",
       "</style>\n",
       "<table border=\"1\" class=\"dataframe\">\n",
       "  <thead>\n",
       "    <tr style=\"text-align: right;\">\n",
       "      <th></th>\n",
       "      <th>date</th>\n",
       "      <th>tic</th>\n",
       "      <th>close</th>\n",
       "    </tr>\n",
       "  </thead>\n",
       "  <tbody>\n",
       "    <tr>\n",
       "      <th>0</th>\n",
       "      <td>2010-01-03</td>\n",
       "      <td>ACI</td>\n",
       "      <td>446.50</td>\n",
       "    </tr>\n",
       "    <tr>\n",
       "      <th>1</th>\n",
       "      <td>2010-01-03</td>\n",
       "      <td>ALARABANK</td>\n",
       "      <td>522.25</td>\n",
       "    </tr>\n",
       "    <tr>\n",
       "      <th>2</th>\n",
       "      <td>2010-01-03</td>\n",
       "      <td>APEXFOODS</td>\n",
       "      <td>1189.75</td>\n",
       "    </tr>\n",
       "    <tr>\n",
       "      <th>3</th>\n",
       "      <td>2010-01-03</td>\n",
       "      <td>BANKASIA</td>\n",
       "      <td>452.00</td>\n",
       "    </tr>\n",
       "    <tr>\n",
       "      <th>4</th>\n",
       "      <td>2010-01-03</td>\n",
       "      <td>BATASHOE</td>\n",
       "      <td>524.40</td>\n",
       "    </tr>\n",
       "  </tbody>\n",
       "</table>\n",
       "</div>"
      ],
      "text/plain": [
       "         date        tic    close\n",
       "0  2010-01-03        ACI   446.50\n",
       "1  2010-01-03  ALARABANK   522.25\n",
       "2  2010-01-03  APEXFOODS  1189.75\n",
       "3  2010-01-03   BANKASIA   452.00\n",
       "4  2010-01-03   BATASHOE   524.40"
      ]
     },
     "execution_count": 71,
     "metadata": {},
     "output_type": "execute_result"
    }
   ],
   "source": [
    "mvo_df.head()"
   ]
  },
  {
   "cell_type": "code",
   "execution_count": 72,
   "metadata": {},
   "outputs": [],
   "source": [
    "fst = mvo_df\n",
    "fst = fst.iloc[0*stock_dimension:0*stock_dimension+stock_dimension, :]\n",
    "tic = fst['tic'].tolist()\n",
    "\n",
    "mvo = pd.DataFrame()\n",
    "\n",
    "for k in range(len(tic)):\n",
    "  mvo[tic[k]] = 0\n",
    "\n",
    "for i in range(mvo_df.shape[0]//stock_dimension):\n",
    "  n = mvo_df\n",
    "  n = n.iloc[i*stock_dimension:i*stock_dimension+stock_dimension, :]\n",
    "  date = n['date'][i*stock_dimension]\n",
    "  mvo.loc[date] = n['close'].tolist()"
   ]
  },
  {
   "cell_type": "code",
   "execution_count": 73,
   "metadata": {},
   "outputs": [
    {
     "data": {
      "text/plain": [
       "3090"
      ]
     },
     "execution_count": 73,
     "metadata": {},
     "output_type": "execute_result"
    }
   ],
   "source": [
    "mvo.shape[0]"
   ]
  },
  {
   "cell_type": "code",
   "execution_count": 74,
   "metadata": {},
   "outputs": [],
   "source": [
    "from scipy import optimize \n",
    "from scipy.optimize import linprog\n",
    "\n",
    "#function obtains maximal return portfolio using linear programming\n",
    "\n",
    "def MaximizeReturns(MeanReturns, PortfolioSize):\n",
    "    \n",
    "  #dependencies\n",
    "  \n",
    "    \n",
    "  c = (np.multiply(-1, MeanReturns))\n",
    "  A = np.ones([PortfolioSize,1]).T\n",
    "  b=[1]\n",
    "  res = linprog(c, A_ub = A, b_ub = b, bounds = (0,1), method = 'simplex') \n",
    "    \n",
    "  return res\n",
    "\n",
    "def MinimizeRisk(CovarReturns, PortfolioSize):\n",
    "    \n",
    "  def f(x, CovarReturns):\n",
    "    func = np.matmul(np.matmul(x, CovarReturns), x.T) \n",
    "    return func\n",
    "\n",
    "  def constraintEq(x):\n",
    "    A=np.ones(x.shape)\n",
    "    b=1\n",
    "    constraintVal = np.matmul(A,x.T)-b \n",
    "    return constraintVal\n",
    "    \n",
    "  xinit=np.repeat(0.1, PortfolioSize)\n",
    "  cons = ({'type': 'eq', 'fun':constraintEq})\n",
    "  lb = 0\n",
    "  ub = 1\n",
    "  bnds = tuple([(lb,ub) for x in xinit])\n",
    "\n",
    "  opt = optimize.minimize (f, x0 = xinit, args = (CovarReturns),  bounds = bnds, \\\n",
    "                             constraints = cons, tol = 10**-3)\n",
    "    \n",
    "  return opt\n",
    "\n",
    "def MinimizeRiskConstr(MeanReturns, CovarReturns, PortfolioSize, R):\n",
    "    \n",
    "  def  f(x,CovarReturns):\n",
    "         \n",
    "    func = np.matmul(np.matmul(x,CovarReturns ), x.T)\n",
    "    return func\n",
    "\n",
    "  def constraintEq(x):\n",
    "    AEq=np.ones(x.shape)\n",
    "    bEq=1\n",
    "    EqconstraintVal = np.matmul(AEq,x.T)-bEq \n",
    "    return EqconstraintVal\n",
    "    \n",
    "  def constraintIneq(x, MeanReturns, R):\n",
    "    AIneq = np.array(MeanReturns)\n",
    "    bIneq = R\n",
    "    IneqconstraintVal = np.matmul(AIneq,x.T) - bIneq\n",
    "    return IneqconstraintVal\n",
    "    \n",
    "\n",
    "  xinit=np.repeat(0.1, PortfolioSize)\n",
    "  cons = ({'type': 'eq', 'fun':constraintEq},\n",
    "          {'type':'ineq', 'fun':constraintIneq, 'args':(MeanReturns,R) })\n",
    "  lb = 0\n",
    "  ub = 1\n",
    "  bnds = tuple([(lb,ub) for x in xinit])\n",
    "\n",
    "  opt = optimize.minimize (f, args = (CovarReturns), method ='trust-constr',  \\\n",
    "                x0 = xinit,   bounds = bnds, constraints = cons, tol = 10**-3)\n",
    "    \n",
    "  return opt"
   ]
  },
  {
   "cell_type": "code",
   "execution_count": 75,
   "metadata": {},
   "outputs": [],
   "source": [
    "def StockReturnsComputing(StockPrice, Rows, Columns): \n",
    "  import numpy as np \n",
    "  StockReturn = np.zeros([Rows-1, Columns]) \n",
    "  for j in range(Columns):        # j: Assets \n",
    "    for i in range(Rows-1):     # i: Daily Prices \n",
    "      StockReturn[i,j]=((StockPrice[i+1, j]-StockPrice[i,j])/StockPrice[i,j])* 100 \n",
    "      \n",
    "  return StockReturn"
   ]
  },
  {
   "cell_type": "code",
   "execution_count": 76,
   "metadata": {},
   "outputs": [
    {
     "data": {
      "text/plain": [
       "array([[248.7,  21.9, 127.2, ...,  12.6, 237.8,  41.2],\n",
       "       [248.4,  22.5, 124.2, ...,  12.8, 231.6,  40.9],\n",
       "       [247.4,  22.5, 122.8, ...,  13.5, 223.4,  43.1],\n",
       "       ...,\n",
       "       [260.2,  23.6, 294.1, ...,  13.8, 209.8,  34. ],\n",
       "       [260.2,  23.6, 295.5, ...,  13.8, 209.8,  34. ],\n",
       "       [260.2,  23.6, 298.4, ...,  13.8, 209.8,  34. ]])"
      ]
     },
     "execution_count": 76,
     "metadata": {},
     "output_type": "execute_result"
    }
   ],
   "source": [
    "# Obtain optimal portfolio sets that maximize return and minimize risk\n",
    "\n",
    "#Dependencies\n",
    "import numpy as np\n",
    "import pandas as pd\n",
    "\n",
    "\n",
    "#input k-portfolio 1 dataset comprising 15 stocks\n",
    "# StockFileName = './DJIA_Apr112014_Apr112019_kpf1.csv'\n",
    "\n",
    "Rows = mvo.shape[0] #number of rows\n",
    "Columns = stock_dimension  #excluding date\n",
    "portfolioSize = stock_dimension #set portfolio size\n",
    "\n",
    "#read stock prices in a dataframe\n",
    "# df = pd.read_csv(StockFileName,  nrows= Rows)\n",
    "\n",
    "#extract asset labels\n",
    "# assetLabels = df.columns[1:Columns+1].tolist()\n",
    "# print(assetLabels)\n",
    "\n",
    "#extract asset prices\n",
    "# StockData = df.iloc[0:, 1:]\n",
    "StockData = mvo[mvo.index <= TRAIN_END_DATE]\n",
    "TradeData = mvo[mvo.index > TRADE_START_DATE]\n",
    "# df.head()\n",
    "TradeData.to_numpy()\n"
   ]
  },
  {
   "cell_type": "code",
   "execution_count": 77,
   "metadata": {},
   "outputs": [
    {
     "name": "stdout",
     "output_type": "stream",
     "text": [
      "Mean returns of assets in k-portfolio 1\n",
      " [ 0.005 -0.034  0.012 -0.042  0.025  0.068  0.059 -0.024 -0.022 -0.094\n",
      " -0.037  0.037 -0.035 -0.065 -0.035 -0.021 -0.002  0.045  0.037  0.013\n",
      " -0.064 -0.04  -0.016  0.05   0.081  0.012 -0.074  0.014 -0.017 -0.031\n",
      " -0.057 -0.04   0.066 -0.052 -0.019 -0.015 -0.046 -0.029 -0.05 ]\n",
      "Variance-Covariance matrix of returns\n",
      " [[ 5.59   1.43   2.217 ...  1.346  1.137  1.775]\n",
      " [ 1.43   9.558  1.739 ...  2.559  1.051  2.176]\n",
      " [ 2.217  1.739 11.798 ...  4.722  4.354  2.296]\n",
      " ...\n",
      " [ 1.346  2.559  4.722 ...  8.224  4.191  2.253]\n",
      " [ 1.137  1.051  4.354 ...  4.191  6.185  1.517]\n",
      " [ 1.775  2.176  2.296 ...  2.253  1.517  8.823]]\n"
     ]
    }
   ],
   "source": [
    "#compute asset returns\n",
    "arStockPrices = np.asarray(StockData)\n",
    "[Rows, Cols]=arStockPrices.shape\n",
    "arReturns = StockReturnsComputing(arStockPrices, Rows, Cols)\n",
    "\n",
    "\n",
    "#compute mean returns and variance covariance matrix of returns\n",
    "meanReturns = np.mean(arReturns, axis = 0)\n",
    "covReturns = np.cov(arReturns, rowvar=False)\n",
    " \n",
    "#set precision for printing results\n",
    "np.set_printoptions(precision=3, suppress = True)\n",
    "\n",
    "#display mean returns and variance-covariance matrix of returns\n",
    "print('Mean returns of assets in k-portfolio 1\\n', meanReturns)\n",
    "print('Variance-Covariance matrix of returns\\n', covReturns)\n"
   ]
  },
  {
   "cell_type": "code",
   "execution_count": 78,
   "metadata": {},
   "outputs": [
    {
     "data": {
      "text/plain": [
       "array([     0.,      0.,      0.,      0.,      0., 400000., 239300.,\n",
       "            0.,      0.,      0.,      0.,    660.,      0.,      0.,\n",
       "            0.,      0.,      0., 179620.,      0.,      0.,      0.,\n",
       "            0.,      0., 400000., 400000.,      0.,      0.,      0.,\n",
       "            0.,      0.,      0.,      0., 380440.,      0.,      0.,\n",
       "            0.,      0.,      0.,      0.])"
      ]
     },
     "execution_count": 78,
     "metadata": {},
     "output_type": "execute_result"
    }
   ],
   "source": [
    "from pypfopt.efficient_frontier import EfficientFrontier\n",
    "\n",
    "ef_mean = EfficientFrontier(meanReturns, covReturns, weight_bounds=(0, 0.2))\n",
    "raw_weights_mean = ef_mean.max_sharpe()\n",
    "cleaned_weights_mean = ef_mean.clean_weights()\n",
    "mvo_weights = np.array([2000000 * cleaned_weights_mean[i] for i in range(stock_dimension)])\n",
    "mvo_weights"
   ]
  },
  {
   "cell_type": "code",
   "execution_count": 79,
   "metadata": {},
   "outputs": [
    {
     "data": {
      "text/html": [
       "<div>\n",
       "<style scoped>\n",
       "    .dataframe tbody tr th:only-of-type {\n",
       "        vertical-align: middle;\n",
       "    }\n",
       "\n",
       "    .dataframe tbody tr th {\n",
       "        vertical-align: top;\n",
       "    }\n",
       "\n",
       "    .dataframe thead th {\n",
       "        text-align: right;\n",
       "    }\n",
       "</style>\n",
       "<table border=\"1\" class=\"dataframe\">\n",
       "  <thead>\n",
       "    <tr style=\"text-align: right;\">\n",
       "      <th></th>\n",
       "      <th>ACI</th>\n",
       "      <th>ALARABANK</th>\n",
       "      <th>APEXFOODS</th>\n",
       "      <th>BANKASIA</th>\n",
       "      <th>BATASHOE</th>\n",
       "      <th>BATBC</th>\n",
       "      <th>BERGERPBL</th>\n",
       "      <th>BEXIMCO</th>\n",
       "      <th>BRACBANK</th>\n",
       "      <th>BSC</th>\n",
       "      <th>...</th>\n",
       "      <th>POWERGRID</th>\n",
       "      <th>PRIMEBANK</th>\n",
       "      <th>PUBALIBANK</th>\n",
       "      <th>RECKITTBEN</th>\n",
       "      <th>SALAMCRST</th>\n",
       "      <th>SHAHJABANK</th>\n",
       "      <th>SINGERBD</th>\n",
       "      <th>SOUTHEASTB</th>\n",
       "      <th>SQURPHARMA</th>\n",
       "      <th>SUMITPOWER</th>\n",
       "    </tr>\n",
       "  </thead>\n",
       "  <tbody>\n",
       "    <tr>\n",
       "      <th>2020-12-30</th>\n",
       "      <td>246.0</td>\n",
       "      <td>22.2</td>\n",
       "      <td>125.4</td>\n",
       "      <td>18.2</td>\n",
       "      <td>702.7</td>\n",
       "      <td>1180.8</td>\n",
       "      <td>1429.5</td>\n",
       "      <td>57.0</td>\n",
       "      <td>44.3</td>\n",
       "      <td>44.7</td>\n",
       "      <td>...</td>\n",
       "      <td>41.8</td>\n",
       "      <td>17.1</td>\n",
       "      <td>24.1</td>\n",
       "      <td>4046.8</td>\n",
       "      <td>21.4</td>\n",
       "      <td>22.9</td>\n",
       "      <td>175.6</td>\n",
       "      <td>12.5</td>\n",
       "      <td>219.5</td>\n",
       "      <td>38.9</td>\n",
       "    </tr>\n",
       "  </tbody>\n",
       "</table>\n",
       "<p>1 rows × 39 columns</p>\n",
       "</div>"
      ],
      "text/plain": [
       "              ACI  ALARABANK  APEXFOODS  BANKASIA  BATASHOE   BATBC  \\\n",
       "2020-12-30  246.0       22.2      125.4      18.2     702.7  1180.8   \n",
       "\n",
       "            BERGERPBL  BEXIMCO  BRACBANK   BSC  ...  POWERGRID  PRIMEBANK  \\\n",
       "2020-12-30     1429.5     57.0      44.3  44.7  ...       41.8       17.1   \n",
       "\n",
       "            PUBALIBANK  RECKITTBEN  SALAMCRST  SHAHJABANK  SINGERBD  \\\n",
       "2020-12-30        24.1      4046.8       21.4        22.9     175.6   \n",
       "\n",
       "            SOUTHEASTB  SQURPHARMA  SUMITPOWER  \n",
       "2020-12-30        12.5       219.5        38.9  \n",
       "\n",
       "[1 rows x 39 columns]"
      ]
     },
     "execution_count": 79,
     "metadata": {},
     "output_type": "execute_result"
    }
   ],
   "source": [
    "StockData.tail(1)"
   ]
  },
  {
   "cell_type": "code",
   "execution_count": 80,
   "metadata": {},
   "outputs": [
    {
     "data": {
      "text/plain": [
       "array([  0.   ,   0.   ,   0.   ,   0.   ,   0.   , 338.753, 167.401,\n",
       "         0.   ,   0.   ,   0.   ,   0.   ,   3.465,   0.   ,   0.   ,\n",
       "         0.   ,   0.   ,   0.   , 517.488,   0.   ,   0.   ,   0.   ,\n",
       "         0.   ,   0.   , 312.232, 187.021,   0.   ,   0.   ,   0.   ,\n",
       "         0.   ,   0.   ,   0.   ,   0.   ,  94.01 ,   0.   ,   0.   ,\n",
       "         0.   ,   0.   ,   0.   ,   0.   ])"
      ]
     },
     "execution_count": 80,
     "metadata": {},
     "output_type": "execute_result"
    }
   ],
   "source": [
    "LastPrice = np.array([1/p for p in StockData.tail(1).to_numpy()[0]])\n",
    "Initial_Portfolio = np.multiply(mvo_weights, LastPrice)\n",
    "Initial_Portfolio"
   ]
  },
  {
   "cell_type": "code",
   "execution_count": 81,
   "metadata": {},
   "outputs": [
    {
     "data": {
      "text/html": [
       "<div>\n",
       "<style scoped>\n",
       "    .dataframe tbody tr th:only-of-type {\n",
       "        vertical-align: middle;\n",
       "    }\n",
       "\n",
       "    .dataframe tbody tr th {\n",
       "        vertical-align: top;\n",
       "    }\n",
       "\n",
       "    .dataframe thead th {\n",
       "        text-align: right;\n",
       "    }\n",
       "</style>\n",
       "<table border=\"1\" class=\"dataframe\">\n",
       "  <thead>\n",
       "    <tr style=\"text-align: right;\">\n",
       "      <th></th>\n",
       "      <th>Mean Var</th>\n",
       "    </tr>\n",
       "  </thead>\n",
       "  <tbody>\n",
       "    <tr>\n",
       "      <th>2021-01-03</th>\n",
       "      <td>2.053141e+06</td>\n",
       "    </tr>\n",
       "    <tr>\n",
       "      <th>2021-01-04</th>\n",
       "      <td>2.058234e+06</td>\n",
       "    </tr>\n",
       "    <tr>\n",
       "      <th>2021-01-05</th>\n",
       "      <td>2.032617e+06</td>\n",
       "    </tr>\n",
       "    <tr>\n",
       "      <th>2021-01-06</th>\n",
       "      <td>2.015098e+06</td>\n",
       "    </tr>\n",
       "    <tr>\n",
       "      <th>2021-01-07</th>\n",
       "      <td>2.015016e+06</td>\n",
       "    </tr>\n",
       "    <tr>\n",
       "      <th>...</th>\n",
       "      <td>...</td>\n",
       "    </tr>\n",
       "    <tr>\n",
       "      <th>2022-12-22</th>\n",
       "      <td>1.948002e+06</td>\n",
       "    </tr>\n",
       "    <tr>\n",
       "      <th>2022-12-26</th>\n",
       "      <td>1.947952e+06</td>\n",
       "    </tr>\n",
       "    <tr>\n",
       "      <th>2022-12-27</th>\n",
       "      <td>1.948119e+06</td>\n",
       "    </tr>\n",
       "    <tr>\n",
       "      <th>2022-12-28</th>\n",
       "      <td>1.948494e+06</td>\n",
       "    </tr>\n",
       "    <tr>\n",
       "      <th>2022-12-29</th>\n",
       "      <td>1.949726e+06</td>\n",
       "    </tr>\n",
       "  </tbody>\n",
       "</table>\n",
       "<p>484 rows × 1 columns</p>\n",
       "</div>"
      ],
      "text/plain": [
       "                Mean Var\n",
       "2021-01-03  2.053141e+06\n",
       "2021-01-04  2.058234e+06\n",
       "2021-01-05  2.032617e+06\n",
       "2021-01-06  2.015098e+06\n",
       "2021-01-07  2.015016e+06\n",
       "...                  ...\n",
       "2022-12-22  1.948002e+06\n",
       "2022-12-26  1.947952e+06\n",
       "2022-12-27  1.948119e+06\n",
       "2022-12-28  1.948494e+06\n",
       "2022-12-29  1.949726e+06\n",
       "\n",
       "[484 rows x 1 columns]"
      ]
     },
     "execution_count": 81,
     "metadata": {},
     "output_type": "execute_result"
    }
   ],
   "source": [
    "Portfolio_Assets = TradeData @ Initial_Portfolio\n",
    "MVO_result = pd.DataFrame(Portfolio_Assets, columns=[\"Mean Var\"])\n",
    "MVO_result"
   ]
  },
  {
   "cell_type": "code",
   "execution_count": 82,
   "metadata": {},
   "outputs": [
    {
     "name": "stdout",
     "output_type": "stream",
     "text": [
      "result:                       a2c          ddpg           td3           ppo  \\\n",
      "date                                                                 \n",
      "2021-01-03  2.000000e+06  2.000000e+06  2.000000e+06  2.000000e+06   \n",
      "2021-01-04  2.000385e+06  2.002823e+06  2.001974e+06  2.000049e+06   \n",
      "2021-01-05  1.995236e+06  1.992075e+06  1.983696e+06  1.999453e+06   \n",
      "2021-01-06  1.991944e+06  1.983060e+06  1.980820e+06  1.998963e+06   \n",
      "2021-01-07  1.987936e+06  1.987316e+06  1.966869e+06  1.998370e+06   \n",
      "...                  ...           ...           ...           ...   \n",
      "2022-12-22  1.707390e+06  2.173637e+06  2.245898e+06  1.927394e+06   \n",
      "2022-12-26  1.705465e+06  2.173344e+06  2.247578e+06  1.926502e+06   \n",
      "2022-12-27  1.703598e+06  2.173818e+06  2.244788e+06  1.924835e+06   \n",
      "2022-12-28  1.705098e+06  2.174542e+06  2.252678e+06  1.930175e+06   \n",
      "2022-12-29  1.706506e+06  2.178519e+06  2.250938e+06  1.930798e+06   \n",
      "\n",
      "                     sac           mvo  \n",
      "date                                    \n",
      "2021-01-03  2.000000e+06  2.053141e+06  \n",
      "2021-01-04  1.999369e+06  2.058234e+06  \n",
      "2021-01-05  1.982067e+06  2.032617e+06  \n",
      "2021-01-06  1.968255e+06  2.015098e+06  \n",
      "2021-01-07  1.973143e+06  2.015016e+06  \n",
      "...                  ...           ...  \n",
      "2022-12-22  1.749862e+06  1.948002e+06  \n",
      "2022-12-26  1.747571e+06  1.947952e+06  \n",
      "2022-12-27  1.746358e+06  1.948119e+06  \n",
      "2022-12-28  1.751172e+06  1.948494e+06  \n",
      "2022-12-29  1.756210e+06  1.949726e+06  \n",
      "\n",
      "[484 rows x 6 columns]\n"
     ]
    }
   ],
   "source": [
    "df_result_a2c = df_account_value_a2c.set_index(df_account_value_a2c.columns[0])\n",
    "df_result_ddpg = df_account_value_ddpg.set_index(df_account_value_ddpg.columns[0])\n",
    "df_result_td3 = df_account_value_td3.set_index(df_account_value_td3.columns[0])\n",
    "df_result_ppo = df_account_value_ppo.set_index(df_account_value_ppo.columns[0])\n",
    "df_result_sac = df_account_value_sac.set_index(df_account_value_sac.columns[0])\n",
    "df_account_value_a2c.to_csv(\"df_account_value_a2c.csv\")\n",
    "\n",
    "result = pd.merge(df_result_a2c, df_result_ddpg, left_index=True, right_index=True, suffixes=('_a2c', '_ddpg'))\n",
    "result = pd.merge(result, df_result_td3, left_index=True, right_index=True, suffixes=('', '_td3'))\n",
    "result = pd.merge(result, df_result_ppo, left_index=True, right_index=True, suffixes=('', '_ppo'))\n",
    "result = pd.merge(result, df_result_sac, left_index=True, right_index=True, suffixes=('', '_sac'))\n",
    "result = pd.merge(result, MVO_result, left_index=True, right_index=True, suffixes=('', '_mvo'))\n",
    "result.columns = ['a2c', 'ddpg', 'td3', 'ppo', 'sac', 'mvo']\n",
    "\n",
    "print(\"result: \", result)\n",
    "result.to_csv(\"result.csv\")"
   ]
  },
  {
   "cell_type": "code",
   "execution_count": 83,
   "metadata": {},
   "outputs": [
    {
     "data": {
      "image/png": "[encoded data removed]",
      "text/plain": [
       "<Figure size 1000x600 with 1 Axes>"
      ]
     },
     "metadata": {},
     "output_type": "display_data"
    },
    {
     "data": {
      "image/png": "[encoded data removed]",
      "text/plain": [
       "<Figure size 1000x600 with 1 Axes>"
      ]
     },
     "metadata": {},
     "output_type": "display_data"
    },
    {
     "data": {
      "text/plain": [
       "<Figure size 1500x500 with 0 Axes>"
      ]
     },
     "metadata": {},
     "output_type": "display_data"
    },
    {
     "data": {
      "image/png": "[encoded data removed]",
      "text/plain": [
       "<Figure size 1500x500 with 1 Axes>"
      ]
     },
     "metadata": {},
     "output_type": "display_data"
    }
   ],
   "source": [
    "%matplotlib inline\n",
    "plt.rcParams[\"figure.figsize\"] = (15,5)\n",
    "plt.figure();\n",
    "result.plot();"
   ]
  },
  {
   "cell_type": "code",
   "execution_count": 84,
   "metadata": {},
   "outputs": [],
   "source": [
    "# make a table of initial and final value, annual return, sharpe ratio, max drawdown\n",
    "# initial value\n",
    "initial_value = result.iloc[0]\n",
    "# final value\n",
    "final_value = result.iloc[-1]\n",
    "# annual return\n",
    "annual_return = (final_value/initial_value)**(1/3) - 1\n",
    "annual_return = annual_return * 100\n",
    "# sharpe ratio\n",
    "sharpe_ratio = annual_return / result.std()\n",
    "# max drawdown\n",
    "max_drawdown = (result - result.expanding().max()).min()\n",
    "# combine all the metrics\n"
   ]
  },
  {
   "cell_type": "code",
   "execution_count": 85,
   "metadata": {},
   "outputs": [],
   "source": [
    "# Calculate daily returns from the portfolio values\n",
    "daily_returns = result.pct_change().dropna()\n",
    "\n",
    "# Set target return (e.g., 0 for simplicity, or replace with a risk-free rate if needed)\n",
    "target_return = 0\n",
    "\n",
    "# Calculate downside deviation\n",
    "downside_returns = daily_returns[daily_returns < target_return]  # Only returns below target\n",
    "downside_deviation = np.sqrt((downside_returns**2).mean())  # Root mean square of negative returns\n",
    "\n",
    "# Annual return (already calculated)\n",
    "annual_return = (result.iloc[-1] / result.iloc[0])**(1/3) - 1\n",
    "annual_return = annual_return * 100  # Convert to percentage\n",
    "\n",
    "# Sortino Ratio\n",
    "sortino_ratio = (annual_return - target_return) / downside_deviation\n",
    "\n",
    "# # Create a DataFrame for Sortino Ratio\n",
    "# sortino_ratio_df = pd.DataFrame(sortino_ratio, columns=['Sortino Ratio'])\n",
    "# print(sortino_ratio_df)\n"
   ]
  },
  {
   "cell_type": "code",
   "execution_count": 86,
   "metadata": {},
   "outputs": [
    {
     "name": "stdout",
     "output_type": "stream",
     "text": [
      "      initial_value   final_value  annual_return  sharpe_ratio  sortino_ratio  \\\n",
      "a2c    2.000000e+06  1.706506e+06      -5.152482     -0.000035    -286.432697   \n",
      "ddpg   2.000000e+06  2.178519e+06       2.890933      0.000034     463.061299   \n",
      "td3    2.000000e+06  2.250938e+06       4.018638      0.000026     606.817172   \n",
      "ppo    2.000000e+06  1.930798e+06      -1.166932     -0.000007    -109.136325   \n",
      "sac    2.000000e+06  1.756210e+06      -4.240430     -0.000028    -222.139886   \n",
      "mvo    2.053141e+06  1.949726e+06      -1.707980     -0.000015    -147.494186   \n",
      "\n",
      "       max_drawdown  \n",
      "a2c  -673543.976350  \n",
      "ddpg -262558.400000  \n",
      "td3  -335176.700000  \n",
      "ppo  -495531.012350  \n",
      "sac  -707296.200000  \n",
      "mvo  -429814.846841  \n"
     ]
    }
   ],
   "source": [
    "metrics = pd.DataFrame([initial_value, final_value, annual_return, sharpe_ratio,sortino_ratio, max_drawdown], index=['initial_value', 'final_value', 'annual_return', 'sharpe_ratio','sortino_ratio', 'max_drawdown']).T\n",
    "metrics.to_csv(\"metrics_cashless_dse.csv\")\n",
    "print(metrics)"
   ]
  }
 ],
 "metadata": {
  "kernelspec": {
   "display_name": "Python 3",
   "language": "python",
   "name": "python3"
  },
  "language_info": {
   "codemirror_mode": {
    "name": "ipython",
    "version": 3
   },
   "file_extension": ".py",
   "mimetype": "text/x-python",
   "name": "python",
   "nbconvert_exporter": "python",
   "pygments_lexer": "ipython3",
   "version": "3.10.6"
  }
 },
 "nbformat": 4,
 "nbformat_minor": 2
}

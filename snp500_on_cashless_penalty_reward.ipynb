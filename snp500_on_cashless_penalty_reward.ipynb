{
 "cells": [
  {
   "cell_type": "code",
   "execution_count": 1,
   "metadata": {},
   "outputs": [],
   "source": [
    "import pandas as pd\n",
    "import json\n",
    "import os \n",
    "import sys\n",
    "import csv\n",
    "\n",
    "# plot\n",
    "import matplotlib.pyplot as plt\n",
    "import seaborn as sns"
   ]
  },
  {
   "cell_type": "code",
   "execution_count": 2,
   "metadata": {},
   "outputs": [
    {
     "name": "stdout",
     "output_type": "stream",
     "text": [
      "['A.US_D1.csv', 'AAL.US_D1.csv', 'AAPL.US_D1.csv', 'ABBV.US_D1.csv', 'ABNB.US_D1.csv', 'ABT.US_D1.csv', 'ACGL.US_D1.csv', 'ACN.US_D1.csv', 'ADBE.US_D1.csv', 'ADI.US_D1.csv', 'ADM.US_D1.csv', 'ADP.US_D1.csv', 'ADSK.US_D1.csv', 'AEE.US_D1.csv', 'AEP.US_D1.csv', 'AES.US_D1.csv', 'AFL.US_D1.csv', 'AIG.US_D1.csv', 'AIZ.US_D1.csv', 'AJG.US_D1.csv', 'AKAM.US_D1.csv', 'ALB.US_D1.csv', 'ALGN.US_D1.csv', 'ALL.US_D1.csv', 'ALLE.US_D1.csv', 'AMAT.US_D1.csv', 'AMCR.US_D1.csv', 'AMD.US_D1.csv', 'AME.US_D1.csv', 'AMGN.US_D1.csv', 'AMP.US_D1.csv', 'AMT.US_D1.csv', 'AMZN.US_D1.csv', 'ANET.US_D1.csv', 'ANSS.US_D1.csv', 'AON.US_D1.csv', 'AOS.US_D1.csv', 'APA.US_D1.csv', 'APD.US_D1.csv', 'APH.US_D1.csv', 'APTV.US_D1.csv', 'ARE.US_D1.csv', 'ASML.US_D1.csv', 'ATO.US_D1.csv', 'AVB.US_D1.csv', 'AVGO.US_D1.csv', 'AVY.US_D1.csv', 'AWK.US_D1.csv', 'AXON.US_D1.csv', 'AXP.US_D1.csv', 'AZN.US_D1.csv', 'AZO.US_D1.csv', 'BA.US_D1.csv', 'BAC.US_D1.csv', 'BALL.US_D1.csv', 'BAX.US_D1.csv', 'BBWI.US_D1.csv', 'BBY.US_D1.csv', 'BDX.US_D1.csv', 'BEN.US_D1.csv', 'BF.B.US_D1.csv', 'BG.US_D1.csv', 'BIIB.US_D1.csv', 'BIO.US_D1.csv', 'BK.US_D1.csv', 'BKNG.US_D1.csv', 'BKR.US_D1.csv', 'BLDR.US_D1.csv', 'BLK.US_D1.csv', 'BMY.US_D1.csv', 'BR.US_D1.csv', 'BRK.B.US_D1.csv', 'BRO.US_D1.csv', 'BSX.US_D1.csv', 'BWA.US_D1.csv', 'BX.US_D1.csv', 'BXP.US_D1.csv', 'C.US_D1.csv', 'CAG.US_D1.csv', 'CAH.US_D1.csv', 'CARR.US_D1.csv', 'CAT.US_D1.csv', 'CB.US_D1.csv', 'CBOE.US_D1.csv', 'CBRE.US_D1.csv', 'CCEP.US_D1.csv', 'CCI.US_D1.csv', 'CCL.US_D1.csv', 'CDAY.US_D1.csv', 'CDNS.US_D1.csv', 'CDW.US_D1.csv', 'CE.US_D1.csv', 'CEG.US_D1.csv', 'CF.US_D1.csv', 'CFG.US_D1.csv', 'CHD.US_D1.csv', 'CHRW.US_D1.csv', 'CHTR.US_D1.csv', 'CI.US_D1.csv', 'CINF.US_D1.csv', 'CL.US_D1.csv', 'CLX.US_D1.csv', 'CMA.US_D1.csv', 'CMCSA.US_D1.csv', 'CME.US_D1.csv', 'CMG.US_D1.csv', 'CMI.US_D1.csv', 'CMS.US_D1.csv', 'CNC.US_D1.csv', 'CNP.US_D1.csv', 'COF.US_D1.csv', 'COO.US_D1.csv', 'COP.US_D1.csv', 'COR.US_D1.csv', 'COST.US_D1.csv', 'CPB.US_D1.csv', 'CPRT.US_D1.csv', 'CPT.US_D1.csv', 'CRL.US_D1.csv', 'CRM.US_D1.csv', 'CRWD.US_D1.csv', 'CSCO.US_D1.csv', 'CSGP.US_D1.csv', 'CSX.US_D1.csv', 'CTAS.US_D1.csv', 'CTLT.US_D1.csv', 'CTRA.US_D1.csv', 'CTSH.US_D1.csv', 'CTVA.US_D1.csv', 'CVS.US_D1.csv', 'CVX.US_D1.csv', 'CZR.US_D1.csv', 'D.US_D1.csv', 'DAL.US_D1.csv', 'DASH.US_D1.csv', 'DD.US_D1.csv', 'DDOG.US_D1.csv', 'DE.US_D1.csv', 'DFS.US_D1.csv', 'DG.US_D1.csv', 'DGX.US_D1.csv', 'DHI.US_D1.csv', 'DHR.US_D1.csv', 'DIS.US_D1.csv', 'DLR.US_D1.csv', 'DLTR.US_D1.csv', 'DOV.US_D1.csv', 'DOW.US_D1.csv', 'DPZ.US_D1.csv', 'DRI.US_D1.csv', 'DTE.US_D1.csv', 'DUK.US_D1.csv', 'DVA.US_D1.csv', 'DVN.US_D1.csv', 'DXCM.US_D1.csv', 'EA.US_D1.csv', 'EBAY.US_D1.csv', 'ECL.US_D1.csv', 'ED.US_D1.csv', 'EFX.US_D1.csv', 'EG.US_D1.csv', 'EIX.US_D1.csv', 'EL.US_D1.csv', 'ELV.US_D1.csv', 'EMN.US_D1.csv', 'EMR.US_D1.csv', 'ENPH.US_D1.csv', 'EOG.US_D1.csv', 'EPAM.US_D1.csv', 'EQIX.US_D1.csv', 'EQR.US_D1.csv', 'EQT.US_D1.csv', 'ES.US_D1.csv', 'ESS.US_D1.csv', 'ETN.US_D1.csv', 'ETR.US_D1.csv', 'ETSY.US_D1.csv', 'EVRG.US_D1.csv', 'EW.US_D1.csv', 'EXC.US_D1.csv', 'EXPD.US_D1.csv', 'EXPE.US_D1.csv', 'EXR.US_D1.csv', 'F.US_D1.csv', 'FANG.US_D1.csv', 'FAST.US_D1.csv', 'FCX.US_D1.csv', 'FDS.US_D1.csv', 'FDX.US_D1.csv', 'FE.US_D1.csv', 'FFIV.US_D1.csv', 'FI.US_D1.csv', 'FICO.US_D1.csv', 'FIS.US_D1.csv', 'FITB.US_D1.csv', 'FLT.US_D1.csv', 'FMC.US_D1.csv', 'FOX.US_D1.csv', 'FOXA.US_D1.csv', 'FRT.US_D1.csv', 'FSLR.US_D1.csv', 'FTNT.US_D1.csv', 'FTV.US_D1.csv', 'GD.US_D1.csv', 'GE.US_D1.csv', 'GEHC.US_D1.csv', 'GEN.US_D1.csv', 'GFS.US_D1.csv', 'GILD.US_D1.csv', 'GIS.US_D1.csv', 'GL.US_D1.csv', 'GLW.US_D1.csv', 'GM.US_D1.csv', 'GNRC.US_D1.csv', 'GOOG.US_D1.csv', 'GOOGL.US_D1.csv', 'GPC.US_D1.csv', 'GPN.US_D1.csv', 'GRMN.US_D1.csv', 'GS.US_D1.csv', 'GWW.US_D1.csv', 'HAL.US_D1.csv', 'HAS.US_D1.csv', 'HBAN.US_D1.csv', 'HCA.US_D1.csv', 'HD.US_D1.csv', 'HES.US_D1.csv', 'HIG.US_D1.csv', 'HII.US_D1.csv', 'HLT.US_D1.csv', 'HOLX.US_D1.csv', 'HON.US_D1.csv', 'HPE.US_D1.csv', 'HPQ.US_D1.csv', 'HRL.US_D1.csv', 'HSIC.US_D1.csv', 'HST.US_D1.csv', 'HSY.US_D1.csv', 'HUBB.US_D1.csv', 'HUM.US_D1.csv', 'HWM.US_D1.csv', 'IBM.US_D1.csv', 'ICE.US_D1.csv', 'IDXX.US_D1.csv', 'IEX.US_D1.csv', 'IFF.US_D1.csv', 'ILMN.US_D1.csv', 'INCY.US_D1.csv', 'INTC.US_D1.csv', 'INTU.US_D1.csv', 'INVH.US_D1.csv', 'IP.US_D1.csv', 'IPG.US_D1.csv', 'IQV.US_D1.csv', 'IR.US_D1.csv', 'IRM.US_D1.csv', 'ISRG.US_D1.csv', 'IT.US_D1.csv', 'ITW.US_D1.csv', 'IVZ.US_D1.csv', 'J.US_D1.csv', 'JBHT.US_D1.csv', 'JBL.US_D1.csv', 'JCI.US_D1.csv', 'JKHY.US_D1.csv', 'JNJ.US_D1.csv', 'JNPR.US_D1.csv', 'JPM.US_D1.csv', 'K.US_D1.csv', 'KDP.US_D1.csv', 'KEY.US_D1.csv', 'KEYS.US_D1.csv', 'KHC.US_D1.csv', 'KIM.US_D1.csv', 'KLAC.US_D1.csv', 'KMB.US_D1.csv', 'KMI.US_D1.csv', 'KMX.US_D1.csv', 'KO.US_D1.csv', 'KR.US_D1.csv', 'KVUE.US_D1.csv', 'L.US_D1.csv', 'LDOS.US_D1.csv', 'LEN.US_D1.csv', 'LH.US_D1.csv', 'LHX.US_D1.csv', 'LIN.US_D1.csv', 'LKQ.US_D1.csv', 'LLY.US_D1.csv', 'LMT.US_D1.csv', 'LNT.US_D1.csv', 'LOW.US_D1.csv', 'LRCX.US_D1.csv', 'LULU.US_D1.csv', 'LUV.US_D1.csv', 'LVS.US_D1.csv', 'LW.US_D1.csv', 'LYB.US_D1.csv', 'LYV.US_D1.csv', 'MA.US_D1.csv', 'MAA.US_D1.csv', 'MAR.US_D1.csv', 'MAS.US_D1.csv', 'MCD.US_D1.csv', 'MCHP.US_D1.csv', 'MCK.US_D1.csv', 'MCO.US_D1.csv', 'MDB.US_D1.csv', 'MDLZ.US_D1.csv', 'MDT.US_D1.csv', 'MELI.US_D1.csv', 'MET.US_D1.csv', 'META.US_D1.csv', 'MGM.US_D1.csv', 'MHK.US_D1.csv', 'MKC.US_D1.csv', 'MKTX.US_D1.csv', 'MLM.US_D1.csv', 'MMC.US_D1.csv', 'MMM.US_D1.csv', 'MNST.US_D1.csv', 'MO.US_D1.csv', 'MOH.US_D1.csv', 'MOS.US_D1.csv', 'MPC.US_D1.csv', 'MPWR.US_D1.csv', 'MRK.US_D1.csv', 'MRNA.US_D1.csv', 'MRO.US_D1.csv', 'MRVL.US_D1.csv', 'MS.US_D1.csv', 'MSCI.US_D1.csv', 'MSFT.US_D1.csv', 'MSI.US_D1.csv', 'MTB.US_D1.csv', 'MTCH.US_D1.csv', 'MTD.US_D1.csv', 'MU.US_D1.csv', 'NCLH.US_D1.csv', 'NDAQ.US_D1.csv', 'NDSN.US_D1.csv', 'NEE.US_D1.csv', 'NEM.US_D1.csv', 'NFLX.US_D1.csv', 'NI.US_D1.csv', 'NKE.US_D1.csv', 'NOC.US_D1.csv', 'NOW.US_D1.csv', 'NRG.US_D1.csv', 'NSC.US_D1.csv', 'NTAP.US_D1.csv', 'NTRS.US_D1.csv', 'NUE.US_D1.csv', 'NVDA.US_D1.csv', 'NVR.US_D1.csv', 'NWS.US_D1.csv', 'NWSA.US_D1.csv', 'NXPI.US_D1.csv', 'O.US_D1.csv', 'ODFL.US_D1.csv', 'OKE.US_D1.csv', 'OMC.US_D1.csv', 'ON.US_D1.csv', 'ORCL.US_D1.csv', 'ORLY.US_D1.csv', 'OTIS.US_D1.csv', 'OXY.US_D1.csv', 'PANW.US_D1.csv', 'PARA.US_D1.csv', 'PAYC.US_D1.csv', 'PAYX.US_D1.csv', 'PCAR.US_D1.csv', 'PCG.US_D1.csv', 'PDD.US_D1.csv', 'PEAK.US_D1.csv', 'PEG.US_D1.csv', 'PEP.US_D1.csv', 'PFE.US_D1.csv', 'PFG.US_D1.csv', 'PG.US_D1.csv', 'PGR.US_D1.csv', 'PH.US_D1.csv', 'PHM.US_D1.csv', 'PKG.US_D1.csv', 'PLD.US_D1.csv', 'PM.US_D1.csv', 'PNC.US_D1.csv', 'PNR.US_D1.csv', 'PNW.US_D1.csv', 'PODD.US_D1.csv', 'POOL.US_D1.csv', 'PPG.US_D1.csv', 'PPL.US_D1.csv', 'PRU.US_D1.csv', 'PSA.US_D1.csv', 'PSX.US_D1.csv', 'PTC.US_D1.csv', 'PWR.US_D1.csv', 'PXD.US_D1.csv', 'PYPL.US_D1.csv', 'QCOM.US_D1.csv', 'QRVO.US_D1.csv', 'RCL.US_D1.csv', 'REG.US_D1.csv', 'REGN.US_D1.csv', 'RF.US_D1.csv', 'RHI.US_D1.csv', 'RJF.US_D1.csv', 'RL.US_D1.csv', 'RMD.US_D1.csv', 'ROK.US_D1.csv', 'ROL.US_D1.csv', 'ROP.US_D1.csv', 'ROST.US_D1.csv', 'RSG.US_D1.csv', 'RTX.US_D1.csv', 'RVTY.US_D1.csv', 'SBAC.US_D1.csv', 'SBUX.US_D1.csv', 'SCHW.US_D1.csv', 'SHW.US_D1.csv', 'SIRI.US_D1.csv', 'SJM.US_D1.csv', 'SLB.US_D1.csv', 'SNA.US_D1.csv', 'SNPS.US_D1.csv', 'SO.US_D1.csv', 'SPG.US_D1.csv', 'SPGI.US_D1.csv', 'SPLK.US_D1.csv', 'SRE.US_D1.csv', 'STE.US_D1.csv', 'STLD.US_D1.csv', 'STT.US_D1.csv', 'STX.US_D1.csv', 'STZ.US_D1.csv', 'SWK.US_D1.csv', 'SWKS.US_D1.csv', 'SYF.US_D1.csv', 'SYK.US_D1.csv', 'SYY.US_D1.csv', 'T.US_D1.csv', 'TAP.US_D1.csv', 'TDG.US_D1.csv', 'TDY.US_D1.csv', 'TEAM.US_D1.csv', 'TECH.US_D1.csv', 'TEL.US_D1.csv', 'TER.US_D1.csv', 'TFC.US_D1.csv', 'TFX.US_D1.csv', 'TGT.US_D1.csv', 'TJX.US_D1.csv', 'TMO.US_D1.csv', 'TMUS.US_D1.csv', 'TPR.US_D1.csv', 'TRGP.US_D1.csv', 'TRMB.US_D1.csv', 'TROW.US_D1.csv', 'TRV.US_D1.csv', 'TSCO.US_D1.csv', 'TSLA.US_D1.csv', 'TSN.US_D1.csv', 'TT.US_D1.csv', 'TTD.US_D1.csv', 'TTWO.US_D1.csv', 'TXN.US_D1.csv', 'TXT.US_D1.csv', 'TYL.US_D1.csv', 'UAL.US_D1.csv', 'UBER.US_D1.csv', 'UDR.US_D1.csv', 'UHS.US_D1.csv', 'ULTA.US_D1.csv', 'UNH.US_D1.csv', 'UNP.US_D1.csv', 'UPS.US_D1.csv', 'URI.US_D1.csv', 'USB.US_D1.csv', 'V.US_D1.csv', 'VFC.US_D1.csv', 'VICI.US_D1.csv', 'VLO.US_D1.csv', 'VMC.US_D1.csv', 'VRSK.US_D1.csv', 'VRSN.US_D1.csv', 'VRTX.US_D1.csv', 'VTR.US_D1.csv', 'VTRS.US_D1.csv', 'VZ.US_D1.csv', 'WAB.US_D1.csv', 'WAT.US_D1.csv', 'WBA.US_D1.csv', 'WBD.US_D1.csv', 'WDAY.US_D1.csv', 'WDC.US_D1.csv', 'WEC.US_D1.csv', 'WELL.US_D1.csv', 'WFC.US_D1.csv', 'WHR.US_D1.csv', 'WM.US_D1.csv', 'WMB.US_D1.csv', 'WMT.US_D1.csv', 'WRB.US_D1.csv', 'WRK.US_D1.csv', 'WST.US_D1.csv', 'WTW.US_D1.csv', 'WY.US_D1.csv', 'WYNN.US_D1.csv', 'XEL.US_D1.csv', 'XOM.US_D1.csv', 'XRAY.US_D1.csv', 'XYL.US_D1.csv', 'YUM.US_D1.csv', 'ZBH.US_D1.csv', 'ZBRA.US_D1.csv', 'ZION.US_D1.csv', 'ZS.US_D1.csv', 'ZTS.US_D1.csv']\n"
     ]
    }
   ],
   "source": [
    "# dir = os.path.join('dataset', 'kaggle-dse')\n",
    "# dir = r\"/Users/md.raihansobhan/Desktop/BUET/4-2 Sessionals/CSE 472 | ML/online_class/Strategic-Stock-Trading-with-Deep-Reinforcement-Learning-Models/datasets/NIFTY\"\n",
    "\n",
    "if os.name == 'nt':  # Windows\n",
    "    dir = r\"D:\\Academics\\4-2\\19 Batch\\Sessionals\\CSE 472\\Project\\1905095_1905115\\Github\\Strategic-Stock-Trading-with-Deep-Reinforcement-Learning-Models\\datasets\\SNP_500\\D1\"\n",
    "else:  # macOS/Linux\n",
    "    dir = r\"/Users/md.raihansobhan/Desktop/BUET/4-2 Sessionals/CSE 472 | ML/online_class/Strategic-Stock-Trading-with-Deep-Reinforcement-Learning-Models/datasets/SNP_500/D1\"\n",
    "\n",
    "\n",
    "files = os.listdir(dir)\n",
    "files.sort()\n",
    "files = [f for f in files if f not in ['sp500_companies.csv', 'sp500_index.csv']]\n",
    "print(files)"
   ]
  },
  {
   "cell_type": "code",
   "execution_count": 3,
   "metadata": {},
   "outputs": [],
   "source": [
    "# Add Symbol column to each csv\n",
    "# Process each file\n",
    "for file_name in files:\n",
    "    # Extract the company symbol from the file name\n",
    "    symbol = file_name.split('.')[0]  # Extract everything before \"_\"\n",
    "    \n",
    "    # Load the CSV file\n",
    "    file_path = os.path.join(dir, file_name)\n",
    "    df = pd.read_csv(file_path)\n",
    "    \n",
    "    # Add the 'Symbol' column\n",
    "    df['Symbol'] = symbol\n",
    "    \n",
    "    # Save the updated CSV to the output folder\n",
    "    output_path = os.path.join(dir, file_name)\n",
    "    df.to_csv(output_path, index=False)\n",
    "\n"
   ]
  },
  {
   "cell_type": "code",
   "execution_count": 4,
   "metadata": {},
   "outputs": [
    {
     "data": {
      "text/plain": [
       "519"
      ]
     },
     "execution_count": 4,
     "metadata": {},
     "output_type": "execute_result"
    }
   ],
   "source": [
    "# List to store the data from all CSV files\n",
    "data = []\n",
    "\n",
    "# Loop through the files\n",
    "for f in files:\n",
    "    # Load each CSV file into a DataFrame and append to the list\n",
    "    file_path = os.path.join(dir, f)\n",
    "    data.append(pd.read_csv(file_path))\n",
    "\n",
    "# Check the number of loaded CSV files\n",
    "len(data)"
   ]
  },
  {
   "cell_type": "code",
   "execution_count": 5,
   "metadata": {},
   "outputs": [],
   "source": [
    "# convert to pandas dataframe\n",
    "dfs = []\n",
    "for i in range(1,len(data)):\n",
    "    dfs.append(pd.DataFrame(data[i]))\n",
    "df = pd.concat(dfs)"
   ]
  },
  {
   "cell_type": "code",
   "execution_count": 6,
   "metadata": {},
   "outputs": [
    {
     "data": {
      "text/plain": [
       "(2789187, 7)"
      ]
     },
     "execution_count": 6,
     "metadata": {},
     "output_type": "execute_result"
    }
   ],
   "source": [
    "df.shape"
   ]
  },
  {
   "cell_type": "code",
   "execution_count": 7,
   "metadata": {},
   "outputs": [
    {
     "data": {
      "text/html": [
       "<div>\n",
       "<style scoped>\n",
       "    .dataframe tbody tr th:only-of-type {\n",
       "        vertical-align: middle;\n",
       "    }\n",
       "\n",
       "    .dataframe tbody tr th {\n",
       "        vertical-align: top;\n",
       "    }\n",
       "\n",
       "    .dataframe thead th {\n",
       "        text-align: right;\n",
       "    }\n",
       "</style>\n",
       "<table border=\"1\" class=\"dataframe\">\n",
       "  <thead>\n",
       "    <tr style=\"text-align: right;\">\n",
       "      <th></th>\n",
       "      <th>datetime</th>\n",
       "      <th>open</th>\n",
       "      <th>high</th>\n",
       "      <th>low</th>\n",
       "      <th>close</th>\n",
       "      <th>volume</th>\n",
       "      <th>Symbol</th>\n",
       "    </tr>\n",
       "  </thead>\n",
       "  <tbody>\n",
       "    <tr>\n",
       "      <th>0</th>\n",
       "      <td>2013-12-09</td>\n",
       "      <td>23.90</td>\n",
       "      <td>25.44</td>\n",
       "      <td>23.45</td>\n",
       "      <td>24.96</td>\n",
       "      <td>20698322</td>\n",
       "      <td>AAL</td>\n",
       "    </tr>\n",
       "    <tr>\n",
       "      <th>1</th>\n",
       "      <td>2013-12-10</td>\n",
       "      <td>24.53</td>\n",
       "      <td>25.17</td>\n",
       "      <td>24.41</td>\n",
       "      <td>24.88</td>\n",
       "      <td>16285283</td>\n",
       "      <td>AAL</td>\n",
       "    </tr>\n",
       "    <tr>\n",
       "      <th>2</th>\n",
       "      <td>2013-12-11</td>\n",
       "      <td>25.44</td>\n",
       "      <td>27.19</td>\n",
       "      <td>25.37</td>\n",
       "      <td>25.99</td>\n",
       "      <td>31194241</td>\n",
       "      <td>AAL</td>\n",
       "    </tr>\n",
       "    <tr>\n",
       "      <th>3</th>\n",
       "      <td>2013-12-12</td>\n",
       "      <td>26.20</td>\n",
       "      <td>26.72</td>\n",
       "      <td>25.45</td>\n",
       "      <td>25.50</td>\n",
       "      <td>19006600</td>\n",
       "      <td>AAL</td>\n",
       "    </tr>\n",
       "    <tr>\n",
       "      <th>4</th>\n",
       "      <td>2013-12-13</td>\n",
       "      <td>25.61</td>\n",
       "      <td>26.31</td>\n",
       "      <td>25.52</td>\n",
       "      <td>26.30</td>\n",
       "      <td>10829193</td>\n",
       "      <td>AAL</td>\n",
       "    </tr>\n",
       "    <tr>\n",
       "      <th>...</th>\n",
       "      <td>...</td>\n",
       "      <td>...</td>\n",
       "      <td>...</td>\n",
       "      <td>...</td>\n",
       "      <td>...</td>\n",
       "      <td>...</td>\n",
       "      <td>...</td>\n",
       "    </tr>\n",
       "    <tr>\n",
       "      <th>2839</th>\n",
       "      <td>2024-03-08</td>\n",
       "      <td>181.59</td>\n",
       "      <td>182.98</td>\n",
       "      <td>179.84</td>\n",
       "      <td>182.53</td>\n",
       "      <td>5194409</td>\n",
       "      <td>ZTS</td>\n",
       "    </tr>\n",
       "    <tr>\n",
       "      <th>2840</th>\n",
       "      <td>2024-03-09</td>\n",
       "      <td>182.52</td>\n",
       "      <td>182.53</td>\n",
       "      <td>182.13</td>\n",
       "      <td>182.16</td>\n",
       "      <td>611363</td>\n",
       "      <td>ZTS</td>\n",
       "    </tr>\n",
       "    <tr>\n",
       "      <th>2841</th>\n",
       "      <td>2024-03-11</td>\n",
       "      <td>182.62</td>\n",
       "      <td>183.99</td>\n",
       "      <td>180.42</td>\n",
       "      <td>183.49</td>\n",
       "      <td>2648357</td>\n",
       "      <td>ZTS</td>\n",
       "    </tr>\n",
       "    <tr>\n",
       "      <th>2842</th>\n",
       "      <td>2024-03-12</td>\n",
       "      <td>183.65</td>\n",
       "      <td>183.83</td>\n",
       "      <td>180.94</td>\n",
       "      <td>181.35</td>\n",
       "      <td>1931447</td>\n",
       "      <td>ZTS</td>\n",
       "    </tr>\n",
       "    <tr>\n",
       "      <th>2843</th>\n",
       "      <td>2024-03-13</td>\n",
       "      <td>181.60</td>\n",
       "      <td>182.97</td>\n",
       "      <td>175.99</td>\n",
       "      <td>176.23</td>\n",
       "      <td>4130104</td>\n",
       "      <td>ZTS</td>\n",
       "    </tr>\n",
       "  </tbody>\n",
       "</table>\n",
       "<p>2789187 rows × 7 columns</p>\n",
       "</div>"
      ],
      "text/plain": [
       "        datetime    open    high     low   close    volume Symbol\n",
       "0     2013-12-09   23.90   25.44   23.45   24.96  20698322    AAL\n",
       "1     2013-12-10   24.53   25.17   24.41   24.88  16285283    AAL\n",
       "2     2013-12-11   25.44   27.19   25.37   25.99  31194241    AAL\n",
       "3     2013-12-12   26.20   26.72   25.45   25.50  19006600    AAL\n",
       "4     2013-12-13   25.61   26.31   25.52   26.30  10829193    AAL\n",
       "...          ...     ...     ...     ...     ...       ...    ...\n",
       "2839  2024-03-08  181.59  182.98  179.84  182.53   5194409    ZTS\n",
       "2840  2024-03-09  182.52  182.53  182.13  182.16    611363    ZTS\n",
       "2841  2024-03-11  182.62  183.99  180.42  183.49   2648357    ZTS\n",
       "2842  2024-03-12  183.65  183.83  180.94  181.35   1931447    ZTS\n",
       "2843  2024-03-13  181.60  182.97  175.99  176.23   4130104    ZTS\n",
       "\n",
       "[2789187 rows x 7 columns]"
      ]
     },
     "execution_count": 7,
     "metadata": {},
     "output_type": "execute_result"
    }
   ],
   "source": [
    "df"
   ]
  },
  {
   "cell_type": "code",
   "execution_count": 8,
   "metadata": {},
   "outputs": [],
   "source": [
    "df.rename(columns={'datetime':'date', 'Symbol': 'tic'}, inplace=True)\n"
   ]
  },
  {
   "cell_type": "code",
   "execution_count": 9,
   "metadata": {},
   "outputs": [
    {
     "data": {
      "text/html": [
       "<div>\n",
       "<style scoped>\n",
       "    .dataframe tbody tr th:only-of-type {\n",
       "        vertical-align: middle;\n",
       "    }\n",
       "\n",
       "    .dataframe tbody tr th {\n",
       "        vertical-align: top;\n",
       "    }\n",
       "\n",
       "    .dataframe thead th {\n",
       "        text-align: right;\n",
       "    }\n",
       "</style>\n",
       "<table border=\"1\" class=\"dataframe\">\n",
       "  <thead>\n",
       "    <tr style=\"text-align: right;\">\n",
       "      <th></th>\n",
       "      <th>date</th>\n",
       "      <th>open</th>\n",
       "      <th>high</th>\n",
       "      <th>low</th>\n",
       "      <th>close</th>\n",
       "      <th>volume</th>\n",
       "      <th>tic</th>\n",
       "    </tr>\n",
       "  </thead>\n",
       "  <tbody>\n",
       "    <tr>\n",
       "      <th>0</th>\n",
       "      <td>2013-12-09</td>\n",
       "      <td>23.90</td>\n",
       "      <td>25.44</td>\n",
       "      <td>23.45</td>\n",
       "      <td>24.96</td>\n",
       "      <td>20698322</td>\n",
       "      <td>AAL</td>\n",
       "    </tr>\n",
       "    <tr>\n",
       "      <th>1</th>\n",
       "      <td>2013-12-10</td>\n",
       "      <td>24.53</td>\n",
       "      <td>25.17</td>\n",
       "      <td>24.41</td>\n",
       "      <td>24.88</td>\n",
       "      <td>16285283</td>\n",
       "      <td>AAL</td>\n",
       "    </tr>\n",
       "    <tr>\n",
       "      <th>2</th>\n",
       "      <td>2013-12-11</td>\n",
       "      <td>25.44</td>\n",
       "      <td>27.19</td>\n",
       "      <td>25.37</td>\n",
       "      <td>25.99</td>\n",
       "      <td>31194241</td>\n",
       "      <td>AAL</td>\n",
       "    </tr>\n",
       "    <tr>\n",
       "      <th>3</th>\n",
       "      <td>2013-12-12</td>\n",
       "      <td>26.20</td>\n",
       "      <td>26.72</td>\n",
       "      <td>25.45</td>\n",
       "      <td>25.50</td>\n",
       "      <td>19006600</td>\n",
       "      <td>AAL</td>\n",
       "    </tr>\n",
       "    <tr>\n",
       "      <th>4</th>\n",
       "      <td>2013-12-13</td>\n",
       "      <td>25.61</td>\n",
       "      <td>26.31</td>\n",
       "      <td>25.52</td>\n",
       "      <td>26.30</td>\n",
       "      <td>10829193</td>\n",
       "      <td>AAL</td>\n",
       "    </tr>\n",
       "    <tr>\n",
       "      <th>...</th>\n",
       "      <td>...</td>\n",
       "      <td>...</td>\n",
       "      <td>...</td>\n",
       "      <td>...</td>\n",
       "      <td>...</td>\n",
       "      <td>...</td>\n",
       "      <td>...</td>\n",
       "    </tr>\n",
       "    <tr>\n",
       "      <th>2839</th>\n",
       "      <td>2024-03-08</td>\n",
       "      <td>181.59</td>\n",
       "      <td>182.98</td>\n",
       "      <td>179.84</td>\n",
       "      <td>182.53</td>\n",
       "      <td>5194409</td>\n",
       "      <td>ZTS</td>\n",
       "    </tr>\n",
       "    <tr>\n",
       "      <th>2840</th>\n",
       "      <td>2024-03-09</td>\n",
       "      <td>182.52</td>\n",
       "      <td>182.53</td>\n",
       "      <td>182.13</td>\n",
       "      <td>182.16</td>\n",
       "      <td>611363</td>\n",
       "      <td>ZTS</td>\n",
       "    </tr>\n",
       "    <tr>\n",
       "      <th>2841</th>\n",
       "      <td>2024-03-11</td>\n",
       "      <td>182.62</td>\n",
       "      <td>183.99</td>\n",
       "      <td>180.42</td>\n",
       "      <td>183.49</td>\n",
       "      <td>2648357</td>\n",
       "      <td>ZTS</td>\n",
       "    </tr>\n",
       "    <tr>\n",
       "      <th>2842</th>\n",
       "      <td>2024-03-12</td>\n",
       "      <td>183.65</td>\n",
       "      <td>183.83</td>\n",
       "      <td>180.94</td>\n",
       "      <td>181.35</td>\n",
       "      <td>1931447</td>\n",
       "      <td>ZTS</td>\n",
       "    </tr>\n",
       "    <tr>\n",
       "      <th>2843</th>\n",
       "      <td>2024-03-13</td>\n",
       "      <td>181.60</td>\n",
       "      <td>182.97</td>\n",
       "      <td>175.99</td>\n",
       "      <td>176.23</td>\n",
       "      <td>4130104</td>\n",
       "      <td>ZTS</td>\n",
       "    </tr>\n",
       "  </tbody>\n",
       "</table>\n",
       "<p>2789187 rows × 7 columns</p>\n",
       "</div>"
      ],
      "text/plain": [
       "            date    open    high     low   close    volume  tic\n",
       "0     2013-12-09   23.90   25.44   23.45   24.96  20698322  AAL\n",
       "1     2013-12-10   24.53   25.17   24.41   24.88  16285283  AAL\n",
       "2     2013-12-11   25.44   27.19   25.37   25.99  31194241  AAL\n",
       "3     2013-12-12   26.20   26.72   25.45   25.50  19006600  AAL\n",
       "4     2013-12-13   25.61   26.31   25.52   26.30  10829193  AAL\n",
       "...          ...     ...     ...     ...     ...       ...  ...\n",
       "2839  2024-03-08  181.59  182.98  179.84  182.53   5194409  ZTS\n",
       "2840  2024-03-09  182.52  182.53  182.13  182.16    611363  ZTS\n",
       "2841  2024-03-11  182.62  183.99  180.42  183.49   2648357  ZTS\n",
       "2842  2024-03-12  183.65  183.83  180.94  181.35   1931447  ZTS\n",
       "2843  2024-03-13  181.60  182.97  175.99  176.23   4130104  ZTS\n",
       "\n",
       "[2789187 rows x 7 columns]"
      ]
     },
     "execution_count": 9,
     "metadata": {},
     "output_type": "execute_result"
    }
   ],
   "source": [
    "df "
   ]
  },
  {
   "cell_type": "code",
   "execution_count": 10,
   "metadata": {},
   "outputs": [
    {
     "data": {
      "text/plain": [
       "(2789187, 7)"
      ]
     },
     "execution_count": 10,
     "metadata": {},
     "output_type": "execute_result"
    }
   ],
   "source": [
    "df.shape"
   ]
  },
  {
   "cell_type": "code",
   "execution_count": 11,
   "metadata": {},
   "outputs": [
    {
     "data": {
      "text/plain": [
       "(2789187, 7)"
      ]
     },
     "execution_count": 11,
     "metadata": {},
     "output_type": "execute_result"
    }
   ],
   "source": [
    "# count the unique values in the column\n",
    "df = df.drop_duplicates(subset=['date', 'tic'])\n",
    "df.shape"
   ]
  },
  {
   "cell_type": "code",
   "execution_count": 12,
   "metadata": {},
   "outputs": [
    {
     "data": {
      "text/plain": [
       "(2789187, 7)"
      ]
     },
     "execution_count": 12,
     "metadata": {},
     "output_type": "execute_result"
    }
   ],
   "source": [
    "df = df.dropna(subset=['date', 'tic'])\n",
    "df.shape"
   ]
  },
  {
   "cell_type": "code",
   "execution_count": 13,
   "metadata": {},
   "outputs": [
    {
     "name": "stdout",
     "output_type": "stream",
     "text": [
      "date      0\n",
      "open      0\n",
      "high      0\n",
      "low       0\n",
      "close     0\n",
      "volume    0\n",
      "tic       0\n",
      "dtype: int64\n"
     ]
    }
   ],
   "source": [
    "nan_counts = df.isna().sum()\n",
    "print(nan_counts)\n"
   ]
  },
  {
   "cell_type": "code",
   "execution_count": 14,
   "metadata": {},
   "outputs": [
    {
     "name": "stdout",
     "output_type": "stream",
     "text": [
      "date        0\n",
      "open        0\n",
      "high        0\n",
      "low         1\n",
      "close       0\n",
      "volume    909\n",
      "tic         0\n",
      "dtype: int64\n"
     ]
    }
   ],
   "source": [
    "# print the zero count of each column\n",
    "zero_counts = df.apply(lambda x: (x==0).sum())\n",
    "print(zero_counts)"
   ]
  },
  {
   "cell_type": "code",
   "execution_count": 15,
   "metadata": {},
   "outputs": [],
   "source": [
    "df = df[df['low'] != 0]\n",
    "df = df[df['volume'] != 0]\n"
   ]
  },
  {
   "cell_type": "code",
   "execution_count": 16,
   "metadata": {},
   "outputs": [
    {
     "name": "stdout",
     "output_type": "stream",
     "text": [
      "date      0\n",
      "open      0\n",
      "high      0\n",
      "low       0\n",
      "close     0\n",
      "volume    0\n",
      "tic       0\n",
      "dtype: int64\n"
     ]
    }
   ],
   "source": [
    "# print the zero count of each column\n",
    "zero_counts = df.apply(lambda x: (x==0).sum())\n",
    "print(zero_counts)"
   ]
  },
  {
   "cell_type": "code",
   "execution_count": 17,
   "metadata": {},
   "outputs": [
    {
     "data": {
      "text/plain": [
       "tic\n",
       "MCD     6639\n",
       "BSX     6639\n",
       "PPL     6639\n",
       "CL      6639\n",
       "USB     6639\n",
       "        ... \n",
       "CEG      224\n",
       "KVUE     221\n",
       "RVTY     213\n",
       "EG       177\n",
       "BALL     121\n",
       "Name: count, Length: 518, dtype: int64"
      ]
     },
     "execution_count": 17,
     "metadata": {},
     "output_type": "execute_result"
    }
   ],
   "source": [
    "df['tic'].value_counts()"
   ]
  },
  {
   "cell_type": "code",
   "execution_count": 18,
   "metadata": {},
   "outputs": [
    {
     "name": "stdout",
     "output_type": "stream",
     "text": [
      "tic\n",
      "MCD     6639\n",
      "BSX     6639\n",
      "PPL     6639\n",
      "CL      6639\n",
      "USB     6639\n",
      "        ... \n",
      "CEG      224\n",
      "KVUE     221\n",
      "RVTY     213\n",
      "EG       177\n",
      "BALL     121\n",
      "Name: count, Length: 518, dtype: int64\n"
     ]
    }
   ],
   "source": [
    "import pandas as pd\n",
    "\n",
    "# Get the value counts of the 'tic' column\n",
    "tic_counts = df['tic'].value_counts(dropna=False)\n",
    "\n",
    "# Convert the counts to a DataFrame\n",
    "tic_counts_df = tic_counts.reset_index()\n",
    "tic_counts_df.columns = ['Tic', 'Count']\n",
    "\n",
    "# Save the DataFrame to a CSV file\n",
    "tic_counts_df.to_csv('tic_value_counts.csv', index=False)\n",
    "\n",
    "print(tic_counts)\n"
   ]
  },
  {
   "cell_type": "code",
   "execution_count": 19,
   "metadata": {},
   "outputs": [
    {
     "name": "stdout",
     "output_type": "stream",
     "text": [
      "40\n"
     ]
    }
   ],
   "source": [
    "top_companies = [\n",
    "    \"JPM\",  # JPMorgan Chase\n",
    "    \"BAC\",  # Bank of America\n",
    "    \"C\",    # Citigroup\n",
    "    \"GS\",   # Goldman Sachs\n",
    "    \"AXP\",  # American Express\n",
    "    \"BLK\",  # BlackRock\n",
    "    \"USB\",  # U.S. Bancorp\n",
    "    \"PNC\",  # PNC Financial Services\n",
    "    \"STT\",  # State Street Corporation\n",
    "    \"SCHW\", # Charles Schwab\n",
    "    \"AIG\",  # American International Group\n",
    "    \"TROW\", # T. Rowe Price\n",
    "    \"FITB\", # Fifth Third Bancorp\n",
    "    \"KEY\",  # KeyCorp\n",
    "    \"COF\",  # Capital One Financial\n",
    "    \"HBAN\", # Huntington Bancshares\n",
    "    \"BK\",   # The Bank of New York Mellon\n",
    "    \"ZION\", # Zions Bancorporation\n",
    "    \"CMA\",  # Comerica\n",
    "    \"MTB\",  # M&T Bank\n",
    "    \"NTRS\", # Northern Trust\n",
    "    \"RF\",   # Regions Financial\n",
    "    \"RJF\",  # Raymond James Financial\n",
    "    \"AMT\",  # American Tower\n",
    "    \"NVDA\", # NVIDIA\n",
    "    \"MSFT\", # Microsoft\n",
    "    \"AAPL\", # Apple\n",
    "    \"AMZN\", # Amazon\n",
    "    \"INTC\", # Intel\n",
    "    \"AMD\",  # Advanced Micro Devices\n",
    "    \"PFE\",  # Pfizer\n",
    "    \"JNJ\",  # Johnson & Johnson\n",
    "    \"MMM\",  # 3M\n",
    "    \"GE\",   # General Electric\n",
    "    \"BA\",   # Boeing\n",
    "    \"CAT\",  # Caterpillar\n",
    "    \"DE\",   # Deere & Company\n",
    "    \"HON\",  # Honeywell\n",
    "    \"WMT\",  # Walmart\n",
    "    \"NEE\",  # NextEra Energy\n",
    "]\n",
    "\n",
    "print(len(top_companies))  # This will output: 40\n"
   ]
  },
  {
   "cell_type": "code",
   "execution_count": 20,
   "metadata": {},
   "outputs": [
    {
     "name": "stdout",
     "output_type": "stream",
     "text": [
      "              date   open   high    low  close     volume   tic\n",
      "0       1998-01-02   0.12   0.14   0.12   0.14  170539824  AAPL\n",
      "1       1998-01-05   0.14   0.14   0.13   0.14  152723900  AAPL\n",
      "2       1998-01-06   0.14   0.17   0.13   0.16  433041952  AAPL\n",
      "3       1998-01-07   0.16   0.16   0.15   0.15  251914152  AAPL\n",
      "4       1998-01-08   0.15   0.16   0.15   0.16  188994988  AAPL\n",
      "...            ...    ...    ...    ...    ...        ...   ...\n",
      "262423  2024-03-08  41.53  42.95  41.52  42.23    1605125  ZION\n",
      "262424  2024-03-09  42.24  42.25  42.24  42.24        752  ZION\n",
      "262425  2024-03-11  42.17  42.44  41.24  41.62    1497079  ZION\n",
      "262426  2024-03-12  41.66  42.04  40.68  40.90    1588071  ZION\n",
      "262427  2024-03-13  40.88  41.37  40.70  41.09    1027120  ZION\n",
      "\n",
      "[262428 rows x 7 columns]\n"
     ]
    }
   ],
   "source": [
    "# Get the top 30 most frequent 'tic' values\n",
    "top_40_tics = top_companies\n",
    "\n",
    "# Filter the DataFrame to keep only these top 30 'tic' values\n",
    "df_filtered = df[df['tic'].isin(top_40_tics)]\n",
    "\n",
    "df = df_filtered.reset_index(drop=True)\n",
    "# Display the filtered DataFrame\n",
    "print(df)\n"
   ]
  },
  {
   "cell_type": "code",
   "execution_count": 21,
   "metadata": {},
   "outputs": [
    {
     "data": {
      "image/png": "[encoded data removed]",
      "text/plain": [
       "<Figure size 2500x500 with 1 Axes>"
      ]
     },
     "metadata": {},
     "output_type": "display_data"
    }
   ],
   "source": [
    "# per year minimum number of trading days\n",
    "df['date'] = pd.to_datetime(df['date'])\n",
    "df['year'] = df['date'].dt.year\n",
    "df['month'] = df['date'].dt.month\n",
    "\n",
    "# Create a new column 'year_month' for plotting\n",
    "df['year_month'] = df['year'].astype(str) + '-' + df['month'].astype(str)\n",
    "\n",
    "plt.figure(figsize=(25, 5))\n",
    "sns.countplot(x='year_month', data=df, order=sorted(df['year_month'].unique()))\n",
    "plt.xticks(rotation=90)  # Rotate x-axis labels for better visibility\n",
    "plt.show()"
   ]
  },
  {
   "cell_type": "code",
   "execution_count": 22,
   "metadata": {},
   "outputs": [
    {
     "data": {
      "text/plain": [
       "year\n",
       "2022    10483\n",
       "2023    10451\n",
       "2008    10120\n",
       "2020    10120\n",
       "2019    10080\n",
       "2016    10080\n",
       "2015    10080\n",
       "2014    10080\n",
       "2009    10080\n",
       "2011    10080\n",
       "2005    10080\n",
       "2004    10080\n",
       "2003    10080\n",
       "2010    10080\n",
       "2013    10079\n",
       "2007    10040\n",
       "2006    10040\n",
       "2017    10040\n",
       "2018    10040\n",
       "2012    10000\n",
       "2002     9991\n",
       "2021     9987\n",
       "2000     9828\n",
       "2001     9672\n",
       "1999     9544\n",
       "1998     8864\n",
       "2024     2329\n",
       "Name: count, dtype: int64"
      ]
     },
     "execution_count": 22,
     "metadata": {},
     "output_type": "execute_result"
    }
   ],
   "source": [
    "df['year'].value_counts()"
   ]
  },
  {
   "cell_type": "code",
   "execution_count": 23,
   "metadata": {},
   "outputs": [
    {
     "name": "stdout",
     "output_type": "stream",
     "text": [
      "year\n",
      "1998     8864\n",
      "1999     9544\n",
      "2000     9828\n",
      "2001     9672\n",
      "2002     9991\n",
      "2003    10080\n",
      "2004    10080\n",
      "2005    10080\n",
      "2006    10040\n",
      "2007    10040\n",
      "2008    10120\n",
      "2009    10080\n",
      "2010    10080\n",
      "2011    10080\n",
      "2012    10000\n",
      "2013    10079\n",
      "2014    10080\n",
      "2015    10080\n",
      "2016    10080\n",
      "2017    10040\n",
      "2018    10040\n",
      "2019    10080\n",
      "2020    10120\n",
      "2021     9987\n",
      "2022    10483\n",
      "2023    10451\n",
      "2024     2329\n",
      "Name: count, dtype: int64\n"
     ]
    }
   ],
   "source": [
    "# print df['year'].value_counts() but in year wise sort\n",
    "\n",
    "year_counts = df['year'].value_counts().sort_index()\n",
    "print(year_counts)"
   ]
  },
  {
   "cell_type": "code",
   "execution_count": 24,
   "metadata": {},
   "outputs": [
    {
     "name": "stdout",
     "output_type": "stream",
     "text": [
      "ud 1998 252\n",
      "ss 1998 208\n",
      "ud 1999 252\n",
      "ss 1999 208\n",
      "ud 2000 252\n",
      "ss 2000 208\n",
      "ud 2001 248\n",
      "ss 2001 208\n",
      "ud 2002 252\n",
      "ss 2002 208\n",
      "ud 2003 252\n",
      "ss 2003 208\n",
      "ud 2004 252\n",
      "ss 2004 208\n",
      "ud 2005 252\n",
      "ss 2005 208\n",
      "ud 2006 251\n",
      "ss 2006 208\n",
      "ud 2007 251\n",
      "ss 2007 208\n",
      "ud 2008 253\n",
      "ss 2008 208\n",
      "ud 2009 252\n",
      "ss 2009 208\n",
      "ud 2010 252\n",
      "ss 2010 208\n",
      "ud 2011 252\n",
      "ss 2011 208\n",
      "ud 2012 250\n",
      "ss 2012 208\n",
      "ud 2013 252\n",
      "ss 2013 208\n",
      "ud 2014 252\n",
      "ss 2014 208\n",
      "ud 2015 252\n",
      "ss 2015 208\n",
      "ud 2016 252\n",
      "ss 2016 208\n",
      "ud 2017 251\n",
      "ss 2017 208\n",
      "ud 2018 251\n",
      "ss 2018 208\n",
      "ud 2019 252\n",
      "ss 2019 208\n",
      "ud 2020 253\n",
      "ss 2020 208\n",
      "ud 2021 254\n",
      "ss 2021 208\n",
      "ud 2022 269\n",
      "ss 2022 208\n",
      "ud 2023 268\n",
      "ss 2023 208\n",
      "ud 2024 60\n",
      "ss 2024 60\n",
      "0\n"
     ]
    }
   ],
   "source": [
    "import pandas as pd\n",
    "\n",
    "# Ensure 'date' is properly converted to datetime\n",
    "df['date'] = pd.to_datetime(df['date'])\n",
    "\n",
    "# Create an empty DataFrame to store the sampled data\n",
    "sampled_data = pd.DataFrame()\n",
    "\n",
    "# Group the data by year\n",
    "grouped_data = df.groupby('year')\n",
    "\n",
    "# Sample days dynamically based on the number of unique days available in each year\n",
    "for year, group in grouped_data:\n",
    "    # Get the unique dates available for sampling\n",
    "    unique_days = group['date'].nunique()\n",
    "    print('ud '+ str(year)+ ' ' + str(unique_days))\n",
    "    \n",
    "    # Adjust the sample size based on the number of unique days\n",
    "    sample_size = min(208, unique_days)  # Use smaller of 208 or the number of unique days\n",
    "    \n",
    "    # Sample unique days\n",
    "    sampled_days = group['date'].sample(sample_size, replace=False)\n",
    "    \n",
    "\n",
    "    print('ss '+ str(year)+ ' ' + str(sample_size))\n",
    "\n",
    "    # Filter the data for the sampled days\n",
    "    sampled_year_data = group[group['date'].isin(sampled_days)]\n",
    "    \n",
    "    # Ensure each sampled day includes all 30 trading codes\n",
    "    sampled_year_data = sampled_year_data.groupby('date').filter(lambda x: len(x) == 30)\n",
    "    \n",
    "    # Append the sampled data to the final DataFrame\n",
    "    sampled_data = pd.concat([sampled_data, sampled_year_data])\n",
    "\n",
    "# Reset index of the final sampled data\n",
    "sampled_data.reset_index(drop=True, inplace=True)\n",
    "\n",
    "print(len(sampled_data))\n"
   ]
  },
  {
   "cell_type": "code",
   "execution_count": 25,
   "metadata": {},
   "outputs": [
    {
     "name": "stdout",
     "output_type": "stream",
     "text": [
      "Number of zeros in 'Volume' column: 0\n"
     ]
    }
   ],
   "source": [
    "# Count zeros in the 'Volume' column\n",
    "zero_count_volume = (df['volume'] == 0).sum()\n",
    "\n",
    "print(\"Number of zeros in 'Volume' column:\", zero_count_volume)\n"
   ]
  },
  {
   "cell_type": "code",
   "execution_count": 26,
   "metadata": {},
   "outputs": [
    {
     "name": "stdout",
     "output_type": "stream",
     "text": [
      "date          0\n",
      "open          0\n",
      "high          0\n",
      "low           0\n",
      "close         0\n",
      "volume        0\n",
      "tic           0\n",
      "year          0\n",
      "month         0\n",
      "year_month    0\n",
      "dtype: int64\n"
     ]
    }
   ],
   "source": [
    "# print the zero count of each column\n",
    "zero_counts = df.apply(lambda x: (x==0).sum())\n",
    "print(zero_counts)"
   ]
  },
  {
   "cell_type": "code",
   "execution_count": 27,
   "metadata": {},
   "outputs": [
    {
     "name": "stderr",
     "output_type": "stream",
     "text": [
      "c:\\Users\\jamil\\AppData\\Local\\Programs\\Python\\Python310\\lib\\site-packages\\pyfolio\\pos.py:26: UserWarning: Module \"zipline.assets\" not found; mutltipliers will not be applied to position notionals.\n",
      "  warnings.warn(\n"
     ]
    }
   ],
   "source": [
    "import pandas as pd\n",
    "import numpy as np\n",
    "import matplotlib\n",
    "import matplotlib.pyplot as plt\n",
    "# matplotlib.use('Agg')\n",
    "import datetime\n",
    "\n",
    "%matplotlib inline\n",
    "from finrl.meta.preprocessor.yahoodownloader import YahooDownloader\n",
    "from finrl.meta.preprocessor.preprocessors import FeatureEngineer, data_split\n",
    "from finrl.meta.env_stock_trading.env_stocktrading import StockTradingEnv\n",
    "from finrl.agents.stablebaselines3.models import DRLAgent\n",
    "from stable_baselines3.common.logger import configure\n",
    "from finrl.meta.data_processor import DataProcessor\n",
    "\n",
    "from finrl.plot import backtest_stats, backtest_plot, get_daily_return, get_baseline\n",
    "from pprint import pprint\n",
    "\n",
    "import sys\n",
    "sys.path.append(\"../FinRL\")\n",
    "\n",
    "import itertools\n",
    "\n",
    "from finrl import config\n",
    "from finrl import config_tickers\n",
    "import os\n",
    "from finrl.main import check_and_make_directories\n",
    "from finrl.config import (\n",
    "    DATA_SAVE_DIR,\n",
    "    TRAINED_MODEL_DIR,\n",
    "    TENSORBOARD_LOG_DIR,\n",
    "    RESULTS_DIR,\n",
    "    INDICATORS,\n",
    "    TRAIN_START_DATE,\n",
    "    TRAIN_END_DATE,\n",
    "    TEST_START_DATE,\n",
    "    TEST_END_DATE,\n",
    "    TRADE_START_DATE,\n",
    "    TRADE_END_DATE,\n",
    ")\n",
    "check_and_make_directories([DATA_SAVE_DIR, TRAINED_MODEL_DIR, TENSORBOARD_LOG_DIR, RESULTS_DIR])"
   ]
  },
  {
   "cell_type": "code",
   "execution_count": 28,
   "metadata": {},
   "outputs": [
    {
     "data": {
      "text/html": [
       "<div>\n",
       "<style scoped>\n",
       "    .dataframe tbody tr th:only-of-type {\n",
       "        vertical-align: middle;\n",
       "    }\n",
       "\n",
       "    .dataframe tbody tr th {\n",
       "        vertical-align: top;\n",
       "    }\n",
       "\n",
       "    .dataframe thead th {\n",
       "        text-align: right;\n",
       "    }\n",
       "</style>\n",
       "<table border=\"1\" class=\"dataframe\">\n",
       "  <thead>\n",
       "    <tr style=\"text-align: right;\">\n",
       "      <th></th>\n",
       "      <th>date</th>\n",
       "      <th>open</th>\n",
       "      <th>high</th>\n",
       "      <th>low</th>\n",
       "      <th>close</th>\n",
       "      <th>volume</th>\n",
       "      <th>tic</th>\n",
       "      <th>year</th>\n",
       "      <th>month</th>\n",
       "      <th>year_month</th>\n",
       "    </tr>\n",
       "  </thead>\n",
       "  <tbody>\n",
       "    <tr>\n",
       "      <th>0</th>\n",
       "      <td>1998-01-02</td>\n",
       "      <td>0.12</td>\n",
       "      <td>0.14</td>\n",
       "      <td>0.12</td>\n",
       "      <td>0.14</td>\n",
       "      <td>170539824</td>\n",
       "      <td>AAPL</td>\n",
       "      <td>1998</td>\n",
       "      <td>1</td>\n",
       "      <td>1998-1</td>\n",
       "    </tr>\n",
       "    <tr>\n",
       "      <th>1</th>\n",
       "      <td>1998-01-05</td>\n",
       "      <td>0.14</td>\n",
       "      <td>0.14</td>\n",
       "      <td>0.13</td>\n",
       "      <td>0.14</td>\n",
       "      <td>152723900</td>\n",
       "      <td>AAPL</td>\n",
       "      <td>1998</td>\n",
       "      <td>1</td>\n",
       "      <td>1998-1</td>\n",
       "    </tr>\n",
       "    <tr>\n",
       "      <th>2</th>\n",
       "      <td>1998-01-06</td>\n",
       "      <td>0.14</td>\n",
       "      <td>0.17</td>\n",
       "      <td>0.13</td>\n",
       "      <td>0.16</td>\n",
       "      <td>433041952</td>\n",
       "      <td>AAPL</td>\n",
       "      <td>1998</td>\n",
       "      <td>1</td>\n",
       "      <td>1998-1</td>\n",
       "    </tr>\n",
       "    <tr>\n",
       "      <th>3</th>\n",
       "      <td>1998-01-07</td>\n",
       "      <td>0.16</td>\n",
       "      <td>0.16</td>\n",
       "      <td>0.15</td>\n",
       "      <td>0.15</td>\n",
       "      <td>251914152</td>\n",
       "      <td>AAPL</td>\n",
       "      <td>1998</td>\n",
       "      <td>1</td>\n",
       "      <td>1998-1</td>\n",
       "    </tr>\n",
       "    <tr>\n",
       "      <th>4</th>\n",
       "      <td>1998-01-08</td>\n",
       "      <td>0.15</td>\n",
       "      <td>0.16</td>\n",
       "      <td>0.15</td>\n",
       "      <td>0.16</td>\n",
       "      <td>188994988</td>\n",
       "      <td>AAPL</td>\n",
       "      <td>1998</td>\n",
       "      <td>1</td>\n",
       "      <td>1998-1</td>\n",
       "    </tr>\n",
       "  </tbody>\n",
       "</table>\n",
       "</div>"
      ],
      "text/plain": [
       "        date  open  high   low  close     volume   tic  year  month year_month\n",
       "0 1998-01-02  0.12  0.14  0.12   0.14  170539824  AAPL  1998      1     1998-1\n",
       "1 1998-01-05  0.14  0.14  0.13   0.14  152723900  AAPL  1998      1     1998-1\n",
       "2 1998-01-06  0.14  0.17  0.13   0.16  433041952  AAPL  1998      1     1998-1\n",
       "3 1998-01-07  0.16  0.16  0.15   0.15  251914152  AAPL  1998      1     1998-1\n",
       "4 1998-01-08  0.15  0.16  0.15   0.16  188994988  AAPL  1998      1     1998-1"
      ]
     },
     "execution_count": 28,
     "metadata": {},
     "output_type": "execute_result"
    }
   ],
   "source": [
    "df.head()"
   ]
  },
  {
   "cell_type": "code",
   "execution_count": 29,
   "metadata": {},
   "outputs": [],
   "source": [
    "df.drop(['year_month','month','year'], axis=1, inplace=True)\n"
   ]
  },
  {
   "cell_type": "code",
   "execution_count": 30,
   "metadata": {},
   "outputs": [
    {
     "data": {
      "text/html": [
       "<div>\n",
       "<style scoped>\n",
       "    .dataframe tbody tr th:only-of-type {\n",
       "        vertical-align: middle;\n",
       "    }\n",
       "\n",
       "    .dataframe tbody tr th {\n",
       "        vertical-align: top;\n",
       "    }\n",
       "\n",
       "    .dataframe thead th {\n",
       "        text-align: right;\n",
       "    }\n",
       "</style>\n",
       "<table border=\"1\" class=\"dataframe\">\n",
       "  <thead>\n",
       "    <tr style=\"text-align: right;\">\n",
       "      <th></th>\n",
       "      <th>date</th>\n",
       "      <th>open</th>\n",
       "      <th>high</th>\n",
       "      <th>low</th>\n",
       "      <th>close</th>\n",
       "      <th>volume</th>\n",
       "      <th>tic</th>\n",
       "    </tr>\n",
       "  </thead>\n",
       "  <tbody>\n",
       "    <tr>\n",
       "      <th>0</th>\n",
       "      <td>1998-01-02</td>\n",
       "      <td>0.12</td>\n",
       "      <td>0.14</td>\n",
       "      <td>0.12</td>\n",
       "      <td>0.14</td>\n",
       "      <td>170539824</td>\n",
       "      <td>AAPL</td>\n",
       "    </tr>\n",
       "    <tr>\n",
       "      <th>1</th>\n",
       "      <td>1998-01-05</td>\n",
       "      <td>0.14</td>\n",
       "      <td>0.14</td>\n",
       "      <td>0.13</td>\n",
       "      <td>0.14</td>\n",
       "      <td>152723900</td>\n",
       "      <td>AAPL</td>\n",
       "    </tr>\n",
       "    <tr>\n",
       "      <th>2</th>\n",
       "      <td>1998-01-06</td>\n",
       "      <td>0.14</td>\n",
       "      <td>0.17</td>\n",
       "      <td>0.13</td>\n",
       "      <td>0.16</td>\n",
       "      <td>433041952</td>\n",
       "      <td>AAPL</td>\n",
       "    </tr>\n",
       "    <tr>\n",
       "      <th>3</th>\n",
       "      <td>1998-01-07</td>\n",
       "      <td>0.16</td>\n",
       "      <td>0.16</td>\n",
       "      <td>0.15</td>\n",
       "      <td>0.15</td>\n",
       "      <td>251914152</td>\n",
       "      <td>AAPL</td>\n",
       "    </tr>\n",
       "    <tr>\n",
       "      <th>4</th>\n",
       "      <td>1998-01-08</td>\n",
       "      <td>0.15</td>\n",
       "      <td>0.16</td>\n",
       "      <td>0.15</td>\n",
       "      <td>0.16</td>\n",
       "      <td>188994988</td>\n",
       "      <td>AAPL</td>\n",
       "    </tr>\n",
       "    <tr>\n",
       "      <th>...</th>\n",
       "      <td>...</td>\n",
       "      <td>...</td>\n",
       "      <td>...</td>\n",
       "      <td>...</td>\n",
       "      <td>...</td>\n",
       "      <td>...</td>\n",
       "      <td>...</td>\n",
       "    </tr>\n",
       "    <tr>\n",
       "      <th>262423</th>\n",
       "      <td>2024-03-08</td>\n",
       "      <td>41.53</td>\n",
       "      <td>42.95</td>\n",
       "      <td>41.52</td>\n",
       "      <td>42.23</td>\n",
       "      <td>1605125</td>\n",
       "      <td>ZION</td>\n",
       "    </tr>\n",
       "    <tr>\n",
       "      <th>262424</th>\n",
       "      <td>2024-03-09</td>\n",
       "      <td>42.24</td>\n",
       "      <td>42.25</td>\n",
       "      <td>42.24</td>\n",
       "      <td>42.24</td>\n",
       "      <td>752</td>\n",
       "      <td>ZION</td>\n",
       "    </tr>\n",
       "    <tr>\n",
       "      <th>262425</th>\n",
       "      <td>2024-03-11</td>\n",
       "      <td>42.17</td>\n",
       "      <td>42.44</td>\n",
       "      <td>41.24</td>\n",
       "      <td>41.62</td>\n",
       "      <td>1497079</td>\n",
       "      <td>ZION</td>\n",
       "    </tr>\n",
       "    <tr>\n",
       "      <th>262426</th>\n",
       "      <td>2024-03-12</td>\n",
       "      <td>41.66</td>\n",
       "      <td>42.04</td>\n",
       "      <td>40.68</td>\n",
       "      <td>40.90</td>\n",
       "      <td>1588071</td>\n",
       "      <td>ZION</td>\n",
       "    </tr>\n",
       "    <tr>\n",
       "      <th>262427</th>\n",
       "      <td>2024-03-13</td>\n",
       "      <td>40.88</td>\n",
       "      <td>41.37</td>\n",
       "      <td>40.70</td>\n",
       "      <td>41.09</td>\n",
       "      <td>1027120</td>\n",
       "      <td>ZION</td>\n",
       "    </tr>\n",
       "  </tbody>\n",
       "</table>\n",
       "<p>262428 rows × 7 columns</p>\n",
       "</div>"
      ],
      "text/plain": [
       "             date   open   high    low  close     volume   tic\n",
       "0      1998-01-02   0.12   0.14   0.12   0.14  170539824  AAPL\n",
       "1      1998-01-05   0.14   0.14   0.13   0.14  152723900  AAPL\n",
       "2      1998-01-06   0.14   0.17   0.13   0.16  433041952  AAPL\n",
       "3      1998-01-07   0.16   0.16   0.15   0.15  251914152  AAPL\n",
       "4      1998-01-08   0.15   0.16   0.15   0.16  188994988  AAPL\n",
       "...           ...    ...    ...    ...    ...        ...   ...\n",
       "262423 2024-03-08  41.53  42.95  41.52  42.23    1605125  ZION\n",
       "262424 2024-03-09  42.24  42.25  42.24  42.24        752  ZION\n",
       "262425 2024-03-11  42.17  42.44  41.24  41.62    1497079  ZION\n",
       "262426 2024-03-12  41.66  42.04  40.68  40.90    1588071  ZION\n",
       "262427 2024-03-13  40.88  41.37  40.70  41.09    1027120  ZION\n",
       "\n",
       "[262428 rows x 7 columns]"
      ]
     },
     "execution_count": 30,
     "metadata": {},
     "output_type": "execute_result"
    }
   ],
   "source": [
    "df"
   ]
  },
  {
   "cell_type": "code",
   "execution_count": 31,
   "metadata": {},
   "outputs": [
    {
     "name": "stderr",
     "output_type": "stream",
     "text": [
      "C:\\Users\\jamil\\AppData\\Local\\Temp\\ipykernel_27780\\2605565239.py:10: UserWarning: FigureCanvasAgg is non-interactive, and thus cannot be shown\n",
      "  plt.show()\n"
     ]
    }
   ],
   "source": [
    "# Assuming 'df' is your DataFrame and 'close' is the column with closing prices\n",
    "std_dev = df.groupby('tic')['close'].std()\n",
    "\n",
    "plt.figure(figsize=(10,6))\n",
    "sns.histplot(std_dev, bins=50, kde=True)\n",
    "plt.title('Distribution of std of the stocks')\n",
    "plt.xlabel('Standard Deviation')\n",
    "plt.ylabel('Frequency')\n",
    "plt.savefig('output.png')\n",
    "plt.show()"
   ]
  },
  {
   "cell_type": "code",
   "execution_count": 32,
   "metadata": {},
   "outputs": [],
   "source": [
    "df['day'] = pd.to_datetime(df['date']).dt.dayofweek\n",
    "df['short_resistance']= df['high'].rolling(window=10,min_periods=0).max()\n",
    "df['short_support']= df['low'].rolling(window=10,min_periods=0).min()\n",
    "df['long_resistance']= df['high'].rolling(window=50,min_periods=0).max()\n",
    "df['long_support']= df['low'].rolling(window=50,min_periods=0).min()\n",
    "df = df.reset_index(drop=True)\n",
    "df = df.sort_values(by=['date','tic']).reset_index(drop=True)"
   ]
  },
  {
   "cell_type": "code",
   "execution_count": 33,
   "metadata": {},
   "outputs": [
    {
     "data": {
      "text/plain": [
       "date                datetime64[ns]\n",
       "open                       float64\n",
       "high                       float64\n",
       "low                        float64\n",
       "close                      float64\n",
       "volume                       int64\n",
       "tic                         object\n",
       "day                          int32\n",
       "short_resistance           float64\n",
       "short_support              float64\n",
       "long_resistance            float64\n",
       "long_support               float64\n",
       "dtype: object"
      ]
     },
     "execution_count": 33,
     "metadata": {},
     "output_type": "execute_result"
    }
   ],
   "source": [
    "df.dtypes"
   ]
  },
  {
   "cell_type": "code",
   "execution_count": 34,
   "metadata": {},
   "outputs": [],
   "source": [
    "# convert datetime to string\n",
    "df['date'] = df['date'].dt.strftime('%Y-%m-%d')"
   ]
  },
  {
   "cell_type": "code",
   "execution_count": 35,
   "metadata": {},
   "outputs": [
    {
     "name": "stdout",
     "output_type": "stream",
     "text": [
      "(262428, 12)\n"
     ]
    },
    {
     "data": {
      "text/html": [
       "<div>\n",
       "<style scoped>\n",
       "    .dataframe tbody tr th:only-of-type {\n",
       "        vertical-align: middle;\n",
       "    }\n",
       "\n",
       "    .dataframe tbody tr th {\n",
       "        vertical-align: top;\n",
       "    }\n",
       "\n",
       "    .dataframe thead th {\n",
       "        text-align: right;\n",
       "    }\n",
       "</style>\n",
       "<table border=\"1\" class=\"dataframe\">\n",
       "  <thead>\n",
       "    <tr style=\"text-align: right;\">\n",
       "      <th></th>\n",
       "      <th>date</th>\n",
       "      <th>open</th>\n",
       "      <th>high</th>\n",
       "      <th>low</th>\n",
       "      <th>close</th>\n",
       "      <th>volume</th>\n",
       "      <th>tic</th>\n",
       "      <th>day</th>\n",
       "      <th>short_resistance</th>\n",
       "      <th>short_support</th>\n",
       "      <th>long_resistance</th>\n",
       "      <th>long_support</th>\n",
       "    </tr>\n",
       "  </thead>\n",
       "  <tbody>\n",
       "    <tr>\n",
       "      <th>262423</th>\n",
       "      <td>2024-03-13</td>\n",
       "      <td>72.52</td>\n",
       "      <td>73.64</td>\n",
       "      <td>72.52</td>\n",
       "      <td>72.85</td>\n",
       "      <td>1406490</td>\n",
       "      <td>STT</td>\n",
       "      <td>2</td>\n",
       "      <td>74.95</td>\n",
       "      <td>71.59</td>\n",
       "      <td>79.90</td>\n",
       "      <td>70.53</td>\n",
       "    </tr>\n",
       "    <tr>\n",
       "      <th>262424</th>\n",
       "      <td>2024-03-13</td>\n",
       "      <td>118.00</td>\n",
       "      <td>118.82</td>\n",
       "      <td>117.47</td>\n",
       "      <td>117.60</td>\n",
       "      <td>627235</td>\n",
       "      <td>TROW</td>\n",
       "      <td>2</td>\n",
       "      <td>119.48</td>\n",
       "      <td>113.46</td>\n",
       "      <td>119.48</td>\n",
       "      <td>103.40</td>\n",
       "    </tr>\n",
       "    <tr>\n",
       "      <th>262425</th>\n",
       "      <td>2024-03-13</td>\n",
       "      <td>43.23</td>\n",
       "      <td>44.07</td>\n",
       "      <td>43.23</td>\n",
       "      <td>43.47</td>\n",
       "      <td>4678790</td>\n",
       "      <td>USB</td>\n",
       "      <td>2</td>\n",
       "      <td>44.07</td>\n",
       "      <td>41.42</td>\n",
       "      <td>44.07</td>\n",
       "      <td>38.87</td>\n",
       "    </tr>\n",
       "    <tr>\n",
       "      <th>262426</th>\n",
       "      <td>2024-03-13</td>\n",
       "      <td>61.26</td>\n",
       "      <td>61.46</td>\n",
       "      <td>60.88</td>\n",
       "      <td>61.28</td>\n",
       "      <td>12679050</td>\n",
       "      <td>WMT</td>\n",
       "      <td>2</td>\n",
       "      <td>61.57</td>\n",
       "      <td>58.40</td>\n",
       "      <td>171.07</td>\n",
       "      <td>58.18</td>\n",
       "    </tr>\n",
       "    <tr>\n",
       "      <th>262427</th>\n",
       "      <td>2024-03-13</td>\n",
       "      <td>40.88</td>\n",
       "      <td>41.37</td>\n",
       "      <td>40.70</td>\n",
       "      <td>41.09</td>\n",
       "      <td>1027120</td>\n",
       "      <td>ZION</td>\n",
       "      <td>2</td>\n",
       "      <td>42.95</td>\n",
       "      <td>38.74</td>\n",
       "      <td>45.33</td>\n",
       "      <td>37.76</td>\n",
       "    </tr>\n",
       "  </tbody>\n",
       "</table>\n",
       "</div>"
      ],
      "text/plain": [
       "              date    open    high     low   close    volume   tic  day  \\\n",
       "262423  2024-03-13   72.52   73.64   72.52   72.85   1406490   STT    2   \n",
       "262424  2024-03-13  118.00  118.82  117.47  117.60    627235  TROW    2   \n",
       "262425  2024-03-13   43.23   44.07   43.23   43.47   4678790   USB    2   \n",
       "262426  2024-03-13   61.26   61.46   60.88   61.28  12679050   WMT    2   \n",
       "262427  2024-03-13   40.88   41.37   40.70   41.09   1027120  ZION    2   \n",
       "\n",
       "        short_resistance  short_support  long_resistance  long_support  \n",
       "262423             74.95          71.59            79.90         70.53  \n",
       "262424            119.48         113.46           119.48        103.40  \n",
       "262425             44.07          41.42            44.07         38.87  \n",
       "262426             61.57          58.40           171.07         58.18  \n",
       "262427             42.95          38.74            45.33         37.76  "
      ]
     },
     "execution_count": 35,
     "metadata": {},
     "output_type": "execute_result"
    }
   ],
   "source": [
    "print(df.shape)\n",
    "df.tail()"
   ]
  },
  {
   "cell_type": "code",
   "execution_count": 36,
   "metadata": {},
   "outputs": [
    {
     "name": "stderr",
     "output_type": "stream",
     "text": [
      "C:\\Users\\jamil\\AppData\\Local\\Temp\\ipykernel_27780\\1344718701.py:3: FutureWarning: The default fill_method='pad' in DataFrame.pct_change is deprecated and will be removed in a future version. Either fill in any non-leading NA values prior to calling pct_change or specify 'fill_method=None' to not fill NA values.\n",
      "  df_price_pivot = df_price_pivot.pct_change()\n"
     ]
    },
    {
     "name": "stdout",
     "output_type": "stream",
     "text": [
      "6639\n"
     ]
    }
   ],
   "source": [
    "data = df.copy()\n",
    "df_price_pivot = data.pivot(index=\"date\", columns=\"tic\", values=\"close\")\n",
    "df_price_pivot = df_price_pivot.pct_change()\n",
    "unique_date = data.date.unique()\n",
    "# start after a year\n",
    "start = 208\n",
    "turbulence_index = [0] * start\n",
    "# turbulence_index = [0]\n",
    "count = 0\n",
    "for i in range(start, len(unique_date)):\n",
    "  current_price = df_price_pivot[df_price_pivot.index == unique_date[i]]\n",
    "  # use one year rolling window to calcualte covariance\n",
    "  hist_price = df_price_pivot[\n",
    "      (df_price_pivot.index < unique_date[i])\n",
    "      & (df_price_pivot.index >= unique_date[i - 208])\n",
    "  ]\n",
    "  # Drop tickers which has number missing values more than the \"oldest\" ticker\n",
    "  filtered_hist_price = hist_price.iloc[\n",
    "      hist_price.isna().sum().min() :\n",
    "  ].dropna(axis=1)\n",
    "\n",
    "  cov_temp = filtered_hist_price.cov()\n",
    "  current_temp = current_price[[x for x in filtered_hist_price]] - np.mean(\n",
    "      filtered_hist_price, axis=0\n",
    "  )\n",
    "  # cov_temp = hist_price.cov()\n",
    "  # current_temp=(current_price - np.mean(hist_price,axis=0))\n",
    "\n",
    "  temp = current_temp.values.dot(np.linalg.pinv(cov_temp)).dot(\n",
    "      current_temp.values.T\n",
    "  )\n",
    "  if temp > 0:\n",
    "      count += 1\n",
    "      if count > 2:\n",
    "          turbulence_temp = temp[0][0]\n",
    "      else:\n",
    "          # avoid large outlier because of the calculation just begins\n",
    "          turbulence_temp = 0\n",
    "  else:\n",
    "      turbulence_temp = 0\n",
    "  turbulence_index.append(turbulence_temp)\n",
    "print(len(turbulence_index))\n",
    "try:\n",
    "  turbulence_index = pd.DataFrame(\n",
    "      {\"date\": df_price_pivot.index, \"turbulence\": turbulence_index}\n",
    "  )\n",
    "except ValueError:\n",
    "  raise Exception(\"Turbulence information could not be added.\")"
   ]
  },
  {
   "cell_type": "code",
   "execution_count": 37,
   "metadata": {},
   "outputs": [
    {
     "data": {
      "text/plain": [
       "717004.4620180315"
      ]
     },
     "execution_count": 37,
     "metadata": {},
     "output_type": "execute_result"
    }
   ],
   "source": [
    "turbulence_index['turbulence'].max()"
   ]
  },
  {
   "cell_type": "code",
   "execution_count": 38,
   "metadata": {},
   "outputs": [
    {
     "data": {
      "text/plain": [
       "tic\n",
       "AAPL    6639\n",
       "GE      6639\n",
       "ZION    6639\n",
       "USB     6639\n",
       "TROW    6639\n",
       "STT     6639\n",
       "PNC     6639\n",
       "MSFT    6639\n",
       "MMM     6639\n",
       "AIG     6639\n",
       "JPM     6639\n",
       "JNJ     6639\n",
       "INTC    6639\n",
       "HBAN    6639\n",
       "KEY     6639\n",
       "AXP     6639\n",
       "C       6639\n",
       "BAC     6639\n",
       "AMD     6639\n",
       "AMZN    6639\n",
       "BA      6639\n",
       "FITB    6638\n",
       "DE      6638\n",
       "COF     6638\n",
       "CMA     6638\n",
       "CAT     6638\n",
       "BK      6638\n",
       "NEE     6638\n",
       "NTRS    6638\n",
       "PFE     6638\n",
       "RJF     6637\n",
       "SCHW    6637\n",
       "WMT     6629\n",
       "MTB     6536\n",
       "AMT     6533\n",
       "NVDA    6374\n",
       "GS      6304\n",
       "BLK     6195\n",
       "HON     5876\n",
       "RF      5546\n",
       "Name: count, dtype: int64"
      ]
     },
     "execution_count": 38,
     "metadata": {},
     "output_type": "execute_result"
    }
   ],
   "source": [
    "df = df.merge(turbulence_index, on=\"date\")\n",
    "df['tic'].value_counts()"
   ]
  },
  {
   "cell_type": "code",
   "execution_count": 39,
   "metadata": {},
   "outputs": [
    {
     "name": "stdout",
     "output_type": "stream",
     "text": [
      "date                0\n",
      "open                0\n",
      "high                0\n",
      "low                 0\n",
      "close               0\n",
      "volume              0\n",
      "tic                 0\n",
      "day                 0\n",
      "short_resistance    0\n",
      "short_support       0\n",
      "long_resistance     0\n",
      "long_support        0\n",
      "turbulence          0\n",
      "dtype: int64\n"
     ]
    }
   ],
   "source": [
    "df.to_csv('df.csv', index=False)  # 'index=False' prevents pandas from writing row numbers as the first column\n",
    "\n",
    "# df.shape\n",
    "nan_counts = df.isna().sum()\n",
    "print(nan_counts)\n"
   ]
  },
  {
   "cell_type": "code",
   "execution_count": 40,
   "metadata": {},
   "outputs": [],
   "source": [
    "df = df[df['date'] <= '2023-12-31']\n",
    "# df"
   ]
  },
  {
   "cell_type": "code",
   "execution_count": 41,
   "metadata": {},
   "outputs": [
    {
     "name": "stdout",
     "output_type": "stream",
     "text": [
      "Successfully added technical indicators\n"
     ]
    }
   ],
   "source": [
    "fe = FeatureEngineer(\n",
    "                    use_technical_indicator=True,\n",
    "                    tech_indicator_list = INDICATORS,\n",
    "                    use_vix=False,\n",
    "                    use_turbulence=False,\n",
    "                    user_defined_feature = False)\n",
    "# turbulance is giving error\n",
    "df = df.fillna(value = 0)\n",
    "processed = fe.preprocess_data(df)\n",
    "\n"
   ]
  },
  {
   "cell_type": "code",
   "execution_count": 42,
   "metadata": {},
   "outputs": [
    {
     "name": "stdout",
     "output_type": "stream",
     "text": [
      "date                0\n",
      "open                0\n",
      "high                0\n",
      "low                 0\n",
      "close               0\n",
      "volume              0\n",
      "tic                 0\n",
      "day                 0\n",
      "short_resistance    0\n",
      "short_support       0\n",
      "long_resistance     0\n",
      "long_support        0\n",
      "turbulence          0\n",
      "dtype: int64\n"
     ]
    }
   ],
   "source": [
    "# df.shape\n",
    "nan_counts = df.isna().sum()\n",
    "print(nan_counts)\n"
   ]
  },
  {
   "cell_type": "code",
   "execution_count": 43,
   "metadata": {},
   "outputs": [
    {
     "name": "stdout",
     "output_type": "stream",
     "text": [
      "22\n",
      "(144738, 21)\n"
     ]
    }
   ],
   "source": [
    "print(processed['tic'].nunique())\n",
    "print(processed.shape)"
   ]
  },
  {
   "cell_type": "code",
   "execution_count": 44,
   "metadata": {},
   "outputs": [],
   "source": [
    "list_ticker = processed[\"tic\"].unique().tolist()\n",
    "list_date = list(pd.date_range(processed['date'].min(),processed['date'].max()).astype(str))\n",
    "combination = list(itertools.product(list_date,list_ticker))\n",
    "\n",
    "processed_full = pd.DataFrame(combination,columns=[\"date\",\"tic\"]).merge(processed,on=[\"date\",\"tic\"],how=\"left\")\n",
    "processed_full = processed_full[processed_full['date'].isin(processed['date'])]\n",
    "processed_full = processed_full.sort_values(['date','tic'])\n",
    "\n",
    "processed_full = processed_full.fillna(0)\n",
    "\n"
   ]
  },
  {
   "cell_type": "code",
   "execution_count": 45,
   "metadata": {},
   "outputs": [],
   "source": [
    "tic_count = processed_full['tic'].nunique()"
   ]
  },
  {
   "cell_type": "code",
   "execution_count": 46,
   "metadata": {},
   "outputs": [
    {
     "name": "stdout",
     "output_type": "stream",
     "text": [
      "(144738, 21)\n"
     ]
    },
    {
     "data": {
      "text/html": [
       "<div>\n",
       "<style scoped>\n",
       "    .dataframe tbody tr th:only-of-type {\n",
       "        vertical-align: middle;\n",
       "    }\n",
       "\n",
       "    .dataframe tbody tr th {\n",
       "        vertical-align: top;\n",
       "    }\n",
       "\n",
       "    .dataframe thead th {\n",
       "        text-align: right;\n",
       "    }\n",
       "</style>\n",
       "<table border=\"1\" class=\"dataframe\">\n",
       "  <thead>\n",
       "    <tr style=\"text-align: right;\">\n",
       "      <th></th>\n",
       "      <th>date</th>\n",
       "      <th>tic</th>\n",
       "      <th>open</th>\n",
       "      <th>high</th>\n",
       "      <th>low</th>\n",
       "      <th>close</th>\n",
       "      <th>volume</th>\n",
       "      <th>day</th>\n",
       "      <th>short_resistance</th>\n",
       "      <th>short_support</th>\n",
       "      <th>...</th>\n",
       "      <th>long_support</th>\n",
       "      <th>turbulence</th>\n",
       "      <th>macd</th>\n",
       "      <th>boll_ub</th>\n",
       "      <th>boll_lb</th>\n",
       "      <th>rsi_30</th>\n",
       "      <th>cci_30</th>\n",
       "      <th>dx_30</th>\n",
       "      <th>close_30_sma</th>\n",
       "      <th>close_60_sma</th>\n",
       "    </tr>\n",
       "  </thead>\n",
       "  <tbody>\n",
       "    <tr>\n",
       "      <th>0</th>\n",
       "      <td>1998-01-02</td>\n",
       "      <td>AAPL</td>\n",
       "      <td>0.12</td>\n",
       "      <td>0.14</td>\n",
       "      <td>0.12</td>\n",
       "      <td>0.14</td>\n",
       "      <td>170539824.0</td>\n",
       "      <td>4.0</td>\n",
       "      <td>0.14</td>\n",
       "      <td>0.12</td>\n",
       "      <td>...</td>\n",
       "      <td>0.12</td>\n",
       "      <td>0.0</td>\n",
       "      <td>0.0</td>\n",
       "      <td>0.14</td>\n",
       "      <td>0.14</td>\n",
       "      <td>0.0</td>\n",
       "      <td>66.666667</td>\n",
       "      <td>100.0</td>\n",
       "      <td>0.14</td>\n",
       "      <td>0.14</td>\n",
       "    </tr>\n",
       "    <tr>\n",
       "      <th>1</th>\n",
       "      <td>1998-01-02</td>\n",
       "      <td>AIG</td>\n",
       "      <td>110.25</td>\n",
       "      <td>110.38</td>\n",
       "      <td>108.56</td>\n",
       "      <td>109.88</td>\n",
       "      <td>704707.0</td>\n",
       "      <td>4.0</td>\n",
       "      <td>176.90</td>\n",
       "      <td>108.56</td>\n",
       "      <td>...</td>\n",
       "      <td>108.56</td>\n",
       "      <td>0.0</td>\n",
       "      <td>0.0</td>\n",
       "      <td>0.14</td>\n",
       "      <td>0.14</td>\n",
       "      <td>0.0</td>\n",
       "      <td>66.666667</td>\n",
       "      <td>100.0</td>\n",
       "      <td>109.88</td>\n",
       "      <td>109.88</td>\n",
       "    </tr>\n",
       "    <tr>\n",
       "      <th>2</th>\n",
       "      <td>1998-01-02</td>\n",
       "      <td>AMD</td>\n",
       "      <td>18.25</td>\n",
       "      <td>19.26</td>\n",
       "      <td>18.19</td>\n",
       "      <td>19.26</td>\n",
       "      <td>1161511.0</td>\n",
       "      <td>4.0</td>\n",
       "      <td>76.10</td>\n",
       "      <td>18.19</td>\n",
       "      <td>...</td>\n",
       "      <td>18.19</td>\n",
       "      <td>0.0</td>\n",
       "      <td>0.0</td>\n",
       "      <td>0.14</td>\n",
       "      <td>0.14</td>\n",
       "      <td>0.0</td>\n",
       "      <td>66.666667</td>\n",
       "      <td>100.0</td>\n",
       "      <td>19.26</td>\n",
       "      <td>19.26</td>\n",
       "    </tr>\n",
       "    <tr>\n",
       "      <th>3</th>\n",
       "      <td>1998-01-02</td>\n",
       "      <td>AMZN</td>\n",
       "      <td>3.00</td>\n",
       "      <td>3.00</td>\n",
       "      <td>2.87</td>\n",
       "      <td>2.97</td>\n",
       "      <td>2646000.0</td>\n",
       "      <td>4.0</td>\n",
       "      <td>209.61</td>\n",
       "      <td>2.87</td>\n",
       "      <td>...</td>\n",
       "      <td>2.87</td>\n",
       "      <td>0.0</td>\n",
       "      <td>0.0</td>\n",
       "      <td>0.14</td>\n",
       "      <td>0.14</td>\n",
       "      <td>0.0</td>\n",
       "      <td>66.666667</td>\n",
       "      <td>100.0</td>\n",
       "      <td>2.97</td>\n",
       "      <td>2.97</td>\n",
       "    </tr>\n",
       "    <tr>\n",
       "      <th>4</th>\n",
       "      <td>1998-01-02</td>\n",
       "      <td>AXP</td>\n",
       "      <td>89.00</td>\n",
       "      <td>89.00</td>\n",
       "      <td>88.32</td>\n",
       "      <td>88.69</td>\n",
       "      <td>787901.0</td>\n",
       "      <td>4.0</td>\n",
       "      <td>180.14</td>\n",
       "      <td>88.32</td>\n",
       "      <td>...</td>\n",
       "      <td>88.32</td>\n",
       "      <td>0.0</td>\n",
       "      <td>0.0</td>\n",
       "      <td>0.14</td>\n",
       "      <td>0.14</td>\n",
       "      <td>0.0</td>\n",
       "      <td>66.666667</td>\n",
       "      <td>100.0</td>\n",
       "      <td>88.69</td>\n",
       "      <td>88.69</td>\n",
       "    </tr>\n",
       "    <tr>\n",
       "      <th>5</th>\n",
       "      <td>1998-01-02</td>\n",
       "      <td>BA</td>\n",
       "      <td>49.50</td>\n",
       "      <td>49.81</td>\n",
       "      <td>48.50</td>\n",
       "      <td>48.94</td>\n",
       "      <td>2465131.0</td>\n",
       "      <td>4.0</td>\n",
       "      <td>224.90</td>\n",
       "      <td>48.50</td>\n",
       "      <td>...</td>\n",
       "      <td>48.50</td>\n",
       "      <td>0.0</td>\n",
       "      <td>0.0</td>\n",
       "      <td>0.14</td>\n",
       "      <td>0.14</td>\n",
       "      <td>0.0</td>\n",
       "      <td>66.666667</td>\n",
       "      <td>100.0</td>\n",
       "      <td>48.94</td>\n",
       "      <td>48.94</td>\n",
       "    </tr>\n",
       "    <tr>\n",
       "      <th>6</th>\n",
       "      <td>1998-01-02</td>\n",
       "      <td>BAC</td>\n",
       "      <td>30.19</td>\n",
       "      <td>30.50</td>\n",
       "      <td>29.73</td>\n",
       "      <td>30.38</td>\n",
       "      <td>2089631.0</td>\n",
       "      <td>4.0</td>\n",
       "      <td>203.80</td>\n",
       "      <td>29.73</td>\n",
       "      <td>...</td>\n",
       "      <td>29.73</td>\n",
       "      <td>0.0</td>\n",
       "      <td>0.0</td>\n",
       "      <td>0.14</td>\n",
       "      <td>0.14</td>\n",
       "      <td>0.0</td>\n",
       "      <td>66.666667</td>\n",
       "      <td>100.0</td>\n",
       "      <td>30.38</td>\n",
       "      <td>30.38</td>\n",
       "    </tr>\n",
       "    <tr>\n",
       "      <th>7</th>\n",
       "      <td>1998-01-02</td>\n",
       "      <td>C</td>\n",
       "      <td>52.77</td>\n",
       "      <td>53.50</td>\n",
       "      <td>52.26</td>\n",
       "      <td>53.50</td>\n",
       "      <td>2894208.0</td>\n",
       "      <td>4.0</td>\n",
       "      <td>845.00</td>\n",
       "      <td>52.26</td>\n",
       "      <td>...</td>\n",
       "      <td>52.26</td>\n",
       "      <td>0.0</td>\n",
       "      <td>0.0</td>\n",
       "      <td>0.14</td>\n",
       "      <td>0.14</td>\n",
       "      <td>0.0</td>\n",
       "      <td>66.666667</td>\n",
       "      <td>100.0</td>\n",
       "      <td>53.50</td>\n",
       "      <td>53.50</td>\n",
       "    </tr>\n",
       "    <tr>\n",
       "      <th>8</th>\n",
       "      <td>1998-01-02</td>\n",
       "      <td>GE</td>\n",
       "      <td>586.48</td>\n",
       "      <td>591.03</td>\n",
       "      <td>580.00</td>\n",
       "      <td>590.55</td>\n",
       "      <td>2590614.0</td>\n",
       "      <td>4.0</td>\n",
       "      <td>591.03</td>\n",
       "      <td>34.61</td>\n",
       "      <td>...</td>\n",
       "      <td>32.29</td>\n",
       "      <td>0.0</td>\n",
       "      <td>0.0</td>\n",
       "      <td>0.14</td>\n",
       "      <td>0.14</td>\n",
       "      <td>0.0</td>\n",
       "      <td>66.666667</td>\n",
       "      <td>100.0</td>\n",
       "      <td>590.55</td>\n",
       "      <td>590.55</td>\n",
       "    </tr>\n",
       "    <tr>\n",
       "      <th>9</th>\n",
       "      <td>1998-01-02</td>\n",
       "      <td>HBAN</td>\n",
       "      <td>35.50</td>\n",
       "      <td>36.69</td>\n",
       "      <td>35.00</td>\n",
       "      <td>36.69</td>\n",
       "      <td>340600.0</td>\n",
       "      <td>4.0</td>\n",
       "      <td>397.49</td>\n",
       "      <td>35.00</td>\n",
       "      <td>...</td>\n",
       "      <td>35.00</td>\n",
       "      <td>0.0</td>\n",
       "      <td>0.0</td>\n",
       "      <td>0.14</td>\n",
       "      <td>0.14</td>\n",
       "      <td>0.0</td>\n",
       "      <td>66.666667</td>\n",
       "      <td>100.0</td>\n",
       "      <td>36.69</td>\n",
       "      <td>36.69</td>\n",
       "    </tr>\n",
       "  </tbody>\n",
       "</table>\n",
       "<p>10 rows × 21 columns</p>\n",
       "</div>"
      ],
      "text/plain": [
       "         date   tic    open    high     low   close       volume  day  \\\n",
       "0  1998-01-02  AAPL    0.12    0.14    0.12    0.14  170539824.0  4.0   \n",
       "1  1998-01-02   AIG  110.25  110.38  108.56  109.88     704707.0  4.0   \n",
       "2  1998-01-02   AMD   18.25   19.26   18.19   19.26    1161511.0  4.0   \n",
       "3  1998-01-02  AMZN    3.00    3.00    2.87    2.97    2646000.0  4.0   \n",
       "4  1998-01-02   AXP   89.00   89.00   88.32   88.69     787901.0  4.0   \n",
       "5  1998-01-02    BA   49.50   49.81   48.50   48.94    2465131.0  4.0   \n",
       "6  1998-01-02   BAC   30.19   30.50   29.73   30.38    2089631.0  4.0   \n",
       "7  1998-01-02     C   52.77   53.50   52.26   53.50    2894208.0  4.0   \n",
       "8  1998-01-02    GE  586.48  591.03  580.00  590.55    2590614.0  4.0   \n",
       "9  1998-01-02  HBAN   35.50   36.69   35.00   36.69     340600.0  4.0   \n",
       "\n",
       "   short_resistance  short_support  ...  long_support  turbulence  macd  \\\n",
       "0              0.14           0.12  ...          0.12         0.0   0.0   \n",
       "1            176.90         108.56  ...        108.56         0.0   0.0   \n",
       "2             76.10          18.19  ...         18.19         0.0   0.0   \n",
       "3            209.61           2.87  ...          2.87         0.0   0.0   \n",
       "4            180.14          88.32  ...         88.32         0.0   0.0   \n",
       "5            224.90          48.50  ...         48.50         0.0   0.0   \n",
       "6            203.80          29.73  ...         29.73         0.0   0.0   \n",
       "7            845.00          52.26  ...         52.26         0.0   0.0   \n",
       "8            591.03          34.61  ...         32.29         0.0   0.0   \n",
       "9            397.49          35.00  ...         35.00         0.0   0.0   \n",
       "\n",
       "   boll_ub  boll_lb  rsi_30     cci_30  dx_30  close_30_sma  close_60_sma  \n",
       "0     0.14     0.14     0.0  66.666667  100.0          0.14          0.14  \n",
       "1     0.14     0.14     0.0  66.666667  100.0        109.88        109.88  \n",
       "2     0.14     0.14     0.0  66.666667  100.0         19.26         19.26  \n",
       "3     0.14     0.14     0.0  66.666667  100.0          2.97          2.97  \n",
       "4     0.14     0.14     0.0  66.666667  100.0         88.69         88.69  \n",
       "5     0.14     0.14     0.0  66.666667  100.0         48.94         48.94  \n",
       "6     0.14     0.14     0.0  66.666667  100.0         30.38         30.38  \n",
       "7     0.14     0.14     0.0  66.666667  100.0         53.50         53.50  \n",
       "8     0.14     0.14     0.0  66.666667  100.0        590.55        590.55  \n",
       "9     0.14     0.14     0.0  66.666667  100.0         36.69         36.69  \n",
       "\n",
       "[10 rows x 21 columns]"
      ]
     },
     "execution_count": 46,
     "metadata": {},
     "output_type": "execute_result"
    }
   ],
   "source": [
    "print(processed_full.shape)\n",
    "processed_full.sort_values(['date','tic'],ignore_index=True).head(10)"
   ]
  },
  {
   "cell_type": "code",
   "execution_count": 47,
   "metadata": {},
   "outputs": [],
   "source": [
    "mvo_df = processed_full.sort_values(['date','tic'],ignore_index=True)[['date','tic','close']]"
   ]
  },
  {
   "cell_type": "code",
   "execution_count": 48,
   "metadata": {},
   "outputs": [
    {
     "name": "stdout",
     "output_type": "stream",
     "text": [
      "Minimum Date: 1998-01-02\n",
      "Maximum Date: 2023-12-30\n"
     ]
    }
   ],
   "source": [
    "# Get the minimum date value from the 'date' column\n",
    "min_date = processed_full['date'].min()\n",
    "print(f\"Minimum Date: {min_date}\")\n",
    "\n",
    "# Get the maximum date value from the 'date' column\n",
    "max_date = processed_full['date'].max()\n",
    "print(f\"Maximum Date: {max_date}\")\n",
    "\n"
   ]
  },
  {
   "cell_type": "code",
   "execution_count": 49,
   "metadata": {},
   "outputs": [
    {
     "name": "stdout",
     "output_type": "stream",
     "text": [
      "116204\n",
      "28490\n"
     ]
    }
   ],
   "source": [
    "TRAIN_START_DATE = '1998-01-02'\n",
    "TRAIN_END_DATE = '2018-12-31'\n",
    "TRADE_START_DATE = '2019-01-01'\n",
    "TRADE_END_DATE = '2023-12-30' ## CARE IN NIFTY\n",
    "train = data_split(processed_full, TRAIN_START_DATE,TRAIN_END_DATE)\n",
    "trade = data_split(processed_full, TRADE_START_DATE,TRADE_END_DATE)\n",
    "print(len(train))\n",
    "print(len(trade))"
   ]
  },
  {
   "cell_type": "code",
   "execution_count": 50,
   "metadata": {},
   "outputs": [
    {
     "name": "stdout",
     "output_type": "stream",
     "text": [
      "Stock Dimension: 22, State Space: 221\n"
     ]
    }
   ],
   "source": [
    "stock_dimension = len(train.tic.unique())\n",
    "# print(stock_dimension)\n",
    "\n",
    "state_space = 1 + 2*stock_dimension + len(INDICATORS)*stock_dimension\n",
    "print(f\"Stock Dimension: {stock_dimension}, State Space: {state_space}\")"
   ]
  },
  {
   "cell_type": "code",
   "execution_count": 51,
   "metadata": {},
   "outputs": [],
   "source": [
    "buy_cost_list = sell_cost_list = [0.0005] * stock_dimension\n",
    "num_stock_shares = [0] * stock_dimension\n",
    "\n",
    "env_kwargs = {\n",
    "    \"hmax\": 100,\n",
    "    \"initial_amount\": 2000000,\n",
    "    \"num_stock_shares\": num_stock_shares,\n",
    "    \"buy_cost_pct\": buy_cost_list,\n",
    "    \"sell_cost_pct\": sell_cost_list,\n",
    "    \"state_space\": state_space,\n",
    "    \"stock_dim\": stock_dimension,\n",
    "    \"tech_indicator_list\": INDICATORS,\n",
    "    \"action_space\": stock_dimension,\n",
    "    \"reward_scaling\": 1e-4\n",
    "    # \"cash_penalty_percentage\": 0.1,\n",
    "    # \"exponential_cash_average\": 0.04\n",
    "}\n",
    "\n",
    "\n",
    "e_train_gym = StockTradingEnv(df = train, **env_kwargs)"
   ]
  },
  {
   "cell_type": "code",
   "execution_count": 52,
   "metadata": {},
   "outputs": [
    {
     "name": "stdout",
     "output_type": "stream",
     "text": [
      "<class 'stable_baselines3.common.vec_env.dummy_vec_env.DummyVecEnv'>\n"
     ]
    }
   ],
   "source": [
    "env_train, _ = e_train_gym.get_sb_env()\n",
    "print(type(env_train))"
   ]
  },
  {
   "cell_type": "code",
   "execution_count": 53,
   "metadata": {},
   "outputs": [],
   "source": [
    "agent = DRLAgent(env = env_train)\n",
    "\n",
    "if_using_a2c = True\n",
    "if_using_ddpg = True\n",
    "if_using_ppo = True\n",
    "if_using_td3 = True\n",
    "if_using_sac = True"
   ]
  },
  {
   "cell_type": "code",
   "execution_count": 54,
   "metadata": {},
   "outputs": [
    {
     "name": "stdout",
     "output_type": "stream",
     "text": [
      "{'n_steps': 5, 'ent_coef': 0.01, 'learning_rate': 0.0007}\n",
      "Using cpu device\n",
      "Logging to results/a2c\n"
     ]
    }
   ],
   "source": [
    "agent = DRLAgent(env = env_train)\n",
    "model_a2c = agent.get_model(\"a2c\")\n",
    "\n",
    "if if_using_a2c:\n",
    "  # set up logger\n",
    "  tmp_path = RESULTS_DIR + '/a2c'\n",
    "  new_logger_a2c = configure(tmp_path, [\"stdout\", \"csv\", \"tensorboard\"])\n",
    "  # Set new logger\n",
    "  model_a2c.set_logger(new_logger_a2c)\n"
   ]
  },
  {
   "cell_type": "code",
   "execution_count": 55,
   "metadata": {},
   "outputs": [
    {
     "name": "stdout",
     "output_type": "stream",
     "text": [
      "--------------------------------------\n",
      "| time/                 |            |\n",
      "|    fps                | 98         |\n",
      "|    iterations         | 100        |\n",
      "|    time_elapsed       | 5          |\n",
      "|    total_timesteps    | 500        |\n",
      "| train/                |            |\n",
      "|    entropy_loss       | -31.2      |\n",
      "|    explained_variance | -0.00627   |\n",
      "|    learning_rate      | 0.0007     |\n",
      "|    n_updates          | 99         |\n",
      "|    policy_loss        | 24.5       |\n",
      "|    reward             | -2.6199112 |\n",
      "|    std                | 0.998      |\n",
      "|    value_loss         | 13.4       |\n",
      "--------------------------------------\n",
      "--------------------------------------\n",
      "| time/                 |            |\n",
      "|    fps                | 97         |\n",
      "|    iterations         | 200        |\n",
      "|    time_elapsed       | 10         |\n",
      "|    total_timesteps    | 1000       |\n",
      "| train/                |            |\n",
      "|    entropy_loss       | -31.1      |\n",
      "|    explained_variance | -0.108     |\n",
      "|    learning_rate      | 0.0007     |\n",
      "|    n_updates          | 199        |\n",
      "|    policy_loss        | 12         |\n",
      "|    reward             | 0.13634872 |\n",
      "|    std                | 0.996      |\n",
      "|    value_loss         | 0.909      |\n",
      "--------------------------------------\n",
      "-------------------------------------\n",
      "| time/                 |           |\n",
      "|    fps                | 99        |\n",
      "|    iterations         | 300       |\n",
      "|    time_elapsed       | 15        |\n",
      "|    total_timesteps    | 1500      |\n",
      "| train/                |           |\n",
      "|    entropy_loss       | -31.2     |\n",
      "|    explained_variance | -0.0414   |\n",
      "|    learning_rate      | 0.0007    |\n",
      "|    n_updates          | 299       |\n",
      "|    policy_loss        | 35.1      |\n",
      "|    reward             | 0.5787719 |\n",
      "|    std                | 0.997     |\n",
      "|    value_loss         | 1.94      |\n",
      "-------------------------------------\n",
      "-------------------------------------\n",
      "| time/                 |           |\n",
      "|    fps                | 100       |\n",
      "|    iterations         | 400       |\n",
      "|    time_elapsed       | 19        |\n",
      "|    total_timesteps    | 2000      |\n",
      "| train/                |           |\n",
      "|    entropy_loss       | -31.2     |\n",
      "|    explained_variance | 0         |\n",
      "|    learning_rate      | 0.0007    |\n",
      "|    n_updates          | 399       |\n",
      "|    policy_loss        | -43.8     |\n",
      "|    reward             | 1.2082866 |\n",
      "|    std                | 0.998     |\n",
      "|    value_loss         | 3.06      |\n",
      "-------------------------------------\n",
      "--------------------------------------\n",
      "| time/                 |            |\n",
      "|    fps                | 100        |\n",
      "|    iterations         | 500        |\n",
      "|    time_elapsed       | 24         |\n",
      "|    total_timesteps    | 2500       |\n",
      "| train/                |            |\n",
      "|    entropy_loss       | -31.2      |\n",
      "|    explained_variance | -1.19e-07  |\n",
      "|    learning_rate      | 0.0007     |\n",
      "|    n_updates          | 499        |\n",
      "|    policy_loss        | -26.9      |\n",
      "|    reward             | -7.6674557 |\n",
      "|    std                | 0.999      |\n",
      "|    value_loss         | 9.48       |\n",
      "--------------------------------------\n"
     ]
    }
   ],
   "source": [
    "trained_a2c = agent.train_model(model=model_a2c, \n",
    "                             tb_log_name='a2c',\n",
    "                             total_timesteps=2500) if if_using_a2c else None"
   ]
  },
  {
   "cell_type": "code",
   "execution_count": 56,
   "metadata": {},
   "outputs": [
    {
     "name": "stdout",
     "output_type": "stream",
     "text": [
      "{'batch_size': 128, 'buffer_size': 50000, 'learning_rate': 0.001}\n",
      "Using cpu device\n",
      "Logging to results/ddpg\n"
     ]
    }
   ],
   "source": [
    "agent = DRLAgent(env = env_train)\n",
    "model_ddpg = agent.get_model(\"ddpg\")\n",
    "\n",
    "if if_using_ddpg:\n",
    "  # set up logger\n",
    "  tmp_path = RESULTS_DIR + '/ddpg'\n",
    "  new_logger_ddpg = configure(tmp_path, [\"stdout\", \"csv\", \"tensorboard\"])\n",
    "  # Set new logger\n",
    "  model_ddpg.set_logger(new_logger_ddpg)"
   ]
  },
  {
   "cell_type": "code",
   "execution_count": 57,
   "metadata": {},
   "outputs": [],
   "source": [
    "trained_ddpg = agent.train_model(model=model_ddpg,\n",
    "                             tb_log_name='ddpg',\n",
    "                             total_timesteps=2500) if if_using_ddpg else None"
   ]
  },
  {
   "cell_type": "code",
   "execution_count": 58,
   "metadata": {},
   "outputs": [
    {
     "name": "stdout",
     "output_type": "stream",
     "text": [
      "{'n_steps': 2048, 'ent_coef': 0.01, 'learning_rate': 0.00025, 'batch_size': 128}\n",
      "Using cpu device\n",
      "Logging to results/ppo\n"
     ]
    }
   ],
   "source": [
    "agent = DRLAgent(env = env_train)\n",
    "PPO_PARAMS = {\n",
    "    \"n_steps\": 2048,\n",
    "    \"ent_coef\": 0.01,\n",
    "    \"learning_rate\": 0.00025,\n",
    "    \"batch_size\": 128,\n",
    "}\n",
    "model_ppo = agent.get_model(\"ppo\",model_kwargs = PPO_PARAMS)\n",
    "\n",
    "if if_using_ppo:\n",
    "  # set up logger\n",
    "  tmp_path = RESULTS_DIR + '/ppo'\n",
    "  new_logger_ppo = configure(tmp_path, [\"stdout\", \"csv\", \"tensorboard\"])\n",
    "  # Set new logger\n",
    "  model_ppo.set_logger(new_logger_ppo)"
   ]
  },
  {
   "cell_type": "code",
   "execution_count": 59,
   "metadata": {},
   "outputs": [
    {
     "name": "stdout",
     "output_type": "stream",
     "text": [
      "------------------------------------\n",
      "| time/              |             |\n",
      "|    fps             | 124         |\n",
      "|    iterations      | 1           |\n",
      "|    time_elapsed    | 16          |\n",
      "|    total_timesteps | 2048        |\n",
      "| train/             |             |\n",
      "|    reward          | 0.103176385 |\n",
      "------------------------------------\n",
      "-----------------------------------------\n",
      "| time/                   |             |\n",
      "|    fps                  | 124         |\n",
      "|    iterations           | 2           |\n",
      "|    time_elapsed         | 32          |\n",
      "|    total_timesteps      | 4096        |\n",
      "| train/                  |             |\n",
      "|    approx_kl            | 0.014735209 |\n",
      "|    clip_fraction        | 0.169       |\n",
      "|    clip_range           | 0.2         |\n",
      "|    entropy_loss         | -31.3       |\n",
      "|    explained_variance   | -0.00346    |\n",
      "|    learning_rate        | 0.00025     |\n",
      "|    loss                 | 20.7        |\n",
      "|    n_updates            | 10          |\n",
      "|    policy_gradient_loss | -0.0177     |\n",
      "|    reward               | 0.3840798   |\n",
      "|    std                  | 1           |\n",
      "|    value_loss           | 46.9        |\n",
      "-----------------------------------------\n"
     ]
    }
   ],
   "source": [
    "trained_ppo = agent.train_model(model=model_ppo, \n",
    "                             tb_log_name='ppo',\n",
    "                             total_timesteps=2500) if if_using_ppo else None"
   ]
  },
  {
   "cell_type": "code",
   "execution_count": 60,
   "metadata": {},
   "outputs": [
    {
     "name": "stdout",
     "output_type": "stream",
     "text": [
      "{'batch_size': 100, 'buffer_size': 100000, 'learning_rate': 0.001}\n",
      "Using cpu device\n",
      "Logging to results/td3\n"
     ]
    }
   ],
   "source": [
    "agent = DRLAgent(env = env_train)\n",
    "TD3_PARAMS = {\"batch_size\": 100, \n",
    "              \"buffer_size\": 100000, \n",
    "              \"learning_rate\": 0.001}\n",
    "\n",
    "model_td3 = agent.get_model(\"td3\",model_kwargs = TD3_PARAMS)\n",
    "\n",
    "if if_using_td3:\n",
    "  # set up logger\n",
    "  tmp_path = RESULTS_DIR + '/td3'\n",
    "  new_logger_td3 = configure(tmp_path, [\"stdout\", \"csv\", \"tensorboard\"])\n",
    "  # Set new logger\n",
    "  model_td3.set_logger(new_logger_td3)"
   ]
  },
  {
   "cell_type": "code",
   "execution_count": 61,
   "metadata": {},
   "outputs": [],
   "source": [
    "trained_td3 = agent.train_model(model=model_td3, \n",
    "                             tb_log_name='td3',\n",
    "                             total_timesteps=2500) if if_using_td3 else None"
   ]
  },
  {
   "cell_type": "code",
   "execution_count": 62,
   "metadata": {},
   "outputs": [
    {
     "name": "stdout",
     "output_type": "stream",
     "text": [
      "{'batch_size': 128, 'buffer_size': 100000, 'learning_rate': 0.0001, 'learning_starts': 100, 'ent_coef': 'auto_0.1'}\n",
      "Using cpu device\n",
      "Logging to results/sac\n"
     ]
    }
   ],
   "source": [
    "agent = DRLAgent(env = env_train)\n",
    "SAC_PARAMS = {\n",
    "    \"batch_size\": 128,\n",
    "    \"buffer_size\": 100000,\n",
    "    \"learning_rate\": 0.0001,\n",
    "    \"learning_starts\": 100,\n",
    "    \"ent_coef\": \"auto_0.1\",\n",
    "}\n",
    "\n",
    "model_sac = agent.get_model(\"sac\",model_kwargs = SAC_PARAMS)\n",
    "\n",
    "if if_using_sac:\n",
    "  # set up logger\n",
    "  tmp_path = RESULTS_DIR + '/sac'\n",
    "  new_logger_sac = configure(tmp_path, [\"stdout\", \"csv\", \"tensorboard\"])\n",
    "  # Set new logger\n",
    "  model_sac.set_logger(new_logger_sac)"
   ]
  },
  {
   "cell_type": "code",
   "execution_count": 63,
   "metadata": {},
   "outputs": [],
   "source": [
    "trained_sac = agent.train_model(model=model_sac, \n",
    "                             tb_log_name='sac',\n",
    "                             total_timesteps=2500) if if_using_sac else None"
   ]
  },
  {
   "cell_type": "code",
   "execution_count": 64,
   "metadata": {},
   "outputs": [],
   "source": [
    "data_risk_indicator = processed_full[(processed_full.date<TRAIN_END_DATE) & (processed_full.date>=TRAIN_START_DATE)]\n",
    "insample_risk_indicator = data_risk_indicator.drop_duplicates(subset=['date'])"
   ]
  },
  {
   "cell_type": "code",
   "execution_count": 65,
   "metadata": {},
   "outputs": [
    {
     "data": {
      "text/plain": [
       "count      5282.000000\n",
       "mean        206.682119\n",
       "std        9874.358831\n",
       "min           0.000000\n",
       "25%          24.807409\n",
       "50%          37.307884\n",
       "75%          58.674037\n",
       "max      717004.462018\n",
       "Name: turbulence, dtype: float64"
      ]
     },
     "execution_count": 65,
     "metadata": {},
     "output_type": "execute_result"
    }
   ],
   "source": [
    "insample_risk_indicator.turbulence.describe()"
   ]
  },
  {
   "cell_type": "code",
   "execution_count": 66,
   "metadata": {},
   "outputs": [
    {
     "name": "stderr",
     "output_type": "stream",
     "text": [
      "C:\\Users\\jamil\\AppData\\Local\\Temp\\ipykernel_27780\\455132124.py:8: UserWarning: FigureCanvasAgg is non-interactive, and thus cannot be shown\n",
      "  plt.show()\n"
     ]
    }
   ],
   "source": [
    "plt.figure(figsize=(10,6))\n",
    "filtered_turbulence = insample_risk_indicator.turbulence[insample_risk_indicator.turbulence < 600]\n",
    "sns.histplot(filtered_turbulence, bins=50, kde=True)\n",
    "plt.title('Distribution of turbulence of DJI top 30 stocks')\n",
    "plt.xlabel('Turbulence')\n",
    "plt.ylabel('Frequency')\n",
    "plt.savefig('turbulenceOFdse.png')\n",
    "plt.show()"
   ]
  },
  {
   "cell_type": "code",
   "execution_count": 67,
   "metadata": {},
   "outputs": [
    {
     "data": {
      "text/plain": [
       "1148.9923762238238"
      ]
     },
     "execution_count": 67,
     "metadata": {},
     "output_type": "execute_result"
    }
   ],
   "source": [
    "insample_risk_indicator.turbulence.quantile(0.996)"
   ]
  },
  {
   "cell_type": "code",
   "execution_count": 68,
   "metadata": {},
   "outputs": [],
   "source": [
    "e_trade_gym = StockTradingEnv(df = trade,  **env_kwargs)\n",
    "# env_trade, obs_trade = e_trade_gym.get_sb_env()"
   ]
  },
  {
   "cell_type": "code",
   "execution_count": 69,
   "metadata": {},
   "outputs": [
    {
     "data": {
      "text/html": [
       "<div>\n",
       "<style scoped>\n",
       "    .dataframe tbody tr th:only-of-type {\n",
       "        vertical-align: middle;\n",
       "    }\n",
       "\n",
       "    .dataframe tbody tr th {\n",
       "        vertical-align: top;\n",
       "    }\n",
       "\n",
       "    .dataframe thead th {\n",
       "        text-align: right;\n",
       "    }\n",
       "</style>\n",
       "<table border=\"1\" class=\"dataframe\">\n",
       "  <thead>\n",
       "    <tr style=\"text-align: right;\">\n",
       "      <th></th>\n",
       "      <th>date</th>\n",
       "      <th>tic</th>\n",
       "      <th>open</th>\n",
       "      <th>high</th>\n",
       "      <th>low</th>\n",
       "      <th>close</th>\n",
       "      <th>volume</th>\n",
       "      <th>day</th>\n",
       "      <th>short_resistance</th>\n",
       "      <th>short_support</th>\n",
       "      <th>...</th>\n",
       "      <th>long_support</th>\n",
       "      <th>turbulence</th>\n",
       "      <th>macd</th>\n",
       "      <th>boll_ub</th>\n",
       "      <th>boll_lb</th>\n",
       "      <th>rsi_30</th>\n",
       "      <th>cci_30</th>\n",
       "      <th>dx_30</th>\n",
       "      <th>close_30_sma</th>\n",
       "      <th>close_60_sma</th>\n",
       "    </tr>\n",
       "  </thead>\n",
       "  <tbody>\n",
       "    <tr>\n",
       "      <th>0</th>\n",
       "      <td>2019-01-02</td>\n",
       "      <td>AAPL</td>\n",
       "      <td>38.72</td>\n",
       "      <td>39.71</td>\n",
       "      <td>38.55</td>\n",
       "      <td>39.47</td>\n",
       "      <td>25246257.0</td>\n",
       "      <td>2.0</td>\n",
       "      <td>41.88</td>\n",
       "      <td>36.54</td>\n",
       "      <td>...</td>\n",
       "      <td>36.54</td>\n",
       "      <td>52.44292</td>\n",
       "      <td>-2.073739</td>\n",
       "      <td>45.633711</td>\n",
       "      <td>36.340289</td>\n",
       "      <td>37.754564</td>\n",
       "      <td>-91.585942</td>\n",
       "      <td>40.112990</td>\n",
       "      <td>42.265667</td>\n",
       "      <td>47.736333</td>\n",
       "    </tr>\n",
       "    <tr>\n",
       "      <th>0</th>\n",
       "      <td>2019-01-02</td>\n",
       "      <td>AIG</td>\n",
       "      <td>38.90</td>\n",
       "      <td>39.72</td>\n",
       "      <td>38.67</td>\n",
       "      <td>39.61</td>\n",
       "      <td>3673022.0</td>\n",
       "      <td>2.0</td>\n",
       "      <td>39.97</td>\n",
       "      <td>36.54</td>\n",
       "      <td>...</td>\n",
       "      <td>36.16</td>\n",
       "      <td>52.44292</td>\n",
       "      <td>-0.905049</td>\n",
       "      <td>41.580982</td>\n",
       "      <td>35.482018</td>\n",
       "      <td>42.321901</td>\n",
       "      <td>-23.694910</td>\n",
       "      <td>18.644134</td>\n",
       "      <td>40.185000</td>\n",
       "      <td>42.953333</td>\n",
       "    </tr>\n",
       "    <tr>\n",
       "      <th>0</th>\n",
       "      <td>2019-01-02</td>\n",
       "      <td>AMD</td>\n",
       "      <td>18.04</td>\n",
       "      <td>19.00</td>\n",
       "      <td>17.98</td>\n",
       "      <td>18.83</td>\n",
       "      <td>81833248.0</td>\n",
       "      <td>2.0</td>\n",
       "      <td>19.85</td>\n",
       "      <td>16.03</td>\n",
       "      <td>...</td>\n",
       "      <td>16.03</td>\n",
       "      <td>52.44292</td>\n",
       "      <td>-0.800595</td>\n",
       "      <td>22.588220</td>\n",
       "      <td>15.852780</td>\n",
       "      <td>46.035175</td>\n",
       "      <td>-52.315704</td>\n",
       "      <td>7.553950</td>\n",
       "      <td>19.560333</td>\n",
       "      <td>21.078667</td>\n",
       "    </tr>\n",
       "    <tr>\n",
       "      <th>0</th>\n",
       "      <td>2019-01-02</td>\n",
       "      <td>AMZN</td>\n",
       "      <td>73.26</td>\n",
       "      <td>77.66</td>\n",
       "      <td>73.04</td>\n",
       "      <td>76.97</td>\n",
       "      <td>79442300.0</td>\n",
       "      <td>2.0</td>\n",
       "      <td>79.22</td>\n",
       "      <td>65.34</td>\n",
       "      <td>...</td>\n",
       "      <td>65.34</td>\n",
       "      <td>52.44292</td>\n",
       "      <td>-2.303702</td>\n",
       "      <td>89.227554</td>\n",
       "      <td>66.587446</td>\n",
       "      <td>46.197409</td>\n",
       "      <td>-39.356278</td>\n",
       "      <td>20.061801</td>\n",
       "      <td>78.314667</td>\n",
       "      <td>82.030333</td>\n",
       "    </tr>\n",
       "    <tr>\n",
       "      <th>0</th>\n",
       "      <td>2019-01-02</td>\n",
       "      <td>AXP</td>\n",
       "      <td>93.91</td>\n",
       "      <td>96.27</td>\n",
       "      <td>93.77</td>\n",
       "      <td>95.68</td>\n",
       "      <td>2865401.0</td>\n",
       "      <td>2.0</td>\n",
       "      <td>102.57</td>\n",
       "      <td>89.05</td>\n",
       "      <td>...</td>\n",
       "      <td>89.05</td>\n",
       "      <td>52.44292</td>\n",
       "      <td>-3.550492</td>\n",
       "      <td>114.301392</td>\n",
       "      <td>87.414608</td>\n",
       "      <td>41.271193</td>\n",
       "      <td>-97.370445</td>\n",
       "      <td>20.678080</td>\n",
       "      <td>103.651667</td>\n",
       "      <td>104.245000</td>\n",
       "    </tr>\n",
       "  </tbody>\n",
       "</table>\n",
       "<p>5 rows × 21 columns</p>\n",
       "</div>"
      ],
      "text/plain": [
       "         date   tic   open   high    low  close      volume  day  \\\n",
       "0  2019-01-02  AAPL  38.72  39.71  38.55  39.47  25246257.0  2.0   \n",
       "0  2019-01-02   AIG  38.90  39.72  38.67  39.61   3673022.0  2.0   \n",
       "0  2019-01-02   AMD  18.04  19.00  17.98  18.83  81833248.0  2.0   \n",
       "0  2019-01-02  AMZN  73.26  77.66  73.04  76.97  79442300.0  2.0   \n",
       "0  2019-01-02   AXP  93.91  96.27  93.77  95.68   2865401.0  2.0   \n",
       "\n",
       "   short_resistance  short_support  ...  long_support  turbulence      macd  \\\n",
       "0             41.88          36.54  ...         36.54    52.44292 -2.073739   \n",
       "0             39.97          36.54  ...         36.16    52.44292 -0.905049   \n",
       "0             19.85          16.03  ...         16.03    52.44292 -0.800595   \n",
       "0             79.22          65.34  ...         65.34    52.44292 -2.303702   \n",
       "0            102.57          89.05  ...         89.05    52.44292 -3.550492   \n",
       "\n",
       "      boll_ub    boll_lb     rsi_30     cci_30      dx_30  close_30_sma  \\\n",
       "0   45.633711  36.340289  37.754564 -91.585942  40.112990     42.265667   \n",
       "0   41.580982  35.482018  42.321901 -23.694910  18.644134     40.185000   \n",
       "0   22.588220  15.852780  46.035175 -52.315704   7.553950     19.560333   \n",
       "0   89.227554  66.587446  46.197409 -39.356278  20.061801     78.314667   \n",
       "0  114.301392  87.414608  41.271193 -97.370445  20.678080    103.651667   \n",
       "\n",
       "   close_60_sma  \n",
       "0     47.736333  \n",
       "0     42.953333  \n",
       "0     21.078667  \n",
       "0     82.030333  \n",
       "0    104.245000  \n",
       "\n",
       "[5 rows x 21 columns]"
      ]
     },
     "execution_count": 69,
     "metadata": {},
     "output_type": "execute_result"
    }
   ],
   "source": [
    "trade.head()"
   ]
  },
  {
   "cell_type": "code",
   "execution_count": 70,
   "metadata": {},
   "outputs": [
    {
     "name": "stdout",
     "output_type": "stream",
     "text": [
      "hit end!\n"
     ]
    }
   ],
   "source": [
    "trained_moedl = trained_a2c\n",
    "df_account_value_a2c, df_actions_a2c = DRLAgent.DRL_prediction(\n",
    "    model=trained_moedl,\n",
    "    environment = e_trade_gym)\n",
    "\n",
    "# Save the actions DataFrame to a CSV file\n",
    "df_actions_a2c.to_csv(\"actions_a2c.csv\", index=True)  # Include index for date information\n"
   ]
  },
  {
   "cell_type": "code",
   "execution_count": 71,
   "metadata": {},
   "outputs": [
    {
     "name": "stdout",
     "output_type": "stream",
     "text": [
      "hit end!\n"
     ]
    }
   ],
   "source": [
    "trained_moedl = trained_ddpg\n",
    "df_account_value_ddpg, df_actions_ddpg = DRLAgent.DRL_prediction(\n",
    "    model=trained_moedl,\n",
    "    environment = e_trade_gym)\n",
    "df_actions_ddpg.to_csv(\"actions_ddpg.csv\", index=True)  # Include index for date information\n",
    "\n"
   ]
  },
  {
   "cell_type": "code",
   "execution_count": 72,
   "metadata": {},
   "outputs": [
    {
     "name": "stdout",
     "output_type": "stream",
     "text": [
      "hit end!\n"
     ]
    }
   ],
   "source": [
    "trained_moedl = trained_ppo\n",
    "df_account_value_ppo, df_actions_ppo = DRLAgent.DRL_prediction(\n",
    "    model=trained_moedl,\n",
    "    environment = e_trade_gym)"
   ]
  },
  {
   "cell_type": "code",
   "execution_count": 73,
   "metadata": {},
   "outputs": [
    {
     "name": "stdout",
     "output_type": "stream",
     "text": [
      "hit end!\n"
     ]
    }
   ],
   "source": [
    "trained_moedl = trained_td3\n",
    "df_account_value_td3, df_actions_td3 = DRLAgent.DRL_prediction(\n",
    "    model=trained_moedl,\n",
    "    environment = e_trade_gym)"
   ]
  },
  {
   "cell_type": "code",
   "execution_count": 74,
   "metadata": {},
   "outputs": [
    {
     "name": "stdout",
     "output_type": "stream",
     "text": [
      "hit end!\n"
     ]
    }
   ],
   "source": [
    "trained_moedl = trained_sac\n",
    "df_account_value_sac, df_actions_sac = DRLAgent.DRL_prediction(\n",
    "    model=trained_moedl,\n",
    "    environment = e_trade_gym)"
   ]
  },
  {
   "cell_type": "code",
   "execution_count": 75,
   "metadata": {},
   "outputs": [
    {
     "name": "stdout",
     "output_type": "stream",
     "text": [
      "A2C: 2264003.9554300006\n",
      "DDPG: 2543335.4017300005\n",
      "PPO: 2469831.5972699965\n",
      "TD3: 3816099.7004299997\n",
      "SAC: 5431302.411095002\n"
     ]
    }
   ],
   "source": [
    "# print max of each model\n",
    "print('A2C:', df_account_value_a2c['account_value'].max())\n",
    "print('DDPG:', df_account_value_ddpg['account_value'].max())\n",
    "print('PPO:', df_account_value_ppo['account_value'].max())\n",
    "print('TD3:', df_account_value_td3['account_value'].max())\n",
    "print('SAC:', df_account_value_sac['account_value'].max())"
   ]
  },
  {
   "cell_type": "code",
   "execution_count": 76,
   "metadata": {},
   "outputs": [],
   "source": [
    "import pickle\n",
    "# save account value and action\n",
    "\n",
    "# A2C\n",
    "root_dir = 'account_values_actions_cashloss'\n",
    "sub_dir = 'orginal'\n",
    "if not os.path.exists(root_dir):\n",
    "    os.mkdir(root_dir)\n",
    "if not os.path.exists(os.path.join(root_dir, sub_dir)):\n",
    "    os.mkdir(os.path.join(root_dir, sub_dir))\n",
    "\n",
    "root_dir = os.path.join(root_dir, sub_dir)\n",
    "file_path = os.path.join(root_dir, 'df_account_value_a2c.pkl')\n",
    "with open(file_path, 'wb') as f:\n",
    "    pickle.dump(df_account_value_a2c, f)\n",
    "file_path = os.path.join(root_dir, 'df_actions_a2c.pkl')\n",
    "with open(file_path, 'wb') as f:\n",
    "    pickle.dump(df_actions_a2c, f)\n",
    "\n",
    "# DDPG\n",
    "file_path = os.path.join(root_dir, 'df_account_value_ddpg.pkl')\n",
    "with open(file_path, 'wb') as f:\n",
    "    pickle.dump(df_account_value_ddpg, f)\n",
    "\n",
    "file_path = os.path.join(root_dir, 'df_actions_ddpg.pkl')\n",
    "with open(file_path, 'wb') as f:\n",
    "    pickle.dump(df_actions_ddpg, f)\n",
    "\n",
    "# PPO\n",
    "file_path = os.path.join(root_dir, 'df_account_value_ppo.pkl')\n",
    "with open(file_path, 'wb') as f:\n",
    "    pickle.dump(df_account_value_ppo, f)\n",
    "\n",
    "file_path = os.path.join(root_dir, 'df_actions_ppo.pkl')\n",
    "with open(file_path, 'wb') as f:\n",
    "    pickle.dump(df_actions_ppo, f)\n",
    "\n",
    "# TD3\n",
    "file_path = os.path.join(root_dir, 'df_account_value_td3.pkl')\n",
    "with open(file_path, 'wb') as f:\n",
    "    pickle.dump(df_account_value_td3, f)\n",
    "\n",
    "file_path = os.path.join(root_dir, 'df_actions_td3.pkl')\n",
    "with open(file_path, 'wb') as f:\n",
    "    pickle.dump(df_actions_td3, f)\n",
    "\n",
    "# SAC\n",
    "file_path = os.path.join(root_dir, 'df_account_value_sac.pkl')\n",
    "with open(file_path, 'wb') as f:\n",
    "    pickle.dump(df_account_value_sac, f)\n",
    "\n",
    "file_path = os.path.join(root_dir, 'df_actions_sac.pkl')\n",
    "with open(file_path, 'wb') as f:\n",
    "    pickle.dump(df_actions_sac, f)\n",
    "\n"
   ]
  },
  {
   "cell_type": "code",
   "execution_count": 86,
   "metadata": {},
   "outputs": [],
   "source": [
    "fst = mvo_df\n",
    "fst = fst.iloc[0*17:0*17+17, :]\n",
    "tic = fst['tic'].tolist()\n",
    "\n",
    "mvo = pd.DataFrame()\n",
    "\n",
    "for k in range(len(tic)):\n",
    "  mvo[tic[k]] = 0\n",
    "\n",
    "for i in range(mvo_df.shape[0]//17):\n",
    "  n = mvo_df\n",
    "  n = n.iloc[i*17:i*17+17, :]\n",
    "  date = n['date'][i*17]\n",
    "  mvo.loc[date] = n['close'].tolist()"
   ]
  },
  {
   "cell_type": "code",
   "execution_count": 87,
   "metadata": {},
   "outputs": [
    {
     "data": {
      "text/plain": [
       "6579"
      ]
     },
     "execution_count": 87,
     "metadata": {},
     "output_type": "execute_result"
    }
   ],
   "source": [
    "mvo.shape[0]"
   ]
  },
  {
   "cell_type": "code",
   "execution_count": 88,
   "metadata": {},
   "outputs": [],
   "source": [
    "from scipy import optimize \n",
    "from scipy.optimize import linprog\n",
    "\n",
    "#function obtains maximal return portfolio using linear programming\n",
    "\n",
    "def MaximizeReturns(MeanReturns, PortfolioSize):\n",
    "    \n",
    "  #dependencies\n",
    "  \n",
    "    \n",
    "  c = (np.multiply(-1, MeanReturns))\n",
    "  A = np.ones([PortfolioSize,1]).T\n",
    "  b=[1]\n",
    "  res = linprog(c, A_ub = A, b_ub = b, bounds = (0,1), method = 'simplex') \n",
    "    \n",
    "  return res\n",
    "\n",
    "def MinimizeRisk(CovarReturns, PortfolioSize):\n",
    "    \n",
    "  def f(x, CovarReturns):\n",
    "    func = np.matmul(np.matmul(x, CovarReturns), x.T) \n",
    "    return func\n",
    "\n",
    "  def constraintEq(x):\n",
    "    A=np.ones(x.shape)\n",
    "    b=1\n",
    "    constraintVal = np.matmul(A,x.T)-b \n",
    "    return constraintVal\n",
    "    \n",
    "  xinit=np.repeat(0.1, PortfolioSize)\n",
    "  cons = ({'type': 'eq', 'fun':constraintEq})\n",
    "  lb = 0\n",
    "  ub = 1\n",
    "  bnds = tuple([(lb,ub) for x in xinit])\n",
    "\n",
    "  opt = optimize.minimize (f, x0 = xinit, args = (CovarReturns),  bounds = bnds, \\\n",
    "                             constraints = cons, tol = 10**-3)\n",
    "    \n",
    "  return opt\n",
    "\n",
    "def MinimizeRiskConstr(MeanReturns, CovarReturns, PortfolioSize, R):\n",
    "    \n",
    "  def  f(x,CovarReturns):\n",
    "         \n",
    "    func = np.matmul(np.matmul(x,CovarReturns ), x.T)\n",
    "    return func\n",
    "\n",
    "  def constraintEq(x):\n",
    "    AEq=np.ones(x.shape)\n",
    "    bEq=1\n",
    "    EqconstraintVal = np.matmul(AEq,x.T)-bEq \n",
    "    return EqconstraintVal\n",
    "    \n",
    "  def constraintIneq(x, MeanReturns, R):\n",
    "    AIneq = np.array(MeanReturns)\n",
    "    bIneq = R\n",
    "    IneqconstraintVal = np.matmul(AIneq,x.T) - bIneq\n",
    "    return IneqconstraintVal\n",
    "    \n",
    "\n",
    "  xinit=np.repeat(0.1, PortfolioSize)\n",
    "  cons = ({'type': 'eq', 'fun':constraintEq},\n",
    "          {'type':'ineq', 'fun':constraintIneq, 'args':(MeanReturns,R) })\n",
    "  lb = 0\n",
    "  ub = 1\n",
    "  bnds = tuple([(lb,ub) for x in xinit])\n",
    "\n",
    "  opt = optimize.minimize (f, args = (CovarReturns), method ='trust-constr',  \\\n",
    "                x0 = xinit,   bounds = bnds, constraints = cons, tol = 10**-3)\n",
    "    \n",
    "  return opt"
   ]
  },
  {
   "cell_type": "code",
   "execution_count": 89,
   "metadata": {},
   "outputs": [],
   "source": [
    "def StockReturnsComputing(StockPrice, Rows, Columns): \n",
    "  import numpy as np \n",
    "  StockReturn = np.zeros([Rows-1, Columns]) \n",
    "  for j in range(Columns):        # j: Assets \n",
    "    for i in range(Rows-1):     # i: Daily Prices \n",
    "      StockReturn[i,j]=((StockPrice[i+1, j]-StockPrice[i,j])/StockPrice[i,j])* 100 \n",
    "      \n",
    "  return StockReturn"
   ]
  },
  {
   "cell_type": "code",
   "execution_count": 90,
   "metadata": {},
   "outputs": [
    {
     "data": {
      "text/plain": [
       "array([[ 46.35,  41.6 ,  35.52, ...,  97.09,  15.07, 183.62],\n",
       "       [ 97.36,  81.86, 118.26, ...,  55.14,  65.84,  12.39],\n",
       "       [ 47.23, 127.82, 100.66, ...,  20.59,  81.46,  98.17],\n",
       "       ...,\n",
       "       [375.53,  84.99, 155.6 , ...,  51.45, 127.62,  12.72],\n",
       "       [ 50.29, 156.75, 170.18, ..., 147.43, 151.94, 187.34],\n",
       "       [260.66,  33.67,  51.44, ..., 107.69,  43.28,  43.87]])"
      ]
     },
     "execution_count": 90,
     "metadata": {},
     "output_type": "execute_result"
    }
   ],
   "source": [
    "# Obtain optimal portfolio sets that maximize return and minimize risk\n",
    "\n",
    "#Dependencies\n",
    "import numpy as np\n",
    "import pandas as pd\n",
    "\n",
    "\n",
    "#input k-portfolio 1 dataset comprising 15 stocks\n",
    "# StockFileName = './DJIA_Apr112014_Apr112019_kpf1.csv'\n",
    "\n",
    "Rows = mvo.shape[0] #number of rows\n",
    "Columns = 39  #excluding date\n",
    "portfolioSize = 39 #set portfolio size\n",
    "\n",
    "#read stock prices in a dataframe\n",
    "# df = pd.read_csv(StockFileName,  nrows= Rows)\n",
    "\n",
    "#extract asset labels\n",
    "# assetLabels = df.columns[1:Columns+1].tolist()\n",
    "# print(assetLabels)\n",
    "\n",
    "#extract asset prices\n",
    "# StockData = df.iloc[0:, 1:]\n",
    "StockData = mvo[mvo.index <= TRAIN_END_DATE]\n",
    "TradeData = mvo[mvo.index > TRADE_START_DATE]\n",
    "# df.head()\n",
    "TradeData.to_numpy()\n"
   ]
  },
  {
   "cell_type": "code",
   "execution_count": 91,
   "metadata": {},
   "outputs": [
    {
     "name": "stdout",
     "output_type": "stream",
     "text": [
      "Mean returns of assets in k-portfolio 1\n",
      " [122.976 418.116 417.719 455.822 422.478 419.928 419.963 422.204 424.512\n",
      " 445.32  466.157 463.877 467.576 464.276 510.045 565.281 597.909]\n",
      "Variance-Covariance matrix of returns\n",
      " [[ 179979.221  -55585.49   -19339.858   18717.624  -67343.626  -53258.683\n",
      "   -32232.567  -58810.921  -68641.766  395875.852  -56577.056    8946.69\n",
      "    25333.047  -25750.54   -77664.207  -23374.798  -46226.791]\n",
      " [ -55585.49  4724977.484 -178300.12   -92096.963  497866.384 -189387.458\n",
      "  -207914.872 -136819.627 -203093.688 -234608.287  310254.088 -177248.135\n",
      "  -135242.442 -156896.438  251388.698 -292983.1   -227706.186]\n",
      " [ -19339.858 -178300.12  4691095.182 -188688.609  -71652.839  462248.406\n",
      "  -189602.656 -208876.995 -137177.322 -213353.718 -238881.258  307561.355\n",
      "  -177564.295 -119751.702 -167910.095  238463.781 -303397.055]\n",
      " [  18717.624  -92096.963 -188688.609 4918135.959 -173796.597  -89653.247\n",
      "   471241.956 -197637.377 -228475.062 -167056.473 -210248.759 -243495.173\n",
      "   288955.984 -216741.365  -91160.752 -225773.61   192021.104]\n",
      " [ -67343.626  497866.384  -71652.839 -173796.597 4722198.569 -150224.788\n",
      "   -80780.834  460223.259 -186801.961 -223593.461 -161935.412 -194105.626\n",
      "  -237345.609 -163371.285 -164230.771 -166038.476 -290537.387]\n",
      " [ -53258.683 -189387.458  462248.406  -89653.247 -150224.788 5061236.909\n",
      "  -149034.629  -77427.511  493224.644 -195476.312 -231384.089 -159391.341\n",
      "  -194492.194 -214373.52  -185505.902 -187086.369 -179774.567]\n",
      " [ -32232.567 -207914.872 -189602.656  471241.956  -80780.834 -149034.629\n",
      "  4823609.459 -150794.26   -80752.042  485586.794 -206619.633 -230638.717\n",
      "  -160704.693 -188885.295 -239234.494 -194124.479 -196610.004]\n",
      " [ -58810.921 -136819.627 -208876.995 -197637.377  460223.259  -77427.511\n",
      "  -150794.26  4680612.115 -151625.788  -91551.042  441006.379 -204265.099\n",
      "  -234845.22  -170516.081 -197777.455 -270917.441 -209351.942]\n",
      " [ -68641.766 -203093.688 -137177.322 -228475.062 -186801.961  493224.644\n",
      "   -80752.042 -151625.788 4773829.728 -161974.959 -101820.134  471314.185\n",
      "  -208068.354 -236080.505 -192419.855 -225720.468 -287767.2  ]\n",
      " [ 395875.852 -234608.287 -213353.718 -167056.473 -223593.461 -195476.312\n",
      "   485586.794  -91551.042 -161974.959 4726089.919 -183673.669 -111077.272\n",
      "   440636.342   22860.407 -273519.021 -200361.295 -198500.242]\n",
      " [ -56577.056  310254.088 -238881.258 -210248.759 -161935.412 -231384.089\n",
      "  -206619.633  441006.379 -101820.134 -183673.669 4909013.537 -186661.251\n",
      "  -122414.333  397893.428   25287.285 -324442.411 -238322.801]\n",
      " [   8946.69  -177248.135  307561.355 -243495.173 -194105.626 -159391.341\n",
      "  -230638.717 -204265.099  471314.185 -111077.272 -186661.251 4741617.606\n",
      "  -188287.122 -138374.736  368391.892    7595.575 -337123.232]\n",
      " [  25333.047 -135242.442 -177564.295  288955.984 -237345.609 -194492.194\n",
      "  -160704.693 -234845.22  -208068.354  440636.342 -122414.333 -188287.122\n",
      "  4767142.537 -179674.107 -168126.229  340424.835  -14483.645]\n",
      " [ -25750.54  -156896.438 -119751.702 -216741.365 -163371.285 -214373.52\n",
      "  -188885.295 -170516.081 -236080.505   22860.407  397893.428 -138374.736\n",
      "  -179674.107 7853685.396 -218929.214  -83828.425  852486.254]\n",
      " [ -77664.207  251388.698 -167910.095  -91160.752 -164230.771 -185505.902\n",
      "  -239234.494 -197777.455 -192419.855 -273519.021   25287.285  368391.892\n",
      "  -168126.229 -218929.214 7326122.226 -287883.891 -139676.906]\n",
      " [ -23374.798 -292983.1    238463.781 -225773.61  -166038.476 -187086.369\n",
      "  -194124.479 -270917.441 -225720.468 -200361.295 -324442.411    7595.575\n",
      "   340424.835  -83828.425 -287883.891 8405567.457 -279274.615]\n",
      " [ -46226.791 -227706.186 -303397.055  192021.104 -290537.387 -179774.567\n",
      "  -196610.004 -209351.942 -287767.2   -198500.242 -238322.801 -337123.232\n",
      "   -14483.645  852486.254 -139676.906 -279274.615 8123503.65 ]]\n"
     ]
    }
   ],
   "source": [
    "#compute asset returns\n",
    "arStockPrices = np.asarray(StockData)\n",
    "[Rows, Cols]=arStockPrices.shape\n",
    "arReturns = StockReturnsComputing(arStockPrices, Rows, Cols)\n",
    "\n",
    "\n",
    "#compute mean returns and variance covariance matrix of returns\n",
    "meanReturns = np.mean(arReturns, axis = 0)\n",
    "covReturns = np.cov(arReturns, rowvar=False)\n",
    " \n",
    "#set precision for printing results\n",
    "np.set_printoptions(precision=3, suppress = True)\n",
    "\n",
    "#display mean returns and variance-covariance matrix of returns\n",
    "print('Mean returns of assets in k-portfolio 1\\n', meanReturns)\n",
    "print('Variance-Covariance matrix of returns\\n', covReturns)\n"
   ]
  },
  {
   "cell_type": "code",
   "execution_count": 92,
   "metadata": {},
   "outputs": [
    {
     "data": {
      "text/plain": [
       "array([400000., 106240., 106780., 103120., 109940.,  99780., 109460.,\n",
       "       112320., 112760.,  77380., 111420., 107720., 109220.,  65560.,\n",
       "        87380.,  86020.,  94880.])"
      ]
     },
     "execution_count": 92,
     "metadata": {},
     "output_type": "execute_result"
    }
   ],
   "source": [
    "from pypfopt.efficient_frontier import EfficientFrontier\n",
    "\n",
    "ef_mean = EfficientFrontier(meanReturns, covReturns, weight_bounds=(0, 0.2))\n",
    "raw_weights_mean = ef_mean.max_sharpe()\n",
    "cleaned_weights_mean = ef_mean.clean_weights()\n",
    "mvo_weights = np.array([2000000 * cleaned_weights_mean[i] for i in range(17)])\n",
    "mvo_weights"
   ]
  },
  {
   "cell_type": "code",
   "execution_count": 93,
   "metadata": {},
   "outputs": [
    {
     "data": {
      "text/html": [
       "<div>\n",
       "<style scoped>\n",
       "    .dataframe tbody tr th:only-of-type {\n",
       "        vertical-align: middle;\n",
       "    }\n",
       "\n",
       "    .dataframe tbody tr th {\n",
       "        vertical-align: top;\n",
       "    }\n",
       "\n",
       "    .dataframe thead th {\n",
       "        text-align: right;\n",
       "    }\n",
       "</style>\n",
       "<table border=\"1\" class=\"dataframe\">\n",
       "  <thead>\n",
       "    <tr style=\"text-align: right;\">\n",
       "      <th></th>\n",
       "      <th>AAPL</th>\n",
       "      <th>AIG</th>\n",
       "      <th>AMD</th>\n",
       "      <th>AMZN</th>\n",
       "      <th>AXP</th>\n",
       "      <th>BA</th>\n",
       "      <th>BAC</th>\n",
       "      <th>C</th>\n",
       "      <th>GE</th>\n",
       "      <th>HBAN</th>\n",
       "      <th>INTC</th>\n",
       "      <th>JNJ</th>\n",
       "      <th>JPM</th>\n",
       "      <th>KEY</th>\n",
       "      <th>MMM</th>\n",
       "      <th>MSFT</th>\n",
       "      <th>NTRS</th>\n",
       "    </tr>\n",
       "  </thead>\n",
       "  <tbody>\n",
       "    <tr>\n",
       "      <th>2018-12-31</th>\n",
       "      <td>60.56</td>\n",
       "      <td>11.92</td>\n",
       "      <td>46.98</td>\n",
       "      <td>129.07</td>\n",
       "      <td>97.74</td>\n",
       "      <td>14.78</td>\n",
       "      <td>190.53</td>\n",
       "      <td>101.66</td>\n",
       "      <td>83.63</td>\n",
       "      <td>116.9</td>\n",
       "      <td>63.08</td>\n",
       "      <td>92.35</td>\n",
       "      <td>45.72</td>\n",
       "      <td>40.74</td>\n",
       "      <td>39.47</td>\n",
       "      <td>39.61</td>\n",
       "      <td>18.83</td>\n",
       "    </tr>\n",
       "  </tbody>\n",
       "</table>\n",
       "</div>"
      ],
      "text/plain": [
       "             AAPL    AIG    AMD    AMZN    AXP     BA     BAC       C     GE  \\\n",
       "2018-12-31  60.56  11.92  46.98  129.07  97.74  14.78  190.53  101.66  83.63   \n",
       "\n",
       "             HBAN   INTC    JNJ    JPM    KEY    MMM   MSFT   NTRS  \n",
       "2018-12-31  116.9  63.08  92.35  45.72  40.74  39.47  39.61  18.83  "
      ]
     },
     "execution_count": 93,
     "metadata": {},
     "output_type": "execute_result"
    }
   ],
   "source": [
    "StockData.tail(1)"
   ]
  },
  {
   "cell_type": "code",
   "execution_count": 94,
   "metadata": {},
   "outputs": [
    {
     "data": {
      "text/plain": [
       "array([6605.02 , 8912.752, 2272.882,  798.946, 1124.821, 6751.015,\n",
       "        574.503, 1104.859, 1348.32 ,  661.933, 1766.328, 1166.432,\n",
       "       2388.889, 1609.229, 2213.833, 2171.674, 5038.768])"
      ]
     },
     "execution_count": 94,
     "metadata": {},
     "output_type": "execute_result"
    }
   ],
   "source": [
    "LastPrice = np.array([1/p for p in StockData.tail(1).to_numpy()[0]])\n",
    "Initial_Portfolio = np.multiply(mvo_weights, LastPrice)\n",
    "Initial_Portfolio"
   ]
  },
  {
   "cell_type": "code",
   "execution_count": 95,
   "metadata": {},
   "outputs": [
    {
     "data": {
      "text/html": [
       "<div>\n",
       "<style scoped>\n",
       "    .dataframe tbody tr th:only-of-type {\n",
       "        vertical-align: middle;\n",
       "    }\n",
       "\n",
       "    .dataframe tbody tr th {\n",
       "        vertical-align: top;\n",
       "    }\n",
       "\n",
       "    .dataframe thead th {\n",
       "        text-align: right;\n",
       "    }\n",
       "</style>\n",
       "<table border=\"1\" class=\"dataframe\">\n",
       "  <thead>\n",
       "    <tr style=\"text-align: right;\">\n",
       "      <th></th>\n",
       "      <th>Mean Var</th>\n",
       "    </tr>\n",
       "  </thead>\n",
       "  <tbody>\n",
       "    <tr>\n",
       "      <th>2019-01-02</th>\n",
       "      <td>3.388481e+06</td>\n",
       "    </tr>\n",
       "    <tr>\n",
       "      <th>2019-01-03</th>\n",
       "      <td>3.633495e+06</td>\n",
       "    </tr>\n",
       "    <tr>\n",
       "      <th>2019-01-04</th>\n",
       "      <td>3.928584e+06</td>\n",
       "    </tr>\n",
       "    <tr>\n",
       "      <th>2019-01-07</th>\n",
       "      <td>4.435870e+06</td>\n",
       "    </tr>\n",
       "    <tr>\n",
       "      <th>2019-01-08</th>\n",
       "      <td>3.823109e+06</td>\n",
       "    </tr>\n",
       "    <tr>\n",
       "      <th>...</th>\n",
       "      <td>...</td>\n",
       "    </tr>\n",
       "    <tr>\n",
       "      <th>2023-12-26</th>\n",
       "      <td>3.925898e+06</td>\n",
       "    </tr>\n",
       "    <tr>\n",
       "      <th>2023-12-27</th>\n",
       "      <td>4.434058e+06</td>\n",
       "    </tr>\n",
       "    <tr>\n",
       "      <th>2023-12-28</th>\n",
       "      <td>6.118631e+06</td>\n",
       "    </tr>\n",
       "    <tr>\n",
       "      <th>2023-12-29</th>\n",
       "      <td>7.482149e+06</td>\n",
       "    </tr>\n",
       "    <tr>\n",
       "      <th>2023-12-30</th>\n",
       "      <td>4.774442e+06</td>\n",
       "    </tr>\n",
       "  </tbody>\n",
       "</table>\n",
       "<p>1296 rows × 1 columns</p>\n",
       "</div>"
      ],
      "text/plain": [
       "                Mean Var\n",
       "2019-01-02  3.388481e+06\n",
       "2019-01-03  3.633495e+06\n",
       "2019-01-04  3.928584e+06\n",
       "2019-01-07  4.435870e+06\n",
       "2019-01-08  3.823109e+06\n",
       "...                  ...\n",
       "2023-12-26  3.925898e+06\n",
       "2023-12-27  4.434058e+06\n",
       "2023-12-28  6.118631e+06\n",
       "2023-12-29  7.482149e+06\n",
       "2023-12-30  4.774442e+06\n",
       "\n",
       "[1296 rows x 1 columns]"
      ]
     },
     "execution_count": 95,
     "metadata": {},
     "output_type": "execute_result"
    }
   ],
   "source": [
    "Portfolio_Assets = TradeData @ Initial_Portfolio\n",
    "MVO_result = pd.DataFrame(Portfolio_Assets, columns=[\"Mean Var\"])\n",
    "MVO_result"
   ]
  },
  {
   "cell_type": "code",
   "execution_count": 96,
   "metadata": {},
   "outputs": [
    {
     "name": "stdout",
     "output_type": "stream",
     "text": [
      "result:                       a2c          ddpg           td3           ppo  \\\n",
      "2019-01-02  2.000000e+06  2.000000e+06  2.000000e+06  2.000000e+06   \n",
      "2019-01-03  1.998399e+06  1.996826e+06  1.998991e+06  1.999935e+06   \n",
      "2019-01-04  2.002421e+06  2.004956e+06  2.001985e+06  2.000125e+06   \n",
      "2019-01-07  2.003245e+06  2.005150e+06  2.003782e+06  2.000254e+06   \n",
      "2019-01-08  2.008205e+06  2.012122e+06  2.003573e+06  2.000402e+06   \n",
      "...                  ...           ...           ...           ...   \n",
      "2023-12-23  1.587683e+06  2.339952e+06  3.105274e+06  2.365011e+06   \n",
      "2023-12-26  1.608800e+06  2.359899e+06  3.136027e+06  2.375933e+06   \n",
      "2023-12-27  1.609220e+06  2.361041e+06  3.156638e+06  2.380551e+06   \n",
      "2023-12-28  1.603328e+06  2.364509e+06  3.173358e+06  2.382067e+06   \n",
      "2023-12-29  1.603106e+06  2.362726e+06  3.153070e+06  2.372341e+06   \n",
      "\n",
      "                     sac           mvo  \n",
      "2019-01-02  2.000000e+06  3.388481e+06  \n",
      "2019-01-03  1.996562e+06  3.633495e+06  \n",
      "2019-01-04  2.005253e+06  3.928584e+06  \n",
      "2019-01-07  2.006832e+06  4.435870e+06  \n",
      "2019-01-08  2.013412e+06  3.823109e+06  \n",
      "...                  ...           ...  \n",
      "2023-12-23  5.358392e+06  4.816386e+06  \n",
      "2023-12-26  5.392388e+06  3.925898e+06  \n",
      "2023-12-27  5.404167e+06  4.434058e+06  \n",
      "2023-12-28  5.431302e+06  6.118631e+06  \n",
      "2023-12-29  5.421414e+06  7.482149e+06  \n",
      "\n",
      "[1295 rows x 6 columns]\n"
     ]
    }
   ],
   "source": [
    "df_result_a2c = df_account_value_a2c.set_index(df_account_value_a2c.columns[0])\n",
    "df_result_ddpg = df_account_value_ddpg.set_index(df_account_value_ddpg.columns[0])\n",
    "df_result_td3 = df_account_value_td3.set_index(df_account_value_td3.columns[0])\n",
    "df_result_ppo = df_account_value_ppo.set_index(df_account_value_ppo.columns[0])\n",
    "df_result_sac = df_account_value_sac.set_index(df_account_value_sac.columns[0])\n",
    "df_account_value_a2c.to_csv(\"df_account_value_a2c.csv\")\n",
    "\n",
    "result = pd.merge(df_result_a2c, df_result_ddpg, left_index=True, right_index=True, suffixes=('_a2c', '_ddpg'))\n",
    "result = pd.merge(result, df_result_td3, left_index=True, right_index=True, suffixes=('', '_td3'))\n",
    "result = pd.merge(result, df_result_ppo, left_index=True, right_index=True, suffixes=('', '_ppo'))\n",
    "result = pd.merge(result, df_result_sac, left_index=True, right_index=True, suffixes=('', '_sac'))\n",
    "result = pd.merge(result, MVO_result, left_index=True, right_index=True, suffixes=('', '_mvo'))\n",
    "result.columns = ['a2c', 'ddpg', 'td3', 'ppo', 'sac', 'mvo']\n",
    "\n",
    "print(\"result: \", result)\n",
    "result.to_csv(\"result.csv\")"
   ]
  },
  {
   "cell_type": "code",
   "execution_count": 97,
   "metadata": {},
   "outputs": [
    {
     "data": {
      "image/png": "[encoded data removed]",
      "text/plain": [
       "<Figure size 1000x600 with 1 Axes>"
      ]
     },
     "metadata": {},
     "output_type": "display_data"
    },
    {
     "data": {
      "image/png": "[encoded data removed]",
      "text/plain": [
       "<Figure size 1000x600 with 1 Axes>"
      ]
     },
     "metadata": {},
     "output_type": "display_data"
    },
    {
     "data": {
      "text/plain": [
       "<Figure size 1500x500 with 0 Axes>"
      ]
     },
     "metadata": {},
     "output_type": "display_data"
    },
    {
     "data": {
      "image/png": "[encoded data removed]",
      "text/plain": [
       "<Figure size 1500x500 with 1 Axes>"
      ]
     },
     "metadata": {},
     "output_type": "display_data"
    }
   ],
   "source": [
    "%matplotlib inline\n",
    "plt.rcParams[\"figure.figsize\"] = (15,5)\n",
    "plt.figure();\n",
    "result.plot();"
   ]
  },
  {
   "cell_type": "code",
   "execution_count": 98,
   "metadata": {},
   "outputs": [
    {
     "name": "stdout",
     "output_type": "stream",
     "text": [
      "      initial_value   final_value  annual_return  sharpe_ratio  max_drawdown\n",
      "a2c    2.000000e+06  1.603106e+06      -7.108190     -0.000021 -1.563998e+06\n",
      "ddpg   2.000000e+06  2.362726e+06       5.712855      0.000025 -1.021089e+06\n",
      "td3    2.000000e+06  3.153070e+06      16.386128      0.000035 -1.629188e+06\n",
      "ppo    2.000000e+06  2.372341e+06       5.856049      0.000030 -7.538686e+05\n",
      "sac    2.000000e+06  5.421414e+06      39.431488      0.000042 -2.148312e+06\n",
      "mvo    3.388481e+06  7.482149e+06      30.218828      0.000028 -5.853874e+06\n"
     ]
    }
   ],
   "source": [
    "# make a table of initial and final value, annual return, sharpe ratio, max drawdown\n",
    "# initial value\n",
    "initial_value = result.iloc[0]\n",
    "# final value\n",
    "final_value = result.iloc[-1]\n",
    "# annual return\n",
    "annual_return = (final_value/initial_value)**(1/3) - 1\n",
    "annual_return = annual_return * 100\n",
    "# sharpe ratio\n",
    "sharpe_ratio = annual_return / result.std()\n",
    "# max drawdown\n",
    "max_drawdown = (result - result.expanding().max()).min()\n",
    "# combine all the metrics\n",
    "metrics = pd.DataFrame([initial_value, final_value, annual_return, sharpe_ratio, max_drawdown], index=['initial_value', 'final_value', 'annual_return', 'sharpe_ratio', 'max_drawdown']).T\n",
    "metrics.to_csv(\"metrics_stoploss_dse.csv\")\n",
    "print(metrics)"
   ]
  },
  {
   "cell_type": "code",
   "execution_count": 99,
   "metadata": {},
   "outputs": [
    {
     "data": {
      "text/html": [
       "<div>\n",
       "<style scoped>\n",
       "    .dataframe tbody tr th:only-of-type {\n",
       "        vertical-align: middle;\n",
       "    }\n",
       "\n",
       "    .dataframe tbody tr th {\n",
       "        vertical-align: top;\n",
       "    }\n",
       "\n",
       "    .dataframe thead th {\n",
       "        text-align: right;\n",
       "    }\n",
       "</style>\n",
       "<table border=\"1\" class=\"dataframe\">\n",
       "  <thead>\n",
       "    <tr style=\"text-align: right;\">\n",
       "      <th></th>\n",
       "      <th>initial_value</th>\n",
       "      <th>final_value</th>\n",
       "      <th>annual_return</th>\n",
       "      <th>sharpe_ratio</th>\n",
       "      <th>max_drawdown</th>\n",
       "    </tr>\n",
       "  </thead>\n",
       "  <tbody>\n",
       "    <tr>\n",
       "      <th>a2c</th>\n",
       "      <td>2000000.0</td>\n",
       "      <td>1.603106e+06</td>\n",
       "      <td>-7.108190</td>\n",
       "      <td>-0.000021</td>\n",
       "      <td>-1.563998e+06</td>\n",
       "    </tr>\n",
       "    <tr>\n",
       "      <th>ddpg</th>\n",
       "      <td>2000000.0</td>\n",
       "      <td>2.362726e+06</td>\n",
       "      <td>5.712855</td>\n",
       "      <td>0.000025</td>\n",
       "      <td>-1.021089e+06</td>\n",
       "    </tr>\n",
       "    <tr>\n",
       "      <th>td3</th>\n",
       "      <td>2000000.0</td>\n",
       "      <td>3.153070e+06</td>\n",
       "      <td>16.386128</td>\n",
       "      <td>0.000035</td>\n",
       "      <td>-1.629188e+06</td>\n",
       "    </tr>\n",
       "    <tr>\n",
       "      <th>ppo</th>\n",
       "      <td>2000000.0</td>\n",
       "      <td>2.372341e+06</td>\n",
       "      <td>5.856049</td>\n",
       "      <td>0.000030</td>\n",
       "      <td>-7.538686e+05</td>\n",
       "    </tr>\n",
       "    <tr>\n",
       "      <th>sac</th>\n",
       "      <td>2000000.0</td>\n",
       "      <td>5.421414e+06</td>\n",
       "      <td>39.431488</td>\n",
       "      <td>0.000042</td>\n",
       "      <td>-2.148312e+06</td>\n",
       "    </tr>\n",
       "  </tbody>\n",
       "</table>\n",
       "</div>"
      ],
      "text/plain": [
       "      initial_value   final_value  annual_return  sharpe_ratio  max_drawdown\n",
       "a2c       2000000.0  1.603106e+06      -7.108190     -0.000021 -1.563998e+06\n",
       "ddpg      2000000.0  2.362726e+06       5.712855      0.000025 -1.021089e+06\n",
       "td3       2000000.0  3.153070e+06      16.386128      0.000035 -1.629188e+06\n",
       "ppo       2000000.0  2.372341e+06       5.856049      0.000030 -7.538686e+05\n",
       "sac       2000000.0  5.421414e+06      39.431488      0.000042 -2.148312e+06"
      ]
     },
     "execution_count": 99,
     "metadata": {},
     "output_type": "execute_result"
    }
   ],
   "source": [
    "metrics.head(  )"
   ]
  },
  {
   "cell_type": "code",
   "execution_count": 100,
   "metadata": {},
   "outputs": [
    {
     "data": {
      "text/html": [
       "<div>\n",
       "<style scoped>\n",
       "    .dataframe tbody tr th:only-of-type {\n",
       "        vertical-align: middle;\n",
       "    }\n",
       "\n",
       "    .dataframe tbody tr th {\n",
       "        vertical-align: top;\n",
       "    }\n",
       "\n",
       "    .dataframe thead th {\n",
       "        text-align: right;\n",
       "    }\n",
       "</style>\n",
       "<table border=\"1\" class=\"dataframe\">\n",
       "  <thead>\n",
       "    <tr style=\"text-align: right;\">\n",
       "      <th></th>\n",
       "      <th>initial_value</th>\n",
       "      <th>final_value</th>\n",
       "      <th>annual_return</th>\n",
       "      <th>sharpe_ratio</th>\n",
       "      <th>max_drawdown</th>\n",
       "    </tr>\n",
       "  </thead>\n",
       "  <tbody>\n",
       "    <tr>\n",
       "      <th>a2c</th>\n",
       "      <td>2.000000e+06</td>\n",
       "      <td>1.603106e+06</td>\n",
       "      <td>-7.108190</td>\n",
       "      <td>-0.000021</td>\n",
       "      <td>-1.563998e+06</td>\n",
       "    </tr>\n",
       "    <tr>\n",
       "      <th>ddpg</th>\n",
       "      <td>2.000000e+06</td>\n",
       "      <td>2.362726e+06</td>\n",
       "      <td>5.712855</td>\n",
       "      <td>0.000025</td>\n",
       "      <td>-1.021089e+06</td>\n",
       "    </tr>\n",
       "    <tr>\n",
       "      <th>td3</th>\n",
       "      <td>2.000000e+06</td>\n",
       "      <td>3.153070e+06</td>\n",
       "      <td>16.386128</td>\n",
       "      <td>0.000035</td>\n",
       "      <td>-1.629188e+06</td>\n",
       "    </tr>\n",
       "    <tr>\n",
       "      <th>ppo</th>\n",
       "      <td>2.000000e+06</td>\n",
       "      <td>2.372341e+06</td>\n",
       "      <td>5.856049</td>\n",
       "      <td>0.000030</td>\n",
       "      <td>-7.538686e+05</td>\n",
       "    </tr>\n",
       "    <tr>\n",
       "      <th>sac</th>\n",
       "      <td>2.000000e+06</td>\n",
       "      <td>5.421414e+06</td>\n",
       "      <td>39.431488</td>\n",
       "      <td>0.000042</td>\n",
       "      <td>-2.148312e+06</td>\n",
       "    </tr>\n",
       "    <tr>\n",
       "      <th>mvo</th>\n",
       "      <td>3.388481e+06</td>\n",
       "      <td>7.482149e+06</td>\n",
       "      <td>30.218828</td>\n",
       "      <td>0.000028</td>\n",
       "      <td>-5.853874e+06</td>\n",
       "    </tr>\n",
       "  </tbody>\n",
       "</table>\n",
       "</div>"
      ],
      "text/plain": [
       "      initial_value   final_value  annual_return  sharpe_ratio  max_drawdown\n",
       "a2c    2.000000e+06  1.603106e+06      -7.108190     -0.000021 -1.563998e+06\n",
       "ddpg   2.000000e+06  2.362726e+06       5.712855      0.000025 -1.021089e+06\n",
       "td3    2.000000e+06  3.153070e+06      16.386128      0.000035 -1.629188e+06\n",
       "ppo    2.000000e+06  2.372341e+06       5.856049      0.000030 -7.538686e+05\n",
       "sac    2.000000e+06  5.421414e+06      39.431488      0.000042 -2.148312e+06\n",
       "mvo    3.388481e+06  7.482149e+06      30.218828      0.000028 -5.853874e+06"
      ]
     },
     "execution_count": 100,
     "metadata": {},
     "output_type": "execute_result"
    }
   ],
   "source": [
    "metrics"
   ]
  },
  {
   "cell_type": "code",
   "execution_count": null,
   "metadata": {},
   "outputs": [],
   "source": []
  }
 ],
 "metadata": {
  "kernelspec": {
   "display_name": "Python 3",
   "language": "python",
   "name": "python3"
  },
  "language_info": {
   "codemirror_mode": {
    "name": "ipython",
    "version": 3
   },
   "file_extension": ".py",
   "mimetype": "text/x-python",
   "name": "python",
   "nbconvert_exporter": "python",
   "pygments_lexer": "ipython3",
   "version": "3.10.6"
  }
 },
 "nbformat": 4,
 "nbformat_minor": 2
}

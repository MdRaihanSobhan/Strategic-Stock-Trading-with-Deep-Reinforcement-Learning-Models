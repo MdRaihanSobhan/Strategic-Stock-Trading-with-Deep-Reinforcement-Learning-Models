{
 "cells": [
  {
   "cell_type": "code",
   "execution_count": 3,
   "metadata": {},
   "outputs": [],
   "source": [
    "import pandas as pd\n",
    "import json\n",
    "import os \n",
    "import sys\n",
    "import csv\n",
    "\n",
    "# plot\n",
    "import matplotlib.pyplot as plt\n",
    "import seaborn as sns"
   ]
  },
  {
   "cell_type": "markdown",
   "metadata": {},
   "source": [
    "### global variables for running the code"
   ]
  },
  {
   "cell_type": "code",
   "execution_count": 4,
   "metadata": {},
   "outputs": [],
   "source": [
    "run_timesteps = 1000"
   ]
  },
  {
   "cell_type": "code",
   "execution_count": 5,
   "metadata": {},
   "outputs": [
    {
     "name": "stdout",
     "output_type": "stream",
     "text": [
      "['A.US_D1.csv', 'AAL.US_D1.csv', 'AAPL.US_D1.csv', 'ABBV.US_D1.csv', 'ABNB.US_D1.csv', 'ABT.US_D1.csv', 'ACGL.US_D1.csv', 'ACN.US_D1.csv', 'ADBE.US_D1.csv', 'ADI.US_D1.csv', 'ADM.US_D1.csv', 'ADP.US_D1.csv', 'ADSK.US_D1.csv', 'AEE.US_D1.csv', 'AEP.US_D1.csv', 'AES.US_D1.csv', 'AFL.US_D1.csv', 'AIG.US_D1.csv', 'AIZ.US_D1.csv', 'AJG.US_D1.csv', 'AKAM.US_D1.csv', 'ALB.US_D1.csv', 'ALGN.US_D1.csv', 'ALL.US_D1.csv', 'ALLE.US_D1.csv', 'AMAT.US_D1.csv', 'AMCR.US_D1.csv', 'AMD.US_D1.csv', 'AME.US_D1.csv', 'AMGN.US_D1.csv', 'AMP.US_D1.csv', 'AMT.US_D1.csv', 'AMZN.US_D1.csv', 'ANET.US_D1.csv', 'ANSS.US_D1.csv', 'AON.US_D1.csv', 'AOS.US_D1.csv', 'APA.US_D1.csv', 'APD.US_D1.csv', 'APH.US_D1.csv', 'APTV.US_D1.csv', 'ARE.US_D1.csv', 'ASML.US_D1.csv', 'ATO.US_D1.csv', 'AVB.US_D1.csv', 'AVGO.US_D1.csv', 'AVY.US_D1.csv', 'AWK.US_D1.csv', 'AXON.US_D1.csv', 'AXP.US_D1.csv', 'AZN.US_D1.csv', 'AZO.US_D1.csv', 'BA.US_D1.csv', 'BAC.US_D1.csv', 'BALL.US_D1.csv', 'BAX.US_D1.csv', 'BBWI.US_D1.csv', 'BBY.US_D1.csv', 'BDX.US_D1.csv', 'BEN.US_D1.csv', 'BF.B.US_D1.csv', 'BG.US_D1.csv', 'BIIB.US_D1.csv', 'BIO.US_D1.csv', 'BK.US_D1.csv', 'BKNG.US_D1.csv', 'BKR.US_D1.csv', 'BLDR.US_D1.csv', 'BLK.US_D1.csv', 'BMY.US_D1.csv', 'BR.US_D1.csv', 'BRK.B.US_D1.csv', 'BRO.US_D1.csv', 'BSX.US_D1.csv', 'BWA.US_D1.csv', 'BX.US_D1.csv', 'BXP.US_D1.csv', 'C.US_D1.csv', 'CAG.US_D1.csv', 'CAH.US_D1.csv', 'CARR.US_D1.csv', 'CAT.US_D1.csv', 'CB.US_D1.csv', 'CBOE.US_D1.csv', 'CBRE.US_D1.csv', 'CCEP.US_D1.csv', 'CCI.US_D1.csv', 'CCL.US_D1.csv', 'CDAY.US_D1.csv', 'CDNS.US_D1.csv', 'CDW.US_D1.csv', 'CE.US_D1.csv', 'CEG.US_D1.csv', 'CF.US_D1.csv', 'CFG.US_D1.csv', 'CHD.US_D1.csv', 'CHRW.US_D1.csv', 'CHTR.US_D1.csv', 'CI.US_D1.csv', 'CINF.US_D1.csv', 'CL.US_D1.csv', 'CLX.US_D1.csv', 'CMA.US_D1.csv', 'CMCSA.US_D1.csv', 'CME.US_D1.csv', 'CMG.US_D1.csv', 'CMI.US_D1.csv', 'CMS.US_D1.csv', 'CNC.US_D1.csv', 'CNP.US_D1.csv', 'COF.US_D1.csv', 'COO.US_D1.csv', 'COP.US_D1.csv', 'COR.US_D1.csv', 'COST.US_D1.csv', 'CPB.US_D1.csv', 'CPRT.US_D1.csv', 'CPT.US_D1.csv', 'CRL.US_D1.csv', 'CRM.US_D1.csv', 'CRWD.US_D1.csv', 'CSCO.US_D1.csv', 'CSGP.US_D1.csv', 'CSX.US_D1.csv', 'CTAS.US_D1.csv', 'CTLT.US_D1.csv', 'CTRA.US_D1.csv', 'CTSH.US_D1.csv', 'CTVA.US_D1.csv', 'CVS.US_D1.csv', 'CVX.US_D1.csv', 'CZR.US_D1.csv', 'D.US_D1.csv', 'DAL.US_D1.csv', 'DASH.US_D1.csv', 'DD.US_D1.csv', 'DDOG.US_D1.csv', 'DE.US_D1.csv', 'DFS.US_D1.csv', 'DG.US_D1.csv', 'DGX.US_D1.csv', 'DHI.US_D1.csv', 'DHR.US_D1.csv', 'DIS.US_D1.csv', 'DLR.US_D1.csv', 'DLTR.US_D1.csv', 'DOV.US_D1.csv', 'DOW.US_D1.csv', 'DPZ.US_D1.csv', 'DRI.US_D1.csv', 'DTE.US_D1.csv', 'DUK.US_D1.csv', 'DVA.US_D1.csv', 'DVN.US_D1.csv', 'DXCM.US_D1.csv', 'EA.US_D1.csv', 'EBAY.US_D1.csv', 'ECL.US_D1.csv', 'ED.US_D1.csv', 'EFX.US_D1.csv', 'EG.US_D1.csv', 'EIX.US_D1.csv', 'EL.US_D1.csv', 'ELV.US_D1.csv', 'EMN.US_D1.csv', 'EMR.US_D1.csv', 'ENPH.US_D1.csv', 'EOG.US_D1.csv', 'EPAM.US_D1.csv', 'EQIX.US_D1.csv', 'EQR.US_D1.csv', 'EQT.US_D1.csv', 'ES.US_D1.csv', 'ESS.US_D1.csv', 'ETN.US_D1.csv', 'ETR.US_D1.csv', 'ETSY.US_D1.csv', 'EVRG.US_D1.csv', 'EW.US_D1.csv', 'EXC.US_D1.csv', 'EXPD.US_D1.csv', 'EXPE.US_D1.csv', 'EXR.US_D1.csv', 'F.US_D1.csv', 'FANG.US_D1.csv', 'FAST.US_D1.csv', 'FCX.US_D1.csv', 'FDS.US_D1.csv', 'FDX.US_D1.csv', 'FE.US_D1.csv', 'FFIV.US_D1.csv', 'FI.US_D1.csv', 'FICO.US_D1.csv', 'FIS.US_D1.csv', 'FITB.US_D1.csv', 'FLT.US_D1.csv', 'FMC.US_D1.csv', 'FOX.US_D1.csv', 'FOXA.US_D1.csv', 'FRT.US_D1.csv', 'FSLR.US_D1.csv', 'FTNT.US_D1.csv', 'FTV.US_D1.csv', 'GD.US_D1.csv', 'GE.US_D1.csv', 'GEHC.US_D1.csv', 'GEN.US_D1.csv', 'GFS.US_D1.csv', 'GILD.US_D1.csv', 'GIS.US_D1.csv', 'GL.US_D1.csv', 'GLW.US_D1.csv', 'GM.US_D1.csv', 'GNRC.US_D1.csv', 'GOOG.US_D1.csv', 'GOOGL.US_D1.csv', 'GPC.US_D1.csv', 'GPN.US_D1.csv', 'GRMN.US_D1.csv', 'GS.US_D1.csv', 'GWW.US_D1.csv', 'HAL.US_D1.csv', 'HAS.US_D1.csv', 'HBAN.US_D1.csv', 'HCA.US_D1.csv', 'HD.US_D1.csv', 'HES.US_D1.csv', 'HIG.US_D1.csv', 'HII.US_D1.csv', 'HLT.US_D1.csv', 'HOLX.US_D1.csv', 'HON.US_D1.csv', 'HPE.US_D1.csv', 'HPQ.US_D1.csv', 'HRL.US_D1.csv', 'HSIC.US_D1.csv', 'HST.US_D1.csv', 'HSY.US_D1.csv', 'HUBB.US_D1.csv', 'HUM.US_D1.csv', 'HWM.US_D1.csv', 'IBM.US_D1.csv', 'ICE.US_D1.csv', 'IDXX.US_D1.csv', 'IEX.US_D1.csv', 'IFF.US_D1.csv', 'ILMN.US_D1.csv', 'INCY.US_D1.csv', 'INTC.US_D1.csv', 'INTU.US_D1.csv', 'INVH.US_D1.csv', 'IP.US_D1.csv', 'IPG.US_D1.csv', 'IQV.US_D1.csv', 'IR.US_D1.csv', 'IRM.US_D1.csv', 'ISRG.US_D1.csv', 'IT.US_D1.csv', 'ITW.US_D1.csv', 'IVZ.US_D1.csv', 'J.US_D1.csv', 'JBHT.US_D1.csv', 'JBL.US_D1.csv', 'JCI.US_D1.csv', 'JKHY.US_D1.csv', 'JNJ.US_D1.csv', 'JNPR.US_D1.csv', 'JPM.US_D1.csv', 'K.US_D1.csv', 'KDP.US_D1.csv', 'KEY.US_D1.csv', 'KEYS.US_D1.csv', 'KHC.US_D1.csv', 'KIM.US_D1.csv', 'KLAC.US_D1.csv', 'KMB.US_D1.csv', 'KMI.US_D1.csv', 'KMX.US_D1.csv', 'KO.US_D1.csv', 'KR.US_D1.csv', 'KVUE.US_D1.csv', 'L.US_D1.csv', 'LDOS.US_D1.csv', 'LEN.US_D1.csv', 'LH.US_D1.csv', 'LHX.US_D1.csv', 'LIN.US_D1.csv', 'LKQ.US_D1.csv', 'LLY.US_D1.csv', 'LMT.US_D1.csv', 'LNT.US_D1.csv', 'LOW.US_D1.csv', 'LRCX.US_D1.csv', 'LULU.US_D1.csv', 'LUV.US_D1.csv', 'LVS.US_D1.csv', 'LW.US_D1.csv', 'LYB.US_D1.csv', 'LYV.US_D1.csv', 'MA.US_D1.csv', 'MAA.US_D1.csv', 'MAR.US_D1.csv', 'MAS.US_D1.csv', 'MCD.US_D1.csv', 'MCHP.US_D1.csv', 'MCK.US_D1.csv', 'MCO.US_D1.csv', 'MDB.US_D1.csv', 'MDLZ.US_D1.csv', 'MDT.US_D1.csv', 'MELI.US_D1.csv', 'MET.US_D1.csv', 'META.US_D1.csv', 'MGM.US_D1.csv', 'MHK.US_D1.csv', 'MKC.US_D1.csv', 'MKTX.US_D1.csv', 'MLM.US_D1.csv', 'MMC.US_D1.csv', 'MMM.US_D1.csv', 'MNST.US_D1.csv', 'MO.US_D1.csv', 'MOH.US_D1.csv', 'MOS.US_D1.csv', 'MPC.US_D1.csv', 'MPWR.US_D1.csv', 'MRK.US_D1.csv', 'MRNA.US_D1.csv', 'MRO.US_D1.csv', 'MRVL.US_D1.csv', 'MS.US_D1.csv', 'MSCI.US_D1.csv', 'MSFT.US_D1.csv', 'MSI.US_D1.csv', 'MTB.US_D1.csv', 'MTCH.US_D1.csv', 'MTD.US_D1.csv', 'MU.US_D1.csv', 'NCLH.US_D1.csv', 'NDAQ.US_D1.csv', 'NDSN.US_D1.csv', 'NEE.US_D1.csv', 'NEM.US_D1.csv', 'NFLX.US_D1.csv', 'NI.US_D1.csv', 'NKE.US_D1.csv', 'NOC.US_D1.csv', 'NOW.US_D1.csv', 'NRG.US_D1.csv', 'NSC.US_D1.csv', 'NTAP.US_D1.csv', 'NTRS.US_D1.csv', 'NUE.US_D1.csv', 'NVDA.US_D1.csv', 'NVR.US_D1.csv', 'NWS.US_D1.csv', 'NWSA.US_D1.csv', 'NXPI.US_D1.csv', 'O.US_D1.csv', 'ODFL.US_D1.csv', 'OKE.US_D1.csv', 'OMC.US_D1.csv', 'ON.US_D1.csv', 'ORCL.US_D1.csv', 'ORLY.US_D1.csv', 'OTIS.US_D1.csv', 'OXY.US_D1.csv', 'PANW.US_D1.csv', 'PARA.US_D1.csv', 'PAYC.US_D1.csv', 'PAYX.US_D1.csv', 'PCAR.US_D1.csv', 'PCG.US_D1.csv', 'PDD.US_D1.csv', 'PEAK.US_D1.csv', 'PEG.US_D1.csv', 'PEP.US_D1.csv', 'PFE.US_D1.csv', 'PFG.US_D1.csv', 'PG.US_D1.csv', 'PGR.US_D1.csv', 'PH.US_D1.csv', 'PHM.US_D1.csv', 'PKG.US_D1.csv', 'PLD.US_D1.csv', 'PM.US_D1.csv', 'PNC.US_D1.csv', 'PNR.US_D1.csv', 'PNW.US_D1.csv', 'PODD.US_D1.csv', 'POOL.US_D1.csv', 'PPG.US_D1.csv', 'PPL.US_D1.csv', 'PRU.US_D1.csv', 'PSA.US_D1.csv', 'PSX.US_D1.csv', 'PTC.US_D1.csv', 'PWR.US_D1.csv', 'PXD.US_D1.csv', 'PYPL.US_D1.csv', 'QCOM.US_D1.csv', 'QRVO.US_D1.csv', 'RCL.US_D1.csv', 'REG.US_D1.csv', 'REGN.US_D1.csv', 'RF.US_D1.csv', 'RHI.US_D1.csv', 'RJF.US_D1.csv', 'RL.US_D1.csv', 'RMD.US_D1.csv', 'ROK.US_D1.csv', 'ROL.US_D1.csv', 'ROP.US_D1.csv', 'ROST.US_D1.csv', 'RSG.US_D1.csv', 'RTX.US_D1.csv', 'RVTY.US_D1.csv', 'SBAC.US_D1.csv', 'SBUX.US_D1.csv', 'SCHW.US_D1.csv', 'SHW.US_D1.csv', 'SIRI.US_D1.csv', 'SJM.US_D1.csv', 'SLB.US_D1.csv', 'SNA.US_D1.csv', 'SNPS.US_D1.csv', 'SO.US_D1.csv', 'SPG.US_D1.csv', 'SPGI.US_D1.csv', 'SPLK.US_D1.csv', 'SRE.US_D1.csv', 'STE.US_D1.csv', 'STLD.US_D1.csv', 'STT.US_D1.csv', 'STX.US_D1.csv', 'STZ.US_D1.csv', 'SWK.US_D1.csv', 'SWKS.US_D1.csv', 'SYF.US_D1.csv', 'SYK.US_D1.csv', 'SYY.US_D1.csv', 'T.US_D1.csv', 'TAP.US_D1.csv', 'TDG.US_D1.csv', 'TDY.US_D1.csv', 'TEAM.US_D1.csv', 'TECH.US_D1.csv', 'TEL.US_D1.csv', 'TER.US_D1.csv', 'TFC.US_D1.csv', 'TFX.US_D1.csv', 'TGT.US_D1.csv', 'TJX.US_D1.csv', 'TMO.US_D1.csv', 'TMUS.US_D1.csv', 'TPR.US_D1.csv', 'TRGP.US_D1.csv', 'TRMB.US_D1.csv', 'TROW.US_D1.csv', 'TRV.US_D1.csv', 'TSCO.US_D1.csv', 'TSLA.US_D1.csv', 'TSN.US_D1.csv', 'TT.US_D1.csv', 'TTD.US_D1.csv', 'TTWO.US_D1.csv', 'TXN.US_D1.csv', 'TXT.US_D1.csv', 'TYL.US_D1.csv', 'UAL.US_D1.csv', 'UBER.US_D1.csv', 'UDR.US_D1.csv', 'UHS.US_D1.csv', 'ULTA.US_D1.csv', 'UNH.US_D1.csv', 'UNP.US_D1.csv', 'UPS.US_D1.csv', 'URI.US_D1.csv', 'USB.US_D1.csv', 'V.US_D1.csv', 'VFC.US_D1.csv', 'VICI.US_D1.csv', 'VLO.US_D1.csv', 'VMC.US_D1.csv', 'VRSK.US_D1.csv', 'VRSN.US_D1.csv', 'VRTX.US_D1.csv', 'VTR.US_D1.csv', 'VTRS.US_D1.csv', 'VZ.US_D1.csv', 'WAB.US_D1.csv', 'WAT.US_D1.csv', 'WBA.US_D1.csv', 'WBD.US_D1.csv', 'WDAY.US_D1.csv', 'WDC.US_D1.csv', 'WEC.US_D1.csv', 'WELL.US_D1.csv', 'WFC.US_D1.csv', 'WHR.US_D1.csv', 'WM.US_D1.csv', 'WMB.US_D1.csv', 'WMT.US_D1.csv', 'WRB.US_D1.csv', 'WRK.US_D1.csv', 'WST.US_D1.csv', 'WTW.US_D1.csv', 'WY.US_D1.csv', 'WYNN.US_D1.csv', 'XEL.US_D1.csv', 'XOM.US_D1.csv', 'XRAY.US_D1.csv', 'XYL.US_D1.csv', 'YUM.US_D1.csv', 'ZBH.US_D1.csv', 'ZBRA.US_D1.csv', 'ZION.US_D1.csv', 'ZS.US_D1.csv', 'ZTS.US_D1.csv']\n"
     ]
    }
   ],
   "source": [
    "# dir = os.path.join('dataset', 'kaggle-dse')\n",
    "# dir = r\"/Users/md.raihansobhan/Desktop/BUET/4-2 Sessionals/CSE 472 | ML/online_class/Strategic-Stock-Trading-with-Deep-Reinforcement-Learning-Models/datasets/NIFTY\"\n",
    "\n",
    "if os.name == 'nt':  # Windows\n",
    "    dir = r\"D:\\Academics\\4-2\\19 Batch\\Sessionals\\CSE 472\\Project\\1905095_1905115\\Github\\Strategic-Stock-Trading-with-Deep-Reinforcement-Learning-Models\\datasets\\SNP_500\\D1\"\n",
    "else:  # macOS/Linux\n",
    "    dir = r\"/Users/md.raihansobhan/Desktop/BUET/4-2 Sessionals/CSE 472 | ML/online_class/Strategic-Stock-Trading-with-Deep-Reinforcement-Learning-Models/datasets/SNP_500/D1\"\n",
    "\n",
    "\n",
    "files = os.listdir(dir)\n",
    "files.sort()\n",
    "files = [f for f in files if f not in ['sp500_companies.csv', 'sp500_index.csv']]\n",
    "print(files)"
   ]
  },
  {
   "cell_type": "code",
   "execution_count": 6,
   "metadata": {},
   "outputs": [
    {
     "name": "stdout",
     "output_type": "stream",
     "text": [
      "All files processed successfully.\n"
     ]
    }
   ],
   "source": [
    "\n",
    "# Determine input directory based on the operating system\n",
    "if os.name == 'nt':  # Windows\n",
    "    input_dir = r\"D:\\Academics\\4-2\\19 Batch\\Sessionals\\CSE 472\\Project\\1905095_1905115\\Github\\Strategic-Stock-Trading-with-Deep-Reinforcement-Learning-Models\\datasets\\SNP_500\\D1\"\n",
    "else:  # macOS/Linux\n",
    "    input_dir = r\"/Users/md.raihansobhan/Desktop/BUET/4-2 Sessionals/CSE 472 | ML/online_class/Strategic-Stock-Trading-with-Deep-Reinforcement-Learning-Models/datasets/SNP_500/D1\"  # Replace with the actual path\n",
    "\n",
    "\n",
    "# List all CSV files in the input directory\n",
    "files = [f for f in os.listdir(input_dir) if f.endswith('.csv')]\n",
    "\n",
    "# Create a folder named 'D1_Modified' if it doesn't exist\n",
    "output_dir = os.path.join(input_dir, 'D1_Modified')\n",
    "if not os.path.exists(output_dir):\n",
    "    os.makedirs(output_dir)\n",
    "\n",
    "# Process each file\n",
    "for file_name in files:\n",
    "    try:\n",
    "        # Extract the company symbol from the file name\n",
    "        symbol = file_name.split('.')[0]  # Extract everything before the first dot\n",
    "        \n",
    "        # Load the CSV file\n",
    "        file_path = os.path.join(input_dir, file_name)\n",
    "        df = pd.read_csv(file_path)\n",
    "        \n",
    "        # Add the 'Symbol' column\n",
    "        df['Symbol'] = symbol\n",
    "\n",
    "        # Save the updated CSV to the output folder\n",
    "        output_path = os.path.join(output_dir, file_name)\n",
    "        df.to_csv(output_path, index=False)\n",
    "\n",
    "    except FileNotFoundError as e:\n",
    "        print(f\"Error: {e}\")\n",
    "    except Exception as e:\n",
    "        print(f\"An unexpected error occurred for file {file_name}: {e}\")\n",
    "\n",
    "print(\"All files processed successfully.\")\n"
   ]
  },
  {
   "cell_type": "code",
   "execution_count": 7,
   "metadata": {},
   "outputs": [
    {
     "data": {
      "text/plain": [
       "519"
      ]
     },
     "execution_count": 7,
     "metadata": {},
     "output_type": "execute_result"
    }
   ],
   "source": [
    "# List to store the data from all CSV files\n",
    "data = []\n",
    "\n",
    "if os.name == 'nt':  # Windows\n",
    "    dir = r\"D:\\Academics\\4-2\\19 Batch\\Sessionals\\CSE 472\\Project\\1905095_1905115\\Github\\Strategic-Stock-Trading-with-Deep-Reinforcement-Learning-Models\\datasets\\SNP_500\\D1\\D1_Modified\"\n",
    "else:  # macOS/Linux\n",
    "    dir = r\"/Users/md.raihansobhan/Desktop/BUET/4-2 Sessionals/CSE 472 | ML/online_class/Strategic-Stock-Trading-with-Deep-Reinforcement-Learning-Models/datasets/SNP_500/D1/D1_Modified\"  # Replace with the actual path\n",
    "\n",
    "# Loop through the files\n",
    "for f in files:\n",
    "    # Load each CSV file into a DataFrame and append to the list\n",
    "    file_path = os.path.join(dir, f)\n",
    "    data.append(pd.read_csv(file_path))\n",
    "\n",
    "# Check the number of loaded CSV files\n",
    "len(data)"
   ]
  },
  {
   "cell_type": "code",
   "execution_count": 8,
   "metadata": {},
   "outputs": [],
   "source": [
    "# convert to pandas dataframe\n",
    "dfs = []\n",
    "for i in range(1,len(data)):\n",
    "    dfs.append(pd.DataFrame(data[i]))\n",
    "df = pd.concat(dfs)"
   ]
  },
  {
   "cell_type": "code",
   "execution_count": 9,
   "metadata": {},
   "outputs": [
    {
     "data": {
      "text/plain": [
       "(2789187, 7)"
      ]
     },
     "execution_count": 9,
     "metadata": {},
     "output_type": "execute_result"
    }
   ],
   "source": [
    "df.shape"
   ]
  },
  {
   "cell_type": "code",
   "execution_count": 10,
   "metadata": {},
   "outputs": [
    {
     "data": {
      "text/html": [
       "<div>\n",
       "<style scoped>\n",
       "    .dataframe tbody tr th:only-of-type {\n",
       "        vertical-align: middle;\n",
       "    }\n",
       "\n",
       "    .dataframe tbody tr th {\n",
       "        vertical-align: top;\n",
       "    }\n",
       "\n",
       "    .dataframe thead th {\n",
       "        text-align: right;\n",
       "    }\n",
       "</style>\n",
       "<table border=\"1\" class=\"dataframe\">\n",
       "  <thead>\n",
       "    <tr style=\"text-align: right;\">\n",
       "      <th></th>\n",
       "      <th>datetime</th>\n",
       "      <th>open</th>\n",
       "      <th>high</th>\n",
       "      <th>low</th>\n",
       "      <th>close</th>\n",
       "      <th>volume</th>\n",
       "      <th>Symbol</th>\n",
       "    </tr>\n",
       "  </thead>\n",
       "  <tbody>\n",
       "    <tr>\n",
       "      <th>0</th>\n",
       "      <td>2013-12-09</td>\n",
       "      <td>23.90</td>\n",
       "      <td>25.44</td>\n",
       "      <td>23.45</td>\n",
       "      <td>24.96</td>\n",
       "      <td>20698322</td>\n",
       "      <td>AAL</td>\n",
       "    </tr>\n",
       "    <tr>\n",
       "      <th>1</th>\n",
       "      <td>2013-12-10</td>\n",
       "      <td>24.53</td>\n",
       "      <td>25.17</td>\n",
       "      <td>24.41</td>\n",
       "      <td>24.88</td>\n",
       "      <td>16285283</td>\n",
       "      <td>AAL</td>\n",
       "    </tr>\n",
       "    <tr>\n",
       "      <th>2</th>\n",
       "      <td>2013-12-11</td>\n",
       "      <td>25.44</td>\n",
       "      <td>27.19</td>\n",
       "      <td>25.37</td>\n",
       "      <td>25.99</td>\n",
       "      <td>31194241</td>\n",
       "      <td>AAL</td>\n",
       "    </tr>\n",
       "    <tr>\n",
       "      <th>3</th>\n",
       "      <td>2013-12-12</td>\n",
       "      <td>26.20</td>\n",
       "      <td>26.72</td>\n",
       "      <td>25.45</td>\n",
       "      <td>25.50</td>\n",
       "      <td>19006600</td>\n",
       "      <td>AAL</td>\n",
       "    </tr>\n",
       "    <tr>\n",
       "      <th>4</th>\n",
       "      <td>2013-12-13</td>\n",
       "      <td>25.61</td>\n",
       "      <td>26.31</td>\n",
       "      <td>25.52</td>\n",
       "      <td>26.30</td>\n",
       "      <td>10829193</td>\n",
       "      <td>AAL</td>\n",
       "    </tr>\n",
       "    <tr>\n",
       "      <th>...</th>\n",
       "      <td>...</td>\n",
       "      <td>...</td>\n",
       "      <td>...</td>\n",
       "      <td>...</td>\n",
       "      <td>...</td>\n",
       "      <td>...</td>\n",
       "      <td>...</td>\n",
       "    </tr>\n",
       "    <tr>\n",
       "      <th>2839</th>\n",
       "      <td>2024-03-08</td>\n",
       "      <td>181.59</td>\n",
       "      <td>182.98</td>\n",
       "      <td>179.84</td>\n",
       "      <td>182.53</td>\n",
       "      <td>5194409</td>\n",
       "      <td>ZTS</td>\n",
       "    </tr>\n",
       "    <tr>\n",
       "      <th>2840</th>\n",
       "      <td>2024-03-09</td>\n",
       "      <td>182.52</td>\n",
       "      <td>182.53</td>\n",
       "      <td>182.13</td>\n",
       "      <td>182.16</td>\n",
       "      <td>611363</td>\n",
       "      <td>ZTS</td>\n",
       "    </tr>\n",
       "    <tr>\n",
       "      <th>2841</th>\n",
       "      <td>2024-03-11</td>\n",
       "      <td>182.62</td>\n",
       "      <td>183.99</td>\n",
       "      <td>180.42</td>\n",
       "      <td>183.49</td>\n",
       "      <td>2648357</td>\n",
       "      <td>ZTS</td>\n",
       "    </tr>\n",
       "    <tr>\n",
       "      <th>2842</th>\n",
       "      <td>2024-03-12</td>\n",
       "      <td>183.65</td>\n",
       "      <td>183.83</td>\n",
       "      <td>180.94</td>\n",
       "      <td>181.35</td>\n",
       "      <td>1931447</td>\n",
       "      <td>ZTS</td>\n",
       "    </tr>\n",
       "    <tr>\n",
       "      <th>2843</th>\n",
       "      <td>2024-03-13</td>\n",
       "      <td>181.60</td>\n",
       "      <td>182.97</td>\n",
       "      <td>175.99</td>\n",
       "      <td>176.23</td>\n",
       "      <td>4130104</td>\n",
       "      <td>ZTS</td>\n",
       "    </tr>\n",
       "  </tbody>\n",
       "</table>\n",
       "<p>2789187 rows × 7 columns</p>\n",
       "</div>"
      ],
      "text/plain": [
       "        datetime    open    high     low   close    volume Symbol\n",
       "0     2013-12-09   23.90   25.44   23.45   24.96  20698322    AAL\n",
       "1     2013-12-10   24.53   25.17   24.41   24.88  16285283    AAL\n",
       "2     2013-12-11   25.44   27.19   25.37   25.99  31194241    AAL\n",
       "3     2013-12-12   26.20   26.72   25.45   25.50  19006600    AAL\n",
       "4     2013-12-13   25.61   26.31   25.52   26.30  10829193    AAL\n",
       "...          ...     ...     ...     ...     ...       ...    ...\n",
       "2839  2024-03-08  181.59  182.98  179.84  182.53   5194409    ZTS\n",
       "2840  2024-03-09  182.52  182.53  182.13  182.16    611363    ZTS\n",
       "2841  2024-03-11  182.62  183.99  180.42  183.49   2648357    ZTS\n",
       "2842  2024-03-12  183.65  183.83  180.94  181.35   1931447    ZTS\n",
       "2843  2024-03-13  181.60  182.97  175.99  176.23   4130104    ZTS\n",
       "\n",
       "[2789187 rows x 7 columns]"
      ]
     },
     "execution_count": 10,
     "metadata": {},
     "output_type": "execute_result"
    }
   ],
   "source": [
    "df"
   ]
  },
  {
   "cell_type": "code",
   "execution_count": 11,
   "metadata": {},
   "outputs": [],
   "source": [
    "df.rename(columns={'datetime':'date', 'Symbol': 'tic'}, inplace=True)\n"
   ]
  },
  {
   "cell_type": "code",
   "execution_count": 12,
   "metadata": {},
   "outputs": [
    {
     "data": {
      "text/html": [
       "<div>\n",
       "<style scoped>\n",
       "    .dataframe tbody tr th:only-of-type {\n",
       "        vertical-align: middle;\n",
       "    }\n",
       "\n",
       "    .dataframe tbody tr th {\n",
       "        vertical-align: top;\n",
       "    }\n",
       "\n",
       "    .dataframe thead th {\n",
       "        text-align: right;\n",
       "    }\n",
       "</style>\n",
       "<table border=\"1\" class=\"dataframe\">\n",
       "  <thead>\n",
       "    <tr style=\"text-align: right;\">\n",
       "      <th></th>\n",
       "      <th>date</th>\n",
       "      <th>open</th>\n",
       "      <th>high</th>\n",
       "      <th>low</th>\n",
       "      <th>close</th>\n",
       "      <th>volume</th>\n",
       "      <th>tic</th>\n",
       "    </tr>\n",
       "  </thead>\n",
       "  <tbody>\n",
       "    <tr>\n",
       "      <th>0</th>\n",
       "      <td>2013-12-09</td>\n",
       "      <td>23.90</td>\n",
       "      <td>25.44</td>\n",
       "      <td>23.45</td>\n",
       "      <td>24.96</td>\n",
       "      <td>20698322</td>\n",
       "      <td>AAL</td>\n",
       "    </tr>\n",
       "    <tr>\n",
       "      <th>1</th>\n",
       "      <td>2013-12-10</td>\n",
       "      <td>24.53</td>\n",
       "      <td>25.17</td>\n",
       "      <td>24.41</td>\n",
       "      <td>24.88</td>\n",
       "      <td>16285283</td>\n",
       "      <td>AAL</td>\n",
       "    </tr>\n",
       "    <tr>\n",
       "      <th>2</th>\n",
       "      <td>2013-12-11</td>\n",
       "      <td>25.44</td>\n",
       "      <td>27.19</td>\n",
       "      <td>25.37</td>\n",
       "      <td>25.99</td>\n",
       "      <td>31194241</td>\n",
       "      <td>AAL</td>\n",
       "    </tr>\n",
       "    <tr>\n",
       "      <th>3</th>\n",
       "      <td>2013-12-12</td>\n",
       "      <td>26.20</td>\n",
       "      <td>26.72</td>\n",
       "      <td>25.45</td>\n",
       "      <td>25.50</td>\n",
       "      <td>19006600</td>\n",
       "      <td>AAL</td>\n",
       "    </tr>\n",
       "    <tr>\n",
       "      <th>4</th>\n",
       "      <td>2013-12-13</td>\n",
       "      <td>25.61</td>\n",
       "      <td>26.31</td>\n",
       "      <td>25.52</td>\n",
       "      <td>26.30</td>\n",
       "      <td>10829193</td>\n",
       "      <td>AAL</td>\n",
       "    </tr>\n",
       "    <tr>\n",
       "      <th>...</th>\n",
       "      <td>...</td>\n",
       "      <td>...</td>\n",
       "      <td>...</td>\n",
       "      <td>...</td>\n",
       "      <td>...</td>\n",
       "      <td>...</td>\n",
       "      <td>...</td>\n",
       "    </tr>\n",
       "    <tr>\n",
       "      <th>2839</th>\n",
       "      <td>2024-03-08</td>\n",
       "      <td>181.59</td>\n",
       "      <td>182.98</td>\n",
       "      <td>179.84</td>\n",
       "      <td>182.53</td>\n",
       "      <td>5194409</td>\n",
       "      <td>ZTS</td>\n",
       "    </tr>\n",
       "    <tr>\n",
       "      <th>2840</th>\n",
       "      <td>2024-03-09</td>\n",
       "      <td>182.52</td>\n",
       "      <td>182.53</td>\n",
       "      <td>182.13</td>\n",
       "      <td>182.16</td>\n",
       "      <td>611363</td>\n",
       "      <td>ZTS</td>\n",
       "    </tr>\n",
       "    <tr>\n",
       "      <th>2841</th>\n",
       "      <td>2024-03-11</td>\n",
       "      <td>182.62</td>\n",
       "      <td>183.99</td>\n",
       "      <td>180.42</td>\n",
       "      <td>183.49</td>\n",
       "      <td>2648357</td>\n",
       "      <td>ZTS</td>\n",
       "    </tr>\n",
       "    <tr>\n",
       "      <th>2842</th>\n",
       "      <td>2024-03-12</td>\n",
       "      <td>183.65</td>\n",
       "      <td>183.83</td>\n",
       "      <td>180.94</td>\n",
       "      <td>181.35</td>\n",
       "      <td>1931447</td>\n",
       "      <td>ZTS</td>\n",
       "    </tr>\n",
       "    <tr>\n",
       "      <th>2843</th>\n",
       "      <td>2024-03-13</td>\n",
       "      <td>181.60</td>\n",
       "      <td>182.97</td>\n",
       "      <td>175.99</td>\n",
       "      <td>176.23</td>\n",
       "      <td>4130104</td>\n",
       "      <td>ZTS</td>\n",
       "    </tr>\n",
       "  </tbody>\n",
       "</table>\n",
       "<p>2789187 rows × 7 columns</p>\n",
       "</div>"
      ],
      "text/plain": [
       "            date    open    high     low   close    volume  tic\n",
       "0     2013-12-09   23.90   25.44   23.45   24.96  20698322  AAL\n",
       "1     2013-12-10   24.53   25.17   24.41   24.88  16285283  AAL\n",
       "2     2013-12-11   25.44   27.19   25.37   25.99  31194241  AAL\n",
       "3     2013-12-12   26.20   26.72   25.45   25.50  19006600  AAL\n",
       "4     2013-12-13   25.61   26.31   25.52   26.30  10829193  AAL\n",
       "...          ...     ...     ...     ...     ...       ...  ...\n",
       "2839  2024-03-08  181.59  182.98  179.84  182.53   5194409  ZTS\n",
       "2840  2024-03-09  182.52  182.53  182.13  182.16    611363  ZTS\n",
       "2841  2024-03-11  182.62  183.99  180.42  183.49   2648357  ZTS\n",
       "2842  2024-03-12  183.65  183.83  180.94  181.35   1931447  ZTS\n",
       "2843  2024-03-13  181.60  182.97  175.99  176.23   4130104  ZTS\n",
       "\n",
       "[2789187 rows x 7 columns]"
      ]
     },
     "execution_count": 12,
     "metadata": {},
     "output_type": "execute_result"
    }
   ],
   "source": [
    "df "
   ]
  },
  {
   "cell_type": "code",
   "execution_count": 13,
   "metadata": {},
   "outputs": [
    {
     "data": {
      "text/plain": [
       "(2789187, 7)"
      ]
     },
     "execution_count": 13,
     "metadata": {},
     "output_type": "execute_result"
    }
   ],
   "source": [
    "df.shape"
   ]
  },
  {
   "cell_type": "code",
   "execution_count": 14,
   "metadata": {},
   "outputs": [
    {
     "data": {
      "text/plain": [
       "(2789187, 7)"
      ]
     },
     "execution_count": 14,
     "metadata": {},
     "output_type": "execute_result"
    }
   ],
   "source": [
    "# count the unique values in the column\n",
    "df = df.drop_duplicates(subset=['date', 'tic'])\n",
    "df.shape"
   ]
  },
  {
   "cell_type": "code",
   "execution_count": 15,
   "metadata": {},
   "outputs": [
    {
     "data": {
      "text/plain": [
       "(2789187, 7)"
      ]
     },
     "execution_count": 15,
     "metadata": {},
     "output_type": "execute_result"
    }
   ],
   "source": [
    "df = df.dropna(subset=['date', 'tic'])\n",
    "df.shape"
   ]
  },
  {
   "cell_type": "code",
   "execution_count": 16,
   "metadata": {},
   "outputs": [
    {
     "name": "stdout",
     "output_type": "stream",
     "text": [
      "date      0\n",
      "open      0\n",
      "high      0\n",
      "low       0\n",
      "close     0\n",
      "volume    0\n",
      "tic       0\n",
      "dtype: int64\n"
     ]
    }
   ],
   "source": [
    "nan_counts = df.isna().sum()\n",
    "print(nan_counts)\n"
   ]
  },
  {
   "cell_type": "code",
   "execution_count": 17,
   "metadata": {},
   "outputs": [
    {
     "name": "stdout",
     "output_type": "stream",
     "text": [
      "date        0\n",
      "open        0\n",
      "high        0\n",
      "low         1\n",
      "close       0\n",
      "volume    909\n",
      "tic         0\n",
      "dtype: int64\n"
     ]
    }
   ],
   "source": [
    "# print the zero count of each column\n",
    "zero_counts = df.apply(lambda x: (x==0).sum())\n",
    "print(zero_counts)"
   ]
  },
  {
   "cell_type": "code",
   "execution_count": 18,
   "metadata": {},
   "outputs": [],
   "source": [
    "df = df[df['low'] != 0]\n",
    "df = df[df['volume'] != 0]\n"
   ]
  },
  {
   "cell_type": "code",
   "execution_count": 19,
   "metadata": {},
   "outputs": [
    {
     "name": "stdout",
     "output_type": "stream",
     "text": [
      "date      0\n",
      "open      0\n",
      "high      0\n",
      "low       0\n",
      "close     0\n",
      "volume    0\n",
      "tic       0\n",
      "dtype: int64\n"
     ]
    }
   ],
   "source": [
    "# print the zero count of each column\n",
    "zero_counts = df.apply(lambda x: (x==0).sum())\n",
    "print(zero_counts)"
   ]
  },
  {
   "cell_type": "code",
   "execution_count": 20,
   "metadata": {},
   "outputs": [
    {
     "data": {
      "text/plain": [
       "tic\n",
       "MCD     6639\n",
       "BSX     6639\n",
       "PPL     6639\n",
       "CL      6639\n",
       "USB     6639\n",
       "        ... \n",
       "CEG      224\n",
       "KVUE     221\n",
       "RVTY     213\n",
       "EG       177\n",
       "BALL     121\n",
       "Name: count, Length: 518, dtype: int64"
      ]
     },
     "execution_count": 20,
     "metadata": {},
     "output_type": "execute_result"
    }
   ],
   "source": [
    "df['tic'].value_counts()"
   ]
  },
  {
   "cell_type": "code",
   "execution_count": 21,
   "metadata": {},
   "outputs": [
    {
     "name": "stdout",
     "output_type": "stream",
     "text": [
      "tic\n",
      "MCD     6639\n",
      "BSX     6639\n",
      "PPL     6639\n",
      "CL      6639\n",
      "USB     6639\n",
      "        ... \n",
      "CEG      224\n",
      "KVUE     221\n",
      "RVTY     213\n",
      "EG       177\n",
      "BALL     121\n",
      "Name: count, Length: 518, dtype: int64\n"
     ]
    }
   ],
   "source": [
    "import pandas as pd\n",
    "\n",
    "# Get the value counts of the 'tic' column\n",
    "tic_counts = df['tic'].value_counts(dropna=False)\n",
    "\n",
    "# Convert the counts to a DataFrame\n",
    "tic_counts_df = tic_counts.reset_index()\n",
    "tic_counts_df.columns = ['Tic', 'Count']\n",
    "\n",
    "# Save the DataFrame to a CSV file\n",
    "tic_counts_df.to_csv('tic_value_counts.csv', index=False)\n",
    "\n",
    "print(tic_counts)\n"
   ]
  },
  {
   "cell_type": "code",
   "execution_count": 22,
   "metadata": {},
   "outputs": [
    {
     "name": "stdout",
     "output_type": "stream",
     "text": [
      "40\n"
     ]
    }
   ],
   "source": [
    "top_companies = [\n",
    "    \"JPM\",  # JPMorgan Chase\n",
    "    \"BAC\",  # Bank of America\n",
    "    \"C\",    # Citigroup\n",
    "    \"GS\",   # Goldman Sachs\n",
    "    \"AXP\",  # American Express\n",
    "    \"BLK\",  # BlackRock\n",
    "    \"USB\",  # U.S. Bancorp\n",
    "    \"PNC\",  # PNC Financial Services\n",
    "    \"STT\",  # State Street Corporation\n",
    "    \"SCHW\", # Charles Schwab\n",
    "    \"AIG\",  # American International Group\n",
    "    \"TROW\", # T. Rowe Price\n",
    "    \"FITB\", # Fifth Third Bancorp\n",
    "    \"KEY\",  # KeyCorp\n",
    "    \"COF\",  # Capital One Financial\n",
    "    \"HBAN\", # Huntington Bancshares\n",
    "    \"BK\",   # The Bank of New York Mellon\n",
    "    \"ZION\", # Zions Bancorporation\n",
    "    \"CMA\",  # Comerica\n",
    "    \"MTB\",  # M&T Bank\n",
    "    \"NTRS\", # Northern Trust\n",
    "    \"RF\",   # Regions Financial\n",
    "    \"RJF\",  # Raymond James Financial\n",
    "    \"AMT\",  # American Tower\n",
    "    \"NVDA\", # NVIDIA\n",
    "    \"MSFT\", # Microsoft\n",
    "    \"AAPL\", # Apple\n",
    "    \"AMZN\", # Amazon\n",
    "    \"INTC\", # Intel\n",
    "    \"AMD\",  # Advanced Micro Devices\n",
    "    \"PFE\",  # Pfizer\n",
    "    \"JNJ\",  # Johnson & Johnson\n",
    "    \"MMM\",  # 3M\n",
    "    \"GE\",   # General Electric\n",
    "    \"BA\",   # Boeing\n",
    "    \"CAT\",  # Caterpillar\n",
    "    \"DE\",   # Deere & Company\n",
    "    \"HON\",  # Honeywell\n",
    "    \"WMT\",  # Walmart\n",
    "    \"NEE\",  # NextEra Energy\n",
    "]\n",
    "\n",
    "print(len(top_companies))  # This will output: 40\n"
   ]
  },
  {
   "cell_type": "code",
   "execution_count": 23,
   "metadata": {},
   "outputs": [
    {
     "name": "stdout",
     "output_type": "stream",
     "text": [
      "              date   open   high    low  close     volume   tic\n",
      "0       1998-01-02   0.12   0.14   0.12   0.14  170539824  AAPL\n",
      "1       1998-01-05   0.14   0.14   0.13   0.14  152723900  AAPL\n",
      "2       1998-01-06   0.14   0.17   0.13   0.16  433041952  AAPL\n",
      "3       1998-01-07   0.16   0.16   0.15   0.15  251914152  AAPL\n",
      "4       1998-01-08   0.15   0.16   0.15   0.16  188994988  AAPL\n",
      "...            ...    ...    ...    ...    ...        ...   ...\n",
      "262423  2024-03-08  41.53  42.95  41.52  42.23    1605125  ZION\n",
      "262424  2024-03-09  42.24  42.25  42.24  42.24        752  ZION\n",
      "262425  2024-03-11  42.17  42.44  41.24  41.62    1497079  ZION\n",
      "262426  2024-03-12  41.66  42.04  40.68  40.90    1588071  ZION\n",
      "262427  2024-03-13  40.88  41.37  40.70  41.09    1027120  ZION\n",
      "\n",
      "[262428 rows x 7 columns]\n"
     ]
    }
   ],
   "source": [
    "# Get the top 30 most frequent 'tic' values\n",
    "top_40_tics = top_companies\n",
    "\n",
    "# Filter the DataFrame to keep only these top 30 'tic' values\n",
    "df_filtered = df[df['tic'].isin(top_40_tics)]\n",
    "\n",
    "df = df_filtered.reset_index(drop=True)\n",
    "# Display the filtered DataFrame\n",
    "print(df)\n"
   ]
  },
  {
   "cell_type": "code",
   "execution_count": 24,
   "metadata": {},
   "outputs": [
    {
     "data": {
      "image/png": "[encoded data removed]",
      "text/plain": [
       "<Figure size 2500x500 with 1 Axes>"
      ]
     },
     "metadata": {},
     "output_type": "display_data"
    }
   ],
   "source": [
    "# per year minimum number of trading days\n",
    "df['date'] = pd.to_datetime(df['date'])\n",
    "df['year'] = df['date'].dt.year\n",
    "df['month'] = df['date'].dt.month\n",
    "\n",
    "# Create a new column 'year_month' for plotting\n",
    "df['year_month'] = df['year'].astype(str) + '-' + df['month'].astype(str)\n",
    "\n",
    "plt.figure(figsize=(25, 5))\n",
    "sns.countplot(x='year_month', data=df, order=sorted(df['year_month'].unique()))\n",
    "plt.xticks(rotation=90)  # Rotate x-axis labels for better visibility\n",
    "plt.show()"
   ]
  },
  {
   "cell_type": "code",
   "execution_count": 25,
   "metadata": {},
   "outputs": [
    {
     "data": {
      "text/plain": [
       "year\n",
       "2022    10483\n",
       "2023    10451\n",
       "2008    10120\n",
       "2020    10120\n",
       "2019    10080\n",
       "2016    10080\n",
       "2015    10080\n",
       "2014    10080\n",
       "2009    10080\n",
       "2011    10080\n",
       "2005    10080\n",
       "2004    10080\n",
       "2003    10080\n",
       "2010    10080\n",
       "2013    10079\n",
       "2007    10040\n",
       "2006    10040\n",
       "2017    10040\n",
       "2018    10040\n",
       "2012    10000\n",
       "2002     9991\n",
       "2021     9987\n",
       "2000     9828\n",
       "2001     9672\n",
       "1999     9544\n",
       "1998     8864\n",
       "2024     2329\n",
       "Name: count, dtype: int64"
      ]
     },
     "execution_count": 25,
     "metadata": {},
     "output_type": "execute_result"
    }
   ],
   "source": [
    "df['year'].value_counts()"
   ]
  },
  {
   "cell_type": "code",
   "execution_count": 26,
   "metadata": {},
   "outputs": [
    {
     "name": "stdout",
     "output_type": "stream",
     "text": [
      "year\n",
      "1998     8864\n",
      "1999     9544\n",
      "2000     9828\n",
      "2001     9672\n",
      "2002     9991\n",
      "2003    10080\n",
      "2004    10080\n",
      "2005    10080\n",
      "2006    10040\n",
      "2007    10040\n",
      "2008    10120\n",
      "2009    10080\n",
      "2010    10080\n",
      "2011    10080\n",
      "2012    10000\n",
      "2013    10079\n",
      "2014    10080\n",
      "2015    10080\n",
      "2016    10080\n",
      "2017    10040\n",
      "2018    10040\n",
      "2019    10080\n",
      "2020    10120\n",
      "2021     9987\n",
      "2022    10483\n",
      "2023    10451\n",
      "2024     2329\n",
      "Name: count, dtype: int64\n"
     ]
    }
   ],
   "source": [
    "# print df['year'].value_counts() but in year wise sort\n",
    "\n",
    "year_counts = df['year'].value_counts().sort_index()\n",
    "print(year_counts)"
   ]
  },
  {
   "cell_type": "code",
   "execution_count": 27,
   "metadata": {},
   "outputs": [
    {
     "name": "stdout",
     "output_type": "stream",
     "text": [
      "ud 1998 252\n",
      "ss 1998 208\n",
      "ud 1999 252\n",
      "ss 1999 208\n",
      "ud 2000 252\n",
      "ss 2000 208\n",
      "ud 2001 248\n",
      "ss 2001 208\n",
      "ud 2002 252\n",
      "ss 2002 208\n",
      "ud 2003 252\n",
      "ss 2003 208\n",
      "ud 2004 252\n",
      "ss 2004 208\n",
      "ud 2005 252\n",
      "ss 2005 208\n",
      "ud 2006 251\n",
      "ss 2006 208\n",
      "ud 2007 251\n",
      "ss 2007 208\n",
      "ud 2008 253\n",
      "ss 2008 208\n",
      "ud 2009 252\n",
      "ss 2009 208\n",
      "ud 2010 252\n",
      "ss 2010 208\n",
      "ud 2011 252\n",
      "ss 2011 208\n",
      "ud 2012 250\n",
      "ss 2012 208\n",
      "ud 2013 252\n",
      "ss 2013 208\n",
      "ud 2014 252\n",
      "ss 2014 208\n",
      "ud 2015 252\n",
      "ss 2015 208\n",
      "ud 2016 252\n",
      "ss 2016 208\n",
      "ud 2017 251\n",
      "ss 2017 208\n",
      "ud 2018 251\n",
      "ss 2018 208\n",
      "ud 2019 252\n",
      "ss 2019 208\n",
      "ud 2020 253\n",
      "ss 2020 208\n",
      "ud 2021 254\n",
      "ss 2021 208\n",
      "ud 2022 269\n",
      "ss 2022 208\n",
      "ud 2023 268\n",
      "ss 2023 208\n",
      "ud 2024 60\n",
      "ss 2024 60\n",
      "0\n"
     ]
    }
   ],
   "source": [
    "import pandas as pd\n",
    "\n",
    "# Ensure 'date' is properly converted to datetime\n",
    "df['date'] = pd.to_datetime(df['date'])\n",
    "\n",
    "# Create an empty DataFrame to store the sampled data\n",
    "sampled_data = pd.DataFrame()\n",
    "\n",
    "# Group the data by year\n",
    "grouped_data = df.groupby('year')\n",
    "\n",
    "# Sample days dynamically based on the number of unique days available in each year\n",
    "for year, group in grouped_data:\n",
    "    # Get the unique dates available for sampling\n",
    "    unique_days = group['date'].nunique()\n",
    "    print('ud '+ str(year)+ ' ' + str(unique_days))\n",
    "    \n",
    "    # Adjust the sample size based on the number of unique days\n",
    "    sample_size = min(208, unique_days)  # Use smaller of 208 or the number of unique days\n",
    "    \n",
    "    # Sample unique days\n",
    "    sampled_days = group['date'].sample(sample_size, replace=False)\n",
    "    \n",
    "\n",
    "    print('ss '+ str(year)+ ' ' + str(sample_size))\n",
    "\n",
    "    # Filter the data for the sampled days\n",
    "    sampled_year_data = group[group['date'].isin(sampled_days)]\n",
    "    \n",
    "    # Ensure each sampled day includes all 30 trading codes\n",
    "    sampled_year_data = sampled_year_data.groupby('date').filter(lambda x: len(x) == 30)\n",
    "    \n",
    "    # Append the sampled data to the final DataFrame\n",
    "    sampled_data = pd.concat([sampled_data, sampled_year_data])\n",
    "\n",
    "# Reset index of the final sampled data\n",
    "sampled_data.reset_index(drop=True, inplace=True)\n",
    "\n",
    "print(len(sampled_data))\n"
   ]
  },
  {
   "cell_type": "code",
   "execution_count": 28,
   "metadata": {},
   "outputs": [
    {
     "name": "stdout",
     "output_type": "stream",
     "text": [
      "Number of zeros in 'Volume' column: 0\n"
     ]
    }
   ],
   "source": [
    "# Count zeros in the 'Volume' column\n",
    "zero_count_volume = (df['volume'] == 0).sum()\n",
    "\n",
    "print(\"Number of zeros in 'Volume' column:\", zero_count_volume)\n"
   ]
  },
  {
   "cell_type": "code",
   "execution_count": 29,
   "metadata": {},
   "outputs": [
    {
     "name": "stdout",
     "output_type": "stream",
     "text": [
      "date          0\n",
      "open          0\n",
      "high          0\n",
      "low           0\n",
      "close         0\n",
      "volume        0\n",
      "tic           0\n",
      "year          0\n",
      "month         0\n",
      "year_month    0\n",
      "dtype: int64\n"
     ]
    }
   ],
   "source": [
    "# print the zero count of each column\n",
    "zero_counts = df.apply(lambda x: (x==0).sum())\n",
    "print(zero_counts)"
   ]
  },
  {
   "cell_type": "code",
   "execution_count": 30,
   "metadata": {},
   "outputs": [
    {
     "name": "stderr",
     "output_type": "stream",
     "text": [
      "c:\\Users\\jamil\\AppData\\Local\\Programs\\Python\\Python310\\lib\\site-packages\\pyfolio\\pos.py:26: UserWarning: Module \"zipline.assets\" not found; mutltipliers will not be applied to position notionals.\n",
      "  warnings.warn(\n"
     ]
    }
   ],
   "source": [
    "import pandas as pd\n",
    "import numpy as np\n",
    "import matplotlib\n",
    "import matplotlib.pyplot as plt\n",
    "# matplotlib.use('Agg')\n",
    "import datetime\n",
    "\n",
    "%matplotlib inline\n",
    "from finrl.meta.preprocessor.yahoodownloader import YahooDownloader\n",
    "from finrl.meta.preprocessor.preprocessors import FeatureEngineer, data_split\n",
    "from finrl.meta.env_stock_trading.env_stocktrading import StockTradingEnv\n",
    "from finrl.agents.stablebaselines3.models import DRLAgent\n",
    "from stable_baselines3.common.logger import configure\n",
    "from finrl.meta.data_processor import DataProcessor\n",
    "\n",
    "from finrl.plot import backtest_stats, backtest_plot, get_daily_return, get_baseline\n",
    "from pprint import pprint\n",
    "\n",
    "import sys\n",
    "sys.path.append(\"../FinRL\")\n",
    "\n",
    "import itertools\n",
    "\n",
    "from finrl import config\n",
    "from finrl import config_tickers\n",
    "import os\n",
    "from finrl.main import check_and_make_directories\n",
    "from finrl.config import (\n",
    "    DATA_SAVE_DIR,\n",
    "    TRAINED_MODEL_DIR,\n",
    "    TENSORBOARD_LOG_DIR,\n",
    "    RESULTS_DIR,\n",
    "    INDICATORS,\n",
    "    TRAIN_START_DATE,\n",
    "    TRAIN_END_DATE,\n",
    "    TEST_START_DATE,\n",
    "    TEST_END_DATE,\n",
    "    TRADE_START_DATE,\n",
    "    TRADE_END_DATE,\n",
    ")\n",
    "check_and_make_directories([DATA_SAVE_DIR, TRAINED_MODEL_DIR, TENSORBOARD_LOG_DIR, RESULTS_DIR])"
   ]
  },
  {
   "cell_type": "code",
   "execution_count": 31,
   "metadata": {},
   "outputs": [
    {
     "data": {
      "text/html": [
       "<div>\n",
       "<style scoped>\n",
       "    .dataframe tbody tr th:only-of-type {\n",
       "        vertical-align: middle;\n",
       "    }\n",
       "\n",
       "    .dataframe tbody tr th {\n",
       "        vertical-align: top;\n",
       "    }\n",
       "\n",
       "    .dataframe thead th {\n",
       "        text-align: right;\n",
       "    }\n",
       "</style>\n",
       "<table border=\"1\" class=\"dataframe\">\n",
       "  <thead>\n",
       "    <tr style=\"text-align: right;\">\n",
       "      <th></th>\n",
       "      <th>date</th>\n",
       "      <th>open</th>\n",
       "      <th>high</th>\n",
       "      <th>low</th>\n",
       "      <th>close</th>\n",
       "      <th>volume</th>\n",
       "      <th>tic</th>\n",
       "      <th>year</th>\n",
       "      <th>month</th>\n",
       "      <th>year_month</th>\n",
       "    </tr>\n",
       "  </thead>\n",
       "  <tbody>\n",
       "    <tr>\n",
       "      <th>0</th>\n",
       "      <td>1998-01-02</td>\n",
       "      <td>0.12</td>\n",
       "      <td>0.14</td>\n",
       "      <td>0.12</td>\n",
       "      <td>0.14</td>\n",
       "      <td>170539824</td>\n",
       "      <td>AAPL</td>\n",
       "      <td>1998</td>\n",
       "      <td>1</td>\n",
       "      <td>1998-1</td>\n",
       "    </tr>\n",
       "    <tr>\n",
       "      <th>1</th>\n",
       "      <td>1998-01-05</td>\n",
       "      <td>0.14</td>\n",
       "      <td>0.14</td>\n",
       "      <td>0.13</td>\n",
       "      <td>0.14</td>\n",
       "      <td>152723900</td>\n",
       "      <td>AAPL</td>\n",
       "      <td>1998</td>\n",
       "      <td>1</td>\n",
       "      <td>1998-1</td>\n",
       "    </tr>\n",
       "    <tr>\n",
       "      <th>2</th>\n",
       "      <td>1998-01-06</td>\n",
       "      <td>0.14</td>\n",
       "      <td>0.17</td>\n",
       "      <td>0.13</td>\n",
       "      <td>0.16</td>\n",
       "      <td>433041952</td>\n",
       "      <td>AAPL</td>\n",
       "      <td>1998</td>\n",
       "      <td>1</td>\n",
       "      <td>1998-1</td>\n",
       "    </tr>\n",
       "    <tr>\n",
       "      <th>3</th>\n",
       "      <td>1998-01-07</td>\n",
       "      <td>0.16</td>\n",
       "      <td>0.16</td>\n",
       "      <td>0.15</td>\n",
       "      <td>0.15</td>\n",
       "      <td>251914152</td>\n",
       "      <td>AAPL</td>\n",
       "      <td>1998</td>\n",
       "      <td>1</td>\n",
       "      <td>1998-1</td>\n",
       "    </tr>\n",
       "    <tr>\n",
       "      <th>4</th>\n",
       "      <td>1998-01-08</td>\n",
       "      <td>0.15</td>\n",
       "      <td>0.16</td>\n",
       "      <td>0.15</td>\n",
       "      <td>0.16</td>\n",
       "      <td>188994988</td>\n",
       "      <td>AAPL</td>\n",
       "      <td>1998</td>\n",
       "      <td>1</td>\n",
       "      <td>1998-1</td>\n",
       "    </tr>\n",
       "  </tbody>\n",
       "</table>\n",
       "</div>"
      ],
      "text/plain": [
       "        date  open  high   low  close     volume   tic  year  month year_month\n",
       "0 1998-01-02  0.12  0.14  0.12   0.14  170539824  AAPL  1998      1     1998-1\n",
       "1 1998-01-05  0.14  0.14  0.13   0.14  152723900  AAPL  1998      1     1998-1\n",
       "2 1998-01-06  0.14  0.17  0.13   0.16  433041952  AAPL  1998      1     1998-1\n",
       "3 1998-01-07  0.16  0.16  0.15   0.15  251914152  AAPL  1998      1     1998-1\n",
       "4 1998-01-08  0.15  0.16  0.15   0.16  188994988  AAPL  1998      1     1998-1"
      ]
     },
     "execution_count": 31,
     "metadata": {},
     "output_type": "execute_result"
    }
   ],
   "source": [
    "df.head()"
   ]
  },
  {
   "cell_type": "code",
   "execution_count": 32,
   "metadata": {},
   "outputs": [],
   "source": [
    "df.drop(['year_month','month','year'], axis=1, inplace=True)\n"
   ]
  },
  {
   "cell_type": "code",
   "execution_count": 33,
   "metadata": {},
   "outputs": [
    {
     "data": {
      "text/html": [
       "<div>\n",
       "<style scoped>\n",
       "    .dataframe tbody tr th:only-of-type {\n",
       "        vertical-align: middle;\n",
       "    }\n",
       "\n",
       "    .dataframe tbody tr th {\n",
       "        vertical-align: top;\n",
       "    }\n",
       "\n",
       "    .dataframe thead th {\n",
       "        text-align: right;\n",
       "    }\n",
       "</style>\n",
       "<table border=\"1\" class=\"dataframe\">\n",
       "  <thead>\n",
       "    <tr style=\"text-align: right;\">\n",
       "      <th></th>\n",
       "      <th>date</th>\n",
       "      <th>open</th>\n",
       "      <th>high</th>\n",
       "      <th>low</th>\n",
       "      <th>close</th>\n",
       "      <th>volume</th>\n",
       "      <th>tic</th>\n",
       "    </tr>\n",
       "  </thead>\n",
       "  <tbody>\n",
       "    <tr>\n",
       "      <th>0</th>\n",
       "      <td>1998-01-02</td>\n",
       "      <td>0.12</td>\n",
       "      <td>0.14</td>\n",
       "      <td>0.12</td>\n",
       "      <td>0.14</td>\n",
       "      <td>170539824</td>\n",
       "      <td>AAPL</td>\n",
       "    </tr>\n",
       "    <tr>\n",
       "      <th>1</th>\n",
       "      <td>1998-01-05</td>\n",
       "      <td>0.14</td>\n",
       "      <td>0.14</td>\n",
       "      <td>0.13</td>\n",
       "      <td>0.14</td>\n",
       "      <td>152723900</td>\n",
       "      <td>AAPL</td>\n",
       "    </tr>\n",
       "    <tr>\n",
       "      <th>2</th>\n",
       "      <td>1998-01-06</td>\n",
       "      <td>0.14</td>\n",
       "      <td>0.17</td>\n",
       "      <td>0.13</td>\n",
       "      <td>0.16</td>\n",
       "      <td>433041952</td>\n",
       "      <td>AAPL</td>\n",
       "    </tr>\n",
       "    <tr>\n",
       "      <th>3</th>\n",
       "      <td>1998-01-07</td>\n",
       "      <td>0.16</td>\n",
       "      <td>0.16</td>\n",
       "      <td>0.15</td>\n",
       "      <td>0.15</td>\n",
       "      <td>251914152</td>\n",
       "      <td>AAPL</td>\n",
       "    </tr>\n",
       "    <tr>\n",
       "      <th>4</th>\n",
       "      <td>1998-01-08</td>\n",
       "      <td>0.15</td>\n",
       "      <td>0.16</td>\n",
       "      <td>0.15</td>\n",
       "      <td>0.16</td>\n",
       "      <td>188994988</td>\n",
       "      <td>AAPL</td>\n",
       "    </tr>\n",
       "    <tr>\n",
       "      <th>...</th>\n",
       "      <td>...</td>\n",
       "      <td>...</td>\n",
       "      <td>...</td>\n",
       "      <td>...</td>\n",
       "      <td>...</td>\n",
       "      <td>...</td>\n",
       "      <td>...</td>\n",
       "    </tr>\n",
       "    <tr>\n",
       "      <th>262423</th>\n",
       "      <td>2024-03-08</td>\n",
       "      <td>41.53</td>\n",
       "      <td>42.95</td>\n",
       "      <td>41.52</td>\n",
       "      <td>42.23</td>\n",
       "      <td>1605125</td>\n",
       "      <td>ZION</td>\n",
       "    </tr>\n",
       "    <tr>\n",
       "      <th>262424</th>\n",
       "      <td>2024-03-09</td>\n",
       "      <td>42.24</td>\n",
       "      <td>42.25</td>\n",
       "      <td>42.24</td>\n",
       "      <td>42.24</td>\n",
       "      <td>752</td>\n",
       "      <td>ZION</td>\n",
       "    </tr>\n",
       "    <tr>\n",
       "      <th>262425</th>\n",
       "      <td>2024-03-11</td>\n",
       "      <td>42.17</td>\n",
       "      <td>42.44</td>\n",
       "      <td>41.24</td>\n",
       "      <td>41.62</td>\n",
       "      <td>1497079</td>\n",
       "      <td>ZION</td>\n",
       "    </tr>\n",
       "    <tr>\n",
       "      <th>262426</th>\n",
       "      <td>2024-03-12</td>\n",
       "      <td>41.66</td>\n",
       "      <td>42.04</td>\n",
       "      <td>40.68</td>\n",
       "      <td>40.90</td>\n",
       "      <td>1588071</td>\n",
       "      <td>ZION</td>\n",
       "    </tr>\n",
       "    <tr>\n",
       "      <th>262427</th>\n",
       "      <td>2024-03-13</td>\n",
       "      <td>40.88</td>\n",
       "      <td>41.37</td>\n",
       "      <td>40.70</td>\n",
       "      <td>41.09</td>\n",
       "      <td>1027120</td>\n",
       "      <td>ZION</td>\n",
       "    </tr>\n",
       "  </tbody>\n",
       "</table>\n",
       "<p>262428 rows × 7 columns</p>\n",
       "</div>"
      ],
      "text/plain": [
       "             date   open   high    low  close     volume   tic\n",
       "0      1998-01-02   0.12   0.14   0.12   0.14  170539824  AAPL\n",
       "1      1998-01-05   0.14   0.14   0.13   0.14  152723900  AAPL\n",
       "2      1998-01-06   0.14   0.17   0.13   0.16  433041952  AAPL\n",
       "3      1998-01-07   0.16   0.16   0.15   0.15  251914152  AAPL\n",
       "4      1998-01-08   0.15   0.16   0.15   0.16  188994988  AAPL\n",
       "...           ...    ...    ...    ...    ...        ...   ...\n",
       "262423 2024-03-08  41.53  42.95  41.52  42.23    1605125  ZION\n",
       "262424 2024-03-09  42.24  42.25  42.24  42.24        752  ZION\n",
       "262425 2024-03-11  42.17  42.44  41.24  41.62    1497079  ZION\n",
       "262426 2024-03-12  41.66  42.04  40.68  40.90    1588071  ZION\n",
       "262427 2024-03-13  40.88  41.37  40.70  41.09    1027120  ZION\n",
       "\n",
       "[262428 rows x 7 columns]"
      ]
     },
     "execution_count": 33,
     "metadata": {},
     "output_type": "execute_result"
    }
   ],
   "source": [
    "df"
   ]
  },
  {
   "cell_type": "code",
   "execution_count": 34,
   "metadata": {},
   "outputs": [
    {
     "name": "stderr",
     "output_type": "stream",
     "text": [
      "C:\\Users\\jamil\\AppData\\Local\\Temp\\ipykernel_13028\\2605565239.py:10: UserWarning: FigureCanvasAgg is non-interactive, and thus cannot be shown\n",
      "  plt.show()\n"
     ]
    }
   ],
   "source": [
    "# Assuming 'df' is your DataFrame and 'close' is the column with closing prices\n",
    "std_dev = df.groupby('tic')['close'].std()\n",
    "\n",
    "plt.figure(figsize=(10,6))\n",
    "sns.histplot(std_dev, bins=50, kde=True)\n",
    "plt.title('Distribution of std of the stocks')\n",
    "plt.xlabel('Standard Deviation')\n",
    "plt.ylabel('Frequency')\n",
    "plt.savefig('output.png')\n",
    "plt.show()"
   ]
  },
  {
   "cell_type": "code",
   "execution_count": 35,
   "metadata": {},
   "outputs": [],
   "source": [
    "df['day'] = pd.to_datetime(df['date']).dt.dayofweek\n",
    "df['short_resistance']= df['high'].rolling(window=10,min_periods=0).max()\n",
    "df['short_support']= df['low'].rolling(window=10,min_periods=0).min()\n",
    "df['long_resistance']= df['high'].rolling(window=50,min_periods=0).max()\n",
    "df['long_support']= df['low'].rolling(window=50,min_periods=0).min()\n",
    "df = df.reset_index(drop=True)\n",
    "df = df.sort_values(by=['date','tic']).reset_index(drop=True)"
   ]
  },
  {
   "cell_type": "code",
   "execution_count": 36,
   "metadata": {},
   "outputs": [
    {
     "data": {
      "text/plain": [
       "date                datetime64[ns]\n",
       "open                       float64\n",
       "high                       float64\n",
       "low                        float64\n",
       "close                      float64\n",
       "volume                       int64\n",
       "tic                         object\n",
       "day                          int32\n",
       "short_resistance           float64\n",
       "short_support              float64\n",
       "long_resistance            float64\n",
       "long_support               float64\n",
       "dtype: object"
      ]
     },
     "execution_count": 36,
     "metadata": {},
     "output_type": "execute_result"
    }
   ],
   "source": [
    "df.dtypes"
   ]
  },
  {
   "cell_type": "code",
   "execution_count": 37,
   "metadata": {},
   "outputs": [],
   "source": [
    "# convert datetime to string\n",
    "df['date'] = df['date'].dt.strftime('%Y-%m-%d')"
   ]
  },
  {
   "cell_type": "code",
   "execution_count": 38,
   "metadata": {},
   "outputs": [
    {
     "name": "stdout",
     "output_type": "stream",
     "text": [
      "(262428, 12)\n"
     ]
    },
    {
     "data": {
      "text/html": [
       "<div>\n",
       "<style scoped>\n",
       "    .dataframe tbody tr th:only-of-type {\n",
       "        vertical-align: middle;\n",
       "    }\n",
       "\n",
       "    .dataframe tbody tr th {\n",
       "        vertical-align: top;\n",
       "    }\n",
       "\n",
       "    .dataframe thead th {\n",
       "        text-align: right;\n",
       "    }\n",
       "</style>\n",
       "<table border=\"1\" class=\"dataframe\">\n",
       "  <thead>\n",
       "    <tr style=\"text-align: right;\">\n",
       "      <th></th>\n",
       "      <th>date</th>\n",
       "      <th>open</th>\n",
       "      <th>high</th>\n",
       "      <th>low</th>\n",
       "      <th>close</th>\n",
       "      <th>volume</th>\n",
       "      <th>tic</th>\n",
       "      <th>day</th>\n",
       "      <th>short_resistance</th>\n",
       "      <th>short_support</th>\n",
       "      <th>long_resistance</th>\n",
       "      <th>long_support</th>\n",
       "    </tr>\n",
       "  </thead>\n",
       "  <tbody>\n",
       "    <tr>\n",
       "      <th>262423</th>\n",
       "      <td>2024-03-13</td>\n",
       "      <td>72.52</td>\n",
       "      <td>73.64</td>\n",
       "      <td>72.52</td>\n",
       "      <td>72.85</td>\n",
       "      <td>1406490</td>\n",
       "      <td>STT</td>\n",
       "      <td>2</td>\n",
       "      <td>74.95</td>\n",
       "      <td>71.59</td>\n",
       "      <td>79.90</td>\n",
       "      <td>70.53</td>\n",
       "    </tr>\n",
       "    <tr>\n",
       "      <th>262424</th>\n",
       "      <td>2024-03-13</td>\n",
       "      <td>118.00</td>\n",
       "      <td>118.82</td>\n",
       "      <td>117.47</td>\n",
       "      <td>117.60</td>\n",
       "      <td>627235</td>\n",
       "      <td>TROW</td>\n",
       "      <td>2</td>\n",
       "      <td>119.48</td>\n",
       "      <td>113.46</td>\n",
       "      <td>119.48</td>\n",
       "      <td>103.40</td>\n",
       "    </tr>\n",
       "    <tr>\n",
       "      <th>262425</th>\n",
       "      <td>2024-03-13</td>\n",
       "      <td>43.23</td>\n",
       "      <td>44.07</td>\n",
       "      <td>43.23</td>\n",
       "      <td>43.47</td>\n",
       "      <td>4678790</td>\n",
       "      <td>USB</td>\n",
       "      <td>2</td>\n",
       "      <td>44.07</td>\n",
       "      <td>41.42</td>\n",
       "      <td>44.07</td>\n",
       "      <td>38.87</td>\n",
       "    </tr>\n",
       "    <tr>\n",
       "      <th>262426</th>\n",
       "      <td>2024-03-13</td>\n",
       "      <td>61.26</td>\n",
       "      <td>61.46</td>\n",
       "      <td>60.88</td>\n",
       "      <td>61.28</td>\n",
       "      <td>12679050</td>\n",
       "      <td>WMT</td>\n",
       "      <td>2</td>\n",
       "      <td>61.57</td>\n",
       "      <td>58.40</td>\n",
       "      <td>171.07</td>\n",
       "      <td>58.18</td>\n",
       "    </tr>\n",
       "    <tr>\n",
       "      <th>262427</th>\n",
       "      <td>2024-03-13</td>\n",
       "      <td>40.88</td>\n",
       "      <td>41.37</td>\n",
       "      <td>40.70</td>\n",
       "      <td>41.09</td>\n",
       "      <td>1027120</td>\n",
       "      <td>ZION</td>\n",
       "      <td>2</td>\n",
       "      <td>42.95</td>\n",
       "      <td>38.74</td>\n",
       "      <td>45.33</td>\n",
       "      <td>37.76</td>\n",
       "    </tr>\n",
       "  </tbody>\n",
       "</table>\n",
       "</div>"
      ],
      "text/plain": [
       "              date    open    high     low   close    volume   tic  day  \\\n",
       "262423  2024-03-13   72.52   73.64   72.52   72.85   1406490   STT    2   \n",
       "262424  2024-03-13  118.00  118.82  117.47  117.60    627235  TROW    2   \n",
       "262425  2024-03-13   43.23   44.07   43.23   43.47   4678790   USB    2   \n",
       "262426  2024-03-13   61.26   61.46   60.88   61.28  12679050   WMT    2   \n",
       "262427  2024-03-13   40.88   41.37   40.70   41.09   1027120  ZION    2   \n",
       "\n",
       "        short_resistance  short_support  long_resistance  long_support  \n",
       "262423             74.95          71.59            79.90         70.53  \n",
       "262424            119.48         113.46           119.48        103.40  \n",
       "262425             44.07          41.42            44.07         38.87  \n",
       "262426             61.57          58.40           171.07         58.18  \n",
       "262427             42.95          38.74            45.33         37.76  "
      ]
     },
     "execution_count": 38,
     "metadata": {},
     "output_type": "execute_result"
    }
   ],
   "source": [
    "print(df.shape)\n",
    "df.tail()"
   ]
  },
  {
   "cell_type": "code",
   "execution_count": 39,
   "metadata": {},
   "outputs": [
    {
     "name": "stderr",
     "output_type": "stream",
     "text": [
      "C:\\Users\\jamil\\AppData\\Local\\Temp\\ipykernel_13028\\1344718701.py:3: FutureWarning: The default fill_method='pad' in DataFrame.pct_change is deprecated and will be removed in a future version. Either fill in any non-leading NA values prior to calling pct_change or specify 'fill_method=None' to not fill NA values.\n",
      "  df_price_pivot = df_price_pivot.pct_change()\n"
     ]
    },
    {
     "name": "stdout",
     "output_type": "stream",
     "text": [
      "6639\n"
     ]
    }
   ],
   "source": [
    "data = df.copy()\n",
    "df_price_pivot = data.pivot(index=\"date\", columns=\"tic\", values=\"close\")\n",
    "df_price_pivot = df_price_pivot.pct_change()\n",
    "unique_date = data.date.unique()\n",
    "# start after a year\n",
    "start = 208\n",
    "turbulence_index = [0] * start\n",
    "# turbulence_index = [0]\n",
    "count = 0\n",
    "for i in range(start, len(unique_date)):\n",
    "  current_price = df_price_pivot[df_price_pivot.index == unique_date[i]]\n",
    "  # use one year rolling window to calcualte covariance\n",
    "  hist_price = df_price_pivot[\n",
    "      (df_price_pivot.index < unique_date[i])\n",
    "      & (df_price_pivot.index >= unique_date[i - 208])\n",
    "  ]\n",
    "  # Drop tickers which has number missing values more than the \"oldest\" ticker\n",
    "  filtered_hist_price = hist_price.iloc[\n",
    "      hist_price.isna().sum().min() :\n",
    "  ].dropna(axis=1)\n",
    "\n",
    "  cov_temp = filtered_hist_price.cov()\n",
    "  current_temp = current_price[[x for x in filtered_hist_price]] - np.mean(\n",
    "      filtered_hist_price, axis=0\n",
    "  )\n",
    "  # cov_temp = hist_price.cov()\n",
    "  # current_temp=(current_price - np.mean(hist_price,axis=0))\n",
    "\n",
    "  temp = current_temp.values.dot(np.linalg.pinv(cov_temp)).dot(\n",
    "      current_temp.values.T\n",
    "  )\n",
    "  if temp > 0:\n",
    "      count += 1\n",
    "      if count > 2:\n",
    "          turbulence_temp = temp[0][0]\n",
    "      else:\n",
    "          # avoid large outlier because of the calculation just begins\n",
    "          turbulence_temp = 0\n",
    "  else:\n",
    "      turbulence_temp = 0\n",
    "  turbulence_index.append(turbulence_temp)\n",
    "print(len(turbulence_index))\n",
    "try:\n",
    "  turbulence_index = pd.DataFrame(\n",
    "      {\"date\": df_price_pivot.index, \"turbulence\": turbulence_index}\n",
    "  )\n",
    "except ValueError:\n",
    "  raise Exception(\"Turbulence information could not be added.\")"
   ]
  },
  {
   "cell_type": "code",
   "execution_count": 40,
   "metadata": {},
   "outputs": [
    {
     "data": {
      "text/plain": [
       "717004.4620180315"
      ]
     },
     "execution_count": 40,
     "metadata": {},
     "output_type": "execute_result"
    }
   ],
   "source": [
    "turbulence_index['turbulence'].max()"
   ]
  },
  {
   "cell_type": "code",
   "execution_count": 41,
   "metadata": {},
   "outputs": [
    {
     "data": {
      "text/plain": [
       "tic\n",
       "AAPL    6639\n",
       "GE      6639\n",
       "ZION    6639\n",
       "USB     6639\n",
       "TROW    6639\n",
       "STT     6639\n",
       "PNC     6639\n",
       "MSFT    6639\n",
       "MMM     6639\n",
       "AIG     6639\n",
       "JPM     6639\n",
       "JNJ     6639\n",
       "INTC    6639\n",
       "HBAN    6639\n",
       "KEY     6639\n",
       "AXP     6639\n",
       "C       6639\n",
       "BAC     6639\n",
       "AMD     6639\n",
       "AMZN    6639\n",
       "BA      6639\n",
       "FITB    6638\n",
       "DE      6638\n",
       "COF     6638\n",
       "CMA     6638\n",
       "CAT     6638\n",
       "BK      6638\n",
       "NEE     6638\n",
       "NTRS    6638\n",
       "PFE     6638\n",
       "RJF     6637\n",
       "SCHW    6637\n",
       "WMT     6629\n",
       "MTB     6536\n",
       "AMT     6533\n",
       "NVDA    6374\n",
       "GS      6304\n",
       "BLK     6195\n",
       "HON     5876\n",
       "RF      5546\n",
       "Name: count, dtype: int64"
      ]
     },
     "execution_count": 41,
     "metadata": {},
     "output_type": "execute_result"
    }
   ],
   "source": [
    "df = df.merge(turbulence_index, on=\"date\")\n",
    "df['tic'].value_counts()"
   ]
  },
  {
   "cell_type": "code",
   "execution_count": 42,
   "metadata": {},
   "outputs": [
    {
     "name": "stdout",
     "output_type": "stream",
     "text": [
      "date                0\n",
      "open                0\n",
      "high                0\n",
      "low                 0\n",
      "close               0\n",
      "volume              0\n",
      "tic                 0\n",
      "day                 0\n",
      "short_resistance    0\n",
      "short_support       0\n",
      "long_resistance     0\n",
      "long_support        0\n",
      "turbulence          0\n",
      "dtype: int64\n"
     ]
    }
   ],
   "source": [
    "df.to_csv('df.csv', index=False)  # 'index=False' prevents pandas from writing row numbers as the first column\n",
    "\n",
    "# df.shape\n",
    "nan_counts = df.isna().sum()\n",
    "print(nan_counts)\n"
   ]
  },
  {
   "cell_type": "code",
   "execution_count": 43,
   "metadata": {},
   "outputs": [],
   "source": [
    "df = df[df['date'] <= '2023-12-31']\n",
    "# df"
   ]
  },
  {
   "cell_type": "code",
   "execution_count": 44,
   "metadata": {},
   "outputs": [
    {
     "name": "stdout",
     "output_type": "stream",
     "text": [
      "Successfully added technical indicators\n"
     ]
    }
   ],
   "source": [
    "fe = FeatureEngineer(\n",
    "                    use_technical_indicator=True,\n",
    "                    tech_indicator_list = INDICATORS,\n",
    "                    use_vix=False,\n",
    "                    use_turbulence=False,\n",
    "                    user_defined_feature = False)\n",
    "# turbulance is giving error\n",
    "df = df.fillna(value = 0)\n",
    "processed = fe.preprocess_data(df)\n",
    "\n"
   ]
  },
  {
   "cell_type": "code",
   "execution_count": 45,
   "metadata": {},
   "outputs": [
    {
     "name": "stdout",
     "output_type": "stream",
     "text": [
      "date                0\n",
      "open                0\n",
      "high                0\n",
      "low                 0\n",
      "close               0\n",
      "volume              0\n",
      "tic                 0\n",
      "day                 0\n",
      "short_resistance    0\n",
      "short_support       0\n",
      "long_resistance     0\n",
      "long_support        0\n",
      "turbulence          0\n",
      "dtype: int64\n"
     ]
    }
   ],
   "source": [
    "# df.shape\n",
    "nan_counts = df.isna().sum()\n",
    "print(nan_counts)\n"
   ]
  },
  {
   "cell_type": "code",
   "execution_count": 46,
   "metadata": {},
   "outputs": [
    {
     "name": "stdout",
     "output_type": "stream",
     "text": [
      "22\n",
      "(144738, 21)\n"
     ]
    }
   ],
   "source": [
    "print(processed['tic'].nunique())\n",
    "print(processed.shape)"
   ]
  },
  {
   "cell_type": "code",
   "execution_count": 47,
   "metadata": {},
   "outputs": [],
   "source": [
    "list_ticker = processed[\"tic\"].unique().tolist()\n",
    "list_date = list(pd.date_range(processed['date'].min(),processed['date'].max()).astype(str))\n",
    "combination = list(itertools.product(list_date,list_ticker))\n",
    "\n",
    "processed_full = pd.DataFrame(combination,columns=[\"date\",\"tic\"]).merge(processed,on=[\"date\",\"tic\"],how=\"left\")\n",
    "processed_full = processed_full[processed_full['date'].isin(processed['date'])]\n",
    "processed_full = processed_full.sort_values(['date','tic'])\n",
    "\n",
    "processed_full = processed_full.fillna(0)\n",
    "\n"
   ]
  },
  {
   "cell_type": "code",
   "execution_count": 48,
   "metadata": {},
   "outputs": [],
   "source": [
    "tic_count = processed_full['tic'].nunique()"
   ]
  },
  {
   "cell_type": "code",
   "execution_count": 49,
   "metadata": {},
   "outputs": [
    {
     "name": "stdout",
     "output_type": "stream",
     "text": [
      "(144738, 21)\n"
     ]
    },
    {
     "data": {
      "text/html": [
       "<div>\n",
       "<style scoped>\n",
       "    .dataframe tbody tr th:only-of-type {\n",
       "        vertical-align: middle;\n",
       "    }\n",
       "\n",
       "    .dataframe tbody tr th {\n",
       "        vertical-align: top;\n",
       "    }\n",
       "\n",
       "    .dataframe thead th {\n",
       "        text-align: right;\n",
       "    }\n",
       "</style>\n",
       "<table border=\"1\" class=\"dataframe\">\n",
       "  <thead>\n",
       "    <tr style=\"text-align: right;\">\n",
       "      <th></th>\n",
       "      <th>date</th>\n",
       "      <th>tic</th>\n",
       "      <th>open</th>\n",
       "      <th>high</th>\n",
       "      <th>low</th>\n",
       "      <th>close</th>\n",
       "      <th>volume</th>\n",
       "      <th>day</th>\n",
       "      <th>short_resistance</th>\n",
       "      <th>short_support</th>\n",
       "      <th>...</th>\n",
       "      <th>long_support</th>\n",
       "      <th>turbulence</th>\n",
       "      <th>macd</th>\n",
       "      <th>boll_ub</th>\n",
       "      <th>boll_lb</th>\n",
       "      <th>rsi_30</th>\n",
       "      <th>cci_30</th>\n",
       "      <th>dx_30</th>\n",
       "      <th>close_30_sma</th>\n",
       "      <th>close_60_sma</th>\n",
       "    </tr>\n",
       "  </thead>\n",
       "  <tbody>\n",
       "    <tr>\n",
       "      <th>0</th>\n",
       "      <td>1998-01-02</td>\n",
       "      <td>AAPL</td>\n",
       "      <td>0.12</td>\n",
       "      <td>0.14</td>\n",
       "      <td>0.12</td>\n",
       "      <td>0.14</td>\n",
       "      <td>170539824.0</td>\n",
       "      <td>4.0</td>\n",
       "      <td>0.14</td>\n",
       "      <td>0.12</td>\n",
       "      <td>...</td>\n",
       "      <td>0.12</td>\n",
       "      <td>0.0</td>\n",
       "      <td>0.0</td>\n",
       "      <td>0.14</td>\n",
       "      <td>0.14</td>\n",
       "      <td>0.0</td>\n",
       "      <td>66.666667</td>\n",
       "      <td>100.0</td>\n",
       "      <td>0.14</td>\n",
       "      <td>0.14</td>\n",
       "    </tr>\n",
       "    <tr>\n",
       "      <th>1</th>\n",
       "      <td>1998-01-02</td>\n",
       "      <td>AIG</td>\n",
       "      <td>110.25</td>\n",
       "      <td>110.38</td>\n",
       "      <td>108.56</td>\n",
       "      <td>109.88</td>\n",
       "      <td>704707.0</td>\n",
       "      <td>4.0</td>\n",
       "      <td>176.90</td>\n",
       "      <td>108.56</td>\n",
       "      <td>...</td>\n",
       "      <td>108.56</td>\n",
       "      <td>0.0</td>\n",
       "      <td>0.0</td>\n",
       "      <td>0.14</td>\n",
       "      <td>0.14</td>\n",
       "      <td>0.0</td>\n",
       "      <td>66.666667</td>\n",
       "      <td>100.0</td>\n",
       "      <td>109.88</td>\n",
       "      <td>109.88</td>\n",
       "    </tr>\n",
       "    <tr>\n",
       "      <th>2</th>\n",
       "      <td>1998-01-02</td>\n",
       "      <td>AMD</td>\n",
       "      <td>18.25</td>\n",
       "      <td>19.26</td>\n",
       "      <td>18.19</td>\n",
       "      <td>19.26</td>\n",
       "      <td>1161511.0</td>\n",
       "      <td>4.0</td>\n",
       "      <td>76.10</td>\n",
       "      <td>18.19</td>\n",
       "      <td>...</td>\n",
       "      <td>18.19</td>\n",
       "      <td>0.0</td>\n",
       "      <td>0.0</td>\n",
       "      <td>0.14</td>\n",
       "      <td>0.14</td>\n",
       "      <td>0.0</td>\n",
       "      <td>66.666667</td>\n",
       "      <td>100.0</td>\n",
       "      <td>19.26</td>\n",
       "      <td>19.26</td>\n",
       "    </tr>\n",
       "    <tr>\n",
       "      <th>3</th>\n",
       "      <td>1998-01-02</td>\n",
       "      <td>AMZN</td>\n",
       "      <td>3.00</td>\n",
       "      <td>3.00</td>\n",
       "      <td>2.87</td>\n",
       "      <td>2.97</td>\n",
       "      <td>2646000.0</td>\n",
       "      <td>4.0</td>\n",
       "      <td>209.61</td>\n",
       "      <td>2.87</td>\n",
       "      <td>...</td>\n",
       "      <td>2.87</td>\n",
       "      <td>0.0</td>\n",
       "      <td>0.0</td>\n",
       "      <td>0.14</td>\n",
       "      <td>0.14</td>\n",
       "      <td>0.0</td>\n",
       "      <td>66.666667</td>\n",
       "      <td>100.0</td>\n",
       "      <td>2.97</td>\n",
       "      <td>2.97</td>\n",
       "    </tr>\n",
       "    <tr>\n",
       "      <th>4</th>\n",
       "      <td>1998-01-02</td>\n",
       "      <td>AXP</td>\n",
       "      <td>89.00</td>\n",
       "      <td>89.00</td>\n",
       "      <td>88.32</td>\n",
       "      <td>88.69</td>\n",
       "      <td>787901.0</td>\n",
       "      <td>4.0</td>\n",
       "      <td>180.14</td>\n",
       "      <td>88.32</td>\n",
       "      <td>...</td>\n",
       "      <td>88.32</td>\n",
       "      <td>0.0</td>\n",
       "      <td>0.0</td>\n",
       "      <td>0.14</td>\n",
       "      <td>0.14</td>\n",
       "      <td>0.0</td>\n",
       "      <td>66.666667</td>\n",
       "      <td>100.0</td>\n",
       "      <td>88.69</td>\n",
       "      <td>88.69</td>\n",
       "    </tr>\n",
       "    <tr>\n",
       "      <th>5</th>\n",
       "      <td>1998-01-02</td>\n",
       "      <td>BA</td>\n",
       "      <td>49.50</td>\n",
       "      <td>49.81</td>\n",
       "      <td>48.50</td>\n",
       "      <td>48.94</td>\n",
       "      <td>2465131.0</td>\n",
       "      <td>4.0</td>\n",
       "      <td>224.90</td>\n",
       "      <td>48.50</td>\n",
       "      <td>...</td>\n",
       "      <td>48.50</td>\n",
       "      <td>0.0</td>\n",
       "      <td>0.0</td>\n",
       "      <td>0.14</td>\n",
       "      <td>0.14</td>\n",
       "      <td>0.0</td>\n",
       "      <td>66.666667</td>\n",
       "      <td>100.0</td>\n",
       "      <td>48.94</td>\n",
       "      <td>48.94</td>\n",
       "    </tr>\n",
       "    <tr>\n",
       "      <th>6</th>\n",
       "      <td>1998-01-02</td>\n",
       "      <td>BAC</td>\n",
       "      <td>30.19</td>\n",
       "      <td>30.50</td>\n",
       "      <td>29.73</td>\n",
       "      <td>30.38</td>\n",
       "      <td>2089631.0</td>\n",
       "      <td>4.0</td>\n",
       "      <td>203.80</td>\n",
       "      <td>29.73</td>\n",
       "      <td>...</td>\n",
       "      <td>29.73</td>\n",
       "      <td>0.0</td>\n",
       "      <td>0.0</td>\n",
       "      <td>0.14</td>\n",
       "      <td>0.14</td>\n",
       "      <td>0.0</td>\n",
       "      <td>66.666667</td>\n",
       "      <td>100.0</td>\n",
       "      <td>30.38</td>\n",
       "      <td>30.38</td>\n",
       "    </tr>\n",
       "    <tr>\n",
       "      <th>7</th>\n",
       "      <td>1998-01-02</td>\n",
       "      <td>C</td>\n",
       "      <td>52.77</td>\n",
       "      <td>53.50</td>\n",
       "      <td>52.26</td>\n",
       "      <td>53.50</td>\n",
       "      <td>2894208.0</td>\n",
       "      <td>4.0</td>\n",
       "      <td>845.00</td>\n",
       "      <td>52.26</td>\n",
       "      <td>...</td>\n",
       "      <td>52.26</td>\n",
       "      <td>0.0</td>\n",
       "      <td>0.0</td>\n",
       "      <td>0.14</td>\n",
       "      <td>0.14</td>\n",
       "      <td>0.0</td>\n",
       "      <td>66.666667</td>\n",
       "      <td>100.0</td>\n",
       "      <td>53.50</td>\n",
       "      <td>53.50</td>\n",
       "    </tr>\n",
       "    <tr>\n",
       "      <th>8</th>\n",
       "      <td>1998-01-02</td>\n",
       "      <td>GE</td>\n",
       "      <td>586.48</td>\n",
       "      <td>591.03</td>\n",
       "      <td>580.00</td>\n",
       "      <td>590.55</td>\n",
       "      <td>2590614.0</td>\n",
       "      <td>4.0</td>\n",
       "      <td>591.03</td>\n",
       "      <td>34.61</td>\n",
       "      <td>...</td>\n",
       "      <td>32.29</td>\n",
       "      <td>0.0</td>\n",
       "      <td>0.0</td>\n",
       "      <td>0.14</td>\n",
       "      <td>0.14</td>\n",
       "      <td>0.0</td>\n",
       "      <td>66.666667</td>\n",
       "      <td>100.0</td>\n",
       "      <td>590.55</td>\n",
       "      <td>590.55</td>\n",
       "    </tr>\n",
       "    <tr>\n",
       "      <th>9</th>\n",
       "      <td>1998-01-02</td>\n",
       "      <td>HBAN</td>\n",
       "      <td>35.50</td>\n",
       "      <td>36.69</td>\n",
       "      <td>35.00</td>\n",
       "      <td>36.69</td>\n",
       "      <td>340600.0</td>\n",
       "      <td>4.0</td>\n",
       "      <td>397.49</td>\n",
       "      <td>35.00</td>\n",
       "      <td>...</td>\n",
       "      <td>35.00</td>\n",
       "      <td>0.0</td>\n",
       "      <td>0.0</td>\n",
       "      <td>0.14</td>\n",
       "      <td>0.14</td>\n",
       "      <td>0.0</td>\n",
       "      <td>66.666667</td>\n",
       "      <td>100.0</td>\n",
       "      <td>36.69</td>\n",
       "      <td>36.69</td>\n",
       "    </tr>\n",
       "  </tbody>\n",
       "</table>\n",
       "<p>10 rows × 21 columns</p>\n",
       "</div>"
      ],
      "text/plain": [
       "         date   tic    open    high     low   close       volume  day  \\\n",
       "0  1998-01-02  AAPL    0.12    0.14    0.12    0.14  170539824.0  4.0   \n",
       "1  1998-01-02   AIG  110.25  110.38  108.56  109.88     704707.0  4.0   \n",
       "2  1998-01-02   AMD   18.25   19.26   18.19   19.26    1161511.0  4.0   \n",
       "3  1998-01-02  AMZN    3.00    3.00    2.87    2.97    2646000.0  4.0   \n",
       "4  1998-01-02   AXP   89.00   89.00   88.32   88.69     787901.0  4.0   \n",
       "5  1998-01-02    BA   49.50   49.81   48.50   48.94    2465131.0  4.0   \n",
       "6  1998-01-02   BAC   30.19   30.50   29.73   30.38    2089631.0  4.0   \n",
       "7  1998-01-02     C   52.77   53.50   52.26   53.50    2894208.0  4.0   \n",
       "8  1998-01-02    GE  586.48  591.03  580.00  590.55    2590614.0  4.0   \n",
       "9  1998-01-02  HBAN   35.50   36.69   35.00   36.69     340600.0  4.0   \n",
       "\n",
       "   short_resistance  short_support  ...  long_support  turbulence  macd  \\\n",
       "0              0.14           0.12  ...          0.12         0.0   0.0   \n",
       "1            176.90         108.56  ...        108.56         0.0   0.0   \n",
       "2             76.10          18.19  ...         18.19         0.0   0.0   \n",
       "3            209.61           2.87  ...          2.87         0.0   0.0   \n",
       "4            180.14          88.32  ...         88.32         0.0   0.0   \n",
       "5            224.90          48.50  ...         48.50         0.0   0.0   \n",
       "6            203.80          29.73  ...         29.73         0.0   0.0   \n",
       "7            845.00          52.26  ...         52.26         0.0   0.0   \n",
       "8            591.03          34.61  ...         32.29         0.0   0.0   \n",
       "9            397.49          35.00  ...         35.00         0.0   0.0   \n",
       "\n",
       "   boll_ub  boll_lb  rsi_30     cci_30  dx_30  close_30_sma  close_60_sma  \n",
       "0     0.14     0.14     0.0  66.666667  100.0          0.14          0.14  \n",
       "1     0.14     0.14     0.0  66.666667  100.0        109.88        109.88  \n",
       "2     0.14     0.14     0.0  66.666667  100.0         19.26         19.26  \n",
       "3     0.14     0.14     0.0  66.666667  100.0          2.97          2.97  \n",
       "4     0.14     0.14     0.0  66.666667  100.0         88.69         88.69  \n",
       "5     0.14     0.14     0.0  66.666667  100.0         48.94         48.94  \n",
       "6     0.14     0.14     0.0  66.666667  100.0         30.38         30.38  \n",
       "7     0.14     0.14     0.0  66.666667  100.0         53.50         53.50  \n",
       "8     0.14     0.14     0.0  66.666667  100.0        590.55        590.55  \n",
       "9     0.14     0.14     0.0  66.666667  100.0         36.69         36.69  \n",
       "\n",
       "[10 rows x 21 columns]"
      ]
     },
     "execution_count": 49,
     "metadata": {},
     "output_type": "execute_result"
    }
   ],
   "source": [
    "print(processed_full.shape)\n",
    "processed_full.sort_values(['date','tic'],ignore_index=True).head(10)"
   ]
  },
  {
   "cell_type": "code",
   "execution_count": 50,
   "metadata": {},
   "outputs": [],
   "source": [
    "mvo_df = processed_full.sort_values(['date','tic'],ignore_index=True)[['date','tic','close']]"
   ]
  },
  {
   "cell_type": "code",
   "execution_count": 51,
   "metadata": {},
   "outputs": [
    {
     "name": "stdout",
     "output_type": "stream",
     "text": [
      "Minimum Date: 1998-01-02\n",
      "Maximum Date: 2023-12-30\n"
     ]
    }
   ],
   "source": [
    "# Get the minimum date value from the 'date' column\n",
    "min_date = processed_full['date'].min()\n",
    "print(f\"Minimum Date: {min_date}\")\n",
    "\n",
    "# Get the maximum date value from the 'date' column\n",
    "max_date = processed_full['date'].max()\n",
    "print(f\"Maximum Date: {max_date}\")\n",
    "\n"
   ]
  },
  {
   "cell_type": "code",
   "execution_count": 52,
   "metadata": {},
   "outputs": [
    {
     "name": "stdout",
     "output_type": "stream",
     "text": [
      "116204\n",
      "28490\n"
     ]
    }
   ],
   "source": [
    "TRAIN_START_DATE = '1998-01-02'\n",
    "TRAIN_END_DATE = '2018-12-31'\n",
    "TRADE_START_DATE = '2019-01-01'\n",
    "TRADE_END_DATE = '2023-12-30' ## CARE IN NIFTY\n",
    "train = data_split(processed_full, TRAIN_START_DATE,TRAIN_END_DATE)\n",
    "trade = data_split(processed_full, TRADE_START_DATE,TRADE_END_DATE)\n",
    "print(len(train))\n",
    "print(len(trade))"
   ]
  },
  {
   "cell_type": "code",
   "execution_count": 53,
   "metadata": {},
   "outputs": [
    {
     "name": "stdout",
     "output_type": "stream",
     "text": [
      "Stock Dimension: 22, State Space: 221\n"
     ]
    }
   ],
   "source": [
    "stock_dimension = len(train.tic.unique())\n",
    "# print(stock_dimension)\n",
    "\n",
    "state_space = 1 + 2*stock_dimension + len(INDICATORS)*stock_dimension\n",
    "print(f\"Stock Dimension: {stock_dimension}, State Space: {state_space}\")"
   ]
  },
  {
   "cell_type": "code",
   "execution_count": 54,
   "metadata": {},
   "outputs": [],
   "source": [
    "buy_cost_list = sell_cost_list = [0.0005] * stock_dimension\n",
    "num_stock_shares = [0] * stock_dimension\n",
    "\n",
    "env_kwargs = {\n",
    "    \"hmax\": 100,\n",
    "    \"initial_amount\": 2000000,\n",
    "    \"num_stock_shares\": num_stock_shares,\n",
    "    \"buy_cost_pct\": buy_cost_list,\n",
    "    \"sell_cost_pct\": sell_cost_list,\n",
    "    \"state_space\": state_space,\n",
    "    \"stock_dim\": stock_dimension,\n",
    "    \"tech_indicator_list\": INDICATORS,\n",
    "    \"action_space\": stock_dimension,\n",
    "    \"reward_scaling\": 1e-4\n",
    "    # \"cash_penalty_percentage\": 0.1,\n",
    "    # \"exponential_cash_average\": 0.04\n",
    "}\n",
    "\n",
    "\n",
    "e_train_gym = StockTradingEnv(df = train, **env_kwargs)"
   ]
  },
  {
   "cell_type": "code",
   "execution_count": 55,
   "metadata": {},
   "outputs": [
    {
     "name": "stdout",
     "output_type": "stream",
     "text": [
      "<class 'stable_baselines3.common.vec_env.dummy_vec_env.DummyVecEnv'>\n"
     ]
    }
   ],
   "source": [
    "env_train, _ = e_train_gym.get_sb_env()\n",
    "print(type(env_train))"
   ]
  },
  {
   "cell_type": "code",
   "execution_count": 56,
   "metadata": {},
   "outputs": [],
   "source": [
    "agent = DRLAgent(env = env_train)\n",
    "\n",
    "if_using_a2c = True\n",
    "if_using_ddpg = True\n",
    "if_using_ppo = True\n",
    "if_using_td3 = True\n",
    "if_using_sac = True"
   ]
  },
  {
   "cell_type": "code",
   "execution_count": 57,
   "metadata": {},
   "outputs": [
    {
     "name": "stdout",
     "output_type": "stream",
     "text": [
      "{'n_steps': 5, 'ent_coef': 0.01, 'learning_rate': 0.0007}\n",
      "Using cpu device\n",
      "Logging to results/a2c\n"
     ]
    }
   ],
   "source": [
    "agent = DRLAgent(env = env_train)\n",
    "model_a2c = agent.get_model(\"a2c\")\n",
    "\n",
    "if if_using_a2c:\n",
    "  # set up logger\n",
    "  tmp_path = RESULTS_DIR + '/a2c'\n",
    "  new_logger_a2c = configure(tmp_path, [\"stdout\", \"csv\", \"tensorboard\"])\n",
    "  # Set new logger\n",
    "  model_a2c.set_logger(new_logger_a2c)\n"
   ]
  },
  {
   "cell_type": "code",
   "execution_count": 58,
   "metadata": {},
   "outputs": [
    {
     "name": "stdout",
     "output_type": "stream",
     "text": [
      "-------------------------------------\n",
      "| time/                 |           |\n",
      "|    fps                | 86        |\n",
      "|    iterations         | 100       |\n",
      "|    time_elapsed       | 5         |\n",
      "|    total_timesteps    | 500       |\n",
      "| train/                |           |\n",
      "|    entropy_loss       | -31.3     |\n",
      "|    explained_variance | 0.0542    |\n",
      "|    learning_rate      | 0.0007    |\n",
      "|    n_updates          | 99        |\n",
      "|    policy_loss        | -103      |\n",
      "|    reward             | -1.228931 |\n",
      "|    std                | 1         |\n",
      "|    value_loss         | 15.3      |\n",
      "-------------------------------------\n",
      "--------------------------------------\n",
      "| time/                 |            |\n",
      "|    fps                | 89         |\n",
      "|    iterations         | 200        |\n",
      "|    time_elapsed       | 11         |\n",
      "|    total_timesteps    | 1000       |\n",
      "| train/                |            |\n",
      "|    entropy_loss       | -31.3      |\n",
      "|    explained_variance | 1.79e-07   |\n",
      "|    learning_rate      | 0.0007     |\n",
      "|    n_updates          | 199        |\n",
      "|    policy_loss        | 58.2       |\n",
      "|    reward             | 0.44970387 |\n",
      "|    std                | 1          |\n",
      "|    value_loss         | 5.37       |\n",
      "--------------------------------------\n"
     ]
    }
   ],
   "source": [
    "trained_a2c = agent.train_model(model=model_a2c, \n",
    "                             tb_log_name='a2c',\n",
    "                             total_timesteps=run_timesteps) if if_using_a2c else None"
   ]
  },
  {
   "cell_type": "code",
   "execution_count": 59,
   "metadata": {},
   "outputs": [
    {
     "name": "stdout",
     "output_type": "stream",
     "text": [
      "{'batch_size': 128, 'buffer_size': 50000, 'learning_rate': 0.001}\n",
      "Using cpu device\n",
      "Logging to results/ddpg\n"
     ]
    }
   ],
   "source": [
    "agent = DRLAgent(env = env_train)\n",
    "model_ddpg = agent.get_model(\"ddpg\")\n",
    "\n",
    "if if_using_ddpg:\n",
    "  # set up logger\n",
    "  tmp_path = RESULTS_DIR + '/ddpg'\n",
    "  new_logger_ddpg = configure(tmp_path, [\"stdout\", \"csv\", \"tensorboard\"])\n",
    "  # Set new logger\n",
    "  model_ddpg.set_logger(new_logger_ddpg)"
   ]
  },
  {
   "cell_type": "code",
   "execution_count": 60,
   "metadata": {},
   "outputs": [],
   "source": [
    "trained_ddpg = agent.train_model(model=model_ddpg,\n",
    "                             tb_log_name='ddpg',\n",
    "                             total_timesteps=run_timesteps) if if_using_ddpg else None"
   ]
  },
  {
   "cell_type": "code",
   "execution_count": 61,
   "metadata": {},
   "outputs": [
    {
     "name": "stdout",
     "output_type": "stream",
     "text": [
      "{'n_steps': 2048, 'ent_coef': 0.01, 'learning_rate': 0.00025, 'batch_size': 128}\n",
      "Using cpu device\n",
      "Logging to results/ppo\n"
     ]
    }
   ],
   "source": [
    "agent = DRLAgent(env = env_train)\n",
    "PPO_PARAMS = {\n",
    "    \"n_steps\": 2048,\n",
    "    \"ent_coef\": 0.01,\n",
    "    \"learning_rate\": 0.00025,\n",
    "    \"batch_size\": 128,\n",
    "}\n",
    "model_ppo = agent.get_model(\"ppo\",model_kwargs = PPO_PARAMS)\n",
    "\n",
    "if if_using_ppo:\n",
    "  # set up logger\n",
    "  tmp_path = RESULTS_DIR + '/ppo'\n",
    "  new_logger_ppo = configure(tmp_path, [\"stdout\", \"csv\", \"tensorboard\"])\n",
    "  # Set new logger\n",
    "  model_ppo.set_logger(new_logger_ppo)"
   ]
  },
  {
   "cell_type": "code",
   "execution_count": 62,
   "metadata": {},
   "outputs": [
    {
     "name": "stdout",
     "output_type": "stream",
     "text": [
      "---------------------------------\n",
      "| time/              |          |\n",
      "|    fps             | 118      |\n",
      "|    iterations      | 1        |\n",
      "|    time_elapsed    | 17       |\n",
      "|    total_timesteps | 2048     |\n",
      "| train/             |          |\n",
      "|    reward          | 0.270183 |\n",
      "---------------------------------\n"
     ]
    }
   ],
   "source": [
    "trained_ppo = agent.train_model(model=model_ppo, \n",
    "                             tb_log_name='ppo',\n",
    "                             total_timesteps=run_timesteps) if if_using_ppo else None"
   ]
  },
  {
   "cell_type": "code",
   "execution_count": 63,
   "metadata": {},
   "outputs": [
    {
     "name": "stdout",
     "output_type": "stream",
     "text": [
      "{'batch_size': 100, 'buffer_size': 100000, 'learning_rate': 0.001}\n",
      "Using cpu device\n",
      "Logging to results/td3\n"
     ]
    }
   ],
   "source": [
    "agent = DRLAgent(env = env_train)\n",
    "TD3_PARAMS = {\"batch_size\": 100, \n",
    "              \"buffer_size\": 100000, \n",
    "              \"learning_rate\": 0.001}\n",
    "\n",
    "model_td3 = agent.get_model(\"td3\",model_kwargs = TD3_PARAMS)\n",
    "\n",
    "if if_using_td3:\n",
    "  # set up logger\n",
    "  tmp_path = RESULTS_DIR + '/td3'\n",
    "  new_logger_td3 = configure(tmp_path, [\"stdout\", \"csv\", \"tensorboard\"])\n",
    "  # Set new logger\n",
    "  model_td3.set_logger(new_logger_td3)"
   ]
  },
  {
   "cell_type": "code",
   "execution_count": 64,
   "metadata": {},
   "outputs": [],
   "source": [
    "trained_td3 = agent.train_model(model=model_td3, \n",
    "                             tb_log_name='td3',\n",
    "                             total_timesteps=run_timesteps) if if_using_td3 else None"
   ]
  },
  {
   "cell_type": "code",
   "execution_count": 65,
   "metadata": {},
   "outputs": [
    {
     "name": "stdout",
     "output_type": "stream",
     "text": [
      "{'batch_size': 128, 'buffer_size': 100000, 'learning_rate': 0.0001, 'learning_starts': 100, 'ent_coef': 'auto_0.1'}\n",
      "Using cpu device\n",
      "Logging to results/sac\n"
     ]
    }
   ],
   "source": [
    "agent = DRLAgent(env = env_train)\n",
    "SAC_PARAMS = {\n",
    "    \"batch_size\": 128,\n",
    "    \"buffer_size\": 100000,\n",
    "    \"learning_rate\": 0.0001,\n",
    "    \"learning_starts\": 100,\n",
    "    \"ent_coef\": \"auto_0.1\",\n",
    "}\n",
    "\n",
    "model_sac = agent.get_model(\"sac\",model_kwargs = SAC_PARAMS)\n",
    "\n",
    "if if_using_sac:\n",
    "  # set up logger\n",
    "  tmp_path = RESULTS_DIR + '/sac'\n",
    "  new_logger_sac = configure(tmp_path, [\"stdout\", \"csv\", \"tensorboard\"])\n",
    "  # Set new logger\n",
    "  model_sac.set_logger(new_logger_sac)"
   ]
  },
  {
   "cell_type": "code",
   "execution_count": 66,
   "metadata": {},
   "outputs": [],
   "source": [
    "trained_sac = agent.train_model(model=model_sac, \n",
    "                             tb_log_name='sac',\n",
    "                             total_timesteps=run_timesteps) if if_using_sac else None"
   ]
  },
  {
   "cell_type": "code",
   "execution_count": 67,
   "metadata": {},
   "outputs": [],
   "source": [
    "data_risk_indicator = processed_full[(processed_full.date<TRAIN_END_DATE) & (processed_full.date>=TRAIN_START_DATE)]\n",
    "insample_risk_indicator = data_risk_indicator.drop_duplicates(subset=['date'])"
   ]
  },
  {
   "cell_type": "code",
   "execution_count": 68,
   "metadata": {},
   "outputs": [
    {
     "data": {
      "text/plain": [
       "count      5282.000000\n",
       "mean        206.682119\n",
       "std        9874.358831\n",
       "min           0.000000\n",
       "25%          24.807409\n",
       "50%          37.307884\n",
       "75%          58.674037\n",
       "max      717004.462018\n",
       "Name: turbulence, dtype: float64"
      ]
     },
     "execution_count": 68,
     "metadata": {},
     "output_type": "execute_result"
    }
   ],
   "source": [
    "insample_risk_indicator.turbulence.describe()"
   ]
  },
  {
   "cell_type": "code",
   "execution_count": 69,
   "metadata": {},
   "outputs": [
    {
     "name": "stderr",
     "output_type": "stream",
     "text": [
      "C:\\Users\\jamil\\AppData\\Local\\Temp\\ipykernel_13028\\455132124.py:8: UserWarning: FigureCanvasAgg is non-interactive, and thus cannot be shown\n",
      "  plt.show()\n"
     ]
    }
   ],
   "source": [
    "plt.figure(figsize=(10,6))\n",
    "filtered_turbulence = insample_risk_indicator.turbulence[insample_risk_indicator.turbulence < 600]\n",
    "sns.histplot(filtered_turbulence, bins=50, kde=True)\n",
    "plt.title('Distribution of turbulence of DJI top 30 stocks')\n",
    "plt.xlabel('Turbulence')\n",
    "plt.ylabel('Frequency')\n",
    "plt.savefig('turbulenceOFdse.png')\n",
    "plt.show()"
   ]
  },
  {
   "cell_type": "code",
   "execution_count": 70,
   "metadata": {},
   "outputs": [
    {
     "data": {
      "text/plain": [
       "1148.9923762238238"
      ]
     },
     "execution_count": 70,
     "metadata": {},
     "output_type": "execute_result"
    }
   ],
   "source": [
    "insample_risk_indicator.turbulence.quantile(0.996)"
   ]
  },
  {
   "cell_type": "code",
   "execution_count": 71,
   "metadata": {},
   "outputs": [],
   "source": [
    "e_trade_gym = StockTradingEnv(df = trade,  **env_kwargs)\n",
    "# env_trade, obs_trade = e_trade_gym.get_sb_env()"
   ]
  },
  {
   "cell_type": "code",
   "execution_count": 72,
   "metadata": {},
   "outputs": [
    {
     "data": {
      "text/html": [
       "<div>\n",
       "<style scoped>\n",
       "    .dataframe tbody tr th:only-of-type {\n",
       "        vertical-align: middle;\n",
       "    }\n",
       "\n",
       "    .dataframe tbody tr th {\n",
       "        vertical-align: top;\n",
       "    }\n",
       "\n",
       "    .dataframe thead th {\n",
       "        text-align: right;\n",
       "    }\n",
       "</style>\n",
       "<table border=\"1\" class=\"dataframe\">\n",
       "  <thead>\n",
       "    <tr style=\"text-align: right;\">\n",
       "      <th></th>\n",
       "      <th>date</th>\n",
       "      <th>tic</th>\n",
       "      <th>open</th>\n",
       "      <th>high</th>\n",
       "      <th>low</th>\n",
       "      <th>close</th>\n",
       "      <th>volume</th>\n",
       "      <th>day</th>\n",
       "      <th>short_resistance</th>\n",
       "      <th>short_support</th>\n",
       "      <th>...</th>\n",
       "      <th>long_support</th>\n",
       "      <th>turbulence</th>\n",
       "      <th>macd</th>\n",
       "      <th>boll_ub</th>\n",
       "      <th>boll_lb</th>\n",
       "      <th>rsi_30</th>\n",
       "      <th>cci_30</th>\n",
       "      <th>dx_30</th>\n",
       "      <th>close_30_sma</th>\n",
       "      <th>close_60_sma</th>\n",
       "    </tr>\n",
       "  </thead>\n",
       "  <tbody>\n",
       "    <tr>\n",
       "      <th>0</th>\n",
       "      <td>2019-01-02</td>\n",
       "      <td>AAPL</td>\n",
       "      <td>38.72</td>\n",
       "      <td>39.71</td>\n",
       "      <td>38.55</td>\n",
       "      <td>39.47</td>\n",
       "      <td>25246257.0</td>\n",
       "      <td>2.0</td>\n",
       "      <td>41.88</td>\n",
       "      <td>36.54</td>\n",
       "      <td>...</td>\n",
       "      <td>36.54</td>\n",
       "      <td>52.44292</td>\n",
       "      <td>-2.073739</td>\n",
       "      <td>45.633711</td>\n",
       "      <td>36.340289</td>\n",
       "      <td>37.754564</td>\n",
       "      <td>-91.585942</td>\n",
       "      <td>40.112990</td>\n",
       "      <td>42.265667</td>\n",
       "      <td>47.736333</td>\n",
       "    </tr>\n",
       "    <tr>\n",
       "      <th>0</th>\n",
       "      <td>2019-01-02</td>\n",
       "      <td>AIG</td>\n",
       "      <td>38.90</td>\n",
       "      <td>39.72</td>\n",
       "      <td>38.67</td>\n",
       "      <td>39.61</td>\n",
       "      <td>3673022.0</td>\n",
       "      <td>2.0</td>\n",
       "      <td>39.97</td>\n",
       "      <td>36.54</td>\n",
       "      <td>...</td>\n",
       "      <td>36.16</td>\n",
       "      <td>52.44292</td>\n",
       "      <td>-0.905049</td>\n",
       "      <td>41.580982</td>\n",
       "      <td>35.482018</td>\n",
       "      <td>42.321901</td>\n",
       "      <td>-23.694910</td>\n",
       "      <td>18.644134</td>\n",
       "      <td>40.185000</td>\n",
       "      <td>42.953333</td>\n",
       "    </tr>\n",
       "    <tr>\n",
       "      <th>0</th>\n",
       "      <td>2019-01-02</td>\n",
       "      <td>AMD</td>\n",
       "      <td>18.04</td>\n",
       "      <td>19.00</td>\n",
       "      <td>17.98</td>\n",
       "      <td>18.83</td>\n",
       "      <td>81833248.0</td>\n",
       "      <td>2.0</td>\n",
       "      <td>19.85</td>\n",
       "      <td>16.03</td>\n",
       "      <td>...</td>\n",
       "      <td>16.03</td>\n",
       "      <td>52.44292</td>\n",
       "      <td>-0.800595</td>\n",
       "      <td>22.588220</td>\n",
       "      <td>15.852780</td>\n",
       "      <td>46.035175</td>\n",
       "      <td>-52.315704</td>\n",
       "      <td>7.553950</td>\n",
       "      <td>19.560333</td>\n",
       "      <td>21.078667</td>\n",
       "    </tr>\n",
       "    <tr>\n",
       "      <th>0</th>\n",
       "      <td>2019-01-02</td>\n",
       "      <td>AMZN</td>\n",
       "      <td>73.26</td>\n",
       "      <td>77.66</td>\n",
       "      <td>73.04</td>\n",
       "      <td>76.97</td>\n",
       "      <td>79442300.0</td>\n",
       "      <td>2.0</td>\n",
       "      <td>79.22</td>\n",
       "      <td>65.34</td>\n",
       "      <td>...</td>\n",
       "      <td>65.34</td>\n",
       "      <td>52.44292</td>\n",
       "      <td>-2.303702</td>\n",
       "      <td>89.227554</td>\n",
       "      <td>66.587446</td>\n",
       "      <td>46.197409</td>\n",
       "      <td>-39.356278</td>\n",
       "      <td>20.061801</td>\n",
       "      <td>78.314667</td>\n",
       "      <td>82.030333</td>\n",
       "    </tr>\n",
       "    <tr>\n",
       "      <th>0</th>\n",
       "      <td>2019-01-02</td>\n",
       "      <td>AXP</td>\n",
       "      <td>93.91</td>\n",
       "      <td>96.27</td>\n",
       "      <td>93.77</td>\n",
       "      <td>95.68</td>\n",
       "      <td>2865401.0</td>\n",
       "      <td>2.0</td>\n",
       "      <td>102.57</td>\n",
       "      <td>89.05</td>\n",
       "      <td>...</td>\n",
       "      <td>89.05</td>\n",
       "      <td>52.44292</td>\n",
       "      <td>-3.550492</td>\n",
       "      <td>114.301392</td>\n",
       "      <td>87.414608</td>\n",
       "      <td>41.271193</td>\n",
       "      <td>-97.370445</td>\n",
       "      <td>20.678080</td>\n",
       "      <td>103.651667</td>\n",
       "      <td>104.245000</td>\n",
       "    </tr>\n",
       "  </tbody>\n",
       "</table>\n",
       "<p>5 rows × 21 columns</p>\n",
       "</div>"
      ],
      "text/plain": [
       "         date   tic   open   high    low  close      volume  day  \\\n",
       "0  2019-01-02  AAPL  38.72  39.71  38.55  39.47  25246257.0  2.0   \n",
       "0  2019-01-02   AIG  38.90  39.72  38.67  39.61   3673022.0  2.0   \n",
       "0  2019-01-02   AMD  18.04  19.00  17.98  18.83  81833248.0  2.0   \n",
       "0  2019-01-02  AMZN  73.26  77.66  73.04  76.97  79442300.0  2.0   \n",
       "0  2019-01-02   AXP  93.91  96.27  93.77  95.68   2865401.0  2.0   \n",
       "\n",
       "   short_resistance  short_support  ...  long_support  turbulence      macd  \\\n",
       "0             41.88          36.54  ...         36.54    52.44292 -2.073739   \n",
       "0             39.97          36.54  ...         36.16    52.44292 -0.905049   \n",
       "0             19.85          16.03  ...         16.03    52.44292 -0.800595   \n",
       "0             79.22          65.34  ...         65.34    52.44292 -2.303702   \n",
       "0            102.57          89.05  ...         89.05    52.44292 -3.550492   \n",
       "\n",
       "      boll_ub    boll_lb     rsi_30     cci_30      dx_30  close_30_sma  \\\n",
       "0   45.633711  36.340289  37.754564 -91.585942  40.112990     42.265667   \n",
       "0   41.580982  35.482018  42.321901 -23.694910  18.644134     40.185000   \n",
       "0   22.588220  15.852780  46.035175 -52.315704   7.553950     19.560333   \n",
       "0   89.227554  66.587446  46.197409 -39.356278  20.061801     78.314667   \n",
       "0  114.301392  87.414608  41.271193 -97.370445  20.678080    103.651667   \n",
       "\n",
       "   close_60_sma  \n",
       "0     47.736333  \n",
       "0     42.953333  \n",
       "0     21.078667  \n",
       "0     82.030333  \n",
       "0    104.245000  \n",
       "\n",
       "[5 rows x 21 columns]"
      ]
     },
     "execution_count": 72,
     "metadata": {},
     "output_type": "execute_result"
    }
   ],
   "source": [
    "trade.head()"
   ]
  },
  {
   "cell_type": "code",
   "execution_count": 73,
   "metadata": {},
   "outputs": [
    {
     "name": "stdout",
     "output_type": "stream",
     "text": [
      "hit end!\n"
     ]
    }
   ],
   "source": [
    "trained_moedl = trained_a2c\n",
    "df_account_value_a2c, df_actions_a2c = DRLAgent.DRL_prediction(\n",
    "    model=trained_moedl,\n",
    "    environment = e_trade_gym)\n",
    "\n",
    "# Save the actions DataFrame to a CSV file\n",
    "df_actions_a2c.to_csv(\"actions_a2c.csv\", index=True)  # Include index for date information\n"
   ]
  },
  {
   "cell_type": "code",
   "execution_count": 74,
   "metadata": {},
   "outputs": [
    {
     "name": "stdout",
     "output_type": "stream",
     "text": [
      "hit end!\n"
     ]
    }
   ],
   "source": [
    "trained_moedl = trained_ddpg\n",
    "df_account_value_ddpg, df_actions_ddpg = DRLAgent.DRL_prediction(\n",
    "    model=trained_moedl,\n",
    "    environment = e_trade_gym)\n",
    "df_actions_ddpg.to_csv(\"actions_ddpg.csv\", index=True)  # Include index for date information\n",
    "\n"
   ]
  },
  {
   "cell_type": "code",
   "execution_count": 75,
   "metadata": {},
   "outputs": [
    {
     "name": "stdout",
     "output_type": "stream",
     "text": [
      "hit end!\n"
     ]
    }
   ],
   "source": [
    "trained_moedl = trained_ppo\n",
    "df_account_value_ppo, df_actions_ppo = DRLAgent.DRL_prediction(\n",
    "    model=trained_moedl,\n",
    "    environment = e_trade_gym)"
   ]
  },
  {
   "cell_type": "code",
   "execution_count": 76,
   "metadata": {},
   "outputs": [
    {
     "name": "stdout",
     "output_type": "stream",
     "text": [
      "hit end!\n"
     ]
    }
   ],
   "source": [
    "trained_moedl = trained_td3\n",
    "df_account_value_td3, df_actions_td3 = DRLAgent.DRL_prediction(\n",
    "    model=trained_moedl,\n",
    "    environment = e_trade_gym)"
   ]
  },
  {
   "cell_type": "code",
   "execution_count": 77,
   "metadata": {},
   "outputs": [
    {
     "name": "stdout",
     "output_type": "stream",
     "text": [
      "hit end!\n"
     ]
    }
   ],
   "source": [
    "trained_moedl = trained_sac\n",
    "df_account_value_sac, df_actions_sac = DRLAgent.DRL_prediction(\n",
    "    model=trained_moedl,\n",
    "    environment = e_trade_gym)"
   ]
  },
  {
   "cell_type": "code",
   "execution_count": 78,
   "metadata": {},
   "outputs": [
    {
     "name": "stdout",
     "output_type": "stream",
     "text": [
      "A2C: 4153675.311680002\n",
      "DDPG: 3672484.8174800007\n",
      "PPO: 2134948.6979250005\n",
      "TD3: 3924237.02068\n",
      "SAC: 2985385.847370001\n"
     ]
    }
   ],
   "source": [
    "# print max of each model\n",
    "print('A2C:', df_account_value_a2c['account_value'].max())\n",
    "print('DDPG:', df_account_value_ddpg['account_value'].max())\n",
    "print('PPO:', df_account_value_ppo['account_value'].max())\n",
    "print('TD3:', df_account_value_td3['account_value'].max())\n",
    "print('SAC:', df_account_value_sac['account_value'].max())"
   ]
  },
  {
   "cell_type": "code",
   "execution_count": 79,
   "metadata": {},
   "outputs": [],
   "source": [
    "import pickle\n",
    "# save account value and action\n",
    "\n",
    "# A2C\n",
    "root_dir = 'account_values_actions_cashloss'\n",
    "sub_dir = 'orginal'\n",
    "if not os.path.exists(root_dir):\n",
    "    os.mkdir(root_dir)\n",
    "if not os.path.exists(os.path.join(root_dir, sub_dir)):\n",
    "    os.mkdir(os.path.join(root_dir, sub_dir))\n",
    "\n",
    "root_dir = os.path.join(root_dir, sub_dir)\n",
    "file_path = os.path.join(root_dir, 'df_account_value_a2c.pkl')\n",
    "with open(file_path, 'wb') as f:\n",
    "    pickle.dump(df_account_value_a2c, f)\n",
    "file_path = os.path.join(root_dir, 'df_actions_a2c.pkl')\n",
    "with open(file_path, 'wb') as f:\n",
    "    pickle.dump(df_actions_a2c, f)\n",
    "\n",
    "# DDPG\n",
    "file_path = os.path.join(root_dir, 'df_account_value_ddpg.pkl')\n",
    "with open(file_path, 'wb') as f:\n",
    "    pickle.dump(df_account_value_ddpg, f)\n",
    "\n",
    "file_path = os.path.join(root_dir, 'df_actions_ddpg.pkl')\n",
    "with open(file_path, 'wb') as f:\n",
    "    pickle.dump(df_actions_ddpg, f)\n",
    "\n",
    "# PPO\n",
    "file_path = os.path.join(root_dir, 'df_account_value_ppo.pkl')\n",
    "with open(file_path, 'wb') as f:\n",
    "    pickle.dump(df_account_value_ppo, f)\n",
    "\n",
    "file_path = os.path.join(root_dir, 'df_actions_ppo.pkl')\n",
    "with open(file_path, 'wb') as f:\n",
    "    pickle.dump(df_actions_ppo, f)\n",
    "\n",
    "# TD3\n",
    "file_path = os.path.join(root_dir, 'df_account_value_td3.pkl')\n",
    "with open(file_path, 'wb') as f:\n",
    "    pickle.dump(df_account_value_td3, f)\n",
    "\n",
    "file_path = os.path.join(root_dir, 'df_actions_td3.pkl')\n",
    "with open(file_path, 'wb') as f:\n",
    "    pickle.dump(df_actions_td3, f)\n",
    "\n",
    "# SAC\n",
    "file_path = os.path.join(root_dir, 'df_account_value_sac.pkl')\n",
    "with open(file_path, 'wb') as f:\n",
    "    pickle.dump(df_account_value_sac, f)\n",
    "\n",
    "file_path = os.path.join(root_dir, 'df_actions_sac.pkl')\n",
    "with open(file_path, 'wb') as f:\n",
    "    pickle.dump(df_actions_sac, f)\n",
    "\n"
   ]
  },
  {
   "cell_type": "code",
   "execution_count": 80,
   "metadata": {},
   "outputs": [],
   "source": [
    "fst = mvo_df\n",
    "fst = fst.iloc[0*stock_dimension:0*stock_dimension+stock_dimension, :]\n",
    "tic = fst['tic'].tolist()\n",
    "\n",
    "mvo = pd.DataFrame()\n",
    "\n",
    "for k in range(len(tic)):\n",
    "  mvo[tic[k]] = 0\n",
    "\n",
    "for i in range(mvo_df.shape[0]//stock_dimension):\n",
    "  n = mvo_df\n",
    "  n = n.iloc[i*stock_dimension:i*stock_dimension+stock_dimension, :]\n",
    "  date = n['date'][i*stock_dimension]\n",
    "  mvo.loc[date] = n['close'].tolist()"
   ]
  },
  {
   "cell_type": "code",
   "execution_count": 81,
   "metadata": {},
   "outputs": [
    {
     "data": {
      "text/plain": [
       "6579"
      ]
     },
     "execution_count": 81,
     "metadata": {},
     "output_type": "execute_result"
    }
   ],
   "source": [
    "mvo.shape[0]"
   ]
  },
  {
   "cell_type": "code",
   "execution_count": 82,
   "metadata": {},
   "outputs": [],
   "source": [
    "from scipy import optimize \n",
    "from scipy.optimize import linprog\n",
    "\n",
    "#function obtains maximal return portfolio using linear programming\n",
    "\n",
    "def MaximizeReturns(MeanReturns, PortfolioSize):\n",
    "    \n",
    "  #dependencies\n",
    "  \n",
    "    \n",
    "  c = (np.multiply(-1, MeanReturns))\n",
    "  A = np.ones([PortfolioSize,1]).T\n",
    "  b=[1]\n",
    "  res = linprog(c, A_ub = A, b_ub = b, bounds = (0,1), method = 'simplex') \n",
    "    \n",
    "  return res\n",
    "\n",
    "def MinimizeRisk(CovarReturns, PortfolioSize):\n",
    "    \n",
    "  def f(x, CovarReturns):\n",
    "    func = np.matmul(np.matmul(x, CovarReturns), x.T) \n",
    "    return func\n",
    "\n",
    "  def constraintEq(x):\n",
    "    A=np.ones(x.shape)\n",
    "    b=1\n",
    "    constraintVal = np.matmul(A,x.T)-b \n",
    "    return constraintVal\n",
    "    \n",
    "  xinit=np.repeat(0.1, PortfolioSize)\n",
    "  cons = ({'type': 'eq', 'fun':constraintEq})\n",
    "  lb = 0\n",
    "  ub = 1\n",
    "  bnds = tuple([(lb,ub) for x in xinit])\n",
    "\n",
    "  opt = optimize.minimize (f, x0 = xinit, args = (CovarReturns),  bounds = bnds, \\\n",
    "                             constraints = cons, tol = 10**-3)\n",
    "    \n",
    "  return opt\n",
    "\n",
    "def MinimizeRiskConstr(MeanReturns, CovarReturns, PortfolioSize, R):\n",
    "    \n",
    "  def  f(x,CovarReturns):\n",
    "         \n",
    "    func = np.matmul(np.matmul(x,CovarReturns ), x.T)\n",
    "    return func\n",
    "\n",
    "  def constraintEq(x):\n",
    "    AEq=np.ones(x.shape)\n",
    "    bEq=1\n",
    "    EqconstraintVal = np.matmul(AEq,x.T)-bEq \n",
    "    return EqconstraintVal\n",
    "    \n",
    "  def constraintIneq(x, MeanReturns, R):\n",
    "    AIneq = np.array(MeanReturns)\n",
    "    bIneq = R\n",
    "    IneqconstraintVal = np.matmul(AIneq,x.T) - bIneq\n",
    "    return IneqconstraintVal\n",
    "    \n",
    "\n",
    "  xinit=np.repeat(0.1, PortfolioSize)\n",
    "  cons = ({'type': 'eq', 'fun':constraintEq},\n",
    "          {'type':'ineq', 'fun':constraintIneq, 'args':(MeanReturns,R) })\n",
    "  lb = 0\n",
    "  ub = 1\n",
    "  bnds = tuple([(lb,ub) for x in xinit])\n",
    "\n",
    "  opt = optimize.minimize (f, args = (CovarReturns), method ='trust-constr',  \\\n",
    "                x0 = xinit,   bounds = bnds, constraints = cons, tol = 10**-3)\n",
    "    \n",
    "  return opt"
   ]
  },
  {
   "cell_type": "code",
   "execution_count": 83,
   "metadata": {},
   "outputs": [],
   "source": [
    "def StockReturnsComputing(StockPrice, Rows, Columns): \n",
    "  import numpy as np \n",
    "  StockReturn = np.zeros([Rows-1, Columns]) \n",
    "  for j in range(Columns):        # j: Assets \n",
    "    for i in range(Rows-1):     # i: Daily Prices \n",
    "      StockReturn[i,j]=((StockPrice[i+1, j]-StockPrice[i,j])/StockPrice[i,j])* 100 \n",
    "      \n",
    "  return StockReturn"
   ]
  },
  {
   "cell_type": "code",
   "execution_count": 84,
   "metadata": {},
   "outputs": [
    {
     "data": {
      "text/plain": [
       "array([[ 39.47,  39.61,  18.83, ...,  91.85,  46.35,  41.6 ],\n",
       "       [ 35.52,  38.75,  17.05, ...,  88.8 ,  45.71,  41.34],\n",
       "       [ 37.06,  40.17,  19.  , ...,  91.98,  46.83,  42.63],\n",
       "       ...,\n",
       "       [193.59,  67.85, 148.72, ..., 109.02,  43.64,  44.66],\n",
       "       [192.72,  67.77, 147.48, ..., 107.72,  43.31,  43.88],\n",
       "       [192.5 ,  67.75, 147.43, ..., 107.69,  43.28,  43.87]])"
      ]
     },
     "execution_count": 84,
     "metadata": {},
     "output_type": "execute_result"
    }
   ],
   "source": [
    "# Obtain optimal portfolio sets that maximize return and minimize risk\n",
    "\n",
    "#Dependencies\n",
    "import numpy as np\n",
    "import pandas as pd\n",
    "\n",
    "\n",
    "#input k-portfolio 1 dataset comprising 15 stocks\n",
    "# StockFileName = './DJIA_Apr112014_Apr112019_kpf1.csv'\n",
    "\n",
    "Rows = mvo.shape[0] #number of rows\n",
    "Columns = stock_dimension  #excluding date\n",
    "portfolioSize = stock_dimension #set portfolio size\n",
    "\n",
    "#read stock prices in a dataframe\n",
    "# df = pd.read_csv(StockFileName,  nrows= Rows)\n",
    "\n",
    "#extract asset labels\n",
    "# assetLabels = df.columns[1:Columns+1].tolist()\n",
    "# print(assetLabels)\n",
    "\n",
    "#extract asset prices\n",
    "# StockData = df.iloc[0:, 1:]\n",
    "StockData = mvo[mvo.index <= TRAIN_END_DATE]\n",
    "TradeData = mvo[mvo.index > TRADE_START_DATE]\n",
    "# df.head()\n",
    "TradeData.to_numpy()\n"
   ]
  },
  {
   "cell_type": "code",
   "execution_count": 85,
   "metadata": {},
   "outputs": [
    {
     "name": "stdout",
     "output_type": "stream",
     "text": [
      "Mean returns of assets in k-portfolio 1\n",
      " [ 0.245  0.278  0.084  0.145  0.035  0.055  0.046  0.17  -0.017  0.029\n",
      "  0.028  0.025  0.033  0.011  0.03   0.024  0.03   0.04   0.042  0.044\n",
      "  0.016  0.036]\n",
      "Variance-Covariance matrix of returns\n",
      " [[ 78.546   1.868   4.03    3.286   1.893   1.301   2.185   2.294   1.757\n",
      "    1.878   3.16    0.675   2.293   1.81    1.115   2.023   1.879   1.62\n",
      "    2.012   1.975   1.454   1.698]\n",
      " [  1.868 432.858   3.233   1.474   3.311   1.804   4.939   5.427   3.009\n",
      "    4.408   3.225   1.236   3.563   3.632   1.937   2.075   2.631   2.946\n",
      "    3.724   3.081   2.645   3.538]\n",
      " [  4.03    3.233  16.812   3.968   2.796   2.001   3.208   3.683   2.317\n",
      "    2.796   4.659   0.732   3.101   2.645   1.508   2.596   2.584   2.297\n",
      "    2.805   3.291   2.137   2.713]\n",
      " [  3.286   1.474   3.968  15.731   2.499   1.673   2.639   3.252   2.076\n",
      "    1.993   3.021   0.74    2.75    1.957   1.38    2.594   2.218   2.036\n",
      "    2.364   2.696   1.78    2.017]\n",
      " [  1.893   3.311   2.796   2.499   5.973   1.902   4.238   4.187   2.54\n",
      "    3.69    2.124   1.026   3.844   3.702   1.665   1.898   3.021   3.279\n",
      "    3.552   3.413   3.136   3.447]\n",
      " [  1.301   1.804   2.001   1.673   1.902   3.78    2.265   2.218   1.653\n",
      "    1.793   1.574   0.793   1.957   1.871   1.301   1.37    1.704   1.684\n",
      "    2.037   1.952   1.534   1.766]\n",
      " [  2.185   4.939   3.208   2.639   4.238   2.265  10.619   6.478   2.975\n",
      "    6.18    2.438   1.011   5.349   5.679   1.836   1.907   3.781   4.888\n",
      "    4.793   4.003   4.438   5.245]\n",
      " [  2.294   5.427   3.683   3.252   4.187   2.218   6.478 155.116   3.231\n",
      "    5.666   2.309   1.235   5.432   5.204   1.908   2.221   3.867   4.382\n",
      "    4.685   4.245   4.095   4.955]\n",
      " [  1.757   3.009   2.317   2.076   2.54    1.653   2.975   3.231   4.511\n",
      "    2.734   1.957   0.885   2.793   2.529   1.446   1.634   2.068   2.257\n",
      "    2.599   2.515   2.045   2.384]\n",
      " [  1.878   4.408   2.796   1.993   3.69    1.793   6.18    5.666   2.734\n",
      "   10.369   2.117   0.962   4.47    6.086   1.752   1.635   3.579   4.609\n",
      "    4.219   3.675   4.079   6.037]\n",
      " [  3.16    3.225   4.659   3.021   2.124   1.574   2.438   2.309   1.957\n",
      "    2.117   6.661   0.785   2.486   1.972   1.351   2.681   2.171   1.83\n",
      "    2.268   2.529   1.714   1.847]\n",
      " [  0.675   1.236   0.732   0.74    1.026   0.793   1.011   1.235   0.885\n",
      "    0.962   0.785   2.054   0.961   1.03    0.729   0.707   0.988   0.864\n",
      "    1.127   1.135   0.837   0.872]\n",
      " [  2.293   3.563   3.101   2.75    3.844   1.957   5.349   5.432   2.793\n",
      "    4.47    2.486   0.961   6.799   4.389   1.745   2.078   3.609   4.22\n",
      "    4.293   3.836   3.803   4.182]\n",
      " [  1.81    3.632   2.645   1.957   3.702   1.871   5.679   5.204   2.529\n",
      "    6.086   1.972   1.03    4.389   7.989   1.696   1.672   3.566   4.252\n",
      "    4.314   3.511   3.992   5.286]\n",
      " [  1.115   1.937   1.508   1.38    1.665   1.301   1.836   1.908   1.446\n",
      "    1.752   1.351   0.729   1.745   1.696   2.667   1.084   1.496   1.522\n",
      "    1.773   1.799   1.461   1.596]\n",
      " [  2.023   2.075   2.596   2.594   1.898   1.37    1.907   2.221   1.634\n",
      "    1.635   2.681   0.707   2.078   1.672   1.084   5.195   1.845   1.566\n",
      "    1.89    2.083   1.437   1.56 ]\n",
      " [  1.879   2.631   2.584   2.218   3.021   1.704   3.781   3.867   2.068\n",
      "    3.579   2.171   0.988   3.609   3.566   1.496   1.845   5.108   3.37\n",
      "    3.825   3.3     3.009   3.369]\n",
      " [  1.62    2.946   2.297   2.036   3.279   1.684   4.888   4.382   2.257\n",
      "    4.609   1.83    0.864   4.22    4.252   1.522   1.566   3.37    5.277\n",
      "    4.173   3.315   3.701   4.347]\n",
      " [  2.012   3.724   2.805   2.364   3.552   2.037   4.793   4.685   2.599\n",
      "    4.219   2.268   1.127   4.293   4.314   1.773   1.89    3.825   4.173\n",
      "    7.336   3.689   3.477   4.053]\n",
      " [  1.975   3.081   3.291   2.696   3.413   1.952   4.003   4.245   2.515\n",
      "    3.675   2.529   1.135   3.836   3.511   1.799   2.083   3.3     3.315\n",
      "    3.689   6.829   3.027   3.492]\n",
      " [  1.454   2.645   2.137   1.78    3.136   1.534   4.438   4.095   2.045\n",
      "    4.079   1.714   0.837   3.803   3.992   1.461   1.437   3.009   3.701\n",
      "    3.477   3.027   5.744   3.785]\n",
      " [  1.698   3.538   2.713   2.017   3.447   1.766   5.245   4.955   2.384\n",
      "    6.037   1.847   0.872   4.182   5.286   1.596   1.56    3.369   4.347\n",
      "    4.053   3.492   3.785   7.746]]\n"
     ]
    }
   ],
   "source": [
    "#compute asset returns\n",
    "arStockPrices = np.asarray(StockData)\n",
    "[Rows, Cols]=arStockPrices.shape\n",
    "arReturns = StockReturnsComputing(arStockPrices, Rows, Cols)\n",
    "\n",
    "\n",
    "#compute mean returns and variance covariance matrix of returns\n",
    "meanReturns = np.mean(arReturns, axis = 0)\n",
    "covReturns = np.cov(arReturns, rowvar=False)\n",
    " \n",
    "#set precision for printing results\n",
    "np.set_printoptions(precision=3, suppress = True)\n",
    "\n",
    "#display mean returns and variance-covariance matrix of returns\n",
    "print('Mean returns of assets in k-portfolio 1\\n', meanReturns)\n",
    "print('Variance-Covariance matrix of returns\\n', covReturns)\n"
   ]
  },
  {
   "cell_type": "code",
   "execution_count": 86,
   "metadata": {},
   "outputs": [
    {
     "data": {
      "text/plain": [
       "array([194840.,  39920., 145180., 400000.,      0., 400000.,      0.,\n",
       "        54000.,      0.,      0.,      0., 400000.,      0.,      0.,\n",
       "       305680.,      0.,      0.,  60380.,      0.,      0.,      0.,\n",
       "            0.])"
      ]
     },
     "execution_count": 86,
     "metadata": {},
     "output_type": "execute_result"
    }
   ],
   "source": [
    "from pypfopt.efficient_frontier import EfficientFrontier\n",
    "\n",
    "ef_mean = EfficientFrontier(meanReturns, covReturns, weight_bounds=(0, 0.2))\n",
    "raw_weights_mean = ef_mean.max_sharpe()\n",
    "cleaned_weights_mean = ef_mean.clean_weights()\n",
    "mvo_weights = np.array([2000000 * cleaned_weights_mean[i] for i in range(stock_dimension)])\n",
    "mvo_weights"
   ]
  },
  {
   "cell_type": "code",
   "execution_count": 87,
   "metadata": {},
   "outputs": [
    {
     "data": {
      "text/html": [
       "<div>\n",
       "<style scoped>\n",
       "    .dataframe tbody tr th:only-of-type {\n",
       "        vertical-align: middle;\n",
       "    }\n",
       "\n",
       "    .dataframe tbody tr th {\n",
       "        vertical-align: top;\n",
       "    }\n",
       "\n",
       "    .dataframe thead th {\n",
       "        text-align: right;\n",
       "    }\n",
       "</style>\n",
       "<table border=\"1\" class=\"dataframe\">\n",
       "  <thead>\n",
       "    <tr style=\"text-align: right;\">\n",
       "      <th></th>\n",
       "      <th>AAPL</th>\n",
       "      <th>AIG</th>\n",
       "      <th>AMD</th>\n",
       "      <th>AMZN</th>\n",
       "      <th>AXP</th>\n",
       "      <th>BA</th>\n",
       "      <th>BAC</th>\n",
       "      <th>C</th>\n",
       "      <th>GE</th>\n",
       "      <th>HBAN</th>\n",
       "      <th>...</th>\n",
       "      <th>JPM</th>\n",
       "      <th>KEY</th>\n",
       "      <th>MMM</th>\n",
       "      <th>MSFT</th>\n",
       "      <th>NTRS</th>\n",
       "      <th>PNC</th>\n",
       "      <th>STT</th>\n",
       "      <th>TROW</th>\n",
       "      <th>USB</th>\n",
       "      <th>ZION</th>\n",
       "    </tr>\n",
       "  </thead>\n",
       "  <tbody>\n",
       "    <tr>\n",
       "      <th>2018-12-31</th>\n",
       "      <td>39.48</td>\n",
       "      <td>39.41</td>\n",
       "      <td>18.46</td>\n",
       "      <td>75.21</td>\n",
       "      <td>95.3</td>\n",
       "      <td>322.5</td>\n",
       "      <td>24.67</td>\n",
       "      <td>52.05</td>\n",
       "      <td>60.56</td>\n",
       "      <td>11.92</td>\n",
       "      <td>...</td>\n",
       "      <td>97.74</td>\n",
       "      <td>14.78</td>\n",
       "      <td>190.53</td>\n",
       "      <td>101.66</td>\n",
       "      <td>83.63</td>\n",
       "      <td>116.9</td>\n",
       "      <td>63.08</td>\n",
       "      <td>92.35</td>\n",
       "      <td>45.72</td>\n",
       "      <td>40.74</td>\n",
       "    </tr>\n",
       "  </tbody>\n",
       "</table>\n",
       "<p>1 rows × 22 columns</p>\n",
       "</div>"
      ],
      "text/plain": [
       "             AAPL    AIG    AMD   AMZN   AXP     BA    BAC      C     GE  \\\n",
       "2018-12-31  39.48  39.41  18.46  75.21  95.3  322.5  24.67  52.05  60.56   \n",
       "\n",
       "             HBAN  ...    JPM    KEY     MMM    MSFT   NTRS    PNC    STT  \\\n",
       "2018-12-31  11.92  ...  97.74  14.78  190.53  101.66  83.63  116.9  63.08   \n",
       "\n",
       "             TROW    USB   ZION  \n",
       "2018-12-31  92.35  45.72  40.74  \n",
       "\n",
       "[1 rows x 22 columns]"
      ]
     },
     "execution_count": 87,
     "metadata": {},
     "output_type": "execute_result"
    }
   ],
   "source": [
    "StockData.tail(1)"
   ]
  },
  {
   "cell_type": "code",
   "execution_count": 88,
   "metadata": {},
   "outputs": [
    {
     "data": {
      "text/plain": [
       "array([4935.157, 1012.941, 7864.572, 5318.442,    0.   , 1240.31 ,\n",
       "          0.   , 1037.464,    0.   ,    0.   ,    0.   , 3099.094,\n",
       "          0.   ,    0.   , 1604.367,    0.   ,    0.   ,  516.51 ,\n",
       "          0.   ,    0.   ,    0.   ,    0.   ])"
      ]
     },
     "execution_count": 88,
     "metadata": {},
     "output_type": "execute_result"
    }
   ],
   "source": [
    "LastPrice = np.array([1/p for p in StockData.tail(1).to_numpy()[0]])\n",
    "Initial_Portfolio = np.multiply(mvo_weights, LastPrice)\n",
    "Initial_Portfolio"
   ]
  },
  {
   "cell_type": "code",
   "execution_count": 89,
   "metadata": {},
   "outputs": [
    {
     "data": {
      "text/html": [
       "<div>\n",
       "<style scoped>\n",
       "    .dataframe tbody tr th:only-of-type {\n",
       "        vertical-align: middle;\n",
       "    }\n",
       "\n",
       "    .dataframe tbody tr th {\n",
       "        vertical-align: top;\n",
       "    }\n",
       "\n",
       "    .dataframe thead th {\n",
       "        text-align: right;\n",
       "    }\n",
       "</style>\n",
       "<table border=\"1\" class=\"dataframe\">\n",
       "  <thead>\n",
       "    <tr style=\"text-align: right;\">\n",
       "      <th></th>\n",
       "      <th>Mean Var</th>\n",
       "    </tr>\n",
       "  </thead>\n",
       "  <tbody>\n",
       "    <tr>\n",
       "      <th>2019-01-02</th>\n",
       "      <td>2.012919e+06</td>\n",
       "    </tr>\n",
       "    <tr>\n",
       "      <th>2019-01-03</th>\n",
       "      <td>1.933033e+06</td>\n",
       "    </tr>\n",
       "    <tr>\n",
       "      <th>2019-01-04</th>\n",
       "      <td>2.020266e+06</td>\n",
       "    </tr>\n",
       "    <tr>\n",
       "      <th>2019-01-07</th>\n",
       "      <td>2.045610e+06</td>\n",
       "    </tr>\n",
       "    <tr>\n",
       "      <th>2019-01-08</th>\n",
       "      <td>2.083809e+06</td>\n",
       "    </tr>\n",
       "    <tr>\n",
       "      <th>...</th>\n",
       "      <td>...</td>\n",
       "    </tr>\n",
       "    <tr>\n",
       "      <th>2023-12-26</th>\n",
       "      <td>4.081555e+06</td>\n",
       "    </tr>\n",
       "    <tr>\n",
       "      <th>2023-12-27</th>\n",
       "      <td>4.104372e+06</td>\n",
       "    </tr>\n",
       "    <tr>\n",
       "      <th>2023-12-28</th>\n",
       "      <td>4.127494e+06</td>\n",
       "    </tr>\n",
       "    <tr>\n",
       "      <th>2023-12-29</th>\n",
       "      <td>4.106478e+06</td>\n",
       "    </tr>\n",
       "    <tr>\n",
       "      <th>2023-12-30</th>\n",
       "      <td>4.103992e+06</td>\n",
       "    </tr>\n",
       "  </tbody>\n",
       "</table>\n",
       "<p>1296 rows × 1 columns</p>\n",
       "</div>"
      ],
      "text/plain": [
       "                Mean Var\n",
       "2019-01-02  2.012919e+06\n",
       "2019-01-03  1.933033e+06\n",
       "2019-01-04  2.020266e+06\n",
       "2019-01-07  2.045610e+06\n",
       "2019-01-08  2.083809e+06\n",
       "...                  ...\n",
       "2023-12-26  4.081555e+06\n",
       "2023-12-27  4.104372e+06\n",
       "2023-12-28  4.127494e+06\n",
       "2023-12-29  4.106478e+06\n",
       "2023-12-30  4.103992e+06\n",
       "\n",
       "[1296 rows x 1 columns]"
      ]
     },
     "execution_count": 89,
     "metadata": {},
     "output_type": "execute_result"
    }
   ],
   "source": [
    "Portfolio_Assets = TradeData @ Initial_Portfolio\n",
    "MVO_result = pd.DataFrame(Portfolio_Assets, columns=[\"Mean Var\"])\n",
    "MVO_result"
   ]
  },
  {
   "cell_type": "code",
   "execution_count": 90,
   "metadata": {},
   "outputs": [
    {
     "name": "stdout",
     "output_type": "stream",
     "text": [
      "result:                       a2c          ddpg           td3           ppo  \\\n",
      "2019-01-02  2.000000e+06  2.000000e+06  2.000000e+06  2.000000e+06   \n",
      "2019-01-03  1.999653e+06  1.997445e+06  1.998148e+06  1.999995e+06   \n",
      "2019-01-04  2.000611e+06  2.004853e+06  2.002537e+06  2.000020e+06   \n",
      "2019-01-07  2.000820e+06  2.007254e+06  2.004708e+06  2.000046e+06   \n",
      "2019-01-08  2.001058e+06  2.009261e+06  2.004888e+06  2.000040e+06   \n",
      "...                  ...           ...           ...           ...   \n",
      "2023-12-23  3.795422e+06  3.154794e+06  3.443637e+06  2.094046e+06   \n",
      "2023-12-26  3.864139e+06  3.187118e+06  3.475615e+06  2.100695e+06   \n",
      "2023-12-27  3.902636e+06  3.200222e+06  3.494259e+06  2.102128e+06   \n",
      "2023-12-28  3.941439e+06  3.216984e+06  3.509663e+06  2.103266e+06   \n",
      "2023-12-29  3.915480e+06  3.202607e+06  3.487974e+06  2.097973e+06   \n",
      "\n",
      "                     sac           mvo  \n",
      "2019-01-02  2.000000e+06  2.012919e+06  \n",
      "2019-01-03  1.997473e+06  1.933033e+06  \n",
      "2019-01-04  2.004322e+06  2.020266e+06  \n",
      "2019-01-07  2.005472e+06  2.045610e+06  \n",
      "2019-01-08  2.006869e+06  2.083809e+06  \n",
      "...                  ...           ...  \n",
      "2023-12-23  2.380140e+06  4.044566e+06  \n",
      "2023-12-26  2.416666e+06  4.081555e+06  \n",
      "2023-12-27  2.426032e+06  4.104372e+06  \n",
      "2023-12-28  2.428433e+06  4.127494e+06  \n",
      "2023-12-29  2.419700e+06  4.106478e+06  \n",
      "\n",
      "[1295 rows x 6 columns]\n"
     ]
    }
   ],
   "source": [
    "df_result_a2c = df_account_value_a2c.set_index(df_account_value_a2c.columns[0])\n",
    "df_result_ddpg = df_account_value_ddpg.set_index(df_account_value_ddpg.columns[0])\n",
    "df_result_td3 = df_account_value_td3.set_index(df_account_value_td3.columns[0])\n",
    "df_result_ppo = df_account_value_ppo.set_index(df_account_value_ppo.columns[0])\n",
    "df_result_sac = df_account_value_sac.set_index(df_account_value_sac.columns[0])\n",
    "df_account_value_a2c.to_csv(\"df_account_value_a2c.csv\")\n",
    "\n",
    "result = pd.merge(df_result_a2c, df_result_ddpg, left_index=True, right_index=True, suffixes=('_a2c', '_ddpg'))\n",
    "result = pd.merge(result, df_result_td3, left_index=True, right_index=True, suffixes=('', '_td3'))\n",
    "result = pd.merge(result, df_result_ppo, left_index=True, right_index=True, suffixes=('', '_ppo'))\n",
    "result = pd.merge(result, df_result_sac, left_index=True, right_index=True, suffixes=('', '_sac'))\n",
    "result = pd.merge(result, MVO_result, left_index=True, right_index=True, suffixes=('', '_mvo'))\n",
    "result.columns = ['a2c', 'ddpg', 'td3', 'ppo', 'sac', 'mvo']\n",
    "\n",
    "print(\"result: \", result)\n",
    "result.to_csv(\"result.csv\")"
   ]
  },
  {
   "cell_type": "code",
   "execution_count": 91,
   "metadata": {},
   "outputs": [
    {
     "data": {
      "image/png": "[encoded data removed]",
      "text/plain": [
       "<Figure size 1000x600 with 1 Axes>"
      ]
     },
     "metadata": {},
     "output_type": "display_data"
    },
    {
     "data": {
      "image/png": "[encoded data removed]",
      "text/plain": [
       "<Figure size 1000x600 with 1 Axes>"
      ]
     },
     "metadata": {},
     "output_type": "display_data"
    },
    {
     "data": {
      "text/plain": [
       "<Figure size 1500x500 with 0 Axes>"
      ]
     },
     "metadata": {},
     "output_type": "display_data"
    },
    {
     "data": {
      "image/png": "[encoded data removed]",
      "text/plain": [
       "<Figure size 1500x500 with 1 Axes>"
      ]
     },
     "metadata": {},
     "output_type": "display_data"
    }
   ],
   "source": [
    "%matplotlib inline\n",
    "plt.rcParams[\"figure.figsize\"] = (15,5)\n",
    "plt.figure();\n",
    "result.plot();"
   ]
  },
  {
   "cell_type": "code",
   "execution_count": 92,
   "metadata": {},
   "outputs": [],
   "source": [
    "# make a table of initial and final value, annual return, sharpe ratio, max drawdown\n",
    "# initial value\n",
    "initial_value = result.iloc[0]\n",
    "# final value\n",
    "final_value = result.iloc[-1]\n",
    "# annual return\n",
    "annual_return = (final_value/initial_value)**(1/3) - 1\n",
    "annual_return = annual_return * 100\n",
    "# sharpe ratio\n",
    "sharpe_ratio = annual_return / result.std()\n",
    "# max drawdown\n",
    "max_drawdown = (result - result.expanding().max()).min()\n",
    "# combine all the metrics\n"
   ]
  },
  {
   "cell_type": "code",
   "execution_count": 93,
   "metadata": {},
   "outputs": [],
   "source": [
    "# Calculate daily returns from the portfolio values\n",
    "daily_returns = result.pct_change().dropna()\n",
    "\n",
    "# Set target return (e.g., 0 for simplicity, or replace with a risk-free rate if needed)\n",
    "target_return = 0\n",
    "\n",
    "# Calculate downside deviation\n",
    "downside_returns = daily_returns[daily_returns < target_return]  # Only returns below target\n",
    "downside_deviation = np.sqrt((downside_returns**2).mean())  # Root mean square of negative returns\n",
    "\n",
    "# Annual return (already calculated)\n",
    "annual_return = (result.iloc[-1] / result.iloc[0])**(1/3) - 1\n",
    "annual_return = annual_return * 100  # Convert to percentage\n",
    "\n",
    "# Sortino Ratio\n",
    "sortino_ratio = (annual_return - target_return) / downside_deviation\n",
    "\n",
    "# # Create a DataFrame for Sortino Ratio\n",
    "# sortino_ratio_df = pd.DataFrame(sortino_ratio, columns=['Sortino Ratio'])\n",
    "# print(sortino_ratio_df)\n"
   ]
  },
  {
   "cell_type": "code",
   "execution_count": 94,
   "metadata": {},
   "outputs": [
    {
     "name": "stdout",
     "output_type": "stream",
     "text": [
      "      initial_value   final_value  annual_return  sharpe_ratio  sortino_ratio  \\\n",
      "a2c    2.000000e+06  3.915480e+06      25.098381      0.000045    1142.168169   \n",
      "ddpg   2.000000e+06  3.202607e+06      16.992465      0.000039    1039.415854   \n",
      "td3    2.000000e+06  3.487974e+06      20.368938      0.000039    1117.544300   \n",
      "ppo    2.000000e+06  2.097973e+06       1.606925      0.000032     457.709243   \n",
      "sac    2.000000e+06  2.419700e+06       6.555823      0.000021     405.141816   \n",
      "mvo    2.012919e+06  4.106478e+06      26.827785      0.000046    1538.407638   \n",
      "\n",
      "      max_drawdown  \n",
      "a2c  -2.041124e+06  \n",
      "ddpg -1.314263e+06  \n",
      "td3  -1.493928e+06  \n",
      "ppo  -2.346614e+05  \n",
      "sac  -1.081469e+06  \n",
      "mvo  -1.581065e+06  \n"
     ]
    }
   ],
   "source": [
    "metrics = pd.DataFrame([initial_value, final_value, annual_return, sharpe_ratio,sortino_ratio, max_drawdown], index=['initial_value', 'final_value', 'annual_return', 'sharpe_ratio','sortino_ratio', 'max_drawdown']).T\n",
    "metrics.to_csv(\"metrics_cashless_snp500.csv\")\n",
    "print(metrics)"
   ]
  },
  {
   "cell_type": "code",
   "execution_count": null,
   "metadata": {},
   "outputs": [],
   "source": []
  },
  {
   "cell_type": "markdown",
   "metadata": {},
   "source": [
    "# Risk (Maximum Drawdown)\n",
    "------------------------"
   ]
  },
  {
   "cell_type": "code",
   "execution_count": 103,
   "metadata": {},
   "outputs": [
    {
     "data": {
      "image/png": "[encoded data removed]",
      "text/plain": [
       "<Figure size 1000x500 with 1 Axes>"
      ]
     },
     "metadata": {},
     "output_type": "display_data"
    }
   ],
   "source": [
    "import pandas as pd\n",
    "import matplotlib.pyplot as plt\n",
    "\n",
    "# Assuming metrics DataFrame is already created and saved\n",
    "# metrics = pd.read_csv(\"metrics_cashless_snp500.csv\", index_col=0)\n",
    "\n",
    "# Calculate the maximum drawdowns from metrics\n",
    "max_drawdowns = metrics['max_drawdown']\n",
    "\n",
    "# Identify the index of the minimum absolute drawdown\n",
    "min_drawdown_index = max_drawdowns.abs().idxmin()\n",
    "\n",
    "# Define bar colors: light green for the lowest drawdown, sky blue for others\n",
    "colors = ['lightgreen' if index == min_drawdown_index else 'skyblue' for index in max_drawdowns.index]\n",
    "\n",
    "# Plot the maximum drawdowns\n",
    "plt.figure(figsize=(10, 5))\n",
    "max_drawdowns.plot(kind='bar', color=colors, edgecolor='black')\n",
    "\n",
    "# Add titles and labels\n",
    "plt.title('Maximum Drawdown Comparison', fontsize=14)\n",
    "plt.ylabel('Maximum Drawdown ($)', fontsize=12)\n",
    "plt.xlabel('Model', fontsize=12)\n",
    "plt.xticks(rotation=0, fontsize=10)\n",
    "plt.yticks(fontsize=10)\n",
    "\n",
    "# Add grid for clarity\n",
    "plt.grid(axis='y', linestyle='--', alpha=0.7)\n",
    "\n",
    "# Annotate bars with values, slightly shifting the labels down\n",
    "for index, value in enumerate(max_drawdowns):\n",
    "    # Adjust the position of the text by subtracting a small offset\n",
    "    offset = -0.025 * max_drawdowns.abs().max()  # 5% of the max absolute value as offset\n",
    "    plt.text(index, value + offset, f'{value:.2e}', ha='center', va='center', fontsize=9)\n",
    "\n",
    "# Adjust layout\n",
    "plt.tight_layout()\n",
    "\n",
    "# Show or save the plot\n",
    "# plt.savefig('max_drawdown_comparison.png', dpi=300)\n",
    "plt.show()\n"
   ]
  },
  {
   "cell_type": "markdown",
   "metadata": {},
   "source": [
    "# Profitability\n",
    "------------------"
   ]
  },
  {
   "cell_type": "markdown",
   "metadata": {},
   "source": []
  },
  {
   "cell_type": "code",
   "execution_count": 121,
   "metadata": {},
   "outputs": [
    {
     "data": {
      "image/png": "[encoded data removed]",
      "text/plain": [
       "<Figure size 1000x500 with 1 Axes>"
      ]
     },
     "metadata": {},
     "output_type": "display_data"
    },
    {
     "data": {
      "image/png": "[encoded data removed]",
      "text/plain": [
       "<Figure size 1000x500 with 1 Axes>"
      ]
     },
     "metadata": {},
     "output_type": "display_data"
    }
   ],
   "source": [
    "import pandas as pd\n",
    "import matplotlib.pyplot as plt\n",
    "\n",
    "# Assuming metrics DataFrame is already created and saved\n",
    "# metrics = pd.read_csv(\"metrics_cashless_snp500.csv\", index_col=0)\n",
    "\n",
    "# Extract the final portfolio values and annual returns from metrics\n",
    "final_values = metrics['final_value']\n",
    "annual_returns = metrics['annual_return']\n",
    "\n",
    "# Identify the index of the maximum and second maximum final value and annual return\n",
    "max_final_value_index = final_values.idxmax()\n",
    "second_max_final_value_index = final_values.nlargest(2).idxmin()\n",
    "max_annual_return_index = annual_returns.idxmax()\n",
    "second_max_annual_return_index = annual_returns.nlargest(2).idxmin()\n",
    "\n",
    "# Define bar colors: light coral for the highest value, light green for the second highest, sky blue for others\n",
    "colors_final_value = [\n",
    "    'lightcoral' if index == max_final_value_index else 'lightgreen' if index == second_max_final_value_index else 'skyblue'\n",
    "    for index in final_values.index\n",
    "]\n",
    "colors_annual_return = [\n",
    "    'lightcoral' if index == max_annual_return_index else 'lightgreen' if index == second_max_annual_return_index else 'skyblue'\n",
    "    for index in annual_returns.index\n",
    "]\n",
    "\n",
    "# Plot the final portfolio values\n",
    "plt.figure(figsize=(10, 5))\n",
    "final_values.plot(kind='bar', color=colors_final_value, edgecolor='black')\n",
    "\n",
    "# Add titles and labels\n",
    "plt.title('Final Portfolio Value Comparison', fontsize=14)\n",
    "plt.ylabel('Final Portfolio Value ($)', fontsize=12)\n",
    "plt.xlabel('Model', fontsize=12)\n",
    "plt.xticks(rotation=0, fontsize=10)\n",
    "plt.yticks(fontsize=10)\n",
    "\n",
    "# Add grid for clarity\n",
    "plt.grid(axis='y', linestyle='--', alpha=0.7)\n",
    "\n",
    "# Annotate bars with values, slightly shifting the labels down\n",
    "for index, value in enumerate(final_values):\n",
    "    offset = -0.025 * final_values.max()  # 2.5% of the max value as offset\n",
    "    plt.text(index, value + offset, f'{value:.2e}', ha='center', va='center', fontsize=9)\n",
    "\n",
    "# Draw black dotted lines for the highest and second-highest final values\n",
    "plt.axhline(y=final_values[max_final_value_index], color='black', linestyle='--', linewidth=1)\n",
    "plt.axhline(y=final_values[second_max_final_value_index], color='black', linestyle='--', linewidth=1)\n",
    "\n",
    "# Adjust layout\n",
    "plt.tight_layout()\n",
    "\n",
    "# Show or save the plot\n",
    "# plt.savefig('final_value_comparison.png', dpi=300)\n",
    "plt.show()\n",
    "\n",
    "# Plot the annual returns\n",
    "plt.figure(figsize=(10, 5))\n",
    "annual_returns.plot(kind='bar', color=colors_annual_return, edgecolor='black')\n",
    "\n",
    "# Add titles and labels\n",
    "plt.title('Annual Return Comparison', fontsize=14)\n",
    "plt.ylabel('Annual Return (%)', fontsize=12)\n",
    "plt.xlabel('Model', fontsize=12)\n",
    "plt.xticks(rotation=0, fontsize=10)\n",
    "plt.yticks(fontsize=10)\n",
    "\n",
    "# Add grid for clarity\n",
    "plt.grid(axis='y', linestyle='--', alpha=0.7)\n",
    "\n",
    "# Annotate bars with values, slightly shifting the labels down\n",
    "for index, value in enumerate(annual_returns):\n",
    "    offset = -0.025 * annual_returns.max()  # 2.5% of the max value as offset\n",
    "    plt.text(index, value + offset, f'{value:.2f}', ha='center', va='center', fontsize=9)\n",
    "\n",
    "# Draw black dotted lines for the highest and second-highest annual returns\n",
    "plt.axhline(y=annual_returns[max_annual_return_index], color='black', linestyle='--', linewidth=1)\n",
    "plt.axhline(y=annual_returns[second_max_annual_return_index], color='black', linestyle='--', linewidth=1)\n",
    "\n",
    "# Adjust layout\n",
    "plt.tight_layout()\n",
    "\n",
    "# Show or save the plot\n",
    "# plt.savefig('annual_return_comparison.png', dpi=300)\n",
    "plt.show()\n"
   ]
  },
  {
   "cell_type": "markdown",
   "metadata": {},
   "source": [
    "# Consistency (Volatility of Returns)\n",
    "------------------------"
   ]
  },
  {
   "cell_type": "code",
   "execution_count": 126,
   "metadata": {},
   "outputs": [
    {
     "name": "stdout",
     "output_type": "stream",
     "text": [
      "year\n",
      "1998    252\n",
      "1999    252\n",
      "2000    252\n",
      "2001    248\n",
      "2002    252\n",
      "2003    252\n",
      "2004    252\n",
      "2005    252\n",
      "2006    251\n",
      "2007    251\n",
      "2008    253\n",
      "2009    252\n",
      "2010    252\n",
      "2011    252\n",
      "2012    250\n",
      "2013    252\n",
      "2014    252\n",
      "2015    252\n",
      "2016    252\n",
      "2017    251\n",
      "2018    251\n",
      "2019    252\n",
      "2020    253\n",
      "2021    254\n",
      "2022    269\n",
      "2023    268\n",
      "Name: date, dtype: int64\n"
     ]
    }
   ],
   "source": [
    "# Ensure the 'date' column is in datetime format\n",
    "df['date'] = pd.to_datetime(df['date'])\n",
    "\n",
    "# Extract the year from the 'date' column\n",
    "df['year'] = df['date'].dt.year\n",
    "\n",
    "# Count the number of trading days per year\n",
    "trading_days_per_year = df.groupby('year')['date'].nunique()\n",
    "\n",
    "# Display the result\n",
    "print(trading_days_per_year)\n"
   ]
  },
  {
   "cell_type": "code",
   "execution_count": 127,
   "metadata": {},
   "outputs": [
    {
     "name": "stdout",
     "output_type": "stream",
     "text": [
      "      initial_value   final_value  annual_return  sharpe_ratio  sortino_ratio  \\\n",
      "a2c    2.000000e+06  3.915480e+06      25.098381      0.000045    1142.168169   \n",
      "ddpg   2.000000e+06  3.202607e+06      16.992465      0.000039    1039.415854   \n",
      "td3    2.000000e+06  3.487974e+06      20.368938      0.000039    1117.544300   \n",
      "ppo    2.000000e+06  2.097973e+06       1.606925      0.000032     457.709243   \n",
      "sac    2.000000e+06  2.419700e+06       6.555823      0.000021     405.141816   \n",
      "mvo    2.012919e+06  4.106478e+06      26.827785      0.000046    1538.407638   \n",
      "\n",
      "      max_drawdown  volatility  \n",
      "a2c  -2.041124e+06    0.333641  \n",
      "ddpg -1.314263e+06    0.243741  \n",
      "td3  -1.493928e+06    0.285705  \n",
      "ppo  -2.346614e+05    0.053949  \n",
      "sac  -1.081469e+06    0.250835  \n",
      "mvo  -1.581065e+06    0.258619  \n"
     ]
    }
   ],
   "source": [
    "# Calculate daily returns\n",
    "daily_returns = result.pct_change().dropna()\n",
    "\n",
    "# Calculate annualized volatility\n",
    "volatility = daily_returns.std() * np.sqrt(252)  # 252 trading days assumed for a year\n",
    "\n",
    "# Add volatility to metrics DataFrame\n",
    "metrics = pd.DataFrame(\n",
    "    [initial_value, final_value, annual_return, sharpe_ratio, sortino_ratio, max_drawdown, volatility],\n",
    "    index=['initial_value', 'final_value', 'annual_return', 'sharpe_ratio', 'sortino_ratio', 'max_drawdown', 'volatility']\n",
    ").T\n",
    "\n",
    "# Save and display metrics\n",
    "metrics.to_csv(\"metrics_cashless_snp500.csv\")\n",
    "print(metrics)\n",
    "\n",
    "\n"
   ]
  },
  {
   "cell_type": "code",
   "execution_count": 131,
   "metadata": {},
   "outputs": [
    {
     "data": {
      "image/png": "[encoded data removed]",
      "text/plain": [
       "<Figure size 1000x500 with 1 Axes>"
      ]
     },
     "metadata": {},
     "output_type": "display_data"
    }
   ],
   "source": [
    "# Define bar colors: light green for the lowest value, sky blue for others\n",
    "colors_volatility = ['lightgreen' if value == metrics['volatility'].min() else 'skyblue' for value in metrics['volatility']]\n",
    "\n",
    "# Plot the volatility comparison\n",
    "plt.figure(figsize=(10, 5))\n",
    "metrics['volatility'].plot(kind='bar', color=colors_volatility, edgecolor='black')\n",
    "\n",
    "# Add titles and labels\n",
    "plt.title('Annualized Volatility Comparison', fontsize=14)\n",
    "plt.ylabel('Annualized Volatility', fontsize=12)\n",
    "plt.xlabel('Model', fontsize=12)\n",
    "plt.xticks(rotation=0, fontsize=10)\n",
    "plt.yticks(fontsize=10)\n",
    "\n",
    "# Add grid for clarity\n",
    "plt.grid(axis='y', linestyle='--', alpha=0.7)\n",
    "\n",
    "# Annotate bars with values, slightly shifting the labels down\n",
    "for index, value in enumerate(metrics['volatility']):\n",
    "    offset = -0.025 * metrics['volatility'].max()  # 2.5% of the max value as offset\n",
    "    plt.text(index, value + offset, f'{value:.2f}', ha='center', va='center', fontsize=9)\n",
    "\n",
    "# Adjust layout\n",
    "plt.tight_layout()\n",
    "\n",
    "# Show or save the plot\n",
    "# plt.savefig('volatility_comparison.png', dpi=300)\n",
    "plt.show()\n"
   ]
  },
  {
   "cell_type": "code",
   "execution_count": 142,
   "metadata": {},
   "outputs": [
    {
     "data": {
      "image/png": "[encoded data removed]",
      "text/plain": [
       "<Figure size 1000x500 with 1 Axes>"
      ]
     },
     "metadata": {},
     "output_type": "display_data"
    }
   ],
   "source": [
    "# Calculate profitability\n",
    "profitability = metrics['final_value'] - metrics['initial_value']\n",
    "\n",
    "# Calculate aggressiveness\n",
    "metrics['aggressiveness'] = profitability / metrics['max_drawdown']\n",
    "\n",
    "# Define bar colors: light green for the lowest value, sky blue for others, and coral for the highest value\n",
    "colors_aggressiveness = ['lightgreen' if abs(value) == metrics['aggressiveness'].min() else \n",
    "                         'skyblue' if abs(value) != metrics['aggressiveness'].max() else \n",
    "                         'coral' for value in metrics['aggressiveness']]\n",
    "\n",
    "# Plot the aggressiveness comparison\n",
    "plt.figure(figsize=(10, 5))\n",
    "metrics['aggressiveness'].plot(kind='bar', color=colors_aggressiveness, edgecolor='black')\n",
    "\n",
    "# Add titles and labels\n",
    "plt.title('Aggressiveness Comparison', fontsize=14)\n",
    "plt.ylabel('Aggressiveness', fontsize=12)\n",
    "plt.xlabel('Model', fontsize=12)\n",
    "plt.xticks(rotation=0, fontsize=10)\n",
    "plt.yticks(fontsize=10)\n",
    "\n",
    "# Annotate bars with values, slightly shifting the labels down\n",
    "for index, value in enumerate(metrics['aggressiveness']):\n",
    "    offset = 0.085 * metrics['aggressiveness'].max()  # 2.5% of the max value as offset\n",
    "    plt.text(index, value + offset, f'{value:.2f}', ha='center', va='center', fontsize=9)\n",
    "\n",
    "# Show grid for better visualization\n",
    "plt.grid(axis='y', linestyle='--', alpha=0.7)\n",
    "\n",
    "# Adjust layout\n",
    "plt.tight_layout()\n",
    "\n",
    "# Show or save the plot\n",
    "# plt.savefig('aggressiveness_comparison.png', dpi=300)\n",
    "plt.show()\n"
   ]
  },
  {
   "cell_type": "code",
   "execution_count": null,
   "metadata": {},
   "outputs": [],
   "source": []
  }
 ],
 "metadata": {
  "kernelspec": {
   "display_name": "Python 3",
   "language": "python",
   "name": "python3"
  },
  "language_info": {
   "codemirror_mode": {
    "name": "ipython",
    "version": 3
   },
   "file_extension": ".py",
   "mimetype": "text/x-python",
   "name": "python",
   "nbconvert_exporter": "python",
   "pygments_lexer": "ipython3",
   "version": "3.10.6"
  }
 },
 "nbformat": 4,
 "nbformat_minor": 2
}
